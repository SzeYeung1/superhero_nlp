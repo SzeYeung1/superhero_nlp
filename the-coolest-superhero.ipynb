{
 "cells": [
  {
   "cell_type": "markdown",
   "id": "c87d9870",
   "metadata": {
    "execution": {
     "iopub.execute_input": "2022-01-24T13:11:23.283453Z",
     "iopub.status.busy": "2022-01-24T13:11:23.282984Z",
     "iopub.status.idle": "2022-01-24T13:11:23.286787Z",
     "shell.execute_reply": "2022-01-24T13:11:23.286129Z",
     "shell.execute_reply.started": "2022-01-24T13:11:23.283418Z"
    },
    "papermill": {
     "duration": 0.065433,
     "end_time": "2022-02-18T11:40:04.848995",
     "exception": false,
     "start_time": "2022-02-18T11:40:04.783562",
     "status": "completed"
    },
    "tags": []
   },
   "source": [
    "# The Coolest Superhero According to Cosine Similarity"
   ]
  },
  {
   "cell_type": "markdown",
   "id": "2b919fbc",
   "metadata": {
    "papermill": {
     "duration": 0.062485,
     "end_time": "2022-02-18T11:40:04.974067",
     "exception": false,
     "start_time": "2022-02-18T11:40:04.911582",
     "status": "completed"
    },
    "tags": []
   },
   "source": [
    "In the description of this Superheroes NLP Dataset, the creator Jonathan Besomi has some suggestions of analysis, the first one may be the most interesting and challenging:\n",
    "\n",
    "> - Who is the coolest superhero?\n",
    "Given only the two text columns, can you find a formula to find the coolest superhero?\n",
    "\n",
    "In other words, from the descriptions of the history and powers of superheroes, can we rank their coolness? In natural language processing, the popular technique of word embedding springs into my mind. Using high dimensional vectors to represent words and documents, it \n",
    "allows us to use cosine similarity to calculate similarity between words and documents. This notebook records the several attempts to do it right, and I will be glad to receive comments and suggestions."
   ]
  },
  {
   "cell_type": "code",
   "execution_count": 1,
   "id": "d5aae222",
   "metadata": {
    "_cell_guid": "b1076dfc-b9ad-4769-8c92-a6c4dae69d19",
    "_uuid": "8f2839f25d086af736a60e9eeb907d3b93b6e0e5",
    "execution": {
     "iopub.execute_input": "2022-02-18T11:40:05.103315Z",
     "iopub.status.busy": "2022-02-18T11:40:05.101476Z",
     "iopub.status.idle": "2022-02-18T11:40:05.125385Z",
     "shell.execute_reply": "2022-02-18T11:40:05.126054Z",
     "shell.execute_reply.started": "2022-02-18T09:52:17.236376Z"
    },
    "papermill": {
     "duration": 0.091172,
     "end_time": "2022-02-18T11:40:05.126360",
     "exception": false,
     "start_time": "2022-02-18T11:40:05.035188",
     "status": "completed"
    },
    "tags": []
   },
   "outputs": [
    {
     "name": "stdout",
     "output_type": "stream",
     "text": [
      "/kaggle/input/superheroes-nlp-dataset/superheroes_nlp_dataset.csv\n"
     ]
    }
   ],
   "source": [
    "# This Python 3 environment comes with many helpful analytics libraries installed\n",
    "# It is defined by the kaggle/python Docker image: https://github.com/kaggle/docker-python\n",
    "# For example, here's several helpful packages to load\n",
    "\n",
    "import numpy as np # linear algebra\n",
    "import pandas as pd # data processing, CSV file I/O (e.g. pd.read_csv)\n",
    "\n",
    "# Input data files are available in the read-only \"../input/\" directory\n",
    "# For example, running this (by clicking run or pressing Shift+Enter) will list all files under the input directory\n",
    "\n",
    "import os\n",
    "for dirname, _, filenames in os.walk('/kaggle/input'):\n",
    "    for filename in filenames:\n",
    "        print(os.path.join(dirname, filename))\n",
    "\n",
    "# You can write up to 20GB to the current directory (/kaggle/working/) that gets preserved as output when you create a version using \"Save & Run All\" \n",
    "# You can also write temporary files to /kaggle/temp/, but they won't be saved outside of the current session"
   ]
  },
  {
   "cell_type": "code",
   "execution_count": 2,
   "id": "7bc6704a",
   "metadata": {
    "execution": {
     "iopub.execute_input": "2022-02-18T11:40:05.254224Z",
     "iopub.status.busy": "2022-02-18T11:40:05.253553Z",
     "iopub.status.idle": "2022-02-18T11:40:05.625078Z",
     "shell.execute_reply": "2022-02-18T11:40:05.625617Z",
     "shell.execute_reply.started": "2022-02-18T09:52:17.283012Z"
    },
    "papermill": {
     "duration": 0.43725,
     "end_time": "2022-02-18T11:40:05.625793",
     "exception": false,
     "start_time": "2022-02-18T11:40:05.188543",
     "status": "completed"
    },
    "tags": []
   },
   "outputs": [
    {
     "data": {
      "text/html": [
       "<div>\n",
       "<style scoped>\n",
       "    .dataframe tbody tr th:only-of-type {\n",
       "        vertical-align: middle;\n",
       "    }\n",
       "\n",
       "    .dataframe tbody tr th {\n",
       "        vertical-align: top;\n",
       "    }\n",
       "\n",
       "    .dataframe thead th {\n",
       "        text-align: right;\n",
       "    }\n",
       "</style>\n",
       "<table border=\"1\" class=\"dataframe\">\n",
       "  <thead>\n",
       "    <tr style=\"text-align: right;\">\n",
       "      <th></th>\n",
       "      <th>name</th>\n",
       "      <th>real_name</th>\n",
       "      <th>full_name</th>\n",
       "      <th>overall_score</th>\n",
       "      <th>history_text</th>\n",
       "      <th>powers_text</th>\n",
       "      <th>intelligence_score</th>\n",
       "      <th>strength_score</th>\n",
       "      <th>speed_score</th>\n",
       "      <th>durability_score</th>\n",
       "      <th>...</th>\n",
       "      <th>has_flight</th>\n",
       "      <th>has_accelerated_healing</th>\n",
       "      <th>has_weapons_master</th>\n",
       "      <th>has_intelligence</th>\n",
       "      <th>has_reflexes</th>\n",
       "      <th>has_super_speed</th>\n",
       "      <th>has_durability</th>\n",
       "      <th>has_stamina</th>\n",
       "      <th>has_agility</th>\n",
       "      <th>has_super_strength</th>\n",
       "    </tr>\n",
       "  </thead>\n",
       "  <tbody>\n",
       "    <tr>\n",
       "      <th>0</th>\n",
       "      <td>3-D Man</td>\n",
       "      <td>Delroy Garrett, Jr.</td>\n",
       "      <td>Delroy Garrett, Jr.</td>\n",
       "      <td>6</td>\n",
       "      <td>Delroy Garrett, Jr. grew up to become a track ...</td>\n",
       "      <td>NaN</td>\n",
       "      <td>85</td>\n",
       "      <td>30</td>\n",
       "      <td>60</td>\n",
       "      <td>60</td>\n",
       "      <td>...</td>\n",
       "      <td>0.0</td>\n",
       "      <td>0.0</td>\n",
       "      <td>0.0</td>\n",
       "      <td>0.0</td>\n",
       "      <td>0.0</td>\n",
       "      <td>1.0</td>\n",
       "      <td>0.0</td>\n",
       "      <td>0.0</td>\n",
       "      <td>0.0</td>\n",
       "      <td>1.0</td>\n",
       "    </tr>\n",
       "    <tr>\n",
       "      <th>1</th>\n",
       "      <td>514A (Gotham)</td>\n",
       "      <td>Bruce Wayne</td>\n",
       "      <td>NaN</td>\n",
       "      <td>10</td>\n",
       "      <td>He was one of the many prisoners of Indian Hil...</td>\n",
       "      <td>NaN</td>\n",
       "      <td>100</td>\n",
       "      <td>20</td>\n",
       "      <td>30</td>\n",
       "      <td>50</td>\n",
       "      <td>...</td>\n",
       "      <td>0.0</td>\n",
       "      <td>0.0</td>\n",
       "      <td>0.0</td>\n",
       "      <td>0.0</td>\n",
       "      <td>1.0</td>\n",
       "      <td>0.0</td>\n",
       "      <td>1.0</td>\n",
       "      <td>0.0</td>\n",
       "      <td>0.0</td>\n",
       "      <td>1.0</td>\n",
       "    </tr>\n",
       "    <tr>\n",
       "      <th>2</th>\n",
       "      <td>A-Bomb</td>\n",
       "      <td>Richard Milhouse Jones</td>\n",
       "      <td>Richard Milhouse Jones</td>\n",
       "      <td>20</td>\n",
       "      <td>Richard \"Rick\" Jones was orphaned at a young ...</td>\n",
       "      <td>On rare occasions, and through unusual circu...</td>\n",
       "      <td>80</td>\n",
       "      <td>100</td>\n",
       "      <td>80</td>\n",
       "      <td>100</td>\n",
       "      <td>...</td>\n",
       "      <td>0.0</td>\n",
       "      <td>1.0</td>\n",
       "      <td>0.0</td>\n",
       "      <td>0.0</td>\n",
       "      <td>1.0</td>\n",
       "      <td>1.0</td>\n",
       "      <td>1.0</td>\n",
       "      <td>1.0</td>\n",
       "      <td>1.0</td>\n",
       "      <td>1.0</td>\n",
       "    </tr>\n",
       "    <tr>\n",
       "      <th>3</th>\n",
       "      <td>Aa</td>\n",
       "      <td>Aa</td>\n",
       "      <td>NaN</td>\n",
       "      <td>12</td>\n",
       "      <td>Aa is one of the more passive members of the P...</td>\n",
       "      <td>NaN</td>\n",
       "      <td>80</td>\n",
       "      <td>50</td>\n",
       "      <td>55</td>\n",
       "      <td>45</td>\n",
       "      <td>...</td>\n",
       "      <td>0.0</td>\n",
       "      <td>0.0</td>\n",
       "      <td>0.0</td>\n",
       "      <td>0.0</td>\n",
       "      <td>0.0</td>\n",
       "      <td>0.0</td>\n",
       "      <td>0.0</td>\n",
       "      <td>0.0</td>\n",
       "      <td>0.0</td>\n",
       "      <td>0.0</td>\n",
       "    </tr>\n",
       "    <tr>\n",
       "      <th>4</th>\n",
       "      <td>Aaron Cash</td>\n",
       "      <td>Aaron Cash</td>\n",
       "      <td>Aaron Cash</td>\n",
       "      <td>5</td>\n",
       "      <td>Aaron Cash is the head of security at Arkham A...</td>\n",
       "      <td>NaN</td>\n",
       "      <td>80</td>\n",
       "      <td>10</td>\n",
       "      <td>25</td>\n",
       "      <td>40</td>\n",
       "      <td>...</td>\n",
       "      <td>0.0</td>\n",
       "      <td>0.0</td>\n",
       "      <td>1.0</td>\n",
       "      <td>0.0</td>\n",
       "      <td>0.0</td>\n",
       "      <td>0.0</td>\n",
       "      <td>0.0</td>\n",
       "      <td>0.0</td>\n",
       "      <td>0.0</td>\n",
       "      <td>0.0</td>\n",
       "    </tr>\n",
       "    <tr>\n",
       "      <th>...</th>\n",
       "      <td>...</td>\n",
       "      <td>...</td>\n",
       "      <td>...</td>\n",
       "      <td>...</td>\n",
       "      <td>...</td>\n",
       "      <td>...</td>\n",
       "      <td>...</td>\n",
       "      <td>...</td>\n",
       "      <td>...</td>\n",
       "      <td>...</td>\n",
       "      <td>...</td>\n",
       "      <td>...</td>\n",
       "      <td>...</td>\n",
       "      <td>...</td>\n",
       "      <td>...</td>\n",
       "      <td>...</td>\n",
       "      <td>...</td>\n",
       "      <td>...</td>\n",
       "      <td>...</td>\n",
       "      <td>...</td>\n",
       "      <td>...</td>\n",
       "    </tr>\n",
       "    <tr>\n",
       "      <th>1445</th>\n",
       "      <td>Zatanna</td>\n",
       "      <td>Zatanna Zatara</td>\n",
       "      <td>Zatanna Zatara</td>\n",
       "      <td>10</td>\n",
       "      <td>Zatanna is the daughter of adventurer John Zat...</td>\n",
       "      <td>Zatanna is genetically talented with her magi...</td>\n",
       "      <td>90</td>\n",
       "      <td>10</td>\n",
       "      <td>25</td>\n",
       "      <td>30</td>\n",
       "      <td>...</td>\n",
       "      <td>0.0</td>\n",
       "      <td>0.0</td>\n",
       "      <td>0.0</td>\n",
       "      <td>0.0</td>\n",
       "      <td>0.0</td>\n",
       "      <td>0.0</td>\n",
       "      <td>0.0</td>\n",
       "      <td>0.0</td>\n",
       "      <td>0.0</td>\n",
       "      <td>0.0</td>\n",
       "    </tr>\n",
       "    <tr>\n",
       "      <th>1446</th>\n",
       "      <td>Zero</td>\n",
       "      <td>DWN-∞: Zero</td>\n",
       "      <td>DWN-∞: Zero</td>\n",
       "      <td>18</td>\n",
       "      <td>Zero was created by the late Dr. Albert Wily ...</td>\n",
       "      <td>NaN</td>\n",
       "      <td>80</td>\n",
       "      <td>100</td>\n",
       "      <td>100</td>\n",
       "      <td>100</td>\n",
       "      <td>...</td>\n",
       "      <td>0.0</td>\n",
       "      <td>1.0</td>\n",
       "      <td>1.0</td>\n",
       "      <td>1.0</td>\n",
       "      <td>1.0</td>\n",
       "      <td>1.0</td>\n",
       "      <td>1.0</td>\n",
       "      <td>1.0</td>\n",
       "      <td>1.0</td>\n",
       "      <td>1.0</td>\n",
       "    </tr>\n",
       "    <tr>\n",
       "      <th>1447</th>\n",
       "      <td>Zoom (New 52)</td>\n",
       "      <td>Hunter Zolomon</td>\n",
       "      <td>NaN</td>\n",
       "      <td>20</td>\n",
       "      <td>Hunter Zolomon is better known as Zoom, a spee...</td>\n",
       "      <td>After tricking Barry Allen and Wally West into...</td>\n",
       "      <td>95</td>\n",
       "      <td>50</td>\n",
       "      <td>100</td>\n",
       "      <td>75</td>\n",
       "      <td>...</td>\n",
       "      <td>0.0</td>\n",
       "      <td>1.0</td>\n",
       "      <td>0.0</td>\n",
       "      <td>1.0</td>\n",
       "      <td>1.0</td>\n",
       "      <td>1.0</td>\n",
       "      <td>1.0</td>\n",
       "      <td>1.0</td>\n",
       "      <td>1.0</td>\n",
       "      <td>1.0</td>\n",
       "    </tr>\n",
       "    <tr>\n",
       "      <th>1448</th>\n",
       "      <td>Zoom</td>\n",
       "      <td>Hunter Zolomon</td>\n",
       "      <td>Hunter Zolomon</td>\n",
       "      <td>9</td>\n",
       "      <td>Hunter Zolomon had a troubled relationship wi...</td>\n",
       "      <td>Zoom is able to alter time, to make himself ev...</td>\n",
       "      <td>75</td>\n",
       "      <td>10</td>\n",
       "      <td>100</td>\n",
       "      <td>30</td>\n",
       "      <td>...</td>\n",
       "      <td>0.0</td>\n",
       "      <td>0.0</td>\n",
       "      <td>0.0</td>\n",
       "      <td>0.0</td>\n",
       "      <td>0.0</td>\n",
       "      <td>1.0</td>\n",
       "      <td>0.0</td>\n",
       "      <td>0.0</td>\n",
       "      <td>0.0</td>\n",
       "      <td>0.0</td>\n",
       "    </tr>\n",
       "    <tr>\n",
       "      <th>1449</th>\n",
       "      <td>Zzzax</td>\n",
       "      <td>NaN</td>\n",
       "      <td>NaN</td>\n",
       "      <td>5</td>\n",
       "      <td>Zzzax was the product of an accident that occu...</td>\n",
       "      <td>NaN</td>\n",
       "      <td>45</td>\n",
       "      <td>80</td>\n",
       "      <td>75</td>\n",
       "      <td>95</td>\n",
       "      <td>...</td>\n",
       "      <td>1.0</td>\n",
       "      <td>0.0</td>\n",
       "      <td>0.0</td>\n",
       "      <td>0.0</td>\n",
       "      <td>0.0</td>\n",
       "      <td>1.0</td>\n",
       "      <td>0.0</td>\n",
       "      <td>0.0</td>\n",
       "      <td>1.0</td>\n",
       "      <td>1.0</td>\n",
       "    </tr>\n",
       "  </tbody>\n",
       "</table>\n",
       "<p>1450 rows × 81 columns</p>\n",
       "</div>"
      ],
      "text/plain": [
       "               name               real_name               full_name  \\\n",
       "0           3-D Man     Delroy Garrett, Jr.     Delroy Garrett, Jr.   \n",
       "1     514A (Gotham)             Bruce Wayne                     NaN   \n",
       "2            A-Bomb  Richard Milhouse Jones  Richard Milhouse Jones   \n",
       "3                Aa                      Aa                     NaN   \n",
       "4        Aaron Cash              Aaron Cash              Aaron Cash   \n",
       "...             ...                     ...                     ...   \n",
       "1445        Zatanna          Zatanna Zatara          Zatanna Zatara   \n",
       "1446           Zero             DWN-∞: Zero             DWN-∞: Zero   \n",
       "1447  Zoom (New 52)          Hunter Zolomon                     NaN   \n",
       "1448           Zoom          Hunter Zolomon          Hunter Zolomon   \n",
       "1449          Zzzax                     NaN                     NaN   \n",
       "\n",
       "     overall_score                                       history_text  \\\n",
       "0                6  Delroy Garrett, Jr. grew up to become a track ...   \n",
       "1               10  He was one of the many prisoners of Indian Hil...   \n",
       "2               20   Richard \"Rick\" Jones was orphaned at a young ...   \n",
       "3               12  Aa is one of the more passive members of the P...   \n",
       "4                5  Aaron Cash is the head of security at Arkham A...   \n",
       "...            ...                                                ...   \n",
       "1445            10  Zatanna is the daughter of adventurer John Zat...   \n",
       "1446            18   Zero was created by the late Dr. Albert Wily ...   \n",
       "1447            20  Hunter Zolomon is better known as Zoom, a spee...   \n",
       "1448             9   Hunter Zolomon had a troubled relationship wi...   \n",
       "1449             5  Zzzax was the product of an accident that occu...   \n",
       "\n",
       "                                            powers_text  intelligence_score  \\\n",
       "0                                                   NaN                  85   \n",
       "1                                                   NaN                 100   \n",
       "2       On rare occasions, and through unusual circu...                  80   \n",
       "3                                                   NaN                  80   \n",
       "4                                                   NaN                  80   \n",
       "...                                                 ...                 ...   \n",
       "1445   Zatanna is genetically talented with her magi...                  90   \n",
       "1446                                                NaN                  80   \n",
       "1447  After tricking Barry Allen and Wally West into...                  95   \n",
       "1448  Zoom is able to alter time, to make himself ev...                  75   \n",
       "1449                                                NaN                  45   \n",
       "\n",
       "      strength_score  speed_score  durability_score  ...  has_flight  \\\n",
       "0                 30           60                60  ...         0.0   \n",
       "1                 20           30                50  ...         0.0   \n",
       "2                100           80               100  ...         0.0   \n",
       "3                 50           55                45  ...         0.0   \n",
       "4                 10           25                40  ...         0.0   \n",
       "...              ...          ...               ...  ...         ...   \n",
       "1445              10           25                30  ...         0.0   \n",
       "1446             100          100               100  ...         0.0   \n",
       "1447              50          100                75  ...         0.0   \n",
       "1448              10          100                30  ...         0.0   \n",
       "1449              80           75                95  ...         1.0   \n",
       "\n",
       "      has_accelerated_healing has_weapons_master has_intelligence  \\\n",
       "0                         0.0                0.0              0.0   \n",
       "1                         0.0                0.0              0.0   \n",
       "2                         1.0                0.0              0.0   \n",
       "3                         0.0                0.0              0.0   \n",
       "4                         0.0                1.0              0.0   \n",
       "...                       ...                ...              ...   \n",
       "1445                      0.0                0.0              0.0   \n",
       "1446                      1.0                1.0              1.0   \n",
       "1447                      1.0                0.0              1.0   \n",
       "1448                      0.0                0.0              0.0   \n",
       "1449                      0.0                0.0              0.0   \n",
       "\n",
       "     has_reflexes has_super_speed has_durability has_stamina has_agility  \\\n",
       "0             0.0             1.0            0.0         0.0         0.0   \n",
       "1             1.0             0.0            1.0         0.0         0.0   \n",
       "2             1.0             1.0            1.0         1.0         1.0   \n",
       "3             0.0             0.0            0.0         0.0         0.0   \n",
       "4             0.0             0.0            0.0         0.0         0.0   \n",
       "...           ...             ...            ...         ...         ...   \n",
       "1445          0.0             0.0            0.0         0.0         0.0   \n",
       "1446          1.0             1.0            1.0         1.0         1.0   \n",
       "1447          1.0             1.0            1.0         1.0         1.0   \n",
       "1448          0.0             1.0            0.0         0.0         0.0   \n",
       "1449          0.0             1.0            0.0         0.0         1.0   \n",
       "\n",
       "     has_super_strength  \n",
       "0                   1.0  \n",
       "1                   1.0  \n",
       "2                   1.0  \n",
       "3                   0.0  \n",
       "4                   0.0  \n",
       "...                 ...  \n",
       "1445                0.0  \n",
       "1446                1.0  \n",
       "1447                1.0  \n",
       "1448                0.0  \n",
       "1449                1.0  \n",
       "\n",
       "[1450 rows x 81 columns]"
      ]
     },
     "execution_count": 2,
     "metadata": {},
     "output_type": "execute_result"
    }
   ],
   "source": [
    "df=pd.read_csv('../input/superheroes-nlp-dataset/superheroes_nlp_dataset.csv')\n",
    "df"
   ]
  },
  {
   "cell_type": "code",
   "execution_count": 3,
   "id": "19c823f0",
   "metadata": {
    "execution": {
     "iopub.execute_input": "2022-02-18T11:40:05.771562Z",
     "iopub.status.busy": "2022-02-18T11:40:05.764682Z",
     "iopub.status.idle": "2022-02-18T11:40:05.786016Z",
     "shell.execute_reply": "2022-02-18T11:40:05.786620Z",
     "shell.execute_reply.started": "2022-02-18T09:52:17.600600Z"
    },
    "papermill": {
     "duration": 0.097827,
     "end_time": "2022-02-18T11:40:05.786806",
     "exception": false,
     "start_time": "2022-02-18T11:40:05.688979",
     "status": "completed"
    },
    "tags": []
   },
   "outputs": [
    {
     "name": "stdout",
     "output_type": "stream",
     "text": [
      "<class 'pandas.core.frame.DataFrame'>\n",
      "RangeIndex: 1450 entries, 0 to 1449\n",
      "Data columns (total 81 columns):\n",
      " #   Column                            Non-Null Count  Dtype  \n",
      "---  ------                            --------------  -----  \n",
      " 0   name                              1448 non-null   object \n",
      " 1   real_name                         1301 non-null   object \n",
      " 2   full_name                         956 non-null    object \n",
      " 3   overall_score                     1450 non-null   object \n",
      " 4   history_text                      1360 non-null   object \n",
      " 5   powers_text                       1086 non-null   object \n",
      " 6   intelligence_score                1450 non-null   int64  \n",
      " 7   strength_score                    1450 non-null   int64  \n",
      " 8   speed_score                       1450 non-null   int64  \n",
      " 9   durability_score                  1450 non-null   int64  \n",
      " 10  power_score                       1450 non-null   int64  \n",
      " 11  combat_score                      1450 non-null   int64  \n",
      " 12  superpowers                       1450 non-null   object \n",
      " 13  alter_egos                        1450 non-null   object \n",
      " 14  aliases                           1450 non-null   object \n",
      " 15  place_of_birth                    788 non-null    object \n",
      " 16  first_appearance                  1247 non-null   object \n",
      " 17  creator                           1311 non-null   object \n",
      " 18  alignment                         1368 non-null   object \n",
      " 19  occupation                        1014 non-null   object \n",
      " 20  base                              878 non-null    object \n",
      " 21  teams                             1450 non-null   object \n",
      " 22  relatives                         901 non-null    object \n",
      " 23  gender                            1305 non-null   object \n",
      " 24  type_race                         1043 non-null   object \n",
      " 25  height                            1448 non-null   object \n",
      " 26  weight                            1448 non-null   object \n",
      " 27  eye_color                         1186 non-null   object \n",
      " 28  hair_color                        1202 non-null   object \n",
      " 29  skin_color                        173 non-null    object \n",
      " 30  img                               1363 non-null   object \n",
      " 31  has_electrokinesis                1383 non-null   float64\n",
      " 32  has_energy_constructs             1383 non-null   float64\n",
      " 33  has_mind_control_resistance       1383 non-null   float64\n",
      " 34  has_matter_manipulation           1383 non-null   float64\n",
      " 35  has_telepathy_resistance          1383 non-null   float64\n",
      " 36  has_mind_control                  1383 non-null   float64\n",
      " 37  has_enhanced_hearing              1383 non-null   float64\n",
      " 38  has_dimensional_travel            1383 non-null   float64\n",
      " 39  has_element_control               1383 non-null   float64\n",
      " 40  has_size_changing                 1383 non-null   float64\n",
      " 41  has_fire_resistance               1383 non-null   float64\n",
      " 42  has_fire_control                  1383 non-null   float64\n",
      " 43  has_dexterity                     1383 non-null   float64\n",
      " 44  has_reality_warping               1383 non-null   float64\n",
      " 45  has_illusions                     1383 non-null   float64\n",
      " 46  has_energy_beams                  1383 non-null   float64\n",
      " 47  has_peak_human_condition          1383 non-null   float64\n",
      " 48  has_shapeshifting                 1383 non-null   float64\n",
      " 49  has_heat_resistance               1383 non-null   float64\n",
      " 50  has_jump                          1383 non-null   float64\n",
      " 51  has_self-sustenance               1383 non-null   float64\n",
      " 52  has_energy_absorption             1383 non-null   float64\n",
      " 53  has_cold_resistance               1383 non-null   float64\n",
      " 54  has_magic                         1383 non-null   float64\n",
      " 55  has_telekinesis                   1383 non-null   float64\n",
      " 56  has_toxin_and_disease_resistance  1383 non-null   float64\n",
      " 57  has_telepathy                     1383 non-null   float64\n",
      " 58  has_regeneration                  1383 non-null   float64\n",
      " 59  has_immortality                   1383 non-null   float64\n",
      " 60  has_teleportation                 1383 non-null   float64\n",
      " 61  has_force_fields                  1383 non-null   float64\n",
      " 62  has_energy_manipulation           1383 non-null   float64\n",
      " 63  has_endurance                     1383 non-null   float64\n",
      " 64  has_longevity                     1383 non-null   float64\n",
      " 65  has_weapon-based_powers           1383 non-null   float64\n",
      " 66  has_energy_blasts                 1383 non-null   float64\n",
      " 67  has_enhanced_senses               1383 non-null   float64\n",
      " 68  has_invulnerability               1383 non-null   float64\n",
      " 69  has_stealth                       1383 non-null   float64\n",
      " 70  has_marksmanship                  1383 non-null   float64\n",
      " 71  has_flight                        1383 non-null   float64\n",
      " 72  has_accelerated_healing           1383 non-null   float64\n",
      " 73  has_weapons_master                1383 non-null   float64\n",
      " 74  has_intelligence                  1383 non-null   float64\n",
      " 75  has_reflexes                      1383 non-null   float64\n",
      " 76  has_super_speed                   1383 non-null   float64\n",
      " 77  has_durability                    1383 non-null   float64\n",
      " 78  has_stamina                       1383 non-null   float64\n",
      " 79  has_agility                       1383 non-null   float64\n",
      " 80  has_super_strength                1383 non-null   float64\n",
      "dtypes: float64(50), int64(6), object(25)\n",
      "memory usage: 917.7+ KB\n"
     ]
    }
   ],
   "source": [
    "df.info()"
   ]
  },
  {
   "cell_type": "markdown",
   "id": "26c411b7",
   "metadata": {
    "papermill": {
     "duration": 0.062817,
     "end_time": "2022-02-18T11:40:05.912794",
     "exception": false,
     "start_time": "2022-02-18T11:40:05.849977",
     "status": "completed"
    },
    "tags": []
   },
   "source": [
    "In this analysis we only use the names and the two text columns. As the columns of history_text and powers_text both have more than a hundred null values, I fill them all by \"NA\"."
   ]
  },
  {
   "cell_type": "code",
   "execution_count": 4,
   "id": "24a1d49a",
   "metadata": {
    "execution": {
     "iopub.execute_input": "2022-02-18T11:40:06.043318Z",
     "iopub.status.busy": "2022-02-18T11:40:06.042601Z",
     "iopub.status.idle": "2022-02-18T11:40:06.047546Z",
     "shell.execute_reply": "2022-02-18T11:40:06.048095Z",
     "shell.execute_reply.started": "2022-02-18T09:52:17.636938Z"
    },
    "papermill": {
     "duration": 0.072765,
     "end_time": "2022-02-18T11:40:06.048309",
     "exception": false,
     "start_time": "2022-02-18T11:40:05.975544",
     "status": "completed"
    },
    "tags": []
   },
   "outputs": [],
   "source": [
    "df.fillna(value={'history_text':'NA', 'powers_text':'NA'}, inplace=True)"
   ]
  },
  {
   "cell_type": "code",
   "execution_count": 5,
   "id": "c5a971ee",
   "metadata": {
    "execution": {
     "iopub.execute_input": "2022-02-18T11:40:06.179369Z",
     "iopub.status.busy": "2022-02-18T11:40:06.178628Z",
     "iopub.status.idle": "2022-02-18T11:40:06.197990Z",
     "shell.execute_reply": "2022-02-18T11:40:06.198621Z",
     "shell.execute_reply.started": "2022-02-18T09:52:17.645455Z"
    },
    "papermill": {
     "duration": 0.086271,
     "end_time": "2022-02-18T11:40:06.198794",
     "exception": false,
     "start_time": "2022-02-18T11:40:06.112523",
     "status": "completed"
    },
    "tags": []
   },
   "outputs": [],
   "source": [
    "df['text']=df.history_text+' '+df.powers_text"
   ]
  },
  {
   "cell_type": "code",
   "execution_count": 6,
   "id": "bb8d9bad",
   "metadata": {
    "execution": {
     "iopub.execute_input": "2022-02-18T11:40:06.330322Z",
     "iopub.status.busy": "2022-02-18T11:40:06.329642Z",
     "iopub.status.idle": "2022-02-18T11:40:06.332679Z",
     "shell.execute_reply": "2022-02-18T11:40:06.333199Z",
     "shell.execute_reply.started": "2022-02-18T09:52:17.674994Z"
    },
    "papermill": {
     "duration": 0.071593,
     "end_time": "2022-02-18T11:40:06.333363",
     "exception": false,
     "start_time": "2022-02-18T11:40:06.261770",
     "status": "completed"
    },
    "tags": []
   },
   "outputs": [],
   "source": [
    "hero_text=df[['name','text']]"
   ]
  },
  {
   "cell_type": "code",
   "execution_count": 7,
   "id": "4e72431c",
   "metadata": {
    "execution": {
     "iopub.execute_input": "2022-02-18T11:40:06.470904Z",
     "iopub.status.busy": "2022-02-18T11:40:06.470229Z",
     "iopub.status.idle": "2022-02-18T11:40:06.476293Z",
     "shell.execute_reply": "2022-02-18T11:40:06.476800Z",
     "shell.execute_reply.started": "2022-02-18T09:52:17.683611Z"
    },
    "papermill": {
     "duration": 0.079616,
     "end_time": "2022-02-18T11:40:06.477009",
     "exception": false,
     "start_time": "2022-02-18T11:40:06.397393",
     "status": "completed"
    },
    "tags": []
   },
   "outputs": [
    {
     "data": {
      "text/html": [
       "<div>\n",
       "<style scoped>\n",
       "    .dataframe tbody tr th:only-of-type {\n",
       "        vertical-align: middle;\n",
       "    }\n",
       "\n",
       "    .dataframe tbody tr th {\n",
       "        vertical-align: top;\n",
       "    }\n",
       "\n",
       "    .dataframe thead th {\n",
       "        text-align: right;\n",
       "    }\n",
       "</style>\n",
       "<table border=\"1\" class=\"dataframe\">\n",
       "  <thead>\n",
       "    <tr style=\"text-align: right;\">\n",
       "      <th></th>\n",
       "      <th>name</th>\n",
       "      <th>text</th>\n",
       "    </tr>\n",
       "  </thead>\n",
       "  <tbody>\n",
       "    <tr>\n",
       "      <th>0</th>\n",
       "      <td>3-D Man</td>\n",
       "      <td>Delroy Garrett, Jr. grew up to become a track ...</td>\n",
       "    </tr>\n",
       "    <tr>\n",
       "      <th>1</th>\n",
       "      <td>514A (Gotham)</td>\n",
       "      <td>He was one of the many prisoners of Indian Hil...</td>\n",
       "    </tr>\n",
       "    <tr>\n",
       "      <th>2</th>\n",
       "      <td>A-Bomb</td>\n",
       "      <td>Richard \"Rick\" Jones was orphaned at a young ...</td>\n",
       "    </tr>\n",
       "    <tr>\n",
       "      <th>3</th>\n",
       "      <td>Aa</td>\n",
       "      <td>Aa is one of the more passive members of the P...</td>\n",
       "    </tr>\n",
       "    <tr>\n",
       "      <th>4</th>\n",
       "      <td>Aaron Cash</td>\n",
       "      <td>Aaron Cash is the head of security at Arkham A...</td>\n",
       "    </tr>\n",
       "    <tr>\n",
       "      <th>...</th>\n",
       "      <td>...</td>\n",
       "      <td>...</td>\n",
       "    </tr>\n",
       "    <tr>\n",
       "      <th>1445</th>\n",
       "      <td>Zatanna</td>\n",
       "      <td>Zatanna is the daughter of adventurer John Zat...</td>\n",
       "    </tr>\n",
       "    <tr>\n",
       "      <th>1446</th>\n",
       "      <td>Zero</td>\n",
       "      <td>Zero was created by the late Dr. Albert Wily ...</td>\n",
       "    </tr>\n",
       "    <tr>\n",
       "      <th>1447</th>\n",
       "      <td>Zoom (New 52)</td>\n",
       "      <td>Hunter Zolomon is better known as Zoom, a spee...</td>\n",
       "    </tr>\n",
       "    <tr>\n",
       "      <th>1448</th>\n",
       "      <td>Zoom</td>\n",
       "      <td>Hunter Zolomon had a troubled relationship wi...</td>\n",
       "    </tr>\n",
       "    <tr>\n",
       "      <th>1449</th>\n",
       "      <td>Zzzax</td>\n",
       "      <td>Zzzax was the product of an accident that occu...</td>\n",
       "    </tr>\n",
       "  </tbody>\n",
       "</table>\n",
       "<p>1450 rows × 2 columns</p>\n",
       "</div>"
      ],
      "text/plain": [
       "               name                                               text\n",
       "0           3-D Man  Delroy Garrett, Jr. grew up to become a track ...\n",
       "1     514A (Gotham)  He was one of the many prisoners of Indian Hil...\n",
       "2            A-Bomb   Richard \"Rick\" Jones was orphaned at a young ...\n",
       "3                Aa  Aa is one of the more passive members of the P...\n",
       "4        Aaron Cash  Aaron Cash is the head of security at Arkham A...\n",
       "...             ...                                                ...\n",
       "1445        Zatanna  Zatanna is the daughter of adventurer John Zat...\n",
       "1446           Zero   Zero was created by the late Dr. Albert Wily ...\n",
       "1447  Zoom (New 52)  Hunter Zolomon is better known as Zoom, a spee...\n",
       "1448           Zoom   Hunter Zolomon had a troubled relationship wi...\n",
       "1449          Zzzax  Zzzax was the product of an accident that occu...\n",
       "\n",
       "[1450 rows x 2 columns]"
      ]
     },
     "execution_count": 7,
     "metadata": {},
     "output_type": "execute_result"
    }
   ],
   "source": [
    "hero_text"
   ]
  },
  {
   "cell_type": "markdown",
   "id": "2dd24b47",
   "metadata": {
    "papermill": {
     "duration": 0.062829,
     "end_time": "2022-02-18T11:40:06.603238",
     "exception": false,
     "start_time": "2022-02-18T11:40:06.540409",
     "status": "completed"
    },
    "tags": []
   },
   "source": [
    "The nlp library **SpaCy** has the features of word embedding, where every word in their trained model has a vector of 300 dimensions. And it is convenient to use."
   ]
  },
  {
   "cell_type": "code",
   "execution_count": 8,
   "id": "c2a5b2cd",
   "metadata": {
    "execution": {
     "iopub.execute_input": "2022-02-18T11:40:06.734864Z",
     "iopub.status.busy": "2022-02-18T11:40:06.734137Z",
     "iopub.status.idle": "2022-02-18T11:40:21.637017Z",
     "shell.execute_reply": "2022-02-18T11:40:21.636444Z",
     "shell.execute_reply.started": "2022-02-18T09:52:17.703539Z"
    },
    "papermill": {
     "duration": 14.970916,
     "end_time": "2022-02-18T11:40:21.637169",
     "exception": false,
     "start_time": "2022-02-18T11:40:06.666253",
     "status": "completed"
    },
    "tags": []
   },
   "outputs": [],
   "source": [
    "import spacy\n",
    "\n",
    "#load the large model to get word vectors\n",
    "nlp = spacy.load('en_core_web_lg')"
   ]
  },
  {
   "cell_type": "markdown",
   "id": "b404de6d",
   "metadata": {
    "papermill": {
     "duration": 0.062906,
     "end_time": "2022-02-18T11:40:21.764699",
     "exception": false,
     "start_time": "2022-02-18T11:40:21.701793",
     "status": "completed"
    },
    "tags": []
   },
   "source": [
    "In the vector space of word representation, words of similar meanings are pointing at roughly the same directions, so the cosine of the angle of the two vectors acts as a measure of similarity. We can get the word embedding vectors of the words and use a function to calculate cosine similarity, or use SpaCy's method of **similarity**, which is doing the same thing."
   ]
  },
  {
   "cell_type": "code",
   "execution_count": 9,
   "id": "24dbb183",
   "metadata": {
    "execution": {
     "iopub.execute_input": "2022-02-18T11:40:21.893755Z",
     "iopub.status.busy": "2022-02-18T11:40:21.893116Z",
     "iopub.status.idle": "2022-02-18T11:40:21.896678Z",
     "shell.execute_reply": "2022-02-18T11:40:21.897205Z",
     "shell.execute_reply.started": "2022-02-18T09:52:33.247975Z"
    },
    "papermill": {
     "duration": 0.069623,
     "end_time": "2022-02-18T11:40:21.897367",
     "exception": false,
     "start_time": "2022-02-18T11:40:21.827744",
     "status": "completed"
    },
    "tags": []
   },
   "outputs": [],
   "source": [
    "def cosine_similarity(a, b):\n",
    "    return a.dot(b)/np.sqrt(a.dot(a) * b.dot(b))"
   ]
  },
  {
   "cell_type": "code",
   "execution_count": 10,
   "id": "614c95f5",
   "metadata": {
    "execution": {
     "iopub.execute_input": "2022-02-18T11:40:22.030807Z",
     "iopub.status.busy": "2022-02-18T11:40:22.030156Z",
     "iopub.status.idle": "2022-02-18T11:40:22.061630Z",
     "shell.execute_reply": "2022-02-18T11:40:22.062213Z",
     "shell.execute_reply.started": "2022-02-18T09:52:33.256050Z"
    },
    "papermill": {
     "duration": 0.10151,
     "end_time": "2022-02-18T11:40:22.062391",
     "exception": false,
     "start_time": "2022-02-18T11:40:21.960881",
     "status": "completed"
    },
    "tags": []
   },
   "outputs": [
    {
     "data": {
      "text/plain": [
       "0.7615766"
      ]
     },
     "execution_count": 10,
     "metadata": {},
     "output_type": "execute_result"
    }
   ],
   "source": [
    "cool=nlp('cool').vector\n",
    "text=nlp('awesome').vector\n",
    "cosine_similarity(cool, text)"
   ]
  },
  {
   "cell_type": "code",
   "execution_count": 11,
   "id": "b01907d0",
   "metadata": {
    "execution": {
     "iopub.execute_input": "2022-02-18T11:40:22.192158Z",
     "iopub.status.busy": "2022-02-18T11:40:22.191546Z",
     "iopub.status.idle": "2022-02-18T11:40:22.210513Z",
     "shell.execute_reply": "2022-02-18T11:40:22.211104Z",
     "shell.execute_reply.started": "2022-02-18T09:52:33.299757Z"
    },
    "papermill": {
     "duration": 0.085207,
     "end_time": "2022-02-18T11:40:22.211285",
     "exception": false,
     "start_time": "2022-02-18T11:40:22.126078",
     "status": "completed"
    },
    "tags": []
   },
   "outputs": [
    {
     "data": {
      "text/plain": [
       "0.7615766136619084"
      ]
     },
     "execution_count": 11,
     "metadata": {},
     "output_type": "execute_result"
    }
   ],
   "source": [
    "a=nlp('cool')\n",
    "b=nlp('awesome')\n",
    "a.similarity(b)"
   ]
  },
  {
   "cell_type": "markdown",
   "id": "03eb1a7b",
   "metadata": {
    "papermill": {
     "duration": 0.063565,
     "end_time": "2022-02-18T11:40:22.339006",
     "exception": false,
     "start_time": "2022-02-18T11:40:22.275441",
     "status": "completed"
    },
    "tags": []
   },
   "source": [
    "SpaCy also has **most_similar** method to get the list of most similar words to a given word vector. I put it into a function."
   ]
  },
  {
   "cell_type": "code",
   "execution_count": 12,
   "id": "1251bb40",
   "metadata": {
    "execution": {
     "iopub.execute_input": "2022-02-18T11:40:22.469677Z",
     "iopub.status.busy": "2022-02-18T11:40:22.468991Z",
     "iopub.status.idle": "2022-02-18T11:40:22.474626Z",
     "shell.execute_reply": "2022-02-18T11:40:22.475184Z",
     "shell.execute_reply.started": "2022-02-18T09:52:33.323067Z"
    },
    "papermill": {
     "duration": 0.072907,
     "end_time": "2022-02-18T11:40:22.475375",
     "exception": false,
     "start_time": "2022-02-18T11:40:22.402468",
     "status": "completed"
    },
    "tags": []
   },
   "outputs": [],
   "source": [
    "def most_similar_list(text_vec, num):\n",
    "    '''taking the 'text' in vector form and printing the list of most similar words, in which the number is specified by 'num' '''\n",
    "    queries = np.asarray([text_vec])\n",
    "    most_similar = nlp.vocab.vectors.most_similar(queries, n=num)\n",
    "    for i in range(len(most_similar[0][0])):\n",
    "        print(nlp.vocab.strings[most_similar[0][0][i]].ljust(20), most_similar[2][0][i])"
   ]
  },
  {
   "cell_type": "code",
   "execution_count": 13,
   "id": "eaef2c7c",
   "metadata": {
    "execution": {
     "iopub.execute_input": "2022-02-18T11:40:22.606518Z",
     "iopub.status.busy": "2022-02-18T11:40:22.605815Z",
     "iopub.status.idle": "2022-02-18T11:40:24.426312Z",
     "shell.execute_reply": "2022-02-18T11:40:24.425731Z",
     "shell.execute_reply.started": "2022-02-18T09:52:33.330589Z"
    },
    "papermill": {
     "duration": 1.88701,
     "end_time": "2022-02-18T11:40:24.426466",
     "exception": false,
     "start_time": "2022-02-18T11:40:22.539456",
     "status": "completed"
    },
    "tags": []
   },
   "outputs": [
    {
     "name": "stdout",
     "output_type": "stream",
     "text": [
      "COOL                 1.0\n",
      "COol                 1.0\n",
      "cool                 1.0\n",
      "Cool                 1.0\n",
      "CooL                 1.0\n",
      "AWesome              0.7616\n",
      "Awesome              0.7616\n",
      "AWESOME              0.7616\n",
      "AWEsome              0.7616\n",
      "awesome              0.7616\n",
      "nICE                 0.7374\n",
      "nice                 0.7374\n",
      "NICE                 0.7374\n",
      "Nice                 0.7374\n",
      "NIce                 0.7374\n",
      "PRETTY               0.6568\n",
      "Pretty               0.6568\n",
      "pretty               0.6568\n",
      "PRetty               0.6568\n",
      "Fun                  0.6487\n",
      "fun                  0.6487\n",
      "FUN                  0.6487\n",
      "kinda                0.6418\n",
      "Kinda                0.6418\n",
      "KINDA                0.6418\n",
      "neat                 0.6415\n",
      "Neat                 0.6415\n",
      "NEAT                 0.6415\n",
      "amaZing              0.6363\n",
      "amazing              0.6363\n",
      "AMazing              0.6363\n",
      "AMAZING              0.6363\n",
      "Amazing              0.6363\n",
      "Really               0.632\n",
      "REALLY               0.632\n",
      "reAlly               0.632\n",
      "REALLy               0.632\n",
      "REally               0.632\n",
      "really               0.632\n",
      "sO                   0.6226\n",
      "So                   0.6226\n",
      "SO                   0.6226\n",
      "so                   0.6226\n",
      "WARM                 0.6214\n",
      "Warm                 0.6214\n",
      "warm                 0.6214\n",
      "AWSOME               0.6195\n",
      "Awsome               0.6195\n",
      "awsome               0.6195\n",
      "TOo                  0.6193\n",
      "TOO                  0.6193\n",
      "too                  0.6193\n",
      "toO                  0.6193\n",
      "Too                  0.6193\n",
      "ToO                  0.6193\n",
      "STUFF                0.6189\n",
      "Stuff                0.6189\n",
      "stuff                0.6189\n",
      "Cute                 0.6118\n",
      "cute                 0.6118\n",
      "CUTE                 0.6118\n",
      "CuTe                 0.6118\n",
      "coolest              0.6084\n",
      "COOLEST              0.6084\n",
      "Coolest              0.6084\n",
      "Chill                0.6075\n",
      "chill                0.6075\n",
      "CHILL                0.6075\n",
      "FUNNY                0.6073\n",
      "FUnny                0.6073\n",
      "funny                0.6073\n",
      "Funny                0.6073\n",
      "Lol                  0.607\n",
      "lOl                  0.607\n",
      "LoL                  0.607\n",
      "lol                  0.607\n",
      "lOL                  0.607\n",
      "LOL                  0.607\n",
      "LOl                  0.607\n",
      "loL                  0.607\n",
      "great                0.6023\n",
      "Great                0.6023\n",
      "greAt                0.6023\n",
      "GREAT                0.6023\n",
      "GReat                0.6023\n",
      "Weird                0.6017\n",
      "WEIRD                0.6017\n",
      "weird                0.6017\n",
      "SUPER                0.6002\n",
      "super                0.6002\n",
      "Super                0.6002\n",
      "SUper                0.6002\n",
      "LOOK                 0.5991\n",
      "look                 0.5991\n",
      "Look                 0.5991\n",
      "LOOKS                0.5976\n",
      "looks                0.5976\n",
      "Looks                0.5976\n",
      "KIND                 0.596\n",
      "kind                 0.596\n"
     ]
    }
   ],
   "source": [
    "most_similar_list(nlp('cool').vector, 100)"
   ]
  },
  {
   "cell_type": "markdown",
   "id": "df38f470",
   "metadata": {
    "papermill": {
     "duration": 0.063863,
     "end_time": "2022-02-18T11:40:24.554845",
     "exception": false,
     "start_time": "2022-02-18T11:40:24.490982",
     "status": "completed"
    },
    "tags": []
   },
   "source": [
    "The word \"cool\" has multiple meanings of many subtle overtones. In popular usages when we say someone is cool, we usually mean he or she is hip, fashionable, excellent, composed, uniquely at their own, but it can also refer to not enthused, dispassionate and unfriendly, and also moderate cold temperature. The 100 most similar words of cool in SpaCy's large English model have \"cool\" in different spellings at the tops, then followed by \"awesome\", \"nice\", \"pretty\" and \"fun\", which are closer to hip and excellent."
   ]
  },
  {
   "cell_type": "code",
   "execution_count": 14,
   "id": "5a0a70cf",
   "metadata": {
    "execution": {
     "iopub.execute_input": "2022-02-18T11:40:24.690915Z",
     "iopub.status.busy": "2022-02-18T11:40:24.689740Z",
     "iopub.status.idle": "2022-02-18T11:40:24.806109Z",
     "shell.execute_reply": "2022-02-18T11:40:24.806644Z",
     "shell.execute_reply.started": "2022-02-18T09:52:35.148327Z"
    },
    "papermill": {
     "duration": 0.187687,
     "end_time": "2022-02-18T11:40:24.806816",
     "exception": false,
     "start_time": "2022-02-18T11:40:24.619129",
     "status": "completed"
    },
    "tags": []
   },
   "outputs": [
    {
     "name": "stdout",
     "output_type": "stream",
     "text": [
      "cool                 1.0\n",
      "cold                 0.5644185\n",
      "coolest              0.608426\n",
      "awesome              0.7615766\n",
      "amazing              0.6363099\n",
      "chill                0.6075392\n",
      "confidence           0.16269511\n",
      "composed             0.19751108\n",
      "calm                 0.44255415\n",
      "nonchalant           0.24065392\n",
      "Batman               0.36020163\n",
      "Superman             0.31441408\n",
      "nerd                 0.421054\n",
      "geek                 0.4376547\n",
      "uncool               0.33795375\n",
      "hot                  0.5611704\n",
      "ice                  0.41151524\n",
      "fashion              0.37175122\n"
     ]
    }
   ],
   "source": [
    "wordlist=['cool','cold','coolest','awesome','amazing','chill','confidence','composed','calm','nonchalant','Batman','Superman','nerd','geek',\n",
    "          'uncool','hot','ice','fashion']\n",
    "for word in wordlist:\n",
    "    wordvec=nlp(word).vector\n",
    "    print(word.ljust(20), cosine_similarity(cool, wordvec))"
   ]
  },
  {
   "cell_type": "markdown",
   "id": "d1862472",
   "metadata": {
    "papermill": {
     "duration": 0.064645,
     "end_time": "2022-02-18T11:40:24.936569",
     "exception": false,
     "start_time": "2022-02-18T11:40:24.871924",
     "status": "completed"
    },
    "tags": []
   },
   "source": [
    "And the similarity scores of other words show the side of composed, nonchalant and confidence in cool is ranked low in SpaCy's large English model. While \"nerd\" and \"geek\" are regarded as opposite to cool, their relatively higher similarity scores (above 0.4) are attributed to the fact that they are talked more often together with cool than other unrelated topics. And one interesting thing is \"Batman\" has a higher similar score then \"Superman\", perhaps reflecting in common sayings Batman is cooler than Superman."
   ]
  },
  {
   "cell_type": "code",
   "execution_count": null,
   "id": "169fb9ff",
   "metadata": {
    "papermill": {
     "duration": 0.064014,
     "end_time": "2022-02-18T11:40:25.066762",
     "exception": false,
     "start_time": "2022-02-18T11:40:25.002748",
     "status": "completed"
    },
    "tags": []
   },
   "outputs": [],
   "source": []
  },
  {
   "cell_type": "code",
   "execution_count": null,
   "id": "b087f718",
   "metadata": {
    "papermill": {
     "duration": 0.064313,
     "end_time": "2022-02-18T11:40:25.195489",
     "exception": false,
     "start_time": "2022-02-18T11:40:25.131176",
     "status": "completed"
    },
    "tags": []
   },
   "outputs": [],
   "source": []
  },
  {
   "cell_type": "markdown",
   "id": "48fe6eb9",
   "metadata": {
    "papermill": {
     "duration": 0.063501,
     "end_time": "2022-02-18T11:40:25.323369",
     "exception": false,
     "start_time": "2022-02-18T11:40:25.259868",
     "status": "completed"
    },
    "tags": []
   },
   "source": [
    "And for vector representation of sentences, paragraphs and even documents, SpaCy follows the common method of using centroid vectors, meaning taking the mean of all tokenized words(including punctuations) of the sentence, paragraph and document. Generally speaking, sentences or paragraphs which contain more of the word 'cool' or similar meaning words should get high cosine similarity scores."
   ]
  },
  {
   "cell_type": "code",
   "execution_count": 15,
   "id": "9ba28a16",
   "metadata": {
    "execution": {
     "iopub.execute_input": "2022-02-18T11:40:25.462970Z",
     "iopub.status.busy": "2022-02-18T11:40:25.462327Z",
     "iopub.status.idle": "2022-02-18T11:40:25.475732Z",
     "shell.execute_reply": "2022-02-18T11:40:25.476392Z",
     "shell.execute_reply.started": "2022-02-18T09:52:35.277562Z"
    },
    "papermill": {
     "duration": 0.088577,
     "end_time": "2022-02-18T11:40:25.476562",
     "exception": false,
     "start_time": "2022-02-18T11:40:25.387985",
     "status": "completed"
    },
    "tags": []
   },
   "outputs": [
    {
     "name": "stdout",
     "output_type": "stream",
     "text": [
      "0.6795831640320981\n"
     ]
    }
   ],
   "source": [
    "b = nlp('he is very awesome. she is nice and amazing.')\n",
    "print(b.similarity(nlp('cool')))"
   ]
  },
  {
   "cell_type": "markdown",
   "id": "d2948745",
   "metadata": {
    "papermill": {
     "duration": 0.064025,
     "end_time": "2022-02-18T11:40:25.605793",
     "exception": false,
     "start_time": "2022-02-18T11:40:25.541768",
     "status": "completed"
    },
    "tags": []
   },
   "source": [
    "The next two paragraphs for testing are taken from an article on the meaning of cool, while the third one is taken from a news article. And the first two paragraphs do have higher similarity scores with the word 'cool' than the third one."
   ]
  },
  {
   "cell_type": "code",
   "execution_count": 16,
   "id": "8af15221",
   "metadata": {
    "execution": {
     "iopub.execute_input": "2022-02-18T11:40:25.750144Z",
     "iopub.status.busy": "2022-02-18T11:40:25.748831Z",
     "iopub.status.idle": "2022-02-18T11:40:25.784640Z",
     "shell.execute_reply": "2022-02-18T11:40:25.783375Z",
     "shell.execute_reply.started": "2022-02-18T09:52:35.302804Z"
    },
    "papermill": {
     "duration": 0.114655,
     "end_time": "2022-02-18T11:40:25.784860",
     "exception": false,
     "start_time": "2022-02-18T11:40:25.670205",
     "status": "completed"
    },
    "tags": []
   },
   "outputs": [
    {
     "name": "stdout",
     "output_type": "stream",
     "text": [
      "0.6362329653887256\n"
     ]
    }
   ],
   "source": [
    "b = nlp(\"It’s tough to define the exact qualities that make someone cool, since pretty much everyone has a different idea of what 'cool' is. For some, it’s a leather-coat-wearing motorcyclist on an open road. For others, it’s the lead singer of a band, an English major surrounded by books, or a really chic neighbor who always burns the best incense. These people are wildly different, and yet they can all be considered cool because they project something special — a certain je ne sais quoi — that makes them stand out.\")\n",
    "print(b.similarity(nlp('cool')))"
   ]
  },
  {
   "cell_type": "code",
   "execution_count": 17,
   "id": "028d3779",
   "metadata": {
    "execution": {
     "iopub.execute_input": "2022-02-18T11:40:25.920081Z",
     "iopub.status.busy": "2022-02-18T11:40:25.919376Z",
     "iopub.status.idle": "2022-02-18T11:40:25.949216Z",
     "shell.execute_reply": "2022-02-18T11:40:25.949777Z",
     "shell.execute_reply.started": "2022-02-18T09:52:35.350415Z"
    },
    "papermill": {
     "duration": 0.098881,
     "end_time": "2022-02-18T11:40:25.950033",
     "exception": false,
     "start_time": "2022-02-18T11:40:25.851152",
     "status": "completed"
    },
    "tags": []
   },
   "outputs": [
    {
     "name": "stdout",
     "output_type": "stream",
     "text": [
      "0.5910140438438523\n"
     ]
    }
   ],
   "source": [
    "b = nlp('You know you’re in the presence of a cool person when you feel at ease. The reason? “Cool people are present, focused, and interested in those around them,” Romanoff says. They listen, they try to understand — and as a result, they help everyone feel seen and understood.')\n",
    "print(b.similarity(nlp('cool')))"
   ]
  },
  {
   "cell_type": "code",
   "execution_count": 18,
   "id": "cb6974d6",
   "metadata": {
    "execution": {
     "iopub.execute_input": "2022-02-18T11:40:26.138261Z",
     "iopub.status.busy": "2022-02-18T11:40:26.137325Z",
     "iopub.status.idle": "2022-02-18T11:40:26.188057Z",
     "shell.execute_reply": "2022-02-18T11:40:26.188546Z",
     "shell.execute_reply.started": "2022-02-18T09:52:35.382644Z"
    },
    "papermill": {
     "duration": 0.154091,
     "end_time": "2022-02-18T11:40:26.188789",
     "exception": false,
     "start_time": "2022-02-18T11:40:26.034698",
     "status": "completed"
    },
    "tags": []
   },
   "outputs": [
    {
     "name": "stdout",
     "output_type": "stream",
     "text": [
      "0.48815137638105816\n"
     ]
    }
   ],
   "source": [
    "b = nlp('Her visit comes after three high-level diplomatic meetings last week ended with Russian troops still on Ukraine’s borders, but no definitive sign whether Putin would risk a military incursion or instead start talks with the US about arms control in Europe, a more limited agenda than his call for a redrawing of the security architecture of Europe.')\n",
    "print(b.similarity(nlp('cool')))"
   ]
  },
  {
   "cell_type": "markdown",
   "id": "99974137",
   "metadata": {
    "papermill": {
     "duration": 0.089769,
     "end_time": "2022-02-18T11:40:26.350614",
     "exception": false,
     "start_time": "2022-02-18T11:40:26.260845",
     "status": "completed"
    },
    "tags": []
   },
   "source": [
    "For now it seems to be a promising approach. So a simple way of determining who is the coolest superhero is to get each one's text description tokenized and get the centroid vector, then calculate the cosine similarity with the word \"cool\" as a \"cool score\" and get them ranked. Is it that simple? Let's see how it goes."
   ]
  },
  {
   "cell_type": "code",
   "execution_count": 19,
   "id": "e427625c",
   "metadata": {
    "execution": {
     "iopub.execute_input": "2022-02-18T11:40:26.488554Z",
     "iopub.status.busy": "2022-02-18T11:40:26.487850Z",
     "iopub.status.idle": "2022-02-18T11:44:41.943082Z",
     "shell.execute_reply": "2022-02-18T11:44:41.943607Z",
     "shell.execute_reply.started": "2022-02-18T09:52:35.419641Z"
    },
    "papermill": {
     "duration": 255.525797,
     "end_time": "2022-02-18T11:44:41.943803",
     "exception": false,
     "start_time": "2022-02-18T11:40:26.418006",
     "status": "completed"
    },
    "tags": []
   },
   "outputs": [
    {
     "name": "stderr",
     "output_type": "stream",
     "text": [
      "/opt/conda/lib/python3.7/site-packages/ipykernel_launcher.py:2: SettingWithCopyWarning: \n",
      "A value is trying to be set on a copy of a slice from a DataFrame.\n",
      "Try using .loc[row_indexer,col_indexer] = value instead\n",
      "\n",
      "See the caveats in the documentation: https://pandas.pydata.org/pandas-docs/stable/user_guide/indexing.html#returning-a-view-versus-a-copy\n",
      "  \n"
     ]
    }
   ],
   "source": [
    "with nlp.disable_pipes():\n",
    "    hero_text['cool_score']=hero_text.apply(lambda r: nlp('cool').similarity(nlp(str(r.text))), axis=1)"
   ]
  },
  {
   "cell_type": "code",
   "execution_count": 20,
   "id": "754a9c51",
   "metadata": {
    "execution": {
     "iopub.execute_input": "2022-02-18T11:44:42.081478Z",
     "iopub.status.busy": "2022-02-18T11:44:42.080543Z",
     "iopub.status.idle": "2022-02-18T11:44:42.091448Z",
     "shell.execute_reply": "2022-02-18T11:44:42.092023Z",
     "shell.execute_reply.started": "2022-02-18T09:57:13.069317Z"
    },
    "papermill": {
     "duration": 0.078818,
     "end_time": "2022-02-18T11:44:42.092216",
     "exception": false,
     "start_time": "2022-02-18T11:44:42.013398",
     "status": "completed"
    },
    "tags": []
   },
   "outputs": [
    {
     "data": {
      "text/html": [
       "<div>\n",
       "<style scoped>\n",
       "    .dataframe tbody tr th:only-of-type {\n",
       "        vertical-align: middle;\n",
       "    }\n",
       "\n",
       "    .dataframe tbody tr th {\n",
       "        vertical-align: top;\n",
       "    }\n",
       "\n",
       "    .dataframe thead th {\n",
       "        text-align: right;\n",
       "    }\n",
       "</style>\n",
       "<table border=\"1\" class=\"dataframe\">\n",
       "  <thead>\n",
       "    <tr style=\"text-align: right;\">\n",
       "      <th></th>\n",
       "      <th>name</th>\n",
       "      <th>text</th>\n",
       "      <th>cool_score</th>\n",
       "    </tr>\n",
       "  </thead>\n",
       "  <tbody>\n",
       "    <tr>\n",
       "      <th>1071</th>\n",
       "      <td>Red Mist</td>\n",
       "      <td>The Red Mist was another teenager following th...</td>\n",
       "      <td>0.592707</td>\n",
       "    </tr>\n",
       "    <tr>\n",
       "      <th>615</th>\n",
       "      <td>Hulk (Stark Gauntlet) (MCU)</td>\n",
       "      <td>After Tony created a new gaunlet Hulk uses it ...</td>\n",
       "      <td>0.592674</td>\n",
       "    </tr>\n",
       "    <tr>\n",
       "      <th>126</th>\n",
       "      <td>Batgirl (New 52)</td>\n",
       "      <td>NA Barbara is very intellegent she is one of t...</td>\n",
       "      <td>0.590817</td>\n",
       "    </tr>\n",
       "    <tr>\n",
       "      <th>758</th>\n",
       "      <td>Kool-Aid Man</td>\n",
       "      <td>Before he was officially the Kool-Aid Man in 1...</td>\n",
       "      <td>0.589922</td>\n",
       "    </tr>\n",
       "    <tr>\n",
       "      <th>1332</th>\n",
       "      <td>Trickster II</td>\n",
       "      <td>Axel Walker was the second villain to be calle...</td>\n",
       "      <td>0.585122</td>\n",
       "    </tr>\n",
       "    <tr>\n",
       "      <th>852</th>\n",
       "      <td>Mario</td>\n",
       "      <td>Early Life The Stork was carrying Mario and Lu...</td>\n",
       "      <td>0.583821</td>\n",
       "    </tr>\n",
       "    <tr>\n",
       "      <th>542</th>\n",
       "      <td>Green Goblin (2099)</td>\n",
       "      <td>The Goblin of the year 2099 wanted to take Spi...</td>\n",
       "      <td>0.583415</td>\n",
       "    </tr>\n",
       "    <tr>\n",
       "      <th>1055</th>\n",
       "      <td>Rainbow Rider</td>\n",
       "      <td>Roy G. Bivolo was a daltonic kid whose parents...</td>\n",
       "      <td>0.583311</td>\n",
       "    </tr>\n",
       "    <tr>\n",
       "      <th>713</th>\n",
       "      <td>Kai (The LEGO Ninjago Movie)</td>\n",
       "      <td>Kai's attitude is more serious, like Cole in t...</td>\n",
       "      <td>0.581369</td>\n",
       "    </tr>\n",
       "    <tr>\n",
       "      <th>627</th>\n",
       "      <td>Iceman (FOX)</td>\n",
       "      <td>Bobby lived with his mother, father and younge...</td>\n",
       "      <td>0.578471</td>\n",
       "    </tr>\n",
       "  </tbody>\n",
       "</table>\n",
       "</div>"
      ],
      "text/plain": [
       "                              name  \\\n",
       "1071                      Red Mist   \n",
       "615    Hulk (Stark Gauntlet) (MCU)   \n",
       "126               Batgirl (New 52)   \n",
       "758                   Kool-Aid Man   \n",
       "1332                  Trickster II   \n",
       "852                          Mario   \n",
       "542            Green Goblin (2099)   \n",
       "1055                 Rainbow Rider   \n",
       "713   Kai (The LEGO Ninjago Movie)   \n",
       "627                   Iceman (FOX)   \n",
       "\n",
       "                                                   text  cool_score  \n",
       "1071  The Red Mist was another teenager following th...    0.592707  \n",
       "615   After Tony created a new gaunlet Hulk uses it ...    0.592674  \n",
       "126   NA Barbara is very intellegent she is one of t...    0.590817  \n",
       "758   Before he was officially the Kool-Aid Man in 1...    0.589922  \n",
       "1332  Axel Walker was the second villain to be calle...    0.585122  \n",
       "852   Early Life The Stork was carrying Mario and Lu...    0.583821  \n",
       "542   The Goblin of the year 2099 wanted to take Spi...    0.583415  \n",
       "1055  Roy G. Bivolo was a daltonic kid whose parents...    0.583311  \n",
       "713   Kai's attitude is more serious, like Cole in t...    0.581369  \n",
       "627   Bobby lived with his mother, father and younge...    0.578471  "
      ]
     },
     "execution_count": 20,
     "metadata": {},
     "output_type": "execute_result"
    }
   ],
   "source": [
    "hero_text.sort_values(by='cool_score', ascending=False).head(10)"
   ]
  },
  {
   "cell_type": "code",
   "execution_count": 21,
   "id": "39f96b9b",
   "metadata": {
    "_kg_hide-input": true,
    "execution": {
     "iopub.execute_input": "2022-02-18T11:44:42.227696Z",
     "iopub.status.busy": "2022-02-18T11:44:42.227067Z",
     "iopub.status.idle": "2022-02-18T11:44:42.581411Z",
     "shell.execute_reply": "2022-02-18T11:44:42.581917Z",
     "shell.execute_reply.started": "2022-02-18T09:57:13.094298Z"
    },
    "papermill": {
     "duration": 0.422841,
     "end_time": "2022-02-18T11:44:42.582098",
     "exception": false,
     "start_time": "2022-02-18T11:44:42.159257",
     "status": "completed"
    },
    "tags": []
   },
   "outputs": [
    {
     "data": {
      "image/jpeg": "[encoded data removed]",
      "text/plain": [
       "<IPython.core.display.Image object>"
      ]
     },
     "execution_count": 21,
     "metadata": {},
     "output_type": "execute_result"
    }
   ],
   "source": [
    "#codes adapted from Jonathan Besomi\n",
    "Red_Mist = df.query(\"name == 'Red Mist'\")\n",
    "Red_Mist_img = \"https://www.superherodb.com\" + Red_Mist['img'].values[0]\n",
    "\n",
    "import requests\n",
    "import IPython.display as Disp\n",
    "Disp.Image(requests.get(Red_Mist_img).content)"
   ]
  },
  {
   "cell_type": "markdown",
   "id": "9d53a354",
   "metadata": {
    "papermill": {
     "duration": 0.066963,
     "end_time": "2022-02-18T11:44:42.715514",
     "exception": false,
     "start_time": "2022-02-18T11:44:42.648551",
     "status": "completed"
    },
    "tags": []
   },
   "source": [
    "So for this first trial, the Red Mist is the coolest superhero. I make a function to display the text description of selected superhero and also the tokens in the text that have highest similarity scores with the word \"cool\". In the case of Red Mist, there is a direct reference stating he has \"cooler appearance\", but stop words like \"but\" and \"some\" also get moderately high similarity scores."
   ]
  },
  {
   "cell_type": "code",
   "execution_count": 22,
   "id": "b0d5b9f0",
   "metadata": {
    "execution": {
     "iopub.execute_input": "2022-02-18T11:44:42.852617Z",
     "iopub.status.busy": "2022-02-18T11:44:42.851687Z",
     "iopub.status.idle": "2022-02-18T11:44:42.857539Z",
     "shell.execute_reply": "2022-02-18T11:44:42.858145Z",
     "shell.execute_reply.started": "2022-02-18T09:57:13.889836Z"
    },
    "papermill": {
     "duration": 0.076265,
     "end_time": "2022-02-18T11:44:42.858316",
     "exception": false,
     "start_time": "2022-02-18T11:44:42.782051",
     "status": "completed"
    },
    "tags": []
   },
   "outputs": [],
   "source": [
    "def print_content_and_top_words(df, column, row):\n",
    "    b=nlp(df.loc[row, column])\n",
    "    a=nlp('cool')\n",
    "    token_similarity=pd.DataFrame([token, token.similarity(a)] for token in b if token.has_vector)\n",
    "    token_similarity.columns=['token','similar_score']\n",
    "    print(df.loc[row, column])\n",
    "    display(token_similarity.sort_values(by='similar_score', ascending=False).head(10))"
   ]
  },
  {
   "cell_type": "code",
   "execution_count": 23,
   "id": "9ea59947",
   "metadata": {
    "execution": {
     "iopub.execute_input": "2022-02-18T11:44:42.993920Z",
     "iopub.status.busy": "2022-02-18T11:44:42.992963Z",
     "iopub.status.idle": "2022-02-18T11:44:43.051538Z",
     "shell.execute_reply": "2022-02-18T11:44:43.051043Z",
     "shell.execute_reply.started": "2022-02-18T09:57:13.898817Z"
    },
    "papermill": {
     "duration": 0.127129,
     "end_time": "2022-02-18T11:44:43.051691",
     "exception": false,
     "start_time": "2022-02-18T11:44:42.924562",
     "status": "completed"
    },
    "tags": []
   },
   "outputs": [
    {
     "name": "stdout",
     "output_type": "stream",
     "text": [
      "The Red Mist was another teenager following the example of Kick-Ass. But his cooler appearance stole some Kick-Ass fandom. Trying to settle things right, Dave tried to talk to him and force Red Mist to give up his super hero identity but in the end they decided to team-up when a building was on fire.   When Kick-Ass was visited by Hit-Girl and Big Daddy, Red Mist was reluctant to join their team. Both friends were in they way to meet Hit-Girl and her father in their headquarters ready to make a counter offer. But what they saw was a heavenly wounded Big Daddy pleading for help at the hands of Johnny G. At that precise moment, Red Mist was exposed not only as a traitor who set the heroes up but as Johnny G's son. NA\n"
     ]
    },
    {
     "data": {
      "text/html": [
       "<div>\n",
       "<style scoped>\n",
       "    .dataframe tbody tr th:only-of-type {\n",
       "        vertical-align: middle;\n",
       "    }\n",
       "\n",
       "    .dataframe tbody tr th {\n",
       "        vertical-align: top;\n",
       "    }\n",
       "\n",
       "    .dataframe thead th {\n",
       "        text-align: right;\n",
       "    }\n",
       "</style>\n",
       "<table border=\"1\" class=\"dataframe\">\n",
       "  <thead>\n",
       "    <tr style=\"text-align: right;\">\n",
       "      <th></th>\n",
       "      <th>token</th>\n",
       "      <th>similar_score</th>\n",
       "    </tr>\n",
       "  </thead>\n",
       "  <tbody>\n",
       "    <tr>\n",
       "      <th>45</th>\n",
       "      <td>super</td>\n",
       "      <td>0.600200</td>\n",
       "    </tr>\n",
       "    <tr>\n",
       "      <th>16</th>\n",
       "      <td>cooler</td>\n",
       "      <td>0.587706</td>\n",
       "    </tr>\n",
       "    <tr>\n",
       "      <th>93</th>\n",
       "      <td>way</td>\n",
       "      <td>0.548841</td>\n",
       "    </tr>\n",
       "    <tr>\n",
       "      <th>14</th>\n",
       "      <td>But</td>\n",
       "      <td>0.536709</td>\n",
       "    </tr>\n",
       "    <tr>\n",
       "      <th>48</th>\n",
       "      <td>but</td>\n",
       "      <td>0.536709</td>\n",
       "    </tr>\n",
       "    <tr>\n",
       "      <th>112</th>\n",
       "      <td>But</td>\n",
       "      <td>0.536709</td>\n",
       "    </tr>\n",
       "    <tr>\n",
       "      <th>150</th>\n",
       "      <td>but</td>\n",
       "      <td>0.536709</td>\n",
       "    </tr>\n",
       "    <tr>\n",
       "      <th>19</th>\n",
       "      <td>some</td>\n",
       "      <td>0.524228</td>\n",
       "    </tr>\n",
       "    <tr>\n",
       "      <th>28</th>\n",
       "      <td>things</td>\n",
       "      <td>0.522775</td>\n",
       "    </tr>\n",
       "    <tr>\n",
       "      <th>107</th>\n",
       "      <td>make</td>\n",
       "      <td>0.518917</td>\n",
       "    </tr>\n",
       "  </tbody>\n",
       "</table>\n",
       "</div>"
      ],
      "text/plain": [
       "      token  similar_score\n",
       "45    super       0.600200\n",
       "16   cooler       0.587706\n",
       "93      way       0.548841\n",
       "14      But       0.536709\n",
       "48      but       0.536709\n",
       "112     But       0.536709\n",
       "150     but       0.536709\n",
       "19     some       0.524228\n",
       "28   things       0.522775\n",
       "107    make       0.518917"
      ]
     },
     "metadata": {},
     "output_type": "display_data"
    }
   ],
   "source": [
    "print_content_and_top_words(hero_text, 'text', 1071)"
   ]
  },
  {
   "cell_type": "code",
   "execution_count": 24,
   "id": "e7878124",
   "metadata": {
    "execution": {
     "iopub.execute_input": "2022-02-18T11:44:43.204201Z",
     "iopub.status.busy": "2022-02-18T11:44:43.203048Z",
     "iopub.status.idle": "2022-02-18T11:44:43.229704Z",
     "shell.execute_reply": "2022-02-18T11:44:43.229085Z",
     "shell.execute_reply.started": "2022-02-18T09:57:13.978820Z"
    },
    "papermill": {
     "duration": 0.108592,
     "end_time": "2022-02-18T11:44:43.229841",
     "exception": false,
     "start_time": "2022-02-18T11:44:43.121249",
     "status": "completed"
    },
    "tags": []
   },
   "outputs": [
    {
     "name": "stdout",
     "output_type": "stream",
     "text": [
      "After Tony created a new gaunlet Hulk uses it to revive everyone. NA\n"
     ]
    },
    {
     "data": {
      "text/html": [
       "<div>\n",
       "<style scoped>\n",
       "    .dataframe tbody tr th:only-of-type {\n",
       "        vertical-align: middle;\n",
       "    }\n",
       "\n",
       "    .dataframe tbody tr th {\n",
       "        vertical-align: top;\n",
       "    }\n",
       "\n",
       "    .dataframe thead th {\n",
       "        text-align: right;\n",
       "    }\n",
       "</style>\n",
       "<table border=\"1\" class=\"dataframe\">\n",
       "  <thead>\n",
       "    <tr style=\"text-align: right;\">\n",
       "      <th></th>\n",
       "      <th>token</th>\n",
       "      <th>similar_score</th>\n",
       "    </tr>\n",
       "  </thead>\n",
       "  <tbody>\n",
       "    <tr>\n",
       "      <th>8</th>\n",
       "      <td>it</td>\n",
       "      <td>0.541804</td>\n",
       "    </tr>\n",
       "    <tr>\n",
       "      <th>11</th>\n",
       "      <td>everyone</td>\n",
       "      <td>0.523846</td>\n",
       "    </tr>\n",
       "    <tr>\n",
       "      <th>3</th>\n",
       "      <td>a</td>\n",
       "      <td>0.411081</td>\n",
       "    </tr>\n",
       "    <tr>\n",
       "      <th>4</th>\n",
       "      <td>new</td>\n",
       "      <td>0.409951</td>\n",
       "    </tr>\n",
       "    <tr>\n",
       "      <th>12</th>\n",
       "      <td>.</td>\n",
       "      <td>0.391355</td>\n",
       "    </tr>\n",
       "    <tr>\n",
       "      <th>9</th>\n",
       "      <td>to</td>\n",
       "      <td>0.380088</td>\n",
       "    </tr>\n",
       "    <tr>\n",
       "      <th>2</th>\n",
       "      <td>created</td>\n",
       "      <td>0.333128</td>\n",
       "    </tr>\n",
       "    <tr>\n",
       "      <th>7</th>\n",
       "      <td>uses</td>\n",
       "      <td>0.301719</td>\n",
       "    </tr>\n",
       "    <tr>\n",
       "      <th>0</th>\n",
       "      <td>After</td>\n",
       "      <td>0.267998</td>\n",
       "    </tr>\n",
       "    <tr>\n",
       "      <th>1</th>\n",
       "      <td>Tony</td>\n",
       "      <td>0.250260</td>\n",
       "    </tr>\n",
       "  </tbody>\n",
       "</table>\n",
       "</div>"
      ],
      "text/plain": [
       "       token  similar_score\n",
       "8         it       0.541804\n",
       "11  everyone       0.523846\n",
       "3          a       0.411081\n",
       "4        new       0.409951\n",
       "12         .       0.391355\n",
       "9         to       0.380088\n",
       "2    created       0.333128\n",
       "7       uses       0.301719\n",
       "0      After       0.267998\n",
       "1       Tony       0.250260"
      ]
     },
     "metadata": {},
     "output_type": "display_data"
    }
   ],
   "source": [
    "print_content_and_top_words(hero_text, 'text', 615)"
   ]
  },
  {
   "cell_type": "code",
   "execution_count": 25,
   "id": "9964a63f",
   "metadata": {
    "execution": {
     "iopub.execute_input": "2022-02-18T11:44:43.373638Z",
     "iopub.status.busy": "2022-02-18T11:44:43.372517Z",
     "iopub.status.idle": "2022-02-18T11:44:43.401475Z",
     "shell.execute_reply": "2022-02-18T11:44:43.400612Z",
     "shell.execute_reply.started": "2022-02-18T09:57:14.012653Z"
    },
    "papermill": {
     "duration": 0.102151,
     "end_time": "2022-02-18T11:44:43.401673",
     "exception": false,
     "start_time": "2022-02-18T11:44:43.299522",
     "status": "completed"
    },
    "tags": []
   },
   "outputs": [
    {
     "name": "stdout",
     "output_type": "stream",
     "text": [
      "NA Barbara is very intellegent she is one of the smartest dc characters . She is also a very good fighter and has many gadgetsand weapons.\n"
     ]
    },
    {
     "data": {
      "text/html": [
       "<div>\n",
       "<style scoped>\n",
       "    .dataframe tbody tr th:only-of-type {\n",
       "        vertical-align: middle;\n",
       "    }\n",
       "\n",
       "    .dataframe tbody tr th {\n",
       "        vertical-align: top;\n",
       "    }\n",
       "\n",
       "    .dataframe thead th {\n",
       "        text-align: right;\n",
       "    }\n",
       "</style>\n",
       "<table border=\"1\" class=\"dataframe\">\n",
       "  <thead>\n",
       "    <tr style=\"text-align: right;\">\n",
       "      <th></th>\n",
       "      <th>token</th>\n",
       "      <th>similar_score</th>\n",
       "    </tr>\n",
       "  </thead>\n",
       "  <tbody>\n",
       "    <tr>\n",
       "      <th>19</th>\n",
       "      <td>good</td>\n",
       "      <td>0.594249</td>\n",
       "    </tr>\n",
       "    <tr>\n",
       "      <th>3</th>\n",
       "      <td>very</td>\n",
       "      <td>0.587075</td>\n",
       "    </tr>\n",
       "    <tr>\n",
       "      <th>18</th>\n",
       "      <td>very</td>\n",
       "      <td>0.587075</td>\n",
       "    </tr>\n",
       "    <tr>\n",
       "      <th>7</th>\n",
       "      <td>one</td>\n",
       "      <td>0.455783</td>\n",
       "    </tr>\n",
       "    <tr>\n",
       "      <th>17</th>\n",
       "      <td>a</td>\n",
       "      <td>0.411081</td>\n",
       "    </tr>\n",
       "    <tr>\n",
       "      <th>15</th>\n",
       "      <td>is</td>\n",
       "      <td>0.399207</td>\n",
       "    </tr>\n",
       "    <tr>\n",
       "      <th>2</th>\n",
       "      <td>is</td>\n",
       "      <td>0.399207</td>\n",
       "    </tr>\n",
       "    <tr>\n",
       "      <th>6</th>\n",
       "      <td>is</td>\n",
       "      <td>0.399207</td>\n",
       "    </tr>\n",
       "    <tr>\n",
       "      <th>13</th>\n",
       "      <td>.</td>\n",
       "      <td>0.391355</td>\n",
       "    </tr>\n",
       "    <tr>\n",
       "      <th>25</th>\n",
       "      <td>.</td>\n",
       "      <td>0.391355</td>\n",
       "    </tr>\n",
       "  </tbody>\n",
       "</table>\n",
       "</div>"
      ],
      "text/plain": [
       "   token  similar_score\n",
       "19  good       0.594249\n",
       "3   very       0.587075\n",
       "18  very       0.587075\n",
       "7    one       0.455783\n",
       "17     a       0.411081\n",
       "15    is       0.399207\n",
       "2     is       0.399207\n",
       "6     is       0.399207\n",
       "13     .       0.391355\n",
       "25     .       0.391355"
      ]
     },
     "metadata": {},
     "output_type": "display_data"
    }
   ],
   "source": [
    "print_content_and_top_words(hero_text, 'text', 126)"
   ]
  },
  {
   "cell_type": "markdown",
   "id": "4ec3b235",
   "metadata": {
    "papermill": {
     "duration": 0.070434,
     "end_time": "2022-02-18T11:44:43.543507",
     "exception": false,
     "start_time": "2022-02-18T11:44:43.473073",
     "status": "completed"
    },
    "tags": []
   },
   "source": [
    "The second placed Hulk (Stark Gauntlet) (MCU) and third placed Batgirl (New 52) fare worse. Both descriptions are extremely short, but with some common words which have fairly high similarity scores with \"cool\" like \"it\", \"everyone\", \"good\" and \"very\", they are ranked high in \"cool score\". It is not convincing, and indicates that the current approach of getting centroid vector to represent a text in it's raw state is discriminating against long descriptions. A long text may say about ten things about a superhero, while it may have some good words on coolness, but the talk of other nine things dilutes so much that the whole text gets a low similarity score. A better approach may be to clean the text first and suppress the weighing of words that are common across documents by means like TF-IDF. In creating TF-IDF weighted word embeddings, I adopt the codes of [John Cardente](http://dsgeek.com/2018/02/19/tfidf_vectors.html)."
   ]
  },
  {
   "cell_type": "code",
   "execution_count": 26,
   "id": "2828afc5",
   "metadata": {
    "execution": {
     "iopub.execute_input": "2022-02-18T11:44:43.691443Z",
     "iopub.status.busy": "2022-02-18T11:44:43.686378Z",
     "iopub.status.idle": "2022-02-18T11:48:41.250589Z",
     "shell.execute_reply": "2022-02-18T11:48:41.251356Z",
     "shell.execute_reply.started": "2022-02-18T09:57:14.051441Z"
    },
    "papermill": {
     "duration": 237.638586,
     "end_time": "2022-02-18T11:48:41.251871",
     "exception": false,
     "start_time": "2022-02-18T11:44:43.613285",
     "status": "completed"
    },
    "tags": []
   },
   "outputs": [],
   "source": [
    "def keep_token(t):\n",
    "    '''filter out spaces, punctuation marks, stop words and numbers'''\n",
    "    return (t.is_alpha and \n",
    "            not (t.is_space or t.is_punct or \n",
    "                 t.is_stop or t.like_num))\n",
    "\n",
    "def lemmatize_doc(doc):\n",
    "    '''lemmatize the words'''\n",
    "    return [ t.lemma_ for t in doc if keep_token(t)]\n",
    "\n",
    "docs = [lemmatize_doc(nlp(doc)) for doc in hero_text.text]  #create the list of all cleaned text"
   ]
  },
  {
   "cell_type": "code",
   "execution_count": 27,
   "id": "dc3eb747",
   "metadata": {
    "execution": {
     "iopub.execute_input": "2022-02-18T11:48:41.405879Z",
     "iopub.status.busy": "2022-02-18T11:48:41.405144Z",
     "iopub.status.idle": "2022-02-18T11:48:42.508660Z",
     "shell.execute_reply": "2022-02-18T11:48:42.507634Z",
     "shell.execute_reply.started": "2022-02-18T10:01:25.128683Z"
    },
    "papermill": {
     "duration": 1.181696,
     "end_time": "2022-02-18T11:48:42.508813",
     "exception": false,
     "start_time": "2022-02-18T11:48:41.327117",
     "status": "completed"
    },
    "tags": []
   },
   "outputs": [],
   "source": [
    "from gensim.corpora import Dictionary\n",
    "from gensim.models.tfidfmodel import TfidfModel\n",
    "from gensim.matutils import sparse2full\n",
    "\n",
    "docs_dict = Dictionary(docs)  #create a mapping between words and their integer ids.\n",
    "docs_dict.filter_extremes(no_below=1, no_above=0.2) #filters common words that appear in more than 20% of documents\n",
    "docs_dict.compactify()"
   ]
  },
  {
   "cell_type": "code",
   "execution_count": 28,
   "id": "0bc1ff45",
   "metadata": {
    "execution": {
     "iopub.execute_input": "2022-02-18T11:48:42.651039Z",
     "iopub.status.busy": "2022-02-18T11:48:42.649031Z",
     "iopub.status.idle": "2022-02-18T11:51:15.497555Z",
     "shell.execute_reply": "2022-02-18T11:51:15.498501Z",
     "shell.execute_reply.started": "2022-02-18T10:01:26.289515Z"
    },
    "papermill": {
     "duration": 152.921069,
     "end_time": "2022-02-18T11:51:15.498850",
     "exception": false,
     "start_time": "2022-02-18T11:48:42.577781",
     "status": "completed"
    },
    "tags": []
   },
   "outputs": [],
   "source": [
    "docs_corpus = [docs_dict.doc2bow(doc) for doc in docs]\n",
    "model_tfidf = TfidfModel(docs_corpus, id2word=docs_dict, smartirs='bfu') #create a bag-of-words representation of each document, , and \n",
    "docs_tfidf  = model_tfidf[docs_corpus] #build the TF-IDF model\n",
    "docs_vecs   = np.vstack([sparse2full(c, len(docs_dict)) for c in docs_tfidf]) #compute the TF-IDF vector for each document\n",
    "tfidf_emb_vecs = np.vstack([nlp(docs_dict[i]).vector for i in range(len(docs_dict))]) #get the word embedding vector for each TF-IDF term\n",
    "docs_emb = np.dot(docs_vecs, tfidf_emb_vecs)  #get the TF-IDF weighted word embedding vector summary of each document"
   ]
  },
  {
   "cell_type": "markdown",
   "id": "562ec08b",
   "metadata": {
    "papermill": {
     "duration": 0.069488,
     "end_time": "2022-02-18T11:51:15.690926",
     "exception": false,
     "start_time": "2022-02-18T11:51:15.621438",
     "status": "completed"
    },
    "tags": []
   },
   "source": [
    "Then we use the TF-IDF weighted document embedding vectors to calculate cosine similarity scores for a second attempt of coolness ranking."
   ]
  },
  {
   "cell_type": "code",
   "execution_count": 29,
   "id": "a03b5d22",
   "metadata": {
    "execution": {
     "iopub.execute_input": "2022-02-18T11:51:15.838348Z",
     "iopub.status.busy": "2022-02-18T11:51:15.837604Z",
     "iopub.status.idle": "2022-02-18T11:51:23.247085Z",
     "shell.execute_reply": "2022-02-18T11:51:23.247565Z",
     "shell.execute_reply.started": "2022-02-18T10:04:19.725041Z"
    },
    "papermill": {
     "duration": 7.486612,
     "end_time": "2022-02-18T11:51:23.247743",
     "exception": false,
     "start_time": "2022-02-18T11:51:15.761131",
     "status": "completed"
    },
    "tags": []
   },
   "outputs": [
    {
     "name": "stderr",
     "output_type": "stream",
     "text": [
      "/opt/conda/lib/python3.7/site-packages/ipykernel_launcher.py:2: RuntimeWarning: invalid value encountered in float_scalars\n",
      "  \n",
      "/opt/conda/lib/python3.7/site-packages/ipykernel_launcher.py:2: SettingWithCopyWarning: \n",
      "A value is trying to be set on a copy of a slice from a DataFrame.\n",
      "Try using .loc[row_indexer,col_indexer] = value instead\n",
      "\n",
      "See the caveats in the documentation: https://pandas.pydata.org/pandas-docs/stable/user_guide/indexing.html#returning-a-view-versus-a-copy\n",
      "  \n"
     ]
    },
    {
     "data": {
      "text/html": [
       "<div>\n",
       "<style scoped>\n",
       "    .dataframe tbody tr th:only-of-type {\n",
       "        vertical-align: middle;\n",
       "    }\n",
       "\n",
       "    .dataframe tbody tr th {\n",
       "        vertical-align: top;\n",
       "    }\n",
       "\n",
       "    .dataframe thead th {\n",
       "        text-align: right;\n",
       "    }\n",
       "</style>\n",
       "<table border=\"1\" class=\"dataframe\">\n",
       "  <thead>\n",
       "    <tr style=\"text-align: right;\">\n",
       "      <th></th>\n",
       "      <th>name</th>\n",
       "      <th>text</th>\n",
       "      <th>cool_score</th>\n",
       "      <th>cool_score2</th>\n",
       "    </tr>\n",
       "  </thead>\n",
       "  <tbody>\n",
       "    <tr>\n",
       "      <th>1071</th>\n",
       "      <td>Red Mist</td>\n",
       "      <td>The Red Mist was another teenager following th...</td>\n",
       "      <td>0.592707</td>\n",
       "      <td>0.637795</td>\n",
       "    </tr>\n",
       "    <tr>\n",
       "      <th>758</th>\n",
       "      <td>Kool-Aid Man</td>\n",
       "      <td>Before he was officially the Kool-Aid Man in 1...</td>\n",
       "      <td>0.589922</td>\n",
       "      <td>0.620743</td>\n",
       "    </tr>\n",
       "    <tr>\n",
       "      <th>627</th>\n",
       "      <td>Iceman (FOX)</td>\n",
       "      <td>Bobby lived with his mother, father and younge...</td>\n",
       "      <td>0.578471</td>\n",
       "      <td>0.613987</td>\n",
       "    </tr>\n",
       "    <tr>\n",
       "      <th>504</th>\n",
       "      <td>Garmadon (The Lego Ninjago Movie)</td>\n",
       "      <td>At some point, Garmadon met Koko in a battle, ...</td>\n",
       "      <td>0.559985</td>\n",
       "      <td>0.612198</td>\n",
       "    </tr>\n",
       "    <tr>\n",
       "      <th>713</th>\n",
       "      <td>Kai (The LEGO Ninjago Movie)</td>\n",
       "      <td>Kai's attitude is more serious, like Cole in t...</td>\n",
       "      <td>0.581369</td>\n",
       "      <td>0.590670</td>\n",
       "    </tr>\n",
       "    <tr>\n",
       "      <th>733</th>\n",
       "      <td>Kick-Ass</td>\n",
       "      <td>Dave Lizewski lead a typical high school life....</td>\n",
       "      <td>0.563058</td>\n",
       "      <td>0.590288</td>\n",
       "    </tr>\n",
       "    <tr>\n",
       "      <th>812</th>\n",
       "      <td>Lloyd (The LEGO Ninjago Movie)</td>\n",
       "      <td>Lloyd was born to Lord Garmadon and Koko, some...</td>\n",
       "      <td>0.566117</td>\n",
       "      <td>0.589230</td>\n",
       "    </tr>\n",
       "    <tr>\n",
       "      <th>600</th>\n",
       "      <td>Hit-Girl</td>\n",
       "      <td>Hit-Girl (she has not yet been called by anoth...</td>\n",
       "      <td>0.543267</td>\n",
       "      <td>0.585460</td>\n",
       "    </tr>\n",
       "    <tr>\n",
       "      <th>531</th>\n",
       "      <td>GPL</td>\n",
       "      <td>The IT Guys had the idea of making the Garma M...</td>\n",
       "      <td>0.554245</td>\n",
       "      <td>0.583137</td>\n",
       "    </tr>\n",
       "    <tr>\n",
       "      <th>659</th>\n",
       "      <td>Jack Frost</td>\n",
       "      <td>Before Jack Frost became an immortal being who...</td>\n",
       "      <td>0.556214</td>\n",
       "      <td>0.582539</td>\n",
       "    </tr>\n",
       "  </tbody>\n",
       "</table>\n",
       "</div>"
      ],
      "text/plain": [
       "                                   name  \\\n",
       "1071                           Red Mist   \n",
       "758                        Kool-Aid Man   \n",
       "627                        Iceman (FOX)   \n",
       "504   Garmadon (The Lego Ninjago Movie)   \n",
       "713        Kai (The LEGO Ninjago Movie)   \n",
       "733                            Kick-Ass   \n",
       "812      Lloyd (The LEGO Ninjago Movie)   \n",
       "600                            Hit-Girl   \n",
       "531                                 GPL   \n",
       "659                          Jack Frost   \n",
       "\n",
       "                                                   text  cool_score  \\\n",
       "1071  The Red Mist was another teenager following th...    0.592707   \n",
       "758   Before he was officially the Kool-Aid Man in 1...    0.589922   \n",
       "627   Bobby lived with his mother, father and younge...    0.578471   \n",
       "504   At some point, Garmadon met Koko in a battle, ...    0.559985   \n",
       "713   Kai's attitude is more serious, like Cole in t...    0.581369   \n",
       "733   Dave Lizewski lead a typical high school life....    0.563058   \n",
       "812   Lloyd was born to Lord Garmadon and Koko, some...    0.566117   \n",
       "600   Hit-Girl (she has not yet been called by anoth...    0.543267   \n",
       "531   The IT Guys had the idea of making the Garma M...    0.554245   \n",
       "659   Before Jack Frost became an immortal being who...    0.556214   \n",
       "\n",
       "      cool_score2  \n",
       "1071     0.637795  \n",
       "758      0.620743  \n",
       "627      0.613987  \n",
       "504      0.612198  \n",
       "713      0.590670  \n",
       "733      0.590288  \n",
       "812      0.589230  \n",
       "600      0.585460  \n",
       "531      0.583137  \n",
       "659      0.582539  "
      ]
     },
     "execution_count": 29,
     "metadata": {},
     "output_type": "execute_result"
    }
   ],
   "source": [
    "cool_score2=[cosine_similarity(docs_emb[i], nlp('cool').vector) for i in range(len(docs_emb))]\n",
    "hero_text['cool_score2']=pd.Series(cool_score2)\n",
    "hero_text.sort_values(by='cool_score2', ascending=False).head(10)"
   ]
  },
  {
   "cell_type": "markdown",
   "id": "8e7f0b77",
   "metadata": {
    "papermill": {
     "duration": 0.069726,
     "end_time": "2022-02-18T11:51:23.388526",
     "exception": false,
     "start_time": "2022-02-18T11:51:23.318800",
     "status": "completed"
    },
    "tags": []
   },
   "source": [
    "And I adapt the codes of [Nathan Kelber](https://ithaka.github.io/tdm-notebooks/finding-significant-terms.html) for displaying the top 20 tokens in selected document by their TF-IDF scores, and their cosine similarity score and also their products with respect to a stated text(in this case 'cool') in embedded vector form."
   ]
  },
  {
   "cell_type": "code",
   "execution_count": 30,
   "id": "2001a760",
   "metadata": {
    "execution": {
     "iopub.execute_input": "2022-02-18T11:51:23.537461Z",
     "iopub.status.busy": "2022-02-18T11:51:23.536754Z",
     "iopub.status.idle": "2022-02-18T11:51:23.538503Z",
     "shell.execute_reply": "2022-02-18T11:51:23.538925Z",
     "shell.execute_reply.started": "2022-02-18T10:04:28.192599Z"
    },
    "papermill": {
     "duration": 0.080393,
     "end_time": "2022-02-18T11:51:23.539122",
     "exception": false,
     "start_time": "2022-02-18T11:51:23.458729",
     "status": "completed"
    },
    "tags": []
   },
   "outputs": [],
   "source": [
    "def most_important_terms(index, text_vec):\n",
    "\n",
    "    def Sort(tfidf_tuples):\n",
    "        '''Sort the tuples in the tf-idf scores list, based on the second value in the tuple, the tf-idf score'''\n",
    "        tfidf_tuples.sort(key = lambda x: x[1], reverse=True)\n",
    "        return tfidf_tuples \n",
    "\n",
    "    # List the top twenty tokens in the selected document by their TF-IDF scores\n",
    "    most_significant_terms = Sort(docs_tfidf[index])[:20]\n",
    "\n",
    "    for id, score in most_significant_terms:\n",
    "        cosine_score = cosine_similarity(nlp(docs_dict[id]).vector, text_vec)\n",
    "        print(docs_dict[id].ljust(20), str(score).ljust(20), str(cosine_score).ljust(20), score*cosine_score)\n",
    "        # Display the token, its TF-IDF score, cosine similarity score and their product with stated text in vector"
   ]
  },
  {
   "cell_type": "code",
   "execution_count": null,
   "id": "88b231c1",
   "metadata": {
    "papermill": {
     "duration": 0.06892,
     "end_time": "2022-02-18T11:51:23.678272",
     "exception": false,
     "start_time": "2022-02-18T11:51:23.609352",
     "status": "completed"
    },
    "tags": []
   },
   "outputs": [],
   "source": []
  },
  {
   "cell_type": "code",
   "execution_count": 31,
   "id": "98078cf5",
   "metadata": {
    "execution": {
     "iopub.execute_input": "2022-02-18T11:51:23.824985Z",
     "iopub.status.busy": "2022-02-18T11:51:23.824352Z",
     "iopub.status.idle": "2022-02-18T11:51:23.964292Z",
     "shell.execute_reply": "2022-02-18T11:51:23.963271Z",
     "shell.execute_reply.started": "2022-02-18T10:04:28.202195Z"
    },
    "papermill": {
     "duration": 0.21491,
     "end_time": "2022-02-18T11:51:23.964494",
     "exception": false,
     "start_time": "2022-02-18T11:51:23.749584",
     "status": "completed"
    },
    "tags": []
   },
   "outputs": [
    {
     "name": "stdout",
     "output_type": "stream",
     "text": [
      "fandom               0.06825090388327139  0.24340743           0.016612776990962714\n",
      "cooler               0.05795031348268659  0.5877062            0.034057759002595396\n",
      "Ass                  0.05795031348268659  0.38833052           0.02250387532249801\n",
      "G                    0.05525300595710841  0.13753474           0.007599207675202477\n",
      "heavenly             0.05525300595710841  0.264263             0.014601325337822494\n",
      "Kick                 0.053160811698653394 0.3664973            0.01948329437949256\n",
      "Hit                  0.0514513645196051   0.32628635           0.016787877711424593\n",
      "Dave                 0.0514513645196051   0.31395507           0.016153416676712024\n",
      "Daddy                0.04764972308210179  0.33185068           0.015812592898378115\n",
      "Mist                 0.043507098560481926 0.35724276           0.01554259610170676\n",
      "precise              0.039269285389395725 0.24971089           0.00980596811277287\n",
      "plead                0.0388525055995198   0.012210308          0.0004744010460644262\n",
      "traitor              0.0377029860510313   0.06485032           0.0024450508197866204\n",
      "reluctant            0.035187742526411894 0.1577571            0.00555111633766994\n",
      "Big                  0.034651825155938815 0.437324             0.015154074350792789\n",
      "ready                0.03138610108890858  0.4025739            0.012635225539714946\n",
      "Johnny               0.03120403708794981  0.28991053           0.009046378776893845\n",
      "counter              0.03102544118447464  0.25684443           0.00796871179257277\n",
      "teenager             0.03102544118447464  0.2468721            0.0076593157334356584\n",
      "settle               0.03018018436923599  0.25423875           0.007672972484943272\n"
     ]
    }
   ],
   "source": [
    "most_important_terms(1071, nlp('cool').vector)"
   ]
  },
  {
   "cell_type": "code",
   "execution_count": 32,
   "id": "307052e4",
   "metadata": {
    "execution": {
     "iopub.execute_input": "2022-02-18T11:51:24.115652Z",
     "iopub.status.busy": "2022-02-18T11:51:24.114742Z",
     "iopub.status.idle": "2022-02-18T11:51:24.248580Z",
     "shell.execute_reply": "2022-02-18T11:51:24.248012Z",
     "shell.execute_reply.started": "2022-02-18T10:04:28.376125Z"
    },
    "papermill": {
     "duration": 0.21073,
     "end_time": "2022-02-18T11:51:24.248722",
     "exception": false,
     "start_time": "2022-02-18T11:51:24.037992",
     "status": "completed"
    },
    "tags": []
   },
   "outputs": [
    {
     "data": {
      "text/plain": [
       "'Before he was officially the Kool-Aid Man in 1975, he was the “Pitcher Man”. The Pitcher Man was created in 1954 by Marvin Plotts, an art director for a New York-based advertising agency. General Foods had just purchased Kool-Aid from the drink’s creator Edwin Perkins the year before, and Plotts was charged with drafting a concept to illustrate the copy message: “A 5-cent package makes two quarts. \" Working from his Chicago home on a cold day, Potts watched as his young son traced smiley face patterns on a frosty windowpane,\" recounts Sue Uerling, marketing and communications director for Hastings Museum of Natural and Cultural History. This inspired Marvin Plotts to create a beaming glass pitcher filled with flavorful drink: the Pitcher Man. From there on the joyful pitcher was on all the Kool-Aid’s advertisements. the voice of the man is John Fickley. In 1975 Kraft Foods created the character’s first costume with arms and legs. He also became more of an action figure in commercials — performing extreme sports and busting through brick walls. Kool-Aid Man is famously known for shouting, “Oh, Yeah!” as he is summoned by thirsty children with the phrase, \"Hey, Kool-Aid!\". Commercials of the era also featured a catchy jingle, always ending with the Kool-Aid Man\\'s phrase. Starting in the late 1980s, the character was given dialogue, and his mouth would be digitally manipulated to \"move\" while the voice actor talked. Sometime in the 1990s, the live-action character was retired; from that point until 2008, the character became entirely computer-generated (although other characters -- such as the kids -- remained live-action). In 2000, a new series of commercials were created for Kool-Aid Fierce and the actor chosen to play Kool-Aid Man was Jon Carr. The most recent Kool-Aid commercials feature a new and different live-action Kool-Aid Man playing street basketball and battling \"Cola\" to stay balanced on a log. NA'"
      ]
     },
     "metadata": {},
     "output_type": "display_data"
    },
    {
     "name": "stdout",
     "output_type": "stream",
     "text": [
      "Aid                  0.060925765262218344 0.16466914           0.010032593441059392\n",
      "Cola                 0.060925765262218344 0.2699041            0.016444114257580338\n",
      "Cultural             0.060925765262218344 0.18840528           0.011478735579823861\n",
      "Fickley              0.060925765262218344 nan                  nan\n",
      "Fierce               0.060925765262218344 0.32453394           0.019772478609166155\n",
      "Foods                0.060925765262218344 0.23441777           0.014282081804875143\n",
      "Kool                 0.060925765262218344 0.5290418            0.03223227814894292\n",
      "Kraft                0.060925765262218344 0.1179654            0.007187132282804218\n",
      "Perkins              0.060925765262218344 0.0036381646         0.0002216579627671374\n",
      "Pitcher              0.060925765262218344 0.165058             0.0100562850769405\n",
      "Plotts               0.060925765262218344 nan                  nan\n",
      "Uerling              0.060925765262218344 nan                  nan\n",
      "catchy               0.060925765262218344 0.43455964           0.026475878818215164\n",
      "cent                 0.060925765262218344 0.10096641           0.0061514557248888695\n",
      "digitally            0.060925765262218344 0.20155698           0.012280013287599884\n",
      "flavorful            0.060925765262218344 0.27976936           0.017045162417012608\n",
      "frosty               0.060925765262218344 0.40035927           0.02439219508472133\n",
      "hey                  0.060925765262218344 0.5575973            0.033972040964632286\n",
      "jingle               0.060925765262218344 0.1923118            0.011716743191943085\n",
      "quart                0.060925765262218344 0.13289556           0.008096763636442073\n"
     ]
    },
    {
     "name": "stderr",
     "output_type": "stream",
     "text": [
      "/opt/conda/lib/python3.7/site-packages/ipykernel_launcher.py:2: RuntimeWarning: invalid value encountered in float_scalars\n",
      "  \n"
     ]
    }
   ],
   "source": [
    "display(hero_text.text[758])\n",
    "most_important_terms(758, nlp('cool').vector)"
   ]
  },
  {
   "cell_type": "code",
   "execution_count": 33,
   "id": "1037d80c",
   "metadata": {
    "execution": {
     "iopub.execute_input": "2022-02-18T11:51:24.403448Z",
     "iopub.status.busy": "2022-02-18T11:51:24.402623Z",
     "iopub.status.idle": "2022-02-18T11:51:24.543514Z",
     "shell.execute_reply": "2022-02-18T11:51:24.542877Z",
     "shell.execute_reply.started": "2022-02-18T10:04:28.540471Z"
    },
    "papermill": {
     "duration": 0.2206,
     "end_time": "2022-02-18T11:51:24.543656",
     "exception": false,
     "start_time": "2022-02-18T11:51:24.323056",
     "status": "completed"
    },
    "tags": []
   },
   "outputs": [
    {
     "data": {
      "text/plain": [
       "\"Bobby lived with his mother, father and younger brother, eventually he began to display mutant abilities but he kept it from them out of fear. He convinced his parents to send him to a fancy prep school but in reality he went to Xavier's School for Gifted Youngsters. He felt like he belonged and became good friends with Pyro. Iceman possesses the ability to manipulate and generate both cold and ice from his body. He used this ability to freeze various things as well as project ice from his hands. The ice he generates is can be brittle like glass or hard like stone. He can also shoot freezing cold, coolant-like gas or aura from his body that can cause ice to form on whatever it comes into contact with it. With his power over cold, he can reduce temperature to freezing points, to the point where he could turn a ball of fire Pyro created into a ball of brittle\""
      ]
     },
     "metadata": {},
     "output_type": "display_data"
    },
    {
     "name": "stdout",
     "output_type": "stream",
     "text": [
      "prep                 0.06836197412849053  0.21300067           0.014561146297046775\n",
      "brittle              0.061852448897346264 0.22051059           0.013639119819692418\n",
      "coolant              0.058044620739628655 0.2370694            0.013760603305444881\n",
      "fancy                0.055342923666202    0.488408             0.02702992662195581\n",
      "Pyro                 0.04883339843505775  0.19866158           0.009701320123172751\n",
      "Bobby                0.04121774211962252  0.24790552           0.01021810589993529\n",
      "Iceman               0.038915733440893115 0.12840138           0.004996834023752244\n",
      "Youngsters           0.038915733440893115 0.20826104           0.008104631229024226\n",
      "Gifted               0.038516045046195865 0.23666036           0.009115221136093782\n",
      "aura                 0.034708216888478256 0.28318304           0.009828778310188569\n",
      "belong               0.03395651502806086  0.1987843            0.006750022295946958\n",
      "ball                 0.03371874891648573  0.27767512           0.009362857719835556\n",
      "glass                0.033039566796888395 0.35466152           0.011717863122257567\n",
      "School               0.03090038873076065  0.28062537           0.00867143311727961\n",
      "gas                  0.030728067202980793 0.26323706           0.008088766042842647\n",
      "ice                  0.030728067202980793 0.41151524           0.012645067823812702\n",
      "stone                0.030558850737146735 0.2639111            0.008064819859047818\n",
      "reduce               0.02915921889835071  0.18694349           0.005451126039601672\n",
      "cold                 0.02846325168086325  0.5644185            0.016065185668019517\n",
      "freeze               0.028069154986104655 0.339266             0.009522909996655794\n"
     ]
    }
   ],
   "source": [
    "display(hero_text.text[627])\n",
    "most_important_terms(627, nlp('cool').vector)"
   ]
  },
  {
   "cell_type": "code",
   "execution_count": 34,
   "id": "b7088863",
   "metadata": {
    "execution": {
     "iopub.execute_input": "2022-02-18T11:51:24.697368Z",
     "iopub.status.busy": "2022-02-18T11:51:24.696690Z",
     "iopub.status.idle": "2022-02-18T11:51:24.851572Z",
     "shell.execute_reply": "2022-02-18T11:51:24.850926Z",
     "shell.execute_reply.started": "2022-02-18T10:04:28.701380Z"
    },
    "papermill": {
     "duration": 0.234079,
     "end_time": "2022-02-18T11:51:24.851710",
     "exception": false,
     "start_time": "2022-02-18T11:51:24.617631",
     "status": "completed"
    },
    "tags": []
   },
   "outputs": [
    {
     "data": {
      "text/plain": [
       "\"Before Jack Frost became an immortal being who possessed the power over ice and snow, Jack was once a teenage human boy who had a family of his own 300 years before the current timeline. Like his current form, Jack was mischievous, liked to have fun and play tricks on his friends and his younger sister. When Jack and his sister got themselves in trouble while they were ice skating on thin ice, Jack made up a game of Hopscotch, and using his staff, Jack saved his sister from the cracking ice, at the cost of his own life.   The Man in the Moon, seeing Jack's selfless act of heroism and sacrifice, shines his light and transforms Jack into a Winter Spirit, of which Jack rises up from the frozen pond and he is reborn as Jack Frost. When Jack Frost was reborn he lost all memory of his previous life and immediately began his adventures of fun and mischief, discovering his powers. The Man in the Moon only ever told him his name, and he quickly discovers no one can see him when he enters a village and is walked through for the first time. NA\""
      ]
     },
     "metadata": {},
     "output_type": "display_data"
    },
    {
     "name": "stdout",
     "output_type": "stream",
     "text": [
      "Hopscotch            0.06770092283048533  0.04172384           0.0028247424678774285\n",
      "skating              0.06770092283048533  0.31288695           0.02118273548367682\n",
      "mischievous          0.061254343852112494 0.19329643           0.01184024614144256\n",
      "selfless             0.061254343852112494 0.1211248            0.007419419938075981\n",
      "mischief             0.05480776487373965  0.1570234            0.008606101590617614\n",
      "pond                 0.05273242998469117  0.31095636           0.016397484424495345\n",
      "shine                0.04836118589536682  0.34952822           0.016903599381534604\n",
      "Spirit               0.0445901789350814   0.3223436            0.014373358261938715\n",
      "snow                 0.042514844046032924 0.41986823           0.01785063235318339\n",
      "heroism              0.04135077080320078  0.052609086          0.002175426258868713\n",
      "Winter               0.040819171974795995 0.43268427           0.01766181373109747\n",
      "thin                 0.039385501666459016 0.3721801            0.014658500116384829\n",
      "frozen               0.039385501666459016 0.28082412           0.011060399035807451\n",
      "fun                  0.03895284470228698  0.64870876           0.025269051614054877\n",
      "crack                0.03776393713889701  0.25471976           0.00961922115551229\n",
      "reborn               0.03670992964837159  0.18735288           0.006877711074892167\n",
      "teenage              0.0346345947593231   0.24330215           0.008426671423379143\n",
      "Moon                 0.032506265723914136 0.3630811            0.01180241063800846\n",
      "village              0.032297258107374674 0.17512222           0.00565596742159379\n",
      "Jack                 0.03131735816052417  0.24989069           0.007825916085675523\n"
     ]
    }
   ],
   "source": [
    "display(hero_text.text[659])\n",
    "most_important_terms(659, nlp('cool').vector)"
   ]
  },
  {
   "cell_type": "code",
   "execution_count": null,
   "id": "9251903e",
   "metadata": {
    "papermill": {
     "duration": 0.076374,
     "end_time": "2022-02-18T11:51:25.002797",
     "exception": false,
     "start_time": "2022-02-18T11:51:24.926423",
     "status": "completed"
    },
    "tags": []
   },
   "outputs": [],
   "source": []
  },
  {
   "cell_type": "code",
   "execution_count": 35,
   "id": "8912fe99",
   "metadata": {
    "execution": {
     "iopub.execute_input": "2022-02-18T11:51:25.159457Z",
     "iopub.status.busy": "2022-02-18T11:51:25.158344Z",
     "iopub.status.idle": "2022-02-18T11:51:27.265843Z",
     "shell.execute_reply": "2022-02-18T11:51:27.265293Z",
     "shell.execute_reply.started": "2022-02-18T10:04:28.872570Z"
    },
    "papermill": {
     "duration": 2.187762,
     "end_time": "2022-02-18T11:51:27.265991",
     "exception": false,
     "start_time": "2022-02-18T11:51:25.078229",
     "status": "completed"
    },
    "tags": []
   },
   "outputs": [
    {
     "name": "stdout",
     "output_type": "stream",
     "text": [
      "KIng                 0.8024\n",
      "King                 0.8024\n",
      "king                 0.8024\n",
      "KING                 0.8024\n",
      "Queen                0.7881\n",
      "queen                0.7881\n",
      "QUEEN                0.7881\n",
      "PRINCE               0.6401\n",
      "prince               0.6401\n",
      "Prince               0.6401\n"
     ]
    }
   ],
   "source": [
    "king=nlp('king').vector\n",
    "man=nlp('man').vector\n",
    "woman=nlp('woman').vector\n",
    "most_similar_list(king-man+woman, 10)"
   ]
  },
  {
   "cell_type": "code",
   "execution_count": 36,
   "id": "ce4711be",
   "metadata": {
    "execution": {
     "iopub.execute_input": "2022-02-18T11:51:27.422818Z",
     "iopub.status.busy": "2022-02-18T11:51:27.422169Z",
     "iopub.status.idle": "2022-02-18T11:51:29.034832Z",
     "shell.execute_reply": "2022-02-18T11:51:29.036070Z",
     "shell.execute_reply.started": "2022-02-18T10:04:30.957241Z"
    },
    "papermill": {
     "duration": 1.695028,
     "end_time": "2022-02-18T11:51:29.036311",
     "exception": false,
     "start_time": "2022-02-18T11:51:27.341283",
     "status": "completed"
    },
    "tags": []
   },
   "outputs": [
    {
     "name": "stdout",
     "output_type": "stream",
     "text": [
      "Germany              0.8028\n",
      "GERMANY              0.8028\n",
      "germany              0.8028\n",
      "BERLIN               0.7547\n",
      "Berlin               0.7547\n",
      "berlin               0.7547\n",
      "paris                0.6961\n",
      "PARIS                0.6961\n",
      "Paris                0.6961\n",
      "FRANKFURT            0.6708\n"
     ]
    }
   ],
   "source": [
    "paris=nlp('paris').vector\n",
    "france=nlp('france').vector\n",
    "germany=nlp('Germany').vector\n",
    "most_similar_list(paris-france+germany, 10)"
   ]
  },
  {
   "cell_type": "code",
   "execution_count": 37,
   "id": "e6f992a4",
   "metadata": {
    "execution": {
     "iopub.execute_input": "2022-02-18T11:51:29.190373Z",
     "iopub.status.busy": "2022-02-18T11:51:29.189716Z",
     "iopub.status.idle": "2022-02-18T11:51:30.821161Z",
     "shell.execute_reply": "2022-02-18T11:51:30.821901Z",
     "shell.execute_reply.started": "2022-02-18T10:04:32.593401Z"
    },
    "papermill": {
     "duration": 1.709721,
     "end_time": "2022-02-18T11:51:30.822188",
     "exception": false,
     "start_time": "2022-02-18T11:51:29.112467",
     "status": "completed"
    },
    "tags": []
   },
   "outputs": [
    {
     "name": "stdout",
     "output_type": "stream",
     "text": [
      "Kewl                 0.4408\n",
      "KEWL                 0.4408\n",
      "kewl                 0.4408\n",
      "AWESOME              0.4206\n",
      "AWEsome              0.4206\n",
      "awesome              0.4206\n",
      "Awesome              0.4206\n",
      "AWesome              0.4206\n",
      "AWSOME               0.3894\n",
      "Awsome               0.3894\n",
      "awsome               0.3894\n",
      "coool                0.3781\n",
      "COOOL                0.3781\n",
      "Coool                0.3781\n",
      "COol                 0.3774\n",
      "CooL                 0.3774\n",
      "cool                 0.3774\n",
      "COOL                 0.3774\n",
      "Cool                 0.3774\n",
      "COOLEST              0.3764\n",
      "Coolest              0.3764\n",
      "coolest              0.3764\n",
      "THx                  0.3624\n",
      "Thx                  0.3624\n",
      "THX                  0.3624\n",
      "thx                  0.3624\n",
      "KickAss              0.3532\n",
      "KICKASS              0.3532\n",
      "Kickass              0.3532\n",
      "kickass              0.3532\n",
      "Groovy               0.3474\n",
      "groovy               0.3474\n",
      "GROOVY               0.3474\n",
      "^_^                  0.3438\n",
      "AVATAR               0.343\n",
      "avatar               0.343\n",
      "Avatar               0.343\n",
      "snazzy               0.343\n",
      "Snazzy               0.343\n",
      "SNAZZY               0.343\n",
      "viD                  0.3382\n",
      "VID                  0.3382\n",
      "Vid                  0.3382\n",
      "vid                  0.3382\n",
      "Thnx                 0.3351\n",
      "THNX                 0.3351\n",
      "thnx                 0.3351\n",
      "Avatars              0.3268\n",
      "AVATARS              0.3268\n",
      "avatars              0.3268\n"
     ]
    }
   ],
   "source": [
    "cool=nlp('cool').vector\n",
    "cold=nlp('cold').vector\n",
    "most_similar_list(cool-cold, 50)"
   ]
  },
  {
   "cell_type": "code",
   "execution_count": 38,
   "id": "480fe7a5",
   "metadata": {
    "execution": {
     "iopub.execute_input": "2022-02-18T11:51:31.184918Z",
     "iopub.status.busy": "2022-02-18T11:51:31.184246Z",
     "iopub.status.idle": "2022-02-18T11:51:32.577992Z",
     "shell.execute_reply": "2022-02-18T11:51:32.577218Z",
     "shell.execute_reply.started": "2022-02-18T10:04:34.232865Z"
    },
    "papermill": {
     "duration": 1.680641,
     "end_time": "2022-02-18T11:51:32.578224",
     "exception": false,
     "start_time": "2022-02-18T11:51:30.897583",
     "status": "completed"
    },
    "tags": []
   },
   "outputs": [
    {
     "name": "stdout",
     "output_type": "stream",
     "text": [
      "CooL                 0.8318\n",
      "COol                 0.8318\n",
      "cool                 0.8318\n",
      "COOL                 0.8318\n",
      "Cool                 0.8318\n",
      "AWEsome              0.7133\n",
      "awesome              0.7133\n",
      "AWesome              0.7133\n",
      "Awesome              0.7133\n",
      "AWESOME              0.7133\n",
      "NICE                 0.6181\n",
      "nice                 0.6181\n",
      "Nice                 0.6181\n",
      "nICE                 0.6181\n",
      "NIce                 0.6181\n",
      "AWSOME               0.6085\n",
      "awsome               0.6085\n",
      "Awsome               0.6085\n",
      "Kewl                 0.5965\n",
      "kewl                 0.5965\n",
      "KEWL                 0.5965\n",
      "coolest              0.5941\n",
      "COOLEST              0.5941\n",
      "Coolest              0.5941\n",
      "fun                  0.5787\n",
      "FUN                  0.5787\n",
      "Fun                  0.5787\n",
      "Amazing              0.5775\n",
      "AMAZING              0.5775\n",
      "AMazing              0.5775\n",
      "amaZing              0.5775\n",
      "amazing              0.5775\n",
      "neat                 0.5757\n",
      "Neat                 0.5757\n",
      "NEAT                 0.5757\n",
      "CUTE                 0.5597\n",
      "CuTe                 0.5597\n",
      "Cute                 0.5597\n",
      "cute                 0.5597\n",
      "funny                0.5377\n",
      "FUNNY                0.5377\n",
      "FUnny                0.5377\n",
      "Funny                0.5377\n",
      ":)                   0.5372\n",
      "lOL                  0.5338\n",
      "lOl                  0.5338\n",
      "loL                  0.5338\n",
      "LOL                  0.5338\n",
      "LOl                  0.5338\n",
      "lol                  0.5338\n"
     ]
    }
   ],
   "source": [
    "most_similar_list(cool*2-cold, 50)"
   ]
  },
  {
   "cell_type": "markdown",
   "id": "acdcfe39",
   "metadata": {
    "papermill": {
     "duration": 0.075409,
     "end_time": "2022-02-18T11:51:32.730296",
     "exception": false,
     "start_time": "2022-02-18T11:51:32.654887",
     "status": "completed"
    },
    "tags": []
   },
   "source": [
    "ten characteristics associated with cool: “Authentic,\" “Inspiring,\" “Creative,\" “Attractive,\" “Edgy,\" “Rebellious,\" “Surprising,\" “Mysterious,\" “Unique,\" and “Takes Risks.\"\n",
    "\n",
    "from [A Breakthrough In Measuring Cool](https://www.forbes.com/sites/onmarketing/2013/03/07/a-breakthrough-in-measuring-cool/?sh=38b8b0d6a36c)"
   ]
  },
  {
   "cell_type": "code",
   "execution_count": 39,
   "id": "54dc365b",
   "metadata": {
    "execution": {
     "iopub.execute_input": "2022-02-18T11:51:32.890294Z",
     "iopub.status.busy": "2022-02-18T11:51:32.889195Z",
     "iopub.status.idle": "2022-02-18T11:51:34.543508Z",
     "shell.execute_reply": "2022-02-18T11:51:34.542815Z",
     "shell.execute_reply.started": "2022-02-18T10:04:35.844975Z"
    },
    "papermill": {
     "duration": 1.736669,
     "end_time": "2022-02-18T11:51:34.543683",
     "exception": false,
     "start_time": "2022-02-18T11:51:32.807014",
     "status": "completed"
    },
    "tags": []
   },
   "outputs": [
    {
     "name": "stdout",
     "output_type": "stream",
     "text": [
      "Cool                 0.7232\n",
      "COOL                 0.7232\n",
      "CooL                 0.7232\n",
      "cool                 0.7232\n",
      "COol                 0.7232\n",
      "Authentic            0.6419\n",
      "AUTHENTIC            0.6419\n",
      "authentic            0.6419\n",
      "AWesome              0.624\n",
      "Awesome              0.624\n",
      "awesome              0.624\n",
      "AWESOME              0.624\n",
      "AWEsome              0.624\n",
      "QUIRKY               0.602\n",
      "Quirky               0.602\n",
      "quirky               0.602\n",
      "Inspired             0.6\n",
      "inspired             0.6\n",
      "INSPIRED             0.6\n",
      "Funky                0.5964\n",
      "FUNKY                0.5964\n",
      "funky                0.5964\n",
      "Classy               0.5933\n",
      "CLASSY               0.5933\n",
      "classy               0.5933\n",
      "EDGY                 0.5839\n",
      "edgy                 0.5839\n",
      "Edgy                 0.5839\n",
      "amaZing              0.5742\n",
      "Amazing              0.5742\n",
      "AMazing              0.5742\n",
      "amazing              0.5742\n",
      "AMAZING              0.5742\n",
      "REBELLIOUS           0.5684\n",
      "Rebellious           0.5684\n",
      "rebellious           0.5684\n",
      "Inspiring            0.5668\n",
      "inspiring            0.5668\n",
      "INSPIRING            0.5668\n",
      "Badass               0.5642\n",
      "badass               0.5642\n",
      "BADASS               0.5642\n",
      "BadAss               0.5642\n",
      "retro                0.5587\n",
      "Retro                0.5587\n",
      "RETRO                0.5587\n",
      "fun                  0.5578\n",
      "Fun                  0.5578\n",
      "FUN                  0.5578\n",
      "CHIC                 0.5566\n",
      "chic                 0.5566\n",
      "Chic                 0.5566\n",
      "COLORFUL             0.5542\n",
      "Colorful             0.5542\n",
      "colorful             0.5542\n",
      "Coolest              0.5515\n",
      "COOLEST              0.5515\n",
      "coolest              0.5515\n",
      "STYLISH              0.5483\n",
      "Stylish              0.5483\n",
      "stylish              0.5483\n",
      "cute                 0.5435\n",
      "CUTE                 0.5435\n",
      "Cute                 0.5435\n",
      "CuTe                 0.5435\n",
      "STYLE                0.542\n",
      "style                0.542\n",
      "Style                0.542\n",
      "Trendy               0.5418\n",
      "TRENDY               0.5418\n",
      "trendy               0.5418\n",
      "look                 0.538\n",
      "Look                 0.538\n",
      "LOOK                 0.538\n",
      "NIce                 0.5378\n",
      "Nice                 0.5378\n",
      "nICE                 0.5378\n",
      "nice                 0.5378\n",
      "NICE                 0.5378\n",
      "KIND                 0.537\n",
      "kind                 0.537\n",
      "Kind                 0.537\n",
      "artsy                0.536\n",
      "ARTSY                0.536\n",
      "Artsy                0.536\n",
      "fabulous             0.5353\n",
      "Fabulous             0.5353\n",
      "FABULOUS             0.5353\n",
      "FABulous             0.5353\n",
      "GROOVY               0.5341\n",
      "groovy               0.5341\n",
      "Groovy               0.5341\n",
      "unique               0.534\n",
      "Unique               0.534\n",
      "UNIQUE               0.534\n",
      "sassy                0.5324\n",
      "Sassy                0.5324\n",
      "SASSY                0.5324\n",
      "Charming             0.531\n",
      "CHARMING             0.531\n"
     ]
    }
   ],
   "source": [
    "cool=nlp('cool').vector\n",
    "cold=nlp('cold').vector\n",
    "authentic=nlp('authentic').vector\n",
    "rebellious=nlp('rebellious').vector\n",
    "cool2=cool*2-cold+authentic+rebellious\n",
    "most_similar_list(cool2, 100)\n"
   ]
  },
  {
   "cell_type": "code",
   "execution_count": 40,
   "id": "b6aa20a5",
   "metadata": {
    "execution": {
     "iopub.execute_input": "2022-02-18T11:51:34.703372Z",
     "iopub.status.busy": "2022-02-18T11:51:34.701733Z",
     "iopub.status.idle": "2022-02-18T11:51:34.729913Z",
     "shell.execute_reply": "2022-02-18T11:51:34.729443Z",
     "shell.execute_reply.started": "2022-02-18T10:04:37.497287Z"
    },
    "papermill": {
     "duration": 0.110045,
     "end_time": "2022-02-18T11:51:34.730067",
     "exception": false,
     "start_time": "2022-02-18T11:51:34.620022",
     "status": "completed"
    },
    "tags": []
   },
   "outputs": [
    {
     "name": "stderr",
     "output_type": "stream",
     "text": [
      "/opt/conda/lib/python3.7/site-packages/ipykernel_launcher.py:2: RuntimeWarning: invalid value encountered in float_scalars\n",
      "  \n",
      "/opt/conda/lib/python3.7/site-packages/ipykernel_launcher.py:2: SettingWithCopyWarning: \n",
      "A value is trying to be set on a copy of a slice from a DataFrame.\n",
      "Try using .loc[row_indexer,col_indexer] = value instead\n",
      "\n",
      "See the caveats in the documentation: https://pandas.pydata.org/pandas-docs/stable/user_guide/indexing.html#returning-a-view-versus-a-copy\n",
      "  \n"
     ]
    },
    {
     "data": {
      "text/html": [
       "<div>\n",
       "<style scoped>\n",
       "    .dataframe tbody tr th:only-of-type {\n",
       "        vertical-align: middle;\n",
       "    }\n",
       "\n",
       "    .dataframe tbody tr th {\n",
       "        vertical-align: top;\n",
       "    }\n",
       "\n",
       "    .dataframe thead th {\n",
       "        text-align: right;\n",
       "    }\n",
       "</style>\n",
       "<table border=\"1\" class=\"dataframe\">\n",
       "  <thead>\n",
       "    <tr style=\"text-align: right;\">\n",
       "      <th></th>\n",
       "      <th>name</th>\n",
       "      <th>text</th>\n",
       "      <th>cool_score</th>\n",
       "      <th>cool_score2</th>\n",
       "      <th>cool_score3</th>\n",
       "    </tr>\n",
       "  </thead>\n",
       "  <tbody>\n",
       "    <tr>\n",
       "      <th>713</th>\n",
       "      <td>Kai (The LEGO Ninjago Movie)</td>\n",
       "      <td>Kai's attitude is more serious, like Cole in t...</td>\n",
       "      <td>0.581369</td>\n",
       "      <td>0.590670</td>\n",
       "      <td>0.628535</td>\n",
       "    </tr>\n",
       "    <tr>\n",
       "      <th>465</th>\n",
       "      <td>Fandral</td>\n",
       "      <td>Fandral the Dashing was a charter member of th...</td>\n",
       "      <td>0.538041</td>\n",
       "      <td>0.510940</td>\n",
       "      <td>0.547591</td>\n",
       "    </tr>\n",
       "    <tr>\n",
       "      <th>758</th>\n",
       "      <td>Kool-Aid Man</td>\n",
       "      <td>Before he was officially the Kool-Aid Man in 1...</td>\n",
       "      <td>0.589922</td>\n",
       "      <td>0.620743</td>\n",
       "      <td>0.542037</td>\n",
       "    </tr>\n",
       "    <tr>\n",
       "      <th>531</th>\n",
       "      <td>GPL</td>\n",
       "      <td>The IT Guys had the idea of making the Garma M...</td>\n",
       "      <td>0.554245</td>\n",
       "      <td>0.583137</td>\n",
       "      <td>0.538518</td>\n",
       "    </tr>\n",
       "    <tr>\n",
       "      <th>812</th>\n",
       "      <td>Lloyd (The LEGO Ninjago Movie)</td>\n",
       "      <td>Lloyd was born to Lord Garmadon and Koko, some...</td>\n",
       "      <td>0.566117</td>\n",
       "      <td>0.589230</td>\n",
       "      <td>0.538517</td>\n",
       "    </tr>\n",
       "    <tr>\n",
       "      <th>746</th>\n",
       "      <td>Killow</td>\n",
       "      <td>Not much was known about Killow's life, but at...</td>\n",
       "      <td>0.546608</td>\n",
       "      <td>0.544484</td>\n",
       "      <td>0.527947</td>\n",
       "    </tr>\n",
       "    <tr>\n",
       "      <th>661</th>\n",
       "      <td>Jack Kirby</td>\n",
       "      <td>Born and raised in the Lower East Side, Jack K...</td>\n",
       "      <td>0.563324</td>\n",
       "      <td>0.522332</td>\n",
       "      <td>0.526997</td>\n",
       "    </tr>\n",
       "    <tr>\n",
       "      <th>813</th>\n",
       "      <td>Lloyd</td>\n",
       "      <td>Lloyd is the son of Lord Garmadon and Misako. ...</td>\n",
       "      <td>0.547368</td>\n",
       "      <td>0.552004</td>\n",
       "      <td>0.526785</td>\n",
       "    </tr>\n",
       "    <tr>\n",
       "      <th>891</th>\n",
       "      <td>Misako</td>\n",
       "      <td>As a young woman, Misako met the sons of the F...</td>\n",
       "      <td>0.538980</td>\n",
       "      <td>0.488616</td>\n",
       "      <td>0.526706</td>\n",
       "    </tr>\n",
       "    <tr>\n",
       "      <th>1071</th>\n",
       "      <td>Red Mist</td>\n",
       "      <td>The Red Mist was another teenager following th...</td>\n",
       "      <td>0.592707</td>\n",
       "      <td>0.637795</td>\n",
       "      <td>0.525131</td>\n",
       "    </tr>\n",
       "  </tbody>\n",
       "</table>\n",
       "</div>"
      ],
      "text/plain": [
       "                                name  \\\n",
       "713     Kai (The LEGO Ninjago Movie)   \n",
       "465                          Fandral   \n",
       "758                     Kool-Aid Man   \n",
       "531                              GPL   \n",
       "812   Lloyd (The LEGO Ninjago Movie)   \n",
       "746                           Killow   \n",
       "661                       Jack Kirby   \n",
       "813                            Lloyd   \n",
       "891                           Misako   \n",
       "1071                        Red Mist   \n",
       "\n",
       "                                                   text  cool_score  \\\n",
       "713   Kai's attitude is more serious, like Cole in t...    0.581369   \n",
       "465   Fandral the Dashing was a charter member of th...    0.538041   \n",
       "758   Before he was officially the Kool-Aid Man in 1...    0.589922   \n",
       "531   The IT Guys had the idea of making the Garma M...    0.554245   \n",
       "812   Lloyd was born to Lord Garmadon and Koko, some...    0.566117   \n",
       "746   Not much was known about Killow's life, but at...    0.546608   \n",
       "661   Born and raised in the Lower East Side, Jack K...    0.563324   \n",
       "813   Lloyd is the son of Lord Garmadon and Misako. ...    0.547368   \n",
       "891   As a young woman, Misako met the sons of the F...    0.538980   \n",
       "1071  The Red Mist was another teenager following th...    0.592707   \n",
       "\n",
       "      cool_score2  cool_score3  \n",
       "713      0.590670     0.628535  \n",
       "465      0.510940     0.547591  \n",
       "758      0.620743     0.542037  \n",
       "531      0.583137     0.538518  \n",
       "812      0.589230     0.538517  \n",
       "746      0.544484     0.527947  \n",
       "661      0.522332     0.526997  \n",
       "813      0.552004     0.526785  \n",
       "891      0.488616     0.526706  \n",
       "1071     0.637795     0.525131  "
      ]
     },
     "execution_count": 40,
     "metadata": {},
     "output_type": "execute_result"
    }
   ],
   "source": [
    "cool_score3=[cosine_similarity(docs_emb[i], cool2) for i in range(len(docs_emb))]\n",
    "hero_text['cool_score3']=pd.Series(cool_score3)\n",
    "hero_text.sort_values(by='cool_score3', ascending=False).head(10)"
   ]
  },
  {
   "cell_type": "code",
   "execution_count": 41,
   "id": "f7347727",
   "metadata": {
    "execution": {
     "iopub.execute_input": "2022-02-18T11:51:34.890542Z",
     "iopub.status.busy": "2022-02-18T11:51:34.889221Z",
     "iopub.status.idle": "2022-02-18T11:51:35.171315Z",
     "shell.execute_reply": "2022-02-18T11:51:35.171781Z",
     "shell.execute_reply.started": "2022-02-18T10:04:37.537118Z"
    },
    "papermill": {
     "duration": 0.364909,
     "end_time": "2022-02-18T11:51:35.171992",
     "exception": false,
     "start_time": "2022-02-18T11:51:34.807083",
     "status": "completed"
    },
    "tags": []
   },
   "outputs": [
    {
     "data": {
      "image/png": "[encoded data removed]",
      "text/plain": [
       "<IPython.core.display.Image object>"
      ]
     },
     "execution_count": 41,
     "metadata": {},
     "output_type": "execute_result"
    }
   ],
   "source": [
    "Kai_img = \"https://www.superherodb.com/gallery2/075/78/7881.webp\"\n",
    "Disp.Image(requests.get(Kai_img).content)"
   ]
  },
  {
   "cell_type": "code",
   "execution_count": 42,
   "id": "43362db3",
   "metadata": {
    "execution": {
     "iopub.execute_input": "2022-02-18T11:51:35.335184Z",
     "iopub.status.busy": "2022-02-18T11:51:35.334262Z",
     "iopub.status.idle": "2022-02-18T11:51:35.463079Z",
     "shell.execute_reply": "2022-02-18T11:51:35.462417Z",
     "shell.execute_reply.started": "2022-02-18T10:04:38.104639Z"
    },
    "papermill": {
     "duration": 0.211662,
     "end_time": "2022-02-18T11:51:35.463219",
     "exception": false,
     "start_time": "2022-02-18T11:51:35.251557",
     "status": "completed"
    },
    "tags": []
   },
   "outputs": [
    {
     "data": {
      "text/plain": [
       "'Kai\\'s attitude is more serious, like Cole in the TV show. Despite this, he is very compassionate and approachable, as he is \"always ready with a hug.\" Much like his own TV show counterpart, Kai is possibly impulsive, enjoys fighting enemies, and is loyal and protective of those he cares about, especially his teammates. Unlike his TV counterpart (beside the alternate face on his figurine), he seems to be curious or perhaps more sassy. He also appears to enjoy describing things with a variety of onomatopoeia. Kai wields a pair of katanas in the trailers, but he may be skillful with other weapons, though these are his favorite weapons. He and the other Ninja have Elemental Powers like their TV show counterparts, allowing him to create and manipulate fire. As seen in the trailers, Kai\\'s vehicle has weapons that are fire-based like the flamethrower in his mech. Like the other Ninja, he is a master builder.'"
      ]
     },
     "metadata": {},
     "output_type": "display_data"
    },
    {
     "name": "stdout",
     "output_type": "stream",
     "text": [
      "approachable         0.06791984816317684  0.41562268           0.02822902941245572\n",
      "onomatopoeia         0.06791984816317684  0.053381793          0.0036256832888879676\n",
      "sassy                0.06791984816317684  0.53244966           0.036163900244126704\n",
      "figurine             0.061452422800610744 0.20427677           0.012553302460095318\n",
      "compassionate        0.05498499743804464  0.28535867           0.015690445594464374\n",
      "impulsive            0.05290295151224754  0.3019842            0.015975855010809458\n",
      "builder              0.05120179612473055  0.15518515           0.007945758315622588\n",
      "flamethrower         0.05120179612473055  0.1464904            0.007500571342560435\n",
      "trailer              0.048517572075478556 0.19864953           0.009637992678114526\n",
      "hug                  0.04741859481141646  0.27284414           0.01293788552033434\n",
      "mech                 0.04329606437597063  0.18362944           0.007950431981140068\n",
      "Cole                 0.04205014671291246  0.19246423           0.008093149211290378\n",
      "curious              0.04148448731512792  0.486289             0.02017344962592503\n",
      "skillful             0.04148448731512792  0.3420161            0.014188362598670397\n",
      "katana               0.04148448731512792  0.13659008           0.005666369377789276\n",
      "Kai                  0.039512863062656535 0.13144463           0.005193753784328693\n",
      "Powers               0.03866404883943462  0.21461444           0.008297863036326633\n",
      "favorite             0.03716796813553627  0.48303902           0.01795357895903544\n",
      "elemental            0.03682863901340454  0.1464058            0.005391926401016925\n",
      "tv                   0.0365012186644247   0.18959975           0.006920622022027595\n"
     ]
    }
   ],
   "source": [
    "display(hero_text.text[713])\n",
    "most_important_terms(713, cool2)"
   ]
  },
  {
   "cell_type": "code",
   "execution_count": 43,
   "id": "1d04db6c",
   "metadata": {
    "execution": {
     "iopub.execute_input": "2022-02-18T11:51:35.627598Z",
     "iopub.status.busy": "2022-02-18T11:51:35.626930Z",
     "iopub.status.idle": "2022-02-18T11:51:35.843011Z",
     "shell.execute_reply": "2022-02-18T11:51:35.842024Z",
     "shell.execute_reply.started": "2022-02-18T10:04:38.260673Z"
    },
    "papermill": {
     "duration": 0.302076,
     "end_time": "2022-02-18T11:51:35.843150",
     "exception": false,
     "start_time": "2022-02-18T11:51:35.541074",
     "status": "completed"
    },
    "tags": []
   },
   "outputs": [
    {
     "data": {
      "image/png": "[encoded data removed]",
      "text/plain": [
       "<IPython.core.display.Image object>"
      ]
     },
     "execution_count": 43,
     "metadata": {},
     "output_type": "execute_result"
    }
   ],
   "source": [
    "Fandral_img = \"https://www.superherodb.com/gallery2/075/95/9511.webp\"\n",
    "Disp.Image(requests.get(Fandral_img).content)"
   ]
  },
  {
   "cell_type": "code",
   "execution_count": 44,
   "id": "d064b1a3",
   "metadata": {
    "execution": {
     "iopub.execute_input": "2022-02-18T11:51:36.007403Z",
     "iopub.status.busy": "2022-02-18T11:51:36.006493Z",
     "iopub.status.idle": "2022-02-18T11:51:36.135470Z",
     "shell.execute_reply": "2022-02-18T11:51:36.136230Z",
     "shell.execute_reply.started": "2022-02-18T10:04:38.903794Z"
    },
    "papermill": {
     "duration": 0.213493,
     "end_time": "2022-02-18T11:51:36.136479",
     "exception": false,
     "start_time": "2022-02-18T11:51:35.922986",
     "status": "completed"
    },
    "tags": []
   },
   "outputs": [
    {
     "data": {
      "text/plain": [
       "\"Fandral the Dashing was a charter member of the Warriors Three, a trio of Asgardian adventurers consisting of himself, Hogun the Grim, and Volstagg the Voluminous. Fandral was a strong and brave and a good friend to Thor. He fought in countless battles with his friends, to preserve and protect his people. He has been described as one of the most good-looking Asgardians which along with his charm, gave him the reputation as a ladies' man. Besides his looks, Fandral is also known for his skills in swordsmanship and bravery. He and Thor first met when the Warriors Three joined the Thunder God on an expedition to restore the Odinsword that had become cracked.Allegedly, Volstagg the Staggeringly Perfect led the youth Hogun the Good, Fandral the Quite Plain, Thor and Loki in Hel, fighting against all of its hordes for forty days and nights. Eventually Hogun was hurt and forced to retreat, helped by Fandral. Due to the battle, Hogun the Good became Hogun the Grim, and for some reason, Fandral the Quite Plain became Fandral the Dashing later, while Volstagg started eating every time and Thor was deemed worthy of Mjolnir. Fandral possesses all of the various superhuman attributes common among the Asgardians.\""
      ]
     },
     "metadata": {},
     "output_type": "display_data"
    },
    {
     "name": "stdout",
     "output_type": "stream",
     "text": [
      "Dashing              0.06705253364967637  0.36166626           0.02425063921275286\n",
      "staggeringly         0.06705253364967637  0.21384093           0.014338576265406399\n",
      "voluminous           0.06705253364967637  0.19335152           0.012964709441025173\n",
      "Odinsword            0.06066769521911369  nan                  nan\n",
      "Plain                0.06066769521911369  0.30313048           0.0183902274307171\n",
      "Hogun                0.056932804164071205 nan                  nan\n",
      "Hel                  0.054282856788551014 0.09350801           0.0050758820561565806\n",
      "Fandral              0.054282856788551014 nan                  nan\n",
      "expedition           0.05222739791643635  0.15747079           0.008224289741783642\n",
      "Good                 0.049128026055093685 0.46013132           0.022605343348866283\n",
      "Perfect              0.049128026055093685 0.48676783           0.023913942559585726\n",
      "Volstagg             0.049128026055093685 nan                  nan\n",
      "lady                 0.047898018357988334 0.33759502           0.01617013226264076\n",
      "bravery              0.046813074678466036 0.21403188           0.010019490154197327\n",
      "Grim                 0.046813074678466036 0.23905079           0.011190702515465615\n",
      "brave                0.044163127302945845 0.40907842           0.018066182304394007\n",
      "charm                0.04342582392730859  0.4595618            0.019956849593225544\n",
      "allegedly            0.04342582392730859  0.12687416           0.005509615095794524\n",
      "charter              0.042107668430831184 0.09179359           0.0038652140220658262\n",
      "swordsmanship        0.042107668430831184 0.11615341           0.0048909493413819985\n"
     ]
    },
    {
     "name": "stderr",
     "output_type": "stream",
     "text": [
      "/opt/conda/lib/python3.7/site-packages/ipykernel_launcher.py:2: RuntimeWarning: invalid value encountered in float_scalars\n",
      "  \n"
     ]
    }
   ],
   "source": [
    "display(hero_text.text[465])\n",
    "most_important_terms(465, cool2)"
   ]
  },
  {
   "cell_type": "code",
   "execution_count": 45,
   "id": "0aa92756",
   "metadata": {
    "execution": {
     "iopub.execute_input": "2022-02-18T11:51:36.316077Z",
     "iopub.status.busy": "2022-02-18T11:51:36.315415Z",
     "iopub.status.idle": "2022-02-18T11:51:36.569593Z",
     "shell.execute_reply": "2022-02-18T11:51:36.569047Z",
     "shell.execute_reply.started": "2022-02-18T10:04:39.721896Z"
    },
    "papermill": {
     "duration": 0.350153,
     "end_time": "2022-02-18T11:51:36.569741",
     "exception": false,
     "start_time": "2022-02-18T11:51:36.219588",
     "status": "completed"
    },
    "tags": []
   },
   "outputs": [
    {
     "data": {
      "image/jpeg": "[encoded data removed]",
      "text/plain": [
       "<IPython.core.display.Image object>"
      ]
     },
     "execution_count": 45,
     "metadata": {},
     "output_type": "execute_result"
    }
   ],
   "source": [
    "Kool_Aid_Man = df.query(\"name == 'Kool-Aid Man'\")\n",
    "Kool_Aid_Man_img = \"https://www.superherodb.com\" + Kool_Aid_Man['img'].values[0]\n",
    "Disp.Image(requests.get(Kool_Aid_Man_img).content)"
   ]
  },
  {
   "cell_type": "code",
   "execution_count": 46,
   "id": "c675bcdd",
   "metadata": {
    "execution": {
     "iopub.execute_input": "2022-02-18T11:51:36.737439Z",
     "iopub.status.busy": "2022-02-18T11:51:36.736752Z",
     "iopub.status.idle": "2022-02-18T11:51:36.877106Z",
     "shell.execute_reply": "2022-02-18T11:51:36.877626Z",
     "shell.execute_reply.started": "2022-02-18T10:04:40.268902Z"
    },
    "papermill": {
     "duration": 0.227283,
     "end_time": "2022-02-18T11:51:36.877807",
     "exception": false,
     "start_time": "2022-02-18T11:51:36.650524",
     "status": "completed"
    },
    "tags": []
   },
   "outputs": [
    {
     "data": {
      "text/plain": [
       "'Before he was officially the Kool-Aid Man in 1975, he was the “Pitcher Man”. The Pitcher Man was created in 1954 by Marvin Plotts, an art director for a New York-based advertising agency. General Foods had just purchased Kool-Aid from the drink’s creator Edwin Perkins the year before, and Plotts was charged with drafting a concept to illustrate the copy message: “A 5-cent package makes two quarts. \" Working from his Chicago home on a cold day, Potts watched as his young son traced smiley face patterns on a frosty windowpane,\" recounts Sue Uerling, marketing and communications director for Hastings Museum of Natural and Cultural History. This inspired Marvin Plotts to create a beaming glass pitcher filled with flavorful drink: the Pitcher Man. From there on the joyful pitcher was on all the Kool-Aid’s advertisements. the voice of the man is John Fickley. In 1975 Kraft Foods created the character’s first costume with arms and legs. He also became more of an action figure in commercials — performing extreme sports and busting through brick walls. Kool-Aid Man is famously known for shouting, “Oh, Yeah!” as he is summoned by thirsty children with the phrase, \"Hey, Kool-Aid!\". Commercials of the era also featured a catchy jingle, always ending with the Kool-Aid Man\\'s phrase. Starting in the late 1980s, the character was given dialogue, and his mouth would be digitally manipulated to \"move\" while the voice actor talked. Sometime in the 1990s, the live-action character was retired; from that point until 2008, the character became entirely computer-generated (although other characters -- such as the kids -- remained live-action). In 2000, a new series of commercials were created for Kool-Aid Fierce and the actor chosen to play Kool-Aid Man was Jon Carr. The most recent Kool-Aid commercials feature a new and different live-action Kool-Aid Man playing street basketball and battling \"Cola\" to stay balanced on a log. NA'"
      ]
     },
     "metadata": {},
     "output_type": "display_data"
    },
    {
     "name": "stdout",
     "output_type": "stream",
     "text": [
      "Aid                  0.060925765262218344 0.09816323           0.005980670042842486\n",
      "Cola                 0.060925765262218344 0.16447066           0.010020500683934301\n",
      "Cultural             0.060925765262218344 0.32935748           0.020066356211786734\n",
      "Fickley              0.060925765262218344 nan                  nan\n",
      "Fierce               0.060925765262218344 0.4030141            0.024553942066321964\n",
      "Foods                0.060925765262218344 0.16801979           0.010236734070311167\n",
      "Kool                 0.060925765262218344 0.40055874           0.024404347760913256\n",
      "Kraft                0.060925765262218344 0.057796296          0.0035212835468094094\n",
      "Perkins              0.060925765262218344 0.014764874          0.000899561262209263\n",
      "Pitcher              0.060925765262218344 0.14530031           0.008852532812956126\n",
      "Plotts               0.060925765262218344 nan                  nan\n",
      "Uerling              0.060925765262218344 nan                  nan\n",
      "catchy               0.060925765262218344 0.47232857           0.0287769797935882\n",
      "cent                 0.060925765262218344 0.04317672           0.0026305748160513056\n",
      "digitally            0.060925765262218344 0.28048784           0.01708893601893028\n",
      "flavorful            0.060925765262218344 0.3102684            0.018903339834604373\n",
      "frosty               0.060925765262218344 0.1710401            0.010420749156023229\n",
      "hey                  0.060925765262218344 0.40750888           0.024827790359055624\n",
      "jingle               0.060925765262218344 0.14275527           0.008697474070224904\n",
      "quart                0.060925765262218344 -0.0061431765        -0.00037427772711873833\n"
     ]
    },
    {
     "name": "stderr",
     "output_type": "stream",
     "text": [
      "/opt/conda/lib/python3.7/site-packages/ipykernel_launcher.py:2: RuntimeWarning: invalid value encountered in float_scalars\n",
      "  \n"
     ]
    }
   ],
   "source": [
    "display(hero_text.text[758])\n",
    "most_important_terms(758, cool2)"
   ]
  },
  {
   "cell_type": "code",
   "execution_count": 47,
   "id": "1a506da7",
   "metadata": {
    "execution": {
     "iopub.execute_input": "2022-02-18T11:51:37.076635Z",
     "iopub.status.busy": "2022-02-18T11:51:37.075941Z",
     "iopub.status.idle": "2022-02-18T11:51:37.316603Z",
     "shell.execute_reply": "2022-02-18T11:51:37.316074Z",
     "shell.execute_reply.started": "2022-02-18T10:04:39.058319Z"
    },
    "papermill": {
     "duration": 0.354732,
     "end_time": "2022-02-18T11:51:37.316734",
     "exception": false,
     "start_time": "2022-02-18T11:51:36.962002",
     "status": "completed"
    },
    "tags": []
   },
   "outputs": [
    {
     "data": {
      "image/jpeg": "[encoded data removed]",
      "text/plain": [
       "<IPython.core.display.Image object>"
      ]
     },
     "execution_count": 47,
     "metadata": {},
     "output_type": "execute_result"
    }
   ],
   "source": [
    "GPL = df.query(\"name == 'GPL'\")\n",
    "GPL_img = \"https://www.superherodb.com\" + GPL['img'].values[0]\n",
    "Disp.Image(requests.get(GPL_img).content)"
   ]
  },
  {
   "cell_type": "code",
   "execution_count": 48,
   "id": "cfee8d45",
   "metadata": {
    "execution": {
     "iopub.execute_input": "2022-02-18T11:51:37.488011Z",
     "iopub.status.busy": "2022-02-18T11:51:37.487390Z",
     "iopub.status.idle": "2022-02-18T11:51:37.587936Z",
     "shell.execute_reply": "2022-02-18T11:51:37.587320Z",
     "shell.execute_reply.started": "2022-02-18T11:31:27.133838Z"
    },
    "papermill": {
     "duration": 0.188914,
     "end_time": "2022-02-18T11:51:37.588114",
     "exception": false,
     "start_time": "2022-02-18T11:51:37.399200",
     "status": "completed"
    },
    "tags": []
   },
   "outputs": [
    {
     "data": {
      "text/plain": [
       "'The IT Guys had the idea of making the Garma Mecha Man and help Garmadon conquer the city. Later, Garmadon used them in order to spy on his brother. They found out that he was going into the jungle so Garmadon left his base in order to track them down. It is unknown what happened to them after that. Mostly intelligence'"
      ]
     },
     "metadata": {},
     "output_type": "display_data"
    },
    {
     "name": "stdout",
     "output_type": "stream",
     "text": [
      "Guys                 0.06458517110288423  0.45356318           0.029293455815291573\n",
      "Garma                0.060609108109732086 nan                  nan\n",
      "Mecha                0.05778804652096598  0.22416733           0.012954192213170256\n",
      "jungle               0.04250860316096824  0.2915481            0.012393302616760193\n",
      "Garmadon             0.037708006159823185 nan                  nan\n",
      "spy                  0.030297795833309066 0.24046816           0.007285655195427501\n",
      "conquer              0.029044239047321126 0.24527624           0.007123861819641377\n",
      "idea                 0.028050358455296194 0.4574217            0.012830842376055569\n",
      "intelligence         0.024034992091186022 0.19812399           0.0047619085685221855\n",
      "happen               0.022117229415213515 0.30731177           0.006796884992075967\n",
      "city                 0.0200328140947789   0.28917164           0.00579292162756618\n",
      "track                0.019328478161861697 0.25410795           0.004911520003266613\n",
      "brother              0.017928442724192015 0.30754086           0.005513728761132818\n",
      "base                 0.017720235796057256 0.18585938           0.003293472076652832\n",
      "unknown              0.01612654625695535  0.15884596           0.00256163673931135\n"
     ]
    },
    {
     "name": "stderr",
     "output_type": "stream",
     "text": [
      "/opt/conda/lib/python3.7/site-packages/ipykernel_launcher.py:2: RuntimeWarning: invalid value encountered in float_scalars\n",
      "  \n"
     ]
    }
   ],
   "source": [
    "display(hero_text.text[531])\n",
    "most_important_terms(531, cool2)"
   ]
  },
  {
   "cell_type": "code",
   "execution_count": 49,
   "id": "4e1c86dc",
   "metadata": {
    "execution": {
     "iopub.execute_input": "2022-02-18T11:51:37.760747Z",
     "iopub.status.busy": "2022-02-18T11:51:37.759999Z",
     "iopub.status.idle": "2022-02-18T11:51:37.890044Z",
     "shell.execute_reply": "2022-02-18T11:51:37.890542Z",
     "shell.execute_reply.started": "2022-02-18T11:29:24.619315Z"
    },
    "papermill": {
     "duration": 0.21987,
     "end_time": "2022-02-18T11:51:37.890723",
     "exception": false,
     "start_time": "2022-02-18T11:51:37.670853",
     "status": "completed"
    },
    "tags": []
   },
   "outputs": [
    {
     "data": {
      "text/plain": [
       "\"Born and raised in the Lower East Side, Jack Kirby (born Jacob Kurtzberg) created or co-created some of the most enduring characters and stories in comics (Captain America, Avengers, Hulk, X-Men, Fantastic Four, Silver Surfer, Darkseid, among hundreds of others). In addition to revolutionizing such comic book genres as crime, war, and superheroes, Kirby also co-invented romance comics with his partner Joe Simon. Kirby’s 1960s work with Marvel’s Stan Lee (who dubbed Kirby “King”) may be his most well-known. Another Kirby legacy is that he almost single-handedly defined the visual language of comic books with his dynamic page layouts portraying exaggerated anatomy, heartfelt emotion, explosive movement, and cosmic wonder. Kirby died in 1994 at age 76. Evidence of his work and influence surrounds us today, not only in comics but also in television and movies In The Beginning… In August of 1917, Rose and Ben Kurtzberg, two immigrants from Galicia in what is now Poland welcomed their firstborn, Jacob. In the early 20th century, New York City’s Lower East Side was the most densely populated two square miles on the planet. Ben sewed pants in sweatshops. Rose did piecework at home when not raising her sons. Lower East Side kids played in the streets, and fighting was a favorite pastime. Kirby’s gang, the Jewish kids of Suffolk St. would take on the Italian kids from another block, or the African-American kids from yet another block. Jake was small in stature, and once had to rescue his younger brother David from an attack by a rival gang. Jake recalled it happening in slow-motion as if choreographing the whole fight in his head. Jake loved fighting so much that he once took a long subway trip to the Bronx to see if they fought any differently there. Rose’s extended family were storytellers. Jake grew up hearing stories about demi-gods, werewolves, and vampires, learning about them long before they appeared in the movie theaters that were everywhere on the Lower East Side. At 14 Jake found a science fiction pulp magazine in a rain-drenched gutter. The image on the cover changed him forever. He took the magazine home, read it, and it fueled his interest in drawing. The stories in the magazine reminded him of the tales his mother and her friends told, but with new, hopeful, futuristic trappings. He began reading as much as he could, something he had to hide from his buddies, and took how-to-draw books out from the library. Jake met his “second father” Harry Slonaker around this time. Slonaker graduated from the Boys’ Brotherhood Republic in Chicago and was assigned to New York City to start one there. The BBR helped boys in the worst neighborhoods learn responsibility and useful skills, and it had its own rules, government, and even media. Jake took up boxing and became the cartoonist on the BBR newspaper, which he signed with the name “Jack”. While Jack’s mother wasn’t going to let him follow neighborhood hero, actor John Garfield (nee Jacob Garfinkle), to Hollywood, his time as an office boy in a newspaper cartoonist’s office showed him there was another way out of the ghetto. Most of his pals saw careers as policemen, politicians, or gangsters in their future. Jack stayed less than a week in an art class at the Pratt Institute. Not only wasn’t he the kind of artist they wanted – he worked fast – but his father lost his job, and Jack dropped out of school entirely to find work. After a brief stint as a newsboy, Jack found work at the Fleischer Brothers animation studio, working on Popeye and Betty Boop cartoons as an inbetweener, filling in the necessary number of drawings to complete the illusion of movement. Jack’s steady work allowed the Kurtzbergs to move from the Lower East Side to Brooklyn. Jack’s time with the Fleischers was short-lived. The environment reminded him too much of the sweatshops where his father worked, and the studio was relocating to Florida. He found work with some small newspaper syndicates, preparing his strips (Socko The Seadog, Your Health Comes First) at home on the kitchen table. One series, “The Romance Of Money” didn’t get syndicated, but was collected as a small pamphlet for savings banks as a giveaway. Arguably, The Romance Of Money is Jack’s first comic book. Kirby Comic Books Begin! With the success of Superman in 1938, there was a tremendous demand for new, original comic book content. Jack found his way to the Eisner-Iger Studio, preparing stories in a similar fashion to the single pages appearing in Sunday newspapers. Soon, he and his boss Will Eisner realized they were working in an entirely new, multi-page art form. Eisner recalled one incident where Jack got in the faces of mobsters who were shaking down the studio for a towel service payment. The goons left. Unfortunately, Jack came up against too much of that “sweatshop” approach again at Eisner-Iger and soon found work as a staff artist in the office of Victor Fox, where he drew the first four weeks of the Blue Beetle newspaper strip. While at Fox, Jack hit it off with Joe Simon, and the two began collaborating on Blue Bolt. Simon & Kirby quickly produced Red Raven Comics for Martin Goodman at Timely, which contained a Comet Pierce story where Jack first signed his name as “Jack Kirby.” Jack soon left Fox to work with Simon exclusively and moved his family to a nicer apartment in Brooklyn. There, he met his upstairs neighbor, and future wife, Rosalind Goldstein. Simon & Kirby produced Captain America, and the first cover featured the patriotic hero punching Adolf Hitler in the face. Published in late 1940, a year before the U.S.A. entered the war, the cover was a stark declaration of intent, and the book was a smash hit. Kirby’s choreographed action sequences were the main selling point. At one point, the Nazi-sympathizing group the American Bund were making threatening phone calls to the Simon & Kirby team. When they called again, Kirby went downstairs to confront them, but they weren’t there. Also for Goodman, they took two superhero sidekicks, Bucky and Toro, teamed them with four non-super-powered kids and created the Young Allies, the first kid gang. While still on staff at Timely, Kirby, Simon, and several inkers produced Captain Marvel Adventures #1 for Fawcett, uncredited, over a weekend. It became one of the top sellers of its time. The Simon & Kirby Team & WW2 The Simon & Kirby team had such success with Captain America and their Captain Marvel one-shot that when they discovered Goodman wasn’t paying them the agreed percentage of revenue, they quickly moved to National Comics, home of Superman. They revamped existing features Sandman and Manhunter, while Kirby’s youth inspired them to create the Boy Commandos and the Newsboy Legion. In 1942, the bickering Boy Commandos received their own title which was only outsold by National’s Superman and Batman comics. That same year, Jacob Kurtzberg legally changed his name to Jack Kirby and married Rosalind. In the midst of this success, World War II was looming. Jack was drafted into the infantry in June of 1943. In August 1944, Kirby arrived in Normandy, France and was sent to Verdun to join General Patton’s Army on its rapid offensive eastward. His division was sent to the south of Metz to rid the area of German resistance. Taking advantage of Kirby’s drawing skill and his knowledge of the German dialect Yiddish, Kirby’s commander sent him into enemy territory to scout and draw up detailed maps. Kirby’s war experiences were more brutal, horrifying, and violent than anything he experienced on the mean streets of the Lower East Side. His time in combat had a profound effect on him. Since storytelling was such a part of his personality, he shared war stories for the rest of his life. Eventually, Kirby contracted trench foot and nearly needed both feet amputated. Thankfully, that didn’t happen. Roz, at least, expressed that losing his drawing hand would have been much worse. In January 1945, Kirby made his way back stateside to North Carolina and was honorably discharged in July with several honors including the Bronze Battle Star. In December 1945, Roz and Jack’s first child, Susan, was born. After The War – The 1950s With the war behind them, the Simon & Kirby team got back to work, producing the short-lived Stuntman and Boy Explorers for Al Harvey. But action heroes and kid gangs didn’t sell like they used to. Comic books had been popular with soldiers overseas, but now that they were home, they had more reading choices. By 1947, the team was trying their hand at other genres; crime comics, funny animals, and teen humor. “True Romance” pulp magazines had been selling well to both teen and adult women for a while, so through Crestwood/Prize, Simon & Kirby’s Young Romance, the first romance comic, debuted that summer to great success. After two lucrative years producing romance comics and with growing families, the Kirbys and the Simons moved into houses across the street from each other in the suburbs of Long Island’s Nassau County. In 1953, Simon & Kirby started their own publishing company – Mainline Comics. Unfortunately, the corrupt newsstand business was collapsing, and social forces that had been building for years came to a head with the publication of Fredric Wertham’s book, Seduction Of The Innocent, which claimed comic books were corrupting America’s children. Subsequently, horror and crime comics were chased off the market, and comic book creators were stigmatized. Comic book quality experienced a sharp decline, with all offerings assuredly safe for the youngest kids. Eventually, Joe Simon left the team for more lucrative and secure work in advertising and marketing for political campaigns. Kirby brought the team’s Challengers of the Unknown to National (DC), and started working for Goodman (Atlas) again. He also worked up a number of comic strip proposals. Eventually, through a connection made by Jack Schiff, an editor at DC, Kirby, with writers Ed and Dave Wood, began a newspaper strip that capitalized on the nascent space race, Sky Masters Of The Space Force. With inking by Wallace Wood, the strips were beautiful. Unfortunately, due to a misunderstanding of the financial arrangement with Schiff, and what Schiff felt was Kirby’s using ideas from story conferences for Challengers Of The Unknown in Sky Masters, Schiff sued Kirby. Kirby lost. He continued the strip for a while, but the financial arrangement made it a losing proposition, so he quit. He’d also lost DC as a client. Jack soon found more work under Atlas editor Stan Lee, mostly on monster and science fiction stories. Simon and Kirby teamed up briefly at Archie Comics on The Double Life of Private Strong and The Adventures of the Fly. Kirby even worked briefly for Classics Illustrated. The Marvelous 1960s Inspired by his success with starting Challengers Of The Unknown at DC, the slight success of the Archie heroes, and his son Neal’s interests, Kirby felt the time was again ripe for superheroes. Soon enough, Goodman and Lee saw what was happening at DC with the Justice League of America, and decided that Kirby was right. Lee had Kirby take one of his monster stories featuring some adventurers, and give them superpowers. Thus was born Marvel Comics as we know it, with The Fantastic Four. Kirby’s vivid imagination, his heartfelt humanity, his love of science fiction and mythology, and his amazing dynamic visual storytelling all coalesced in his work for Lee and Marvel when he was in his 40s. Kirby continued to pitch heroes. Lee had been publishing monster comics, so how about a monster as a lead character, the Hulk? A scientist from a previous story became Ant-Man. Mythology was one of Kirby’s favorites, so Norse god Thor came next. An urban hero who walked on walls came next, with Kirby bringing in a logo from the Simon & Kirby studio days in the early 1950s – Spiderman. Steve Ditko ended up with the assignment. Next came Iron Man, with the origin drawn by Don Heck; Sgt. Fury and His Howling Commandos, a grown-up Boy Commandos; X-Men, a science fiction-based kid gang; and The Avengers, a bickering group of adult heroes. Kirby even had a hand in the creation of Daredevil, evoking his earlier Stuntman. In response to the assassination of President Kennedy, Lee and Kirby revived Captain America. Marvel’s sales picked up. Lee’s snappy dialogue combined with Kirby’s stories, as well as the familiar, fan club-like tone of Marvel’s editorial copy kept the baby boomers reading comics into their teens and college years. Soon, Kirby was producing so many stories for Lee, that it became more expedient to eschew story conferences before the art was drawn. They’d briefly discuss the next issue, and Kirby would return with a fully drawn story, and describe to Lee what was happening. When even this became too time-consuming, Kirby would include story notes on the edges of his artwork for Lee to use while preparing the dialogue script for the letterer. In one notable example, Lee and Kirby had discussed having the antagonist be “The Big G” – a euphemism for God. Kirby knew that such a powerful, threatening force would be preceded by… a scout, whom he cosmically depicted as a surfer of the spaceways. Lee loved Kirby’s new character and dubbed him the Silver Surfer. Audiences’ minds were blown. Goodman started licensing Marvel characters out, which led to Steve Ditko’s departure since Goodman wasn’t including him in licensing revenue. As a result, Lee tried to strengthen his relationship with Kirby, agreeing to a profile of he and Kirby by the NY Herald-Tribune. Unfortunately, the profile failed. The writer admired Lee’s P.T. Barnum-like chicanery and denigrated Kirby’s appearance and manner. Upset, Kirby kept producing stories and characters for Lee, but not for long. On one Fantastic Four story where Kirby introduced a new character, Him, Lee ignored the notes and changed Kirby’s theme. After that, Kirby only delivered stories containing already existing characters. Full Rein Kirby couldn’t stop creating new concepts, though. He just kept them to himself. When Goodman sold Marvel to Perfect Film, a more corporate entity, Kirby was stung by the new owner not wanting to negotiate a contract. Kirby felt the need to break out of his situation, so he moved his family to Southern California and began talking to Carmine Infantino at DC. Infantino, a long-ago Kirby protege who had successfully updated Batman for the readers brought in by the TV show, was rising in the editorial ranks. For DC to have an artist in the editorial office was unprecedented, and Infantino was looking to innovate. Once Jack Schiff retired, Infantino was free to bring Kirby aboard. Infantino had wanted Kirby to revamp Superman, but Kirby only took on the Jimmy Olsen series, adding an updated Newsboy Legion to the cast (Olsen was a newsboy, after all). Kirby pitched a new science fiction mythology that filled three ongoing series, but unlike his time at Marvel, he retained creative and editorial control, eventually bringing in California resident Mike Royer to provide inking and lettering. The New Gods, Mister Miracle, and the Forever People, his “Fourth World” comics, were unfettered Kirby at the top of his game, making comics for everyone, not just kids or teenagers. Unfortunately, the newsstand business was still corrupt, with distributors selling fan-favorite comics like Kirby’s to comic dealers to sell at conventions without reporting those sales to the publishers. As a result, the sales reports for Kirby’s comics were disappointing. Infantino then asked Kirby for a horror comic, like the movies that were then in vogue, and a kids' comic to capture the popularity of the Planet Of The Apes movie series. Jack delivered The Demon and Kamandi, The Last Boy On Earth. Kamandi became Jack’s longest-running series for DC. But as the end of his DC contract neared, Kirby was unsatisfied with his prospects there. A Return to Marvel and Cartoons In 1976, Kirby returned to Marvel and Captain America. He also created the Eternals, Machine Man, the Black Panther, Devil Dinosaur, and an adaptation of 2001: A Space Odyssey. At the end of his two-year deal, he worked with Lee on a Silver Surfer graphic novel in the hopes it would be turned into a rock musical movie. In 1978 Kirby was commissioned by producer Barry Ira Geller to design the sets for a movie based on Roger Zelazny’s science fiction novel Lord Of Light. Geller’s idea was for the sets to act as a theme park called Science Fiction Land once shooting was complete. Royer inked the pieces to perfection. The movie and theme park weren’t to be At this point. Kirby had enough of comic books and found work in the production of television cartoons for children. He finished his contract with Marvel by storyboarding Fantastic Four cartoons. He designed characters, props, and situations for Ruby-Spears, sometimes for existing shows like the Kamandi-like Thundarr The Barbarian, but mostly for presentation pitches for new shows. Kirby made some of the best income of his life, and for the first time, even had health insurance benefits. The Last Kirby Comic Books In 1981, Kirby returned to comic books with the first issue of Captain Victory And The Galactic Rangers. Published by Pacific Comics, Captain Victory and Silver Star were the first Kirby comics that bypassed newsstands for the comic book “Direct Market”. In 1983, while having dinner with publisher Richard Kyle, Roz encouraged Kirby to change the subject from WW2, and tell a story about growing up on the Lower East Side. Kyle commissioned Kirby to draw “Street Code”, Kirby’s only explicitly autobiographical work. To raise money for writer Steve Gerber’s lawsuit against Marvel over the rights to Howard The Duck, Kirby drew Gerber’s Destroyer Duck story pro bono. The comic was so successful, Kirby and Gerber would produce four more issues. After the last issues of Captain Victory and Silver Star, Kirby returned to DC to provide covers and editorial material for a new edition of New Gods. Among other things, he also produced the graphic novel The Hunger Dogs, bringing his Fourth World saga to a close. In 1984, the comics publishers were realizing that it was in their best interest to return the original art they had been warehousing for years to the artists. Marvel sent a brief release for the artwork to all the artists except Kirby. To him, they sent a four-page document with excessive stipulations. Kirby tried to negotiate but to no avail. His situation gained serious notice in the comics community, who put significant pressure on Marvel to return Kirby’s art as they had to other artists. In 1987 Marvel complied. Jack and Roz celebrated their 50th anniversary in 1992 surrounded by family and friends. Kirby died the morning of February 6th, 1994 in his hilltop home in Thousand Oaks, California. All this time, throughout their life together, Jack and Roz attended comic book conventions and welcomed fans into their home. They loved their fellow fans of comics, science fiction, mythology, romance, and action, encouraged them to live their own lives to the fullest, and to tell their own stories. The high profile of comics in our culture today is a testament to the Kirbys’ positive energy, love, and commitment. Imagination Kirby possessed imagination and artistic ability that both bordered on a superhuman level.\""
      ]
     },
     "metadata": {},
     "output_type": "display_data"
    },
    {
     "name": "stdout",
     "output_type": "stream",
     "text": [
      "BBR                  0.030059266935080042 -0.07996785          -0.0024037749180101484\n",
      "Barbarian            0.030059266935080042 0.21690407           0.006519977458278463\n",
      "Barnum               0.030059266935080042 -0.033380877         -0.0010034046990812365\n",
      "Books                0.030059266935080042 0.2535265            0.007620821003382681\n",
      "Boop                 0.030059266935080042 0.18722442           0.005627828755168982\n",
      "Bund                 0.030059266935080042 -0.020908857         -0.0006285049067895288\n",
      "Cartoons             0.030059266935080042 0.2754124            0.008278695164383166\n",
      "Classics             0.030059266935080042 0.35925016           0.010798796397941459\n",
      "Comic                0.030059266935080042 0.36084726           0.010846804247248844\n",
      "Crestwood            0.030059266935080042 0.014246441          0.00042823758563578074\n",
      "Ditko                0.030059266935080042 -0.009791492         -0.00029432505828984063\n",
      "Eisner               0.030059266935080042 -0.025043355         -0.000752784901943488\n",
      "Fiction              0.030059266935080042 0.26140788           0.007857729303225652\n",
      "Fleischer            0.030059266935080042 -0.045210876         -0.0013590057771505873\n",
      "Fleischers           0.030059266935080042 nan                  nan\n",
      "Fredric              0.030059266935080042 -0.047666118         -0.0014328085511625679\n",
      "Galicia              0.030059266935080042 -0.0647934           -0.0019476421202523232\n",
      "Garfinkle            0.030059266935080042 nan                  nan\n",
      "Geller               0.030059266935080042 -0.010382639         -0.0003120945245320094\n",
      "Goldstein            0.030059266935080042 -0.055805866         -0.0016774834128743868\n"
     ]
    },
    {
     "name": "stderr",
     "output_type": "stream",
     "text": [
      "/opt/conda/lib/python3.7/site-packages/ipykernel_launcher.py:2: RuntimeWarning: invalid value encountered in float_scalars\n",
      "  \n"
     ]
    }
   ],
   "source": [
    "display(hero_text.text[661])\n",
    "most_important_terms(661, cool2)"
   ]
  },
  {
   "cell_type": "code",
   "execution_count": 50,
   "id": "04dff44e",
   "metadata": {
    "execution": {
     "iopub.execute_input": "2022-02-18T11:51:38.070626Z",
     "iopub.status.busy": "2022-02-18T11:51:38.069991Z",
     "iopub.status.idle": "2022-02-18T11:51:38.300822Z",
     "shell.execute_reply": "2022-02-18T11:51:38.300335Z",
     "shell.execute_reply.started": "2022-02-18T10:04:40.427232Z"
    },
    "papermill": {
     "duration": 0.326001,
     "end_time": "2022-02-18T11:51:38.300994",
     "exception": false,
     "start_time": "2022-02-18T11:51:37.974993",
     "status": "completed"
    },
    "tags": []
   },
   "outputs": [
    {
     "data": {
      "image/png": "[encoded data removed]",
      "text/plain": [
       "<IPython.core.display.Image object>"
      ]
     },
     "execution_count": 50,
     "metadata": {},
     "output_type": "execute_result"
    }
   ],
   "source": [
    "Misako_img = \"https://www.superherodb.com/gallery2/075/78/7892.webp\"\n",
    "Disp.Image(requests.get(Misako_img).content)"
   ]
  },
  {
   "cell_type": "code",
   "execution_count": 51,
   "id": "d35eb7b0",
   "metadata": {
    "execution": {
     "iopub.execute_input": "2022-02-18T11:51:38.477195Z",
     "iopub.status.busy": "2022-02-18T11:51:38.476472Z",
     "iopub.status.idle": "2022-02-18T11:51:38.633235Z",
     "shell.execute_reply": "2022-02-18T11:51:38.632343Z",
     "shell.execute_reply.started": "2022-02-18T10:04:40.962472Z"
    },
    "papermill": {
     "duration": 0.247798,
     "end_time": "2022-02-18T11:51:38.633482",
     "exception": false,
     "start_time": "2022-02-18T11:51:38.385684",
     "status": "completed"
    },
    "tags": []
   },
   "outputs": [
    {
     "data": {
      "text/plain": [
       "\"As a young woman, Misako met the sons of the First Spinjitzu Master; Garmadon and Wu. She befriended the brothers, and was even taught Spinjitzu by Wu. Though she was initially inclined toward Wu, a letter she received from Garmadon swayed her to choose to marry him instead. The two spent many happy years together, and eventually had a son named Lloyd. Eventually, Garmadon succumbed to the evil growing inside him as a result of his bite by The Great Devourer and was cast into the Underworld after a battle against Wu. Realizing that Lloyd would become the legendary Green Ninja, Misako left him at Darkley's Boarding School for Bad Boys so that she could research the prophecy in the hopes of preventing it. Misako is Garmadon’s wife, Lloyd’s mother, and the love of Master Wu’s life. She was tricked into marrying Garmadon and regrets the years she missed with Wu. Intelligent and accomplished, Misako worked as an archaeologist at the NINJAGO® Museum of History and is also a Spinjitzu master and an expert on NINJAGO mythology. Although she is an academic, she is also a lover of adventure and has never been content to sit behind a desk. Misako knew Lloyd would become the Green Ninja someday, and so enrolled him at Darkly’s School for Bad Boys while she researched the prophecy of the Green Ninja. After reuniting with Lloyd, she became involved in many of the ninja’s adventures. Misako fled as her husband Lord Garmadon turned to evil and was forced to leave Lloyd behind. She threw herself into her archaeological research, hoping to uncover a way for her son and husband to avoid their inevitable final battle. She is overjoyed to be reunited with Lloyd and to see the young man he’s become today. Can she save both son and husband, or will she rekindle an old romance with Master Wu?\""
      ]
     },
     "metadata": {},
     "output_type": "display_data"
    },
    {
     "name": "stdout",
     "output_type": "stream",
     "text": [
      "Darkly               0.06418390653806137  0.2957853            0.018984656556572246\n",
      "NINJAGO              0.06418390653806137  nan                  nan\n",
      "archaeological       0.06418390653806137  0.16499858           0.010590253183787823\n",
      "Boarding             0.05807222289566651  0.15743129           0.009142384937711329\n",
      "Darkley              0.05807222289566651  nan                  nan\n",
      "inclined             0.05807222289566651  0.29268578           0.016996913677369527\n",
      "mythology            0.05196053925327166  0.2471848            0.012843855405601755\n",
      "academic             0.049993016581721235 0.17089221           0.008543417028956314\n",
      "archaeologist        0.04838543350619979  0.14359596           0.006947952954163725\n",
      "Boys                 0.045848855610876815 0.33418396           0.015321952182376157\n",
      "Misako               0.045848855610876815 nan                  nan\n",
      "overjoyed            0.04388133293932638  0.21428053           0.009402915314904822\n",
      "History              0.04304095490245226  0.32048362           0.01379392124780822\n",
      "inevitable           0.04304095490245226  0.17118692           0.007368048674943386\n",
      "Devourer             0.04227374986380494  -0.0031330339        -0.00013244509004750786\n",
      "desk                 0.04030622719225451  0.13470171           0.005429317884431065\n",
      "rekindle             0.04030622719225451  0.21391934           0.008622281581903271\n",
      "someday              0.039202626752294883 0.30466488           0.011943663576635271\n",
      "today                0.03869864411673306  0.24156487           0.00934823293061722\n",
      "prophecy             0.03869864411673306  0.18067811           0.00699199804478485\n"
     ]
    },
    {
     "name": "stderr",
     "output_type": "stream",
     "text": [
      "/opt/conda/lib/python3.7/site-packages/ipykernel_launcher.py:2: RuntimeWarning: invalid value encountered in float_scalars\n",
      "  \n"
     ]
    }
   ],
   "source": [
    "display(hero_text.text[891])\n",
    "most_important_terms(891, cool2)"
   ]
  },
  {
   "cell_type": "code",
   "execution_count": null,
   "id": "d3114281",
   "metadata": {
    "papermill": {
     "duration": 0.103955,
     "end_time": "2022-02-18T11:51:38.837989",
     "exception": false,
     "start_time": "2022-02-18T11:51:38.734034",
     "status": "completed"
    },
    "tags": []
   },
   "outputs": [],
   "source": []
  },
  {
   "cell_type": "code",
   "execution_count": 52,
   "id": "52faca77",
   "metadata": {
    "execution": {
     "iopub.execute_input": "2022-02-18T11:51:39.039481Z",
     "iopub.status.busy": "2022-02-18T11:51:39.033455Z",
     "iopub.status.idle": "2022-02-18T11:51:39.041940Z",
     "shell.execute_reply": "2022-02-18T11:51:39.042586Z",
     "shell.execute_reply.started": "2022-02-18T10:04:41.112143Z"
    },
    "papermill": {
     "duration": 0.108379,
     "end_time": "2022-02-18T11:51:39.042760",
     "exception": false,
     "start_time": "2022-02-18T11:51:38.934381",
     "status": "completed"
    },
    "tags": []
   },
   "outputs": [],
   "source": [
    "def top_n_similarity_score(tokens_list, target, n):\n",
    "    target_score_list=[cosine_similarity(nlp(word).vector, target) for word in set(tokens_list)]\n",
    "    target_score_list.sort(reverse=True)\n",
    "    if len(target_score_list) >= n:\n",
    "        return sum(target_score_list[0:n])/n\n",
    "    else:\n",
    "        return sum(target_score_list)/len(target_score_list)"
   ]
  },
  {
   "cell_type": "code",
   "execution_count": 53,
   "id": "11bc2b67",
   "metadata": {
    "execution": {
     "iopub.execute_input": "2022-02-18T11:51:39.230474Z",
     "iopub.status.busy": "2022-02-18T11:51:39.229729Z",
     "iopub.status.idle": "2022-02-18T12:20:47.175811Z",
     "shell.execute_reply": "2022-02-18T12:20:47.176445Z",
     "shell.execute_reply.started": "2022-02-18T10:04:41.121277Z"
    },
    "papermill": {
     "duration": 1748.042206,
     "end_time": "2022-02-18T12:20:47.176790",
     "exception": false,
     "start_time": "2022-02-18T11:51:39.134584",
     "status": "completed"
    },
    "tags": []
   },
   "outputs": [
    {
     "name": "stderr",
     "output_type": "stream",
     "text": [
      "/opt/conda/lib/python3.7/site-packages/ipykernel_launcher.py:2: RuntimeWarning: invalid value encountered in float_scalars\n",
      "  \n"
     ]
    }
   ],
   "source": [
    "docs_top_10_score=[top_n_similarity_score(token_list, cool2, 10) for token_list in docs]"
   ]
  },
  {
   "cell_type": "code",
   "execution_count": 54,
   "id": "9109a03b",
   "metadata": {
    "execution": {
     "iopub.execute_input": "2022-02-18T12:20:47.368981Z",
     "iopub.status.busy": "2022-02-18T12:20:47.368317Z",
     "iopub.status.idle": "2022-02-18T12:20:47.383254Z",
     "shell.execute_reply": "2022-02-18T12:20:47.383745Z",
     "shell.execute_reply.started": "2022-02-18T10:36:55.812445Z"
    },
    "papermill": {
     "duration": 0.113815,
     "end_time": "2022-02-18T12:20:47.383912",
     "exception": false,
     "start_time": "2022-02-18T12:20:47.270097",
     "status": "completed"
    },
    "tags": []
   },
   "outputs": [
    {
     "name": "stderr",
     "output_type": "stream",
     "text": [
      "/opt/conda/lib/python3.7/site-packages/ipykernel_launcher.py:1: SettingWithCopyWarning: \n",
      "A value is trying to be set on a copy of a slice from a DataFrame.\n",
      "Try using .loc[row_indexer,col_indexer] = value instead\n",
      "\n",
      "See the caveats in the documentation: https://pandas.pydata.org/pandas-docs/stable/user_guide/indexing.html#returning-a-view-versus-a-copy\n",
      "  \"\"\"Entry point for launching an IPython kernel.\n"
     ]
    },
    {
     "data": {
      "text/html": [
       "<div>\n",
       "<style scoped>\n",
       "    .dataframe tbody tr th:only-of-type {\n",
       "        vertical-align: middle;\n",
       "    }\n",
       "\n",
       "    .dataframe tbody tr th {\n",
       "        vertical-align: top;\n",
       "    }\n",
       "\n",
       "    .dataframe thead th {\n",
       "        text-align: right;\n",
       "    }\n",
       "</style>\n",
       "<table border=\"1\" class=\"dataframe\">\n",
       "  <thead>\n",
       "    <tr style=\"text-align: right;\">\n",
       "      <th></th>\n",
       "      <th>name</th>\n",
       "      <th>text</th>\n",
       "      <th>cool_score</th>\n",
       "      <th>cool_score2</th>\n",
       "      <th>cool_score3</th>\n",
       "      <th>cool_score4</th>\n",
       "    </tr>\n",
       "  </thead>\n",
       "  <tbody>\n",
       "    <tr>\n",
       "      <th>368</th>\n",
       "      <td>Dazzler</td>\n",
       "      <td>Alison Blaire was born to Carter Blaire and Ka...</td>\n",
       "      <td>0.535271</td>\n",
       "      <td>0.494399</td>\n",
       "      <td>0.500545</td>\n",
       "      <td>0.510307</td>\n",
       "    </tr>\n",
       "    <tr>\n",
       "      <th>625</th>\n",
       "      <td>Hybrid</td>\n",
       "      <td>After Justice had killed his abusive father ...</td>\n",
       "      <td>0.539257</td>\n",
       "      <td>0.474345</td>\n",
       "      <td>0.426584</td>\n",
       "      <td>0.508077</td>\n",
       "    </tr>\n",
       "    <tr>\n",
       "      <th>582</th>\n",
       "      <td>Heart Of The Monster Hulk</td>\n",
       "      <td>NA The Hulk is one of the most powerful beings...</td>\n",
       "      <td>0.535973</td>\n",
       "      <td>0.471837</td>\n",
       "      <td>0.392193</td>\n",
       "      <td>0.502938</td>\n",
       "    </tr>\n",
       "    <tr>\n",
       "      <th>365</th>\n",
       "      <td>Dash</td>\n",
       "      <td>Dashiell often gets into trouble and loves pl...</td>\n",
       "      <td>0.551219</td>\n",
       "      <td>0.542284</td>\n",
       "      <td>0.463812</td>\n",
       "      <td>0.499081</td>\n",
       "    </tr>\n",
       "    <tr>\n",
       "      <th>277</th>\n",
       "      <td>Catwoman</td>\n",
       "      <td>Selina Kyle's early life was defined by trage...</td>\n",
       "      <td>0.545907</td>\n",
       "      <td>0.507614</td>\n",
       "      <td>0.519048</td>\n",
       "      <td>0.494872</td>\n",
       "    </tr>\n",
       "    <tr>\n",
       "      <th>543</th>\n",
       "      <td>Green Goblin II</td>\n",
       "      <td>Harry was born in New York to industrialist No...</td>\n",
       "      <td>0.539102</td>\n",
       "      <td>0.480176</td>\n",
       "      <td>0.462299</td>\n",
       "      <td>0.490411</td>\n",
       "    </tr>\n",
       "    <tr>\n",
       "      <th>1340</th>\n",
       "      <td>Two-Face</td>\n",
       "      <td>Gotham City District Attorney Harvey Dent was ...</td>\n",
       "      <td>0.523012</td>\n",
       "      <td>0.451905</td>\n",
       "      <td>0.462180</td>\n",
       "      <td>0.488458</td>\n",
       "    </tr>\n",
       "    <tr>\n",
       "      <th>185</th>\n",
       "      <td>Black Cat</td>\n",
       "      <td>The Black Cat's father was a world renowned c...</td>\n",
       "      <td>0.548201</td>\n",
       "      <td>0.504280</td>\n",
       "      <td>0.482121</td>\n",
       "      <td>0.486466</td>\n",
       "    </tr>\n",
       "    <tr>\n",
       "      <th>1328</th>\n",
       "      <td>Toxin</td>\n",
       "      <td>Not being bonded to a symbiote anymore, Eddi...</td>\n",
       "      <td>0.541219</td>\n",
       "      <td>0.500019</td>\n",
       "      <td>0.426955</td>\n",
       "      <td>0.486311</td>\n",
       "    </tr>\n",
       "    <tr>\n",
       "      <th>340</th>\n",
       "      <td>Cyclops</td>\n",
       "      <td>Scott Summers was the first of two sons born...</td>\n",
       "      <td>0.530916</td>\n",
       "      <td>0.470136</td>\n",
       "      <td>0.414698</td>\n",
       "      <td>0.486079</td>\n",
       "    </tr>\n",
       "  </tbody>\n",
       "</table>\n",
       "</div>"
      ],
      "text/plain": [
       "                           name  \\\n",
       "368                     Dazzler   \n",
       "625                      Hybrid   \n",
       "582   Heart Of The Monster Hulk   \n",
       "365                        Dash   \n",
       "277                    Catwoman   \n",
       "543             Green Goblin II   \n",
       "1340                   Two-Face   \n",
       "185                   Black Cat   \n",
       "1328                      Toxin   \n",
       "340                     Cyclops   \n",
       "\n",
       "                                                   text  cool_score  \\\n",
       "368   Alison Blaire was born to Carter Blaire and Ka...    0.535271   \n",
       "625     After Justice had killed his abusive father ...    0.539257   \n",
       "582   NA The Hulk is one of the most powerful beings...    0.535973   \n",
       "365    Dashiell often gets into trouble and loves pl...    0.551219   \n",
       "277    Selina Kyle's early life was defined by trage...    0.545907   \n",
       "543   Harry was born in New York to industrialist No...    0.539102   \n",
       "1340  Gotham City District Attorney Harvey Dent was ...    0.523012   \n",
       "185    The Black Cat's father was a world renowned c...    0.548201   \n",
       "1328    Not being bonded to a symbiote anymore, Eddi...    0.541219   \n",
       "340     Scott Summers was the first of two sons born...    0.530916   \n",
       "\n",
       "      cool_score2  cool_score3  cool_score4  \n",
       "368      0.494399     0.500545     0.510307  \n",
       "625      0.474345     0.426584     0.508077  \n",
       "582      0.471837     0.392193     0.502938  \n",
       "365      0.542284     0.463812     0.499081  \n",
       "277      0.507614     0.519048     0.494872  \n",
       "543      0.480176     0.462299     0.490411  \n",
       "1340     0.451905     0.462180     0.488458  \n",
       "185      0.504280     0.482121     0.486466  \n",
       "1328     0.500019     0.426955     0.486311  \n",
       "340      0.470136     0.414698     0.486079  "
      ]
     },
     "execution_count": 54,
     "metadata": {},
     "output_type": "execute_result"
    }
   ],
   "source": [
    "hero_text['cool_score4']=pd.Series(docs_top_10_score)\n",
    "hero_text.sort_values(by='cool_score4', ascending=False).head(10)"
   ]
  },
  {
   "cell_type": "code",
   "execution_count": 55,
   "id": "5666197f",
   "metadata": {
    "execution": {
     "iopub.execute_input": "2022-02-18T12:20:47.569815Z",
     "iopub.status.busy": "2022-02-18T12:20:47.569174Z",
     "iopub.status.idle": "2022-02-18T12:20:47.574373Z",
     "shell.execute_reply": "2022-02-18T12:20:47.575001Z",
     "shell.execute_reply.started": "2022-02-18T11:17:55.977642Z"
    },
    "papermill": {
     "duration": 0.09964,
     "end_time": "2022-02-18T12:20:47.575166",
     "exception": false,
     "start_time": "2022-02-18T12:20:47.475526",
     "status": "completed"
    },
    "tags": []
   },
   "outputs": [],
   "source": [
    "def display_content_and_top_words(index, target):\n",
    "    token_similarity=pd.DataFrame([token, cosine_similarity(nlp(token).vector, cool2)] for token in set(docs[index]) if nlp(token).has_vector)\n",
    "    token_similarity.columns=['token','similar_score']\n",
    "    display(hero_text.text[index])\n",
    "    display(token_similarity.sort_values(by='similar_score', ascending=False).head(10))"
   ]
  },
  {
   "cell_type": "code",
   "execution_count": 56,
   "id": "e545864c",
   "metadata": {
    "execution": {
     "iopub.execute_input": "2022-02-18T12:20:47.863227Z",
     "iopub.status.busy": "2022-02-18T12:20:47.862471Z",
     "iopub.status.idle": "2022-02-18T12:20:48.219669Z",
     "shell.execute_reply": "2022-02-18T12:20:48.219015Z",
     "shell.execute_reply.started": "2022-02-18T11:33:29.605120Z"
    },
    "papermill": {
     "duration": 0.452101,
     "end_time": "2022-02-18T12:20:48.219813",
     "exception": false,
     "start_time": "2022-02-18T12:20:47.767712",
     "status": "completed"
    },
    "tags": []
   },
   "outputs": [
    {
     "data": {
      "image/jpeg": "[encoded data removed]",
      "text/plain": [
       "<IPython.core.display.Image object>"
      ]
     },
     "execution_count": 56,
     "metadata": {},
     "output_type": "execute_result"
    }
   ],
   "source": [
    "Catwoman = df.query(\"name == 'Catwoman'\")\n",
    "Catwoman_img = \"https://www.superherodb.com\" + Catwoman['img'].values[0]\n",
    "Disp.Image(requests.get(Catwoman_img).content)"
   ]
  },
  {
   "cell_type": "code",
   "execution_count": 57,
   "id": "eb6f3b04",
   "metadata": {
    "execution": {
     "iopub.execute_input": "2022-02-18T12:20:48.408782Z",
     "iopub.status.busy": "2022-02-18T12:20:48.408101Z",
     "iopub.status.idle": "2022-02-18T12:20:54.452608Z",
     "shell.execute_reply": "2022-02-18T12:20:54.453086Z",
     "shell.execute_reply.started": "2022-02-18T11:18:20.084360Z"
    },
    "papermill": {
     "duration": 6.140021,
     "end_time": "2022-02-18T12:20:54.453274",
     "exception": false,
     "start_time": "2022-02-18T12:20:48.313253",
     "status": "completed"
    },
    "tags": []
   },
   "outputs": [
    {
     "name": "stderr",
     "output_type": "stream",
     "text": [
      "/opt/conda/lib/python3.7/site-packages/ipykernel_launcher.py:2: RuntimeWarning: invalid value encountered in float_scalars\n",
      "  \n"
     ]
    },
    {
     "data": {
      "text/plain": [
       "' Selina Kyle\\'s early life was defined by tragedy. When she was just a girl, her brutalized mother Maria committed suicide and her violent father Brian drank himself to death not long after. Separated from her younger sister Magdalena and remanded to the Sprang Hall Juvenile Detention Center, an abusive state home for orphaned or delinquent girls, she opted instead to take her chances on the streets of Gotham City. Amid the crime and corruption of the poverty-stricken East End district, she survived through petty theft. Sharp wits and an amazing natural skill as a gymnast led to her becoming the slickest cat burglar the Gotham City Police Department had ever dealt with. To protect herself, she studied martial arts. Later ex-heavyweight champ Ted Grant (Wildcat) taught her boxing. For a time, she was the most accomplished thief nobody knew. She was also one of the most generous, spreading her ill-gotten gains among the downtrodden and destitute of the East End. She would have continued to rob with impunity if not for the Batman. Spying the Caped Crusader from her window on one of his first outings, she watched him in action and was suitably inspired to take up her own costume when prowling the Gotham night.   Although originally introduced as an equal opponent for Batman, Catwoman\\'s status as hero or villain is ambiguous; she has her own moral code (she abhors killing, though did eventually kill Black Mask) and has occasionally teamed up with Batman and other heroes against greater threats, even saving the lives of the entire Justice League on one occasion. She represents a gray area in Batman\\'s otherwise black and white life where the line between good and evil blurs, and his attraction to her stems from this perception that, in her way, she\\'s kind of a female version of himself: another dark, beautiful creature that prowls the night.   Catwoman, in her first appearance, wore no costume or disguise at all, and it was not until her next appearance that she donned a mask, which was a theatrically face-covering cat-mask that had the appearance of a real cat, rather than a more stylized face mask seen in her later incarnations. Later, she wore a dress with a hood that came with ears, and still later, a bodysuit with attached boots and either a domino or glasses-mask. In the 1960s, Catwoman\\'s bodysuit was green in color, which was typical of villains of that era. In the 1990s, she usually wore a skintight purple bodysuit, before switching to a black leather outfit that recalls Michelle Pfeiffer\\'s Catwoman costume in Batman Returns.    In recent years, she has usually alternated between these two costumes. Ed Brubaker, the master-mind behind the 2001 revamp of the character, has stated that Selina\\'s current costume was inspired by Emma Peel\\'s iconic catsuit. It has a more high tech look, with domino-shaped infrared goggles (inspired by Snoopy) on her cowl.   Shortly after the events of The Long Halloween, Selina visited the grave of Carmine Falcone where she expressed that she believes that she is Falcone\\'s illegitimate daughter, but was unable to find any proof. Around this time, Selina meets Falcone\\'s son Mario who would later become head of the Falcone crime family.   During the events of Crisis of Conscience, Catwoman further proved herself an ally when she fought alongside Batman and the League against the old Secret Society, of which she had once briefly been a member. Wounded, she was taken to the Batcave to recover. When Despero and a faction of brainwashed League members infiltrated the cave and succeeded in brainwashing Batman, Catwoman was able to send a distress call out to the unaffected League members. After a fierce struggle, Despero was subdued. However, this was something of a hollow victory, since all recognized that Despero was able to pit the JLA members against one another by drawing upon pre-existing animosities and distrust. In response to Batman\\'s inquiry about her wounds, Selina departed the Batcave after curtly informing Batman that he had already \"done enough.\"   Catwoman appears to be completely reformed, and her love for Batman true (although brash and unpredictable). However, it is now unclear if her reformation was the result of a mindwipe by Zatanna, a procedure known to deeply affect and, in at least one case, physically incapacitate its victims. Selina had no inkling that any villains had been mindwiped until Batman informed her of the events of Identity Crisis, and he now worries that her reformation may be due to mental manipulation.   At the start of the recent storyline (\"The One You Love\"), an influx of supervillains seized control of the East End, leaving Selina with no choice but to join the new incarnation of the Secret Society. While her initial intentions were unclear, Selina shared her plans to infiltrate and destroy the cadre of East End villains with Batman.   Selina made a deal with a former criminal who had powers similiar to Clayface\\'s, who had promised to help her in exchange for his freedom. The man impersonated her, and allowed several villains to shoot and dismember him, giving the impression to the underworld that Catwoman was really dead (like Clayface, the man was able to survive what would otherwise be fatal wounds). Capitalizing upon the advantage which her \"resurrection\" provided her (the villains believing she had somehow managed to cheat death), Catwoman dismantled the new East End cadre of criminals, one villain at time. After she was done, Zatanna appeared at her side, informing her that she had some \"bad news\", hinting at an important revelation about her past.   Selina ended up shooting Black Mask while dealing with the East End criminals.     Following the events of Infinite Crisis, the DC Universe jumps forward in time. \"One Year Later\" Selina Kyle is no longer Catwoman, has left the East End, and has given birth to a daughter named Helena (whose father is initially unknown). Holly Robinson takes over as the new Catwoman while Selina, living under the alias Irena Dubrovna, turns her attention to caring for her daughter. (Selina\\'s alias was inspired by the name of the main character in the 1942 film Cat People.) Though she takes her role as a new mother quite seriously, Selina dons the costume for a run through the East End some days after Helena\\'s birth. Having understandably gained a few pounds, Selina finds that her costume is now a tighter fit. In addition, she is easily distracted by a common criminal. Although the situation is defused through Holly\\'s opportune arrival, the fact that there are two Catwomen active in the city is caught on video. Selina returns home from her adventure to find that the mysterious movie aficionado Film Freak has deduced her alias, joined with Angle Man, and grabbed Helena.   After rescuing her daughter, Selina convinces Zatanna to mind-wipe Film Freak and Angle Man in order to preserve her secret identity. Following the procedure, Angle Man turns himself in to the authorities; Film Freak, however, embarks upon a murderous rampage. Ted Grant informs Selina that Holly has been arrested for the murder of Black Mask; Selina infiltrates the police station and frees Holly. Finally defeating Film Freak, Selina returns home to find that Slam Bradley has deduced that Helena is Sam Bradley\\'s child, and therefore his granddaughter.   Batman asks Catwoman to infiltrate the violent tribe of Bana Amazons during the Amazons Attack crossover. Posing as a criminal, Selina gains the Bana\\'s trust and thwarts a terror attack aimed at causing mass casualties in Gotham City. Shortly after the event, Selena invites herself to become the newest member of Batman\\'s Outsiders. Catwoman and Batman also have a romantic relationship which they both try to hide and at times have their special moments.   Selina, fearing the many dangers of a post-Batman Gotham, proposes that she, Ivy, and Harley Quinn team up, living together at a single base. Ivy agrees under one condition: using home-grown drugs to weaken Kyle\\'s resistance, Ivy demands the identity of the true Batman. In it she flashes back 3 years when Talia requested her presence in Tibet. There she made it so Selina would not relinquish the true ID of Batman under any circumstances. After the interrogation is over and Selina sees Harley with Bruce Wayne on TV Catwoman says to Poison Ivy she knows it is Hush in disguise   Catwoman has an good affinity for cats. Feline species tend to flock to her, accepting her almost immediately, recognizing somehow that she is not an enemy but a friend. This allows her to calm injured cats, train them, befriend them, and form strong bonds with them. These animals will even sometimes come to her defense when she is attacked. This has proved most beneficial, especially when it has involved big cats.    She was trained by the Armless Master in martial arts and by Wildcat in boxing and street-fighting. She is a dangerous, clever and resourceful fighter, known for precise, agile attacks and speedy getaways. Her formidable hand-to-hand combat skills are augmented by her cat-like speed, reflexes, balance, and flexibility. Catwoman has also mastered Dragon Style Kung Fu and Karate. Her skills are good enough to where she has fought off Batman, wounded him, and occasionally defeated him (more than once).    Fittingly, Catwoman is a master thief possessed of unsurpassed stealth and cunning. An expert at both low- and high-tech heists, she is Gotham City\\'s finest cat-burglar.    To pull off her many capers, Catwoman resorts to disguises and aliases. In her first appearance, she posed as an old lady in order to steal a valuable piece of jewelry while on a cruise ship. '"
      ]
     },
     "metadata": {},
     "output_type": "display_data"
    },
    {
     "data": {
      "text/html": [
       "<div>\n",
       "<style scoped>\n",
       "    .dataframe tbody tr th:only-of-type {\n",
       "        vertical-align: middle;\n",
       "    }\n",
       "\n",
       "    .dataframe tbody tr th {\n",
       "        vertical-align: top;\n",
       "    }\n",
       "\n",
       "    .dataframe thead th {\n",
       "        text-align: right;\n",
       "    }\n",
       "</style>\n",
       "<table border=\"1\" class=\"dataframe\">\n",
       "  <thead>\n",
       "    <tr style=\"text-align: right;\">\n",
       "      <th></th>\n",
       "      <th>token</th>\n",
       "      <th>similar_score</th>\n",
       "    </tr>\n",
       "  </thead>\n",
       "  <tbody>\n",
       "    <tr>\n",
       "      <th>537</th>\n",
       "      <td>amazing</td>\n",
       "      <td>0.574151</td>\n",
       "    </tr>\n",
       "    <tr>\n",
       "      <th>148</th>\n",
       "      <td>Style</td>\n",
       "      <td>0.542009</td>\n",
       "    </tr>\n",
       "    <tr>\n",
       "      <th>366</th>\n",
       "      <td>look</td>\n",
       "      <td>0.538010</td>\n",
       "    </tr>\n",
       "    <tr>\n",
       "      <th>125</th>\n",
       "      <td>kind</td>\n",
       "      <td>0.536982</td>\n",
       "    </tr>\n",
       "    <tr>\n",
       "      <th>50</th>\n",
       "      <td>great</td>\n",
       "      <td>0.521193</td>\n",
       "    </tr>\n",
       "    <tr>\n",
       "      <th>121</th>\n",
       "      <td>love</td>\n",
       "      <td>0.515183</td>\n",
       "    </tr>\n",
       "    <tr>\n",
       "      <th>203</th>\n",
       "      <td>clever</td>\n",
       "      <td>0.510285</td>\n",
       "    </tr>\n",
       "    <tr>\n",
       "      <th>134</th>\n",
       "      <td>beautiful</td>\n",
       "      <td>0.506362</td>\n",
       "    </tr>\n",
       "    <tr>\n",
       "      <th>484</th>\n",
       "      <td>true</td>\n",
       "      <td>0.499678</td>\n",
       "    </tr>\n",
       "    <tr>\n",
       "      <th>340</th>\n",
       "      <td>way</td>\n",
       "      <td>0.486484</td>\n",
       "    </tr>\n",
       "  </tbody>\n",
       "</table>\n",
       "</div>"
      ],
      "text/plain": [
       "         token  similar_score\n",
       "537    amazing       0.574151\n",
       "148      Style       0.542009\n",
       "366       look       0.538010\n",
       "125       kind       0.536982\n",
       "50       great       0.521193\n",
       "121       love       0.515183\n",
       "203     clever       0.510285\n",
       "134  beautiful       0.506362\n",
       "484       true       0.499678\n",
       "340        way       0.486484"
      ]
     },
     "metadata": {},
     "output_type": "display_data"
    }
   ],
   "source": [
    "display_content_and_top_words(277, cool2)"
   ]
  },
  {
   "cell_type": "code",
   "execution_count": 58,
   "id": "4b2fe946",
   "metadata": {
    "execution": {
     "iopub.execute_input": "2022-02-18T12:20:54.644861Z",
     "iopub.status.busy": "2022-02-18T12:20:54.643846Z",
     "iopub.status.idle": "2022-02-18T12:20:54.919229Z",
     "shell.execute_reply": "2022-02-18T12:20:54.918624Z",
     "shell.execute_reply.started": "2022-02-18T11:34:46.020392Z"
    },
    "papermill": {
     "duration": 0.372405,
     "end_time": "2022-02-18T12:20:54.919392",
     "exception": false,
     "start_time": "2022-02-18T12:20:54.546987",
     "status": "completed"
    },
    "tags": []
   },
   "outputs": [
    {
     "data": {
      "image/jpeg": "[encoded data removed]",
      "text/plain": [
       "<IPython.core.display.Image object>"
      ]
     },
     "execution_count": 58,
     "metadata": {},
     "output_type": "execute_result"
    }
   ],
   "source": [
    "Black_Cat = df.query(\"name == 'Black Cat'\")\n",
    "Black_Cat_img = \"https://www.superherodb.com\" + Black_Cat['img'].values[0]\n",
    "Disp.Image(requests.get(Black_Cat_img).content)"
   ]
  },
  {
   "cell_type": "code",
   "execution_count": 59,
   "id": "731537a6",
   "metadata": {
    "execution": {
     "iopub.execute_input": "2022-02-18T12:20:55.122244Z",
     "iopub.status.busy": "2022-02-18T12:20:55.121552Z",
     "iopub.status.idle": "2022-02-18T12:21:00.764178Z",
     "shell.execute_reply": "2022-02-18T12:21:00.764637Z",
     "shell.execute_reply.started": "2022-02-18T11:19:06.507004Z"
    },
    "papermill": {
     "duration": 5.746797,
     "end_time": "2022-02-18T12:21:00.764814",
     "exception": false,
     "start_time": "2022-02-18T12:20:55.018017",
     "status": "completed"
    },
    "tags": []
   },
   "outputs": [
    {
     "name": "stderr",
     "output_type": "stream",
     "text": [
      "/opt/conda/lib/python3.7/site-packages/ipykernel_launcher.py:2: RuntimeWarning: invalid value encountered in float_scalars\n",
      "  \n"
     ]
    },
    {
     "data": {
      "text/plain": [
       "' The Black Cat\\'s father was a world renowned cat burglar who, before his arrest, encouraged her to never settle for second best. If she loved basketball, she should work to become a basketball player and not just a cheerleader. During her freshman year in college, she had gone to a party and was nearly raped by a drunken student in a bathroom, when she was saved by another student, named Ryan. Felicia and Ryan became close friends, spending most of their time together until one night Ryan demanded that it was time for their relationship to become physical. Felicia\\'s protests were in vain. Hating the idea of being a victim, she decided that she would murder her rapist despite the consequences. She put aside her studies and began training in various fighting styles and acrobatics. Finally, after months of preparing, she set out for revenge, but before she could find him, Ryan was killed in a drunk driving accident. Furious that she was denied the chance to steal the life of the man who had stolen hers, and feeling reckless, Hardy decided to utilize her new skills to follow in the footsteps of her father. After amassing a fortune in stolen items, Felicia chose to adopt a costume identity. She first donned the Black Cat costume in order to break her father out of prison. On the same night, she met Spider-Man. Despite her antipathy towards men, Felicia felt a kinship with this lone hero. Spider-Man was the first man she felt she could trust and she grew to love him. Felicia looked for a way to earn his trust and continued with the Black Cat persona as a misguided attempt to attract his affection. Seeing the good in Felicia, Spider-Man made every attempt to have her criminal record expunged.   The Black Cat finally found the opportunity to prove herself after learning the Kingpin controlled an incredibly powerful detonator. The Owl planned to use the weapon to hold New York City hostage. Doctor Octopus, however, planned to use the weapon to destroy the city altogether. But the Black Cat was able to use her abilities to steal the item first and protect it from all parties. She gave the detonator to Spider-man and became the target of Doc Ock\\'s revenge. Although Spider-Man was able to tear off his mechanical appendages, Octopus was still able to mentally control them and hold the Black Cat still while his men opened fire. Spider-Man barely got her to the hospital in time and as they operated on the dozens of bullet and knife wounds, Peter realized just how much he cared for Felicia. After she recovered they began a relationship and soon Peter revealed his identity to her. But Felicia had great difficulty accepting the fact that Peter was just a man beneath the mask and couldn\\'t understand his need for a civilian life. Peter was hurt, but continued the relationship since it was the first time he didn\\'t need to hide his life as Spider-Man.   Initially, the \"accidents\" which seemed to befall those who crossed the Black Cat\\'s path were merely well-planned stunts and traps. After her near-death experience, Felicia feared her lack of superpowers made her a liability for Spider-Man. She was terrified that his overwhelming need to protect her would eventually kill him. So when Spider-Man disappeared during the \"Secret Wars\", Felicia sought out a way to make herself Spider-man\\'s equal. After being rejected by the Avengers and the Fantastic Four, Felicia was offered an opportunity to undergo a process similar to that used to create the Scorpion and the Fly. After learning the machine only had enough power to alter one more human, the Kingpin chose to use it on the thief who had stolen from him. Scared and ashamed, she kept her new abilities secret from Peter. Her newly-gained \\'bad luck\\' power was infectious and began to permanently jinx Spider-Man, which was exactly the Kingpin\\'s intent.   Feeling a wall of secrets growing between them, Spider-Man broke up with Felicia. He soon realized something was amiss with his own luck and enlisted the aid of Doctor Strange to remove the \"hex\" on him. But doing so altered the hex\\'s source and changed the Black Cat\\'s powers in the process. She soon found a heightened strength, agility, balance, vision, and retractable claws.   The Black Cat updated her look and her attitude and rekindled her relationship with Spider-Man. She made peace with his need for a normal life as Peter Parker and stood by him while he was being accused of murder as Spider-Man. Together they tracked down the source of the elaborate scheme to frame him and fought the mercenary known as the Foreigner. Eventually, just as his life seemed to be falling apart, Spider-Man came home to discover Black Cat discussing her plans to ruin his life. He followed her to find she had never forgiven him for breaking up with her and in revenge became the Foreigner\\'s lover. Yet during her ruse and despite her anger, Felicia began to fall back in love with Peter. In the end, the Black Cat double crossed the Foreigner and left for Europe to find a new life, which unexpectedly pushed Peter to find support and a new relationship with Mary Jane Watson.   Years later, the Black Cat returned to America to seek out Peter Parker and was devastated when informed by Venom that Peter had married Mary Jane Watson. Angry and jealous, Felicia began harassing the couple, physically threatening Mary Jane and taunting Peter as she dated his friend Flash Thompson. She began to sincerely care for Thompson but he eventually broke up with her when he found out her secret. The Black Cat eventually moved past her feelings of anger and jealousy, and became friends with both Spider-Man and Mary Jane. After Spider-Man used a device to remove his superhuman abilities, the Black Cat aided him in finding the device again in order to restore them. But in the process, the Black Cat\\'s cat-like abilities were completely erased. She subsequently purchased equipment from the Tinkerer to incorporate into her costume in order to compensate for her lost abilities, and occasionally teams up with Spider-Man.   At some point after this, Black Cat - along with the mutant Wolverine - was kidnapped and forced to survive against multiple assailants on an uninhabited island. They managed to survive many traps, including the volcano in the middle of the island erupting, and tracked down the one who kidnapped them, Arcade. They easily tracked him down and left him tied up on in the Savage Land.   During the Civil War resulting from the Superhero Registration Act, Black Cat accepted an offer from Misty Knight and Colleen Wing in the new Heroes for Hire, purely for the money. Felicia, along with her teammates, were assigned to apprehend any unregistered hero.   Black Cat returned to Spider-Man\\'s life when Black Cat was breaking into Dexter Bennett\\'s apartment to steal a folder. They found the body of a dead man behind a painting of Bennet, which came as a surprise to Felicia. She started to leave with the book that she came looking for, but the body was booby trapped. Black Cat and Spider-Man survived the steel spikes that exploded from the body, only to face the man behind the trap: Diablo. After a fight with Diablo, Spidey and Black Cat slept together with all the lights off, so Felicia couldn\\'t see Peter\\'s face. Black Cat remembers Spidey unmasking she just can\\'t remember who was under the mask. Spidey and Cat eventually found Diablo\\'s hideout but he even eventually escaped.   Spider-Man and Cat escaped but Felicia gave Spidey the cold shoulder. He caught up to her, reminding her that she was the one that dumped him. She may have forgotten his identity but not the fun, the thrills and the heartache. She and Puma had ended their relationship, as Fireheart had some sort of \"control issues,\" so Felicia and Peter had no qualms about a quick smooch on a rooftop. Unfortunately, a camera man was taping the kiss and broadcasting it live to the Times Square mega TV for Mary Jane to see. Peter and Felicia rekindled their old relationship, with no strings attached and masks kept on at all times. They became an on again off again team, working together against Mr Negative and others. Felicia sold a vial of Peter\\'s blood back from Negative and promptly sold it to a group of vampire wannabes, leading Spidey to Morbius. Cat was forced to work for Sasha Kravinoff after her mother was kidnapped. She was forced to steal back the lost family possessions that had been missing since the Russian Revolution. The relationship ended and Peter began dating Carlie Cooper. This didnt keep Spidey and Cat from working together, as they both broke into the Kingpin\\'s headquarters to steal back a substance called reverbium. The material had been pilfered by the Hobgoblin (Phil Urich), who accidentally destroyed the skyscraper they were in by using his sonic laugh. The sonics were amplified by the reverbium, which caused the building to collapse. Kingpin, Hobgoblin, Spidey and Black Cat escaped. Montana was not so lucky.    The Black Cat is imbued with a genuine ability to cause \"bad luck\" by scientists working for the Kingpin through a bargain made with him. This power allowed her to subliminally affect probability fields, which would cause improbable, though not impossible, events of \"bad luck\" to occur to enemies within her line of sight. Those powers were removed from her for a while by Dr. Strange so they won\\'t hurt those she loves, but they returned recently for reasons unknown and she has more control over them than ever.     Felicia is a skilled (somewhat reformed) thief skilled in stealth, picking locks, escapeology, evading alarms and cracking safes.   She has reflexes, agility, and stamina of an Olympic level acrobat. She is physically very strong and athletic and has great physical endurance.   Felicia is particularly a skilled acrobat capable of many difficult feats.   She has been trained in several martial arts; most notably Goju-ryu Karate and Judo which she specializes in. Felicia is capable of taking on several armed assailants and incapacitating them without being injured herself. Her strength and, when pushed too far, ferocity in battle has proven to be overwhelming enough to defeat the mutant assassin known as Sabretooth.'"
      ]
     },
     "metadata": {},
     "output_type": "display_data"
    },
    {
     "data": {
      "text/html": [
       "<div>\n",
       "<style scoped>\n",
       "    .dataframe tbody tr th:only-of-type {\n",
       "        vertical-align: middle;\n",
       "    }\n",
       "\n",
       "    .dataframe tbody tr th {\n",
       "        vertical-align: top;\n",
       "    }\n",
       "\n",
       "    .dataframe thead th {\n",
       "        text-align: right;\n",
       "    }\n",
       "</style>\n",
       "<table border=\"1\" class=\"dataframe\">\n",
       "  <thead>\n",
       "    <tr style=\"text-align: right;\">\n",
       "      <th></th>\n",
       "      <th>token</th>\n",
       "      <th>similar_score</th>\n",
       "    </tr>\n",
       "  </thead>\n",
       "  <tbody>\n",
       "    <tr>\n",
       "      <th>454</th>\n",
       "      <td>fun</td>\n",
       "      <td>0.557824</td>\n",
       "    </tr>\n",
       "    <tr>\n",
       "      <th>395</th>\n",
       "      <td>style</td>\n",
       "      <td>0.542009</td>\n",
       "    </tr>\n",
       "    <tr>\n",
       "      <th>366</th>\n",
       "      <td>look</td>\n",
       "      <td>0.538010</td>\n",
       "    </tr>\n",
       "    <tr>\n",
       "      <th>76</th>\n",
       "      <td>Fantastic</td>\n",
       "      <td>0.530717</td>\n",
       "    </tr>\n",
       "    <tr>\n",
       "      <th>38</th>\n",
       "      <td>great</td>\n",
       "      <td>0.521193</td>\n",
       "    </tr>\n",
       "    <tr>\n",
       "      <th>394</th>\n",
       "      <td>incredibly</td>\n",
       "      <td>0.519549</td>\n",
       "    </tr>\n",
       "    <tr>\n",
       "      <th>112</th>\n",
       "      <td>love</td>\n",
       "      <td>0.515183</td>\n",
       "    </tr>\n",
       "    <tr>\n",
       "      <th>165</th>\n",
       "      <td>attitude</td>\n",
       "      <td>0.487468</td>\n",
       "    </tr>\n",
       "    <tr>\n",
       "      <th>334</th>\n",
       "      <td>way</td>\n",
       "      <td>0.486484</td>\n",
       "    </tr>\n",
       "    <tr>\n",
       "      <th>392</th>\n",
       "      <td>good</td>\n",
       "      <td>0.460131</td>\n",
       "    </tr>\n",
       "  </tbody>\n",
       "</table>\n",
       "</div>"
      ],
      "text/plain": [
       "          token  similar_score\n",
       "454         fun       0.557824\n",
       "395       style       0.542009\n",
       "366        look       0.538010\n",
       "76    Fantastic       0.530717\n",
       "38        great       0.521193\n",
       "394  incredibly       0.519549\n",
       "112        love       0.515183\n",
       "165    attitude       0.487468\n",
       "334         way       0.486484\n",
       "392        good       0.460131"
      ]
     },
     "metadata": {},
     "output_type": "display_data"
    }
   ],
   "source": [
    "display_content_and_top_words(185, cool2)"
   ]
  },
  {
   "cell_type": "code",
   "execution_count": 60,
   "id": "eeefa1f8",
   "metadata": {
    "execution": {
     "iopub.execute_input": "2022-02-18T12:21:00.974205Z",
     "iopub.status.busy": "2022-02-18T12:21:00.973547Z",
     "iopub.status.idle": "2022-02-18T12:21:01.229307Z",
     "shell.execute_reply": "2022-02-18T12:21:01.229910Z",
     "shell.execute_reply.started": "2022-02-18T11:36:51.443834Z"
    },
    "papermill": {
     "duration": 0.368385,
     "end_time": "2022-02-18T12:21:01.230099",
     "exception": false,
     "start_time": "2022-02-18T12:21:00.861714",
     "status": "completed"
    },
    "tags": []
   },
   "outputs": [
    {
     "data": {
      "image/jpeg": "[encoded data removed]",
      "text/plain": [
       "<IPython.core.display.Image object>"
      ]
     },
     "execution_count": 60,
     "metadata": {},
     "output_type": "execute_result"
    }
   ],
   "source": [
    "Dazzler = df.query(\"name == 'Dazzler'\")\n",
    "Dazzler_img = \"https://www.superherodb.com\" + Dazzler['img'].values[0]\n",
    "Disp.Image(requests.get(Dazzler_img).content)"
   ]
  },
  {
   "cell_type": "code",
   "execution_count": 61,
   "id": "48d06d1c",
   "metadata": {
    "execution": {
     "iopub.execute_input": "2022-02-18T12:21:01.429138Z",
     "iopub.status.busy": "2022-02-18T12:21:01.428506Z",
     "iopub.status.idle": "2022-02-18T12:21:14.044979Z",
     "shell.execute_reply": "2022-02-18T12:21:14.044448Z",
     "shell.execute_reply.started": "2022-02-18T11:19:32.669540Z"
    },
    "papermill": {
     "duration": 12.717416,
     "end_time": "2022-02-18T12:21:14.045144",
     "exception": false,
     "start_time": "2022-02-18T12:21:01.327728",
     "status": "completed"
    },
    "tags": []
   },
   "outputs": [
    {
     "name": "stderr",
     "output_type": "stream",
     "text": [
      "/opt/conda/lib/python3.7/site-packages/ipykernel_launcher.py:2: RuntimeWarning: invalid value encountered in float_scalars\n",
      "  \n"
     ]
    },
    {
     "data": {
      "text/plain": [
       "'Alison Blaire was born to Carter Blaire and Katherine Blaire in the Long Island suburb of Gardendale, New York. Her parents had a tense relationship: her father was a stoic law student, while her mother was a free-spirited entertainer. Ultimately, this led to Katherine walking out on Carter and a toddler-aged Alison, leaving Carter to raise Alison with the help of his mother.Katherine\\'s leaving had a profound effect on Carter, who had kept the shameful secret of Katherine from Alison all her life. As Alison entered adolescence and developed dreams of becoming a singer, her father became increasingly intolerant to the idea. Instead, he forced Alison to choose a life path similar to his own; Alison would become an academic star, and continue on a path to law school. Alison\\'s grandmother, Bella Blaire, was more sympathetic to young Alison, and encouraged her to explore her creative energies.   However, while performing at a middle-school dance, Alison manifested her mutant abilities, blinding all in attendance save herself. For years, Alison kept her powers a secret from those closest to her, further alienating her from her father. By the time she reached university, Alison began to explore her powers and her musical ability. She crafted her own performing suit and accessories, naming herself \"The Dazzler.\" It was at this moment Alison decided to abandon her father\\'s dream. While at her graduation ceremony, Alison informed Carter that she would not be attending the law school he had selected for her, and would pursue a life as a singer, without her father\\'s blessing or financial support.The Dazzler used her light-based mutant powers as a draw for her performances. Taking the sound of the music and converting it into dazzling displays of color drew the young singer enough attention to land her gigs at several New York clubs and discotheques. However, Alison knew that she, a mutant, would have to keep the nature of her powers a secret. Marketing her light shows as a \"technological secret,\" Alison was able to bypass critical speculation for some time. Yet while this little white lie fooled the club managers and others in her life, it did not escape the notice of Emma Frost, White Queen of the Hellfire Club, or Charles Xavier, founder and mentor of the X-Men.  Both the Hellfire Club and the X-Men sent entourages to a Dazzler performance to recruit Alison to their respective ideological side. The X-Men sent Phoenix, Cyclops, and Nightcrawler to have a discussion with the young woman, while the Hellfire Club sent a group of armed men to take her by force. The combined powers of Dazzler and the X-Men suppressed the foes, and the new team also worked to free other members of the X-Men held captive by the Hellfire Club. Professor Xavier offered Alison a position within the X-Men, but she declined, instead choosing to focus on her career.At this time, Alison became an increased target for superheroic phenomena. In one instance, she was possessed by the foe Lightmaster, and was thankfully saved by Spider-Man. In another, she acquainted herself with Johnny Storm -- the Human Torch -- at a posh nightclub. As the Dazzler was becoming more popular in the club circuit, she was becoming more known in the superhero circuit as well.  This co-mingling of superheroes and career proved both beneficial and detrimental to Alison. Needing a well-deserved break, Alison auditioned and won a performance spot at up-and-coming nightspot Numero Uno. Unfortunately, the singer bested the Enchantress, who -- so incensed by the outcome -- vowed to have revenge upon the Dazzler. As her new superheroic friends packed the club, the Enchantress summoned her minions, erupting in a large battle. It was Alison herself who sealed back the Enchantress\\' nefarious energies, ending her plans. While she won a battle against a powerful adversary, her performance was in ruins. Despite this outcome, Alison continued to follow her dream. When given lemons, the Dazzler made lemonade. She signed on as a singer with a reputable agent -- Harry Osgood -- and was given a formal stage manager, back-up band, and a knockout performance spot at a United Nations charity summit! Unfortunately, before she could perform, the Dazzler encountered Doctor Doom, intent on stealing one of the \"Jewels of Doom\" currently held on display at the UN. Dr. Doom then used the chanteuse to retrieve another of these jewels from the villainous Nightmare in his Nightmare Dimension. In the dimension, Dazzler was confronted with her own self-doubts and insecurities her father planted within her. Overcoming this obstacle, Alison retrieved the jewel and destroyed them. As Doom was to seek retaliation, the Human Torch came to her rescue. The Dazzler again survived a brutal encounter, but at the expense of her career.  But for Alison Blaire, her powers still proved to be a curse. While riding the New York subway, a couple was being harassed by men with armed weapons. Alison quickly used her powers to subdue them, only to find that she, then, became the enemy. The couple she \"saved\" quickly began harassing her, and as a crowd formed to assail her, she fled. Clearly, there was no place for mutants in the larger society.Her career fared no better. After another performance was soiled -- this time by Hulk -- Harry Osgood became increasingly curious over the nature of Alison\\'s stage effects. The \"technological secret\" was in question. When Harry confronted Alison about the nature of her powers, she stormed out, defensive. How could she reveal her true identity? To make matters worse, an old enemy of Osgood sent the Enforcers -- a group of mercenaries -- to harm him. When Harry Osgood was kidnapped, Alison made it her mission to find and protect him. After defeating the Enforcers and saving Harry, she confessed to Harry her most hidden secret: that she was a mutant! Not knowing how the first non-superhero would react to such a revelation, Alison breathed a sigh of relief when Harry gave her his support, and vowed to keep her \"technological secret\" safe.  Alison\\'s \"technological secret\" may have been safe regarding the average citizen, but for the U.S. Government, it was a pressing affair. Alison was whisked away by Project: PEGASUS against her will to undergo several strenuous tests regarding her mutant powers. While at PEGASUS, Dazzler witnessed several other super-powered beings being held captive, including Klaw and Solarr. As time went on, Alison became increasingly intolerant toward the members of Project: PEGASUS. The researchers found that Alison had no natural limit to her abilities, and theoretically could be the most powerful mutant on Earth, with unlimited energy potential. Intolerance swiftly turned into aggression, and -- upon witnessing Klaw being tested by PEGASUS technicians -- inadvertently freed the villain. Klaw then turned his energies upon Dazzler, unaware that her mutant ability transformed sonic energy into light-based energy. As Dazzler began to absorb Klaw\\'s essence, she found she could not stop the process. The Dazzler had fully absorbed Klaw into her body, storing it as light energy.  Unable to cope with her \"murder,\" Dazzler used the energy to free herself from the confines on PEGASUS. The strong energy signature alerted the space entity Galactus to the young mutant, who abducted her as a means of retrieving his renegade herald, Terrax. Galactus then imbued Dazzler with the power cosmic -- a source of unlimited sound energy, allowing the human to enter a black hole to retrieve the herald. Dazzler succeeded in her task and, using her virtue of compassion, convinced Galactus to pardon Terrax and return her to Earth.  Amidst it all, Alison suffered several bouts of trial... and error. For one, she could not hold a decent relationship. Wanting to get away from the superhero circuit, Alison dated Dr. Paul Jansen, who after weeks of courting, proved to be unable to adjust to Alison\\'s unconventional lifestyle. Likewise, Alison could not hold down a gig to save her soul, inconveniencing both her manager, Harry, and her band. Most disconcerting, Alison was literally on trial for the murder of Klaw. Enraged by the outcome of her stay at PEGASUS, the agency decided to file suit against Alison. For days, she feared for her life, but with the help of lawyer Kenneth Barnett, she was pardoned.  Things turned upward for the singer. Alison began to date Ken. And she began speaking more and more with her grandmother, Bella, although relationships remained tepid with her father. The relationship became more icy when Alison began wearing her mother\\'s locket as a tribute to the woman she never knew. Despite this setback, Alison was determined to make it big. And she did. She was allowed to tour the West coast as a warm-up singer for rock star Bruce Harris. Unfortunately for the Dazzler, her act proved so good that it became a threat for the star, and Bruce nixed her from the tour.  Disheartened, Alison returned home, whereupon she was courted by none other than former X-Man Angel. The Angel attempted several times to win the Dazzler\\'s heart, and decided the key to success lay with finding her mother. Unfortunately the Angel, a close friend of Alison beat her to it! Katherine Blaire was hiding as Barbara London, a matronly vocal coach. Katherine followed Alison throughout her budding career, but could not bear to confront the daughter she had abandoned. Alison\\'s family situation was about to reach a climax.  Alison\\'s biggest break yet finally lay at her footstep: a prestigious gig at Carnegie Hall! And her budding romance with Angel proved that her life, finally, could reach a harmonious center: the Dazzler lived her dream, and could truly be herself with a fellow mutant. It didn\\'t last long, as her father fell into a psychological stupor. Carter Blaire awoke to confront Alison with the truth about her mother, Katherine. She did not simply leave the family, but rather slowly denigrated into an unfaithful drug addict who left Carter to be with her new beau, Nicholas Brown. Alison could not believe the horrid story, and left in tears. Her energy had to go toward her career, and no longer her family. She didn\\'t know, however, that Katherine had left the abusive Nick Brown and hid away as Barbara London.Alison\\'s friend Vanessa convinced Barbara to attend the Carnegie performance, and Carter convinced himself to make amends with his daughter. The family re-united after the performance, with Alison finally coming face-to-face with her mother for the first time in her memory, and also developing a new understanding for her father.  All was not as simple as it seemed. Barbara had married Nicholas Brown, and also had a daughter -- Lois -- leaving Alison with a half-sister! Alison attempted to form a relationship between both Barbara and Lois London, quickly befriending her new sister. However, other complications arose. The Sisterhood of Evil Mutants -- Mystique, Rogue, and Destiny -- sought revenge on the X-Men, and decided that the Angel would be an appropriate source of information. The trio attacked Warren; however, Alison defeated the trio of villainesses. Rogue vowed revenge on the Dazzler, becoming increasingly jealous of her popular and attractive lifestyle. Unfortunately, the mutant gene was alive in both sisters. Lois\\' powers manifested while being harassed by a homeless derelict, and, unfortunately killed the man in the process. Terrified, Lois asked for Alison\\'s assistance. The two fled New York as fugitives, hiding on the road and assuming brief false names to avoid being tracked by the authorities. Worse, an unidentified photographer took photos of the incident, blackmailing the women into murdering a wealthy Californian man in exchange for the film negatives.  As the duo went to meet this Californian, he turned out to be none other than Nick Brown -- Lois\\' father! The photographer was hired by Nick to track his daughter, Lois, and decided to use the evidence as further blackmail for a financial profit. Nick then offered Alison several social connections to the West Coast elite, including photographers and actors -- including the famous Roman Nekoboh.Alison and Nick\\'s relationship turned sour. And when Lois opted to stay in her biological father\\'s comfort rather than with the sister who uprooted herself for her own benefit, Alison left. Alone and with nowhere to turn, she began to start her life anew, renting an apartment in San Diego and taking a job as an aerobics instructor and part-time model.  Roman Nekoboh had a particular interest in Alison. He helped introduce her to other members of the Hollywood elite, but particularly wanted her to star in a new film of his. Suspecting she was a mutant, he wooed Alison into divulging her hidden secret, and convinced Alison to \"come out\" as a benefit to mutants everywhere. Thus, Dazzler: The Movie was born, highlighting the ups and downs of her many adventures, and the social good mutants offer to society. Over time, Alison succumbed to the allure of a wealthy, spoiled lifestyle. As she was in a relationship with Roman, Alison allowed her emotions win over her better judgment, and agreed to a public relations stunt that would publicly unveil her as a mutant. Several jet engines supplied Alison with enough power to demonstrate the magnitude of her abilities. However, the sound proved too great, and it backfired, frightening and scattering onlookers.  As a result, negative press mounted against the singer. Protests against Roman Nekoboh -- a mutant sympathizer -- mounted. At a private press screening, a riot erupted. Alison could not believe the reaction, and went to confront Eric Beale, her financial backer. Beale, obsessed with Dazzler as an object of sexual desire, would only release the movie on condition Alison sign a contract making her his sole creative property. Blackmailing Alison in a bout of sexism and racism, Beale noted that the film would improve the world\\'s opinion of mutants, and that she should take the personal sacrifice not only for her career, but also for the social good. In a final act of defiance, Alison rejected Beale, destroyed the only known copy of the film, left Roman, and return to pick up the pieces of her life.  Always optimistic, Alison attempted to start from square one. Sadly, there was no work to be had in a society that left mutants on the outside of it. Rejected from the most menial of work, Alison gave up hope. She was left to peruse parties as a low-level socialite all while still being barraged by negative tabloid press. This left Alison emotionally susceptible to others. When a charismatic man named \"Flynn\" approached Alison about a community where she could call home, there was little she could do to refuse. Alison was increasingly ashamed of her mutant powers that brought her so much pain. With the aid of a drug that caused Alison to lose control of her powers, Flynn gained the influence he needed to control the Dazzler. Alison joined Flynn\\'s group -- an underground group of mutant \"gladiators\" that battled one another to the death for the amusement of a wealthy human elite. With the assistance of the Avenger Beast, Alison was able to break free of her emotional insecurity and the psionic influence that plagued her, and together the two brought an end to the gladiator ring. The following events did little for Alison. She tried to get perfuming gigs as often as she could under pseudonyms. And even then she was still assailed by villainous characters. Eventually she sought solace with the band of fellow mutant rock star Lila Cheney, who brought Alison to the New Mutants. Two members of the New Mutants had fallen into the ranks of a new gladiator ring, and once again Alison succumbed to the allure of the limelight, no matter how brutal. The events of the second \"Secret Wars\" broke Alison away from the gladiators, and she fell into an awkward relationship with the Beyonder, a cosmic being who found Alison to be the most beautiful and one of the most powerful beings on Earth. She rejected his advances.  After overcoming the shame she felt for her powers, Alison turned to the X-Men for assistance in honing her mutant abilities. Agreeing to the request, Professor Xavier gave Alison a suit amplified and gave precision to her powers. Alison then turned to the road, combating villains and owning her role as a super-hero. The new twist was short-lived, A bounty hunter named O.Z. Chase was hired to apprehend the Dazzler for a meta-human duo named Dust and Silence. The two needed Alison\\'s light effects to awaken a latent drug in humans, giving them meta-human abilities. To coerce Alison, the villain Dust possessed the body of her father, Carter Blaire. However, Dust\\'s abilities caused the slow breakdown in the organic matter of the host, ultimately killing Carter. Alison and O.Z. fought of Dust in Carter\\'s body, leaving him for dead, and searching for Barbara London, who was being held by his counterpart, Silence.Silence captured Alison, and forced her to use her mutant abilities for her goals. If she did not cooperate, Barbara would be killed. Luckily, a team of friends rescued Alison and Barbara, and Alison rechanneled her light energy as a concussive sound force to kill Silence. Alison then faked her own death to hide from the authorities and the press that so plagued her life.  The Dazzler again went into hiding as a member of Lila Cheney\\'s back-up band. However, her inability to seize the spotlight made her an easy target for the psychic entity Malice, who was eagerly looking for ways to attract the X-Men. Possessing Dazzler, Malice made Alison a threat to those around her, calling the X-Men to her aid. Once Malice was defeated, Alison reluctantly joined the X-Men, as her identity and safety were compromised.Alison\\'s alliance with the X-Men brought many adventures. Alison was forced to confront and cooperate with Rogue, a one-time adversary who wished to kill her. While the two heroines formed a tepid friendship, it was tested several times as Rogue envied Dazzler\\'s relationship with teammate Longshot; Rogue even dressed and posed as Dazzler to court the man\\'s attention.  With the X-Men, Alison also learned to rely on teamwork and cooperation. Being used to tackling the Marvel Universe\\'s largest villains solo, Alison attempted to halt the Juggernaut by her lonesome. Fortunately, Juggernaut did not wish to cause the singer harm, and Alison merely passed out from overexertion. After this, Alison learned to use teamwork more effectively in subduing later foes.In one battle, Dazzler, along with the X-Men, sacrificed their lives to subdue the Adversary. Resurrected by Roma, Dazzler and her teammates were now \"living legends\" who were thought dead, and invisible to any sort of mechanical perception. Dazzler had faked her own death to hide from the world, and now it was a permanent aspect of her reality.The X-Men gravitated to Australia to confront a band of cyborg looters known as the Reavers. The team then took over the Reavers base in the Australian Outback, where they made permanent residence. Alison, accustomed to the social life of New York City and Southern California, often grew intolerant of the new environment.  However, the Dazzler provided a much-needed source of entertainment and verve. Exhausted from many missions and the social isolation of the Australian desert, Alison would frequently tour local bars and venues to sing and interact with non-teammates. In one event, she brought her fellow female team members to a mall where they indulged in a day of shopping and frivolity. Make no mistake, the Dazzler was the life of the party. Even stowaway orphan Jubilee found comfort in Dazzler\\'s quarters: the teenaged mutant found an immediate kinship in the extent of Alison\\'s wardrobe!It wasn\\'t all fun and games, however. Dazzler had undergone a body-swap with the villain Diamondback, was subject to the malevolent psychic forces when a demonic inferno engulfed New York, and had been blinded by the villain Spiral. Alison was also besieged with visions of her life in the different paths she could have taken: lawyer, mother, singer, superhero, and bum. This insecurity fueled her post-inferno, where a glimpse into the jewel of the Siege Perilous showed her varied demises in each life path.  After Alison\\'s fateful visions, the team fell apart. While defeating Master Mold, Alison blasted her teammate Rogue through the mysterious portal. Wolverine left the team without any warning to unknown whereabouts. Longshot faded from reality to \"find himself,\" and Havok accidentally killed Storm. The four remaining teammates: Dazzler, Colossus, Havok, and Psylocke, attempted to carry on, but under threat of the Reavers\\' coming onslaught banished themselves through the Siege Perilous where Rogue had fallen weeks before.Alison awoke on Malibu beach, unaware of who she was. Her former allies Lila Cheney and Strong Guy discovered her and took her into their company. Unfortunately for Alison, she was in the middle of a maelstrom involving Dazzler: The Movie. A copy had survived and found by a young acquaintance of Alison\\'s. Meanwhile, Eric Beale had become obsessed with the Dazzler and vowed to kill her.  Dazzler: The Movie was at last publicly screened, and Alison had defeated Eric Beale. However, she could not remember her true identity. Even as her other teammates had rediscovered themselves, Alison could not recall, and her former love Longshot re-encountered her before the X-Men.Longshot went to the amnesiac Dazzler for help, and Lila Cheney teleported the trio from harm\\'s way. Alison slowly regained her memories, and chose to stay with Longshot on his native world, and assist him in his fight for independence. Alison became pregnant, although lost the child.After several years abroad, Alison returned to Earth following a cataclysmic destruction of Mojoworld. Finally putting herself first, Alison jump-started her career in her classic Dazzler digs, where all seemed well. Unfortunately, a worldwide turn of events for mutants made the career short-lived, and once again Alison returned to low-level performances in the United Kingdom to make ends meet.  She has since joined the superhero team Excalibur, finding solace in a world where she is once again a minority. She recently began singing again, and after one particular gig in an English night club she was killed by an evil Jean Grey, when her body was taken to the hospital and checked on she seemingly woke up from her death, a full diagnosis of her body stated that she was fine and her body was in working condition. With the help of her Excalibur teammates they put an end to the faux X-men team. After her first adventure with the Excalibur team she had another death experience when The Juggernauts old friend returned for a vengeance against him, Black Tom Cassidy returned with only a few of his mutant abilities when Dazzler, in the middle of fighting with him, was shot in the back by one of his henchmen and seemingly died (again) after a few moments she got up from her death and aided in defeating Black Tom. The Excalibur team was concerned about how and why she came back from the dead again but Dazzler seemed to care nothing about it. When Camelot was destroyed in the past with the help of the Dark Knight, Dazzler and Excalibur aided in defeating the evil forces at hand. Recently when Juggernaut wanted to receive the full power of the Crimson Gem of Cyttorak, Nocturne of the team wanted to help Cain and stop him from making any mistakes, but Dazzler didn\\'t care this put her at odds with her best friend on the team. Nocturne stated that Dazzler did not deserve the love that Cain gave her because she would always be a performance girl waiting to be in the fame lights. Though seemingly reluctant Dazzler stopped the agent of Cyttorak and Juggernaut from retrieving the crystl.   She has the ability to transduce sonic vibrations, which reach her body into various types of light. This ability seems to operate over a great range of frequencies, including the audible spectrum (35 to 16,500 cycles per second), and a great variation of sound pressure levels regardless of the complexity, dissonance, or randomness of the sound. For example, a car crash and a symphonic passage of equal duration will both produce usable music incoming acoustic vibrations. Dazzler, however, does prefer the sound of music, particularly that which is rhythmically sustained. Not only is music more pleasant to her ears, but the steady beat of popular music provides a more constant source of sound to convert. However, she cannot use any sound produced by her own body.    She has the ability to release the absorbed sound in one burst.   Dazzler possesses a body-wide energy field that controls the energy levels of the outer electron shells of her body in such a way as to cause the cascaded release of photons. In effect, this field is lasing, with the apparent efficiency of a laser (99.9%). The released energy is far greater than the incoming kinetic energy and therefore must involve an outside energy source, the nature of which is unknown. Left undirected, the Dazzler’s light will radiate from her body in all directions, producing regular flashes of white light (white light is a mixture of all portions of the visible spectrum). By conscious control over the light she produces, she can control its direction, frequency (color), amplitude (intensity), and duration. Apparently the Dazzler must consciously or subconsciously will the light to leave her body. Otherwise, light would “leak” from her at all times, even when she is asleep or unconscious. She can produce numerous effects with the light she converts from sonic vibrations. She can create very simple patterns out of rays of light like circles, squares, triangles, and stars. She can create a pulse of light on the order of several thousand watts seconds of power, which temporarily blinds people with its brilliance. She has learned to manifest her light as:    By concentrating, Dazzler can generate a coherent beam of light, approximating a laser beam, with which she can cut through virtually anything. The field thus operates in a similar fashion as the process that creates a laser (Light Amplification by Stimulated Emission of Radiation) and apparently has the same efficiency as a laser (99.9 percent). The released energy is far greater than the incoming kinetic energy and therefore must involve another, unknown energy source as well.   She can generate a blast of concussive solid light.   She can cause a bright glow all about her body to create light.   She can generate a pulsating strobe-light effect.   She can create a chaotic cascade of sparkling lights and colors that severely upsets other people’s equilibrium.   With effort, she can even create holograms of human beings and other three-dimensional beings and objects.   She has the ability to gain vertical altitude by direction a quick column of light beneath her.   She has the ability to create a destructive shield of light around herself with laser light that can vaporize small, oncoming projectiles.   She can create a glowing or hazy almost fog like effect that obscures the surrounding area   Her body, especially her eyes, shields itself against any injurious effects of her light transducing abilities, and against those of bright lights in general    She has the ability to transduce sound also protects her from being deafened by loud noises.    She is presently afflicted with a mysterious resurrection factor which prevents her from being killed by conventional methods.   Dazzler is a highly skilled athlete, and has become a good hand-to-hand combatant thanks to her training with the X-Men.   She is a talented singer, actress, dancer, as well as a highly accomplished roller skater.'"
      ]
     },
     "metadata": {},
     "output_type": "display_data"
    },
    {
     "data": {
      "text/html": [
       "<div>\n",
       "<style scoped>\n",
       "    .dataframe tbody tr th:only-of-type {\n",
       "        vertical-align: middle;\n",
       "    }\n",
       "\n",
       "    .dataframe tbody tr th {\n",
       "        vertical-align: top;\n",
       "    }\n",
       "\n",
       "    .dataframe thead th {\n",
       "        text-align: right;\n",
       "    }\n",
       "</style>\n",
       "<table border=\"1\" class=\"dataframe\">\n",
       "  <thead>\n",
       "    <tr style=\"text-align: right;\">\n",
       "      <th></th>\n",
       "      <th>token</th>\n",
       "      <th>similar_score</th>\n",
       "    </tr>\n",
       "  </thead>\n",
       "  <tbody>\n",
       "    <tr>\n",
       "      <th>974</th>\n",
       "      <td>fun</td>\n",
       "      <td>0.557824</td>\n",
       "    </tr>\n",
       "    <tr>\n",
       "      <th>800</th>\n",
       "      <td>look</td>\n",
       "      <td>0.538010</td>\n",
       "    </tr>\n",
       "    <tr>\n",
       "      <th>89</th>\n",
       "      <td>great</td>\n",
       "      <td>0.521193</td>\n",
       "    </tr>\n",
       "    <tr>\n",
       "      <th>577</th>\n",
       "      <td>truly</td>\n",
       "      <td>0.520816</td>\n",
       "    </tr>\n",
       "    <tr>\n",
       "      <th>238</th>\n",
       "      <td>love</td>\n",
       "      <td>0.515183</td>\n",
       "    </tr>\n",
       "    <tr>\n",
       "      <th>283</th>\n",
       "      <td>beautiful</td>\n",
       "      <td>0.506362</td>\n",
       "    </tr>\n",
       "    <tr>\n",
       "      <th>479</th>\n",
       "      <td>creative</td>\n",
       "      <td>0.502684</td>\n",
       "    </tr>\n",
       "    <tr>\n",
       "      <th>992</th>\n",
       "      <td>true</td>\n",
       "      <td>0.499678</td>\n",
       "    </tr>\n",
       "    <tr>\n",
       "      <th>844</th>\n",
       "      <td>classic</td>\n",
       "      <td>0.488378</td>\n",
       "    </tr>\n",
       "    <tr>\n",
       "      <th>732</th>\n",
       "      <td>way</td>\n",
       "      <td>0.486484</td>\n",
       "    </tr>\n",
       "  </tbody>\n",
       "</table>\n",
       "</div>"
      ],
      "text/plain": [
       "         token  similar_score\n",
       "974        fun       0.557824\n",
       "800       look       0.538010\n",
       "89       great       0.521193\n",
       "577      truly       0.520816\n",
       "238       love       0.515183\n",
       "283  beautiful       0.506362\n",
       "479   creative       0.502684\n",
       "992       true       0.499678\n",
       "844    classic       0.488378\n",
       "732        way       0.486484"
      ]
     },
     "metadata": {},
     "output_type": "display_data"
    }
   ],
   "source": [
    "display_content_and_top_words(368, cool2)"
   ]
  },
  {
   "cell_type": "code",
   "execution_count": null,
   "id": "89aeca6b",
   "metadata": {
    "papermill": {
     "duration": 0.100274,
     "end_time": "2022-02-18T12:21:14.246673",
     "exception": false,
     "start_time": "2022-02-18T12:21:14.146399",
     "status": "completed"
    },
    "tags": []
   },
   "outputs": [],
   "source": []
  },
  {
   "cell_type": "code",
   "execution_count": null,
   "id": "df55459b",
   "metadata": {
    "papermill": {
     "duration": 0.100865,
     "end_time": "2022-02-18T12:21:14.448159",
     "exception": false,
     "start_time": "2022-02-18T12:21:14.347294",
     "status": "completed"
    },
    "tags": []
   },
   "outputs": [],
   "source": []
  },
  {
   "cell_type": "code",
   "execution_count": null,
   "id": "c42641b4",
   "metadata": {
    "papermill": {
     "duration": 0.101556,
     "end_time": "2022-02-18T12:21:14.652400",
     "exception": false,
     "start_time": "2022-02-18T12:21:14.550844",
     "status": "completed"
    },
    "tags": []
   },
   "outputs": [],
   "source": []
  },
  {
   "cell_type": "code",
   "execution_count": null,
   "id": "b7c1b399",
   "metadata": {
    "papermill": {
     "duration": 0.100245,
     "end_time": "2022-02-18T12:21:14.852723",
     "exception": false,
     "start_time": "2022-02-18T12:21:14.752478",
     "status": "completed"
    },
    "tags": []
   },
   "outputs": [],
   "source": []
  }
 ],
 "metadata": {
  "kernelspec": {
   "display_name": "Python 3",
   "language": "python",
   "name": "python3"
  },
  "language_info": {
   "codemirror_mode": {
    "name": "ipython",
    "version": 3
   },
   "file_extension": ".py",
   "mimetype": "text/x-python",
   "name": "python",
   "nbconvert_exporter": "python",
   "pygments_lexer": "ipython3",
   "version": "3.7.12"
  },
  "papermill": {
   "default_parameters": {},
   "duration": 2482.954776,
   "end_time": "2022-02-18T12:21:17.965829",
   "environment_variables": {},
   "exception": null,
   "input_path": "__notebook__.ipynb",
   "output_path": "__notebook__.ipynb",
   "parameters": {},
   "start_time": "2022-02-18T11:39:55.011053",
   "version": "2.3.3"
  }
 },
 "nbformat": 4,
 "nbformat_minor": 5
}
