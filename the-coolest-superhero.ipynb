{
 "cells": [
  {
   "cell_type": "markdown",
   "id": "5efb600f",
   "metadata": {
    "execution": {
     "iopub.execute_input": "2022-01-24T13:11:23.283453Z",
     "iopub.status.busy": "2022-01-24T13:11:23.282984Z",
     "iopub.status.idle": "2022-01-24T13:11:23.286787Z",
     "shell.execute_reply": "2022-01-24T13:11:23.286129Z",
     "shell.execute_reply.started": "2022-01-24T13:11:23.283418Z"
    },
    "papermill": {
     "duration": 0.067115,
     "end_time": "2022-02-19T17:38:05.549203",
     "exception": false,
     "start_time": "2022-02-19T17:38:05.482088",
     "status": "completed"
    },
    "tags": []
   },
   "source": [
    "# The Coolest Superhero According to Cosine Similarity"
   ]
  },
  {
   "cell_type": "markdown",
   "id": "5d23343b",
   "metadata": {
    "papermill": {
     "duration": 0.06475,
     "end_time": "2022-02-19T17:38:05.679159",
     "exception": false,
     "start_time": "2022-02-19T17:38:05.614409",
     "status": "completed"
    },
    "tags": []
   },
   "source": [
    "In the description of this [Superheroes NLP Dataset](https://www.kaggle.com/jonathanbesomi/superheroes-nlp-dataset), the creator Jonathan Besomi has some suggestions of analysis, the first one may be the most interesting and challenging:\n",
    "\n",
    "> - **Who is the coolest superhero?\n",
    "Given only the two text columns, can you find a formula to find the coolest superhero?**\n",
    "\n",
    "In other words, from the descriptions of the history and powers of superheroes, can we rank their coolness? In natural language processing, the popular technique of word embedding springs into my mind. Using high dimensional vectors to represent words and documents, it \n",
    "allows us to use cosine similarity to calculate similarity between words and documents. This notebook records the several attempts to do it right, and I will be glad to receive comments and suggestions."
   ]
  },
  {
   "cell_type": "code",
   "execution_count": 1,
   "id": "2b9a854a",
   "metadata": {
    "_cell_guid": "b1076dfc-b9ad-4769-8c92-a6c4dae69d19",
    "_uuid": "8f2839f25d086af736a60e9eeb907d3b93b6e0e5",
    "execution": {
     "iopub.execute_input": "2022-02-19T17:38:05.815228Z",
     "iopub.status.busy": "2022-02-19T17:38:05.814041Z",
     "iopub.status.idle": "2022-02-19T17:38:05.836713Z",
     "shell.execute_reply": "2022-02-19T17:38:05.837499Z",
     "shell.execute_reply.started": "2022-02-19T14:01:50.852449Z"
    },
    "papermill": {
     "duration": 0.093522,
     "end_time": "2022-02-19T17:38:05.837909",
     "exception": false,
     "start_time": "2022-02-19T17:38:05.744387",
     "status": "completed"
    },
    "tags": []
   },
   "outputs": [
    {
     "name": "stdout",
     "output_type": "stream",
     "text": [
      "/kaggle/input/superheroes-nlp-dataset/superheroes_nlp_dataset.csv\n"
     ]
    }
   ],
   "source": [
    "# This Python 3 environment comes with many helpful analytics libraries installed\n",
    "# It is defined by the kaggle/python Docker image: https://github.com/kaggle/docker-python\n",
    "# For example, here's several helpful packages to load\n",
    "\n",
    "import numpy as np # linear algebra\n",
    "import pandas as pd # data processing, CSV file I/O (e.g. pd.read_csv)\n",
    "\n",
    "# Input data files are available in the read-only \"../input/\" directory\n",
    "# For example, running this (by clicking run or pressing Shift+Enter) will list all files under the input directory\n",
    "\n",
    "import os\n",
    "for dirname, _, filenames in os.walk('/kaggle/input'):\n",
    "    for filename in filenames:\n",
    "        print(os.path.join(dirname, filename))\n",
    "\n",
    "# You can write up to 20GB to the current directory (/kaggle/working/) that gets preserved as output when you create a version using \"Save & Run All\" \n",
    "# You can also write temporary files to /kaggle/temp/, but they won't be saved outside of the current session"
   ]
  },
  {
   "cell_type": "code",
   "execution_count": 2,
   "id": "f00c4575",
   "metadata": {
    "_kg_hide-output": true,
    "execution": {
     "iopub.execute_input": "2022-02-19T17:38:05.975054Z",
     "iopub.status.busy": "2022-02-19T17:38:05.974338Z",
     "iopub.status.idle": "2022-02-19T17:38:06.248346Z",
     "shell.execute_reply": "2022-02-19T17:38:06.248872Z",
     "shell.execute_reply.started": "2022-02-19T14:01:50.887617Z"
    },
    "papermill": {
     "duration": 0.343737,
     "end_time": "2022-02-19T17:38:06.249046",
     "exception": false,
     "start_time": "2022-02-19T17:38:05.905309",
     "status": "completed"
    },
    "tags": []
   },
   "outputs": [
    {
     "data": {
      "text/html": [
       "<div>\n",
       "<style scoped>\n",
       "    .dataframe tbody tr th:only-of-type {\n",
       "        vertical-align: middle;\n",
       "    }\n",
       "\n",
       "    .dataframe tbody tr th {\n",
       "        vertical-align: top;\n",
       "    }\n",
       "\n",
       "    .dataframe thead th {\n",
       "        text-align: right;\n",
       "    }\n",
       "</style>\n",
       "<table border=\"1\" class=\"dataframe\">\n",
       "  <thead>\n",
       "    <tr style=\"text-align: right;\">\n",
       "      <th></th>\n",
       "      <th>name</th>\n",
       "      <th>real_name</th>\n",
       "      <th>full_name</th>\n",
       "      <th>overall_score</th>\n",
       "      <th>history_text</th>\n",
       "      <th>powers_text</th>\n",
       "      <th>intelligence_score</th>\n",
       "      <th>strength_score</th>\n",
       "      <th>speed_score</th>\n",
       "      <th>durability_score</th>\n",
       "      <th>...</th>\n",
       "      <th>has_flight</th>\n",
       "      <th>has_accelerated_healing</th>\n",
       "      <th>has_weapons_master</th>\n",
       "      <th>has_intelligence</th>\n",
       "      <th>has_reflexes</th>\n",
       "      <th>has_super_speed</th>\n",
       "      <th>has_durability</th>\n",
       "      <th>has_stamina</th>\n",
       "      <th>has_agility</th>\n",
       "      <th>has_super_strength</th>\n",
       "    </tr>\n",
       "  </thead>\n",
       "  <tbody>\n",
       "    <tr>\n",
       "      <th>0</th>\n",
       "      <td>3-D Man</td>\n",
       "      <td>Delroy Garrett, Jr.</td>\n",
       "      <td>Delroy Garrett, Jr.</td>\n",
       "      <td>6</td>\n",
       "      <td>Delroy Garrett, Jr. grew up to become a track ...</td>\n",
       "      <td>NaN</td>\n",
       "      <td>85</td>\n",
       "      <td>30</td>\n",
       "      <td>60</td>\n",
       "      <td>60</td>\n",
       "      <td>...</td>\n",
       "      <td>0.0</td>\n",
       "      <td>0.0</td>\n",
       "      <td>0.0</td>\n",
       "      <td>0.0</td>\n",
       "      <td>0.0</td>\n",
       "      <td>1.0</td>\n",
       "      <td>0.0</td>\n",
       "      <td>0.0</td>\n",
       "      <td>0.0</td>\n",
       "      <td>1.0</td>\n",
       "    </tr>\n",
       "    <tr>\n",
       "      <th>1</th>\n",
       "      <td>514A (Gotham)</td>\n",
       "      <td>Bruce Wayne</td>\n",
       "      <td>NaN</td>\n",
       "      <td>10</td>\n",
       "      <td>He was one of the many prisoners of Indian Hil...</td>\n",
       "      <td>NaN</td>\n",
       "      <td>100</td>\n",
       "      <td>20</td>\n",
       "      <td>30</td>\n",
       "      <td>50</td>\n",
       "      <td>...</td>\n",
       "      <td>0.0</td>\n",
       "      <td>0.0</td>\n",
       "      <td>0.0</td>\n",
       "      <td>0.0</td>\n",
       "      <td>1.0</td>\n",
       "      <td>0.0</td>\n",
       "      <td>1.0</td>\n",
       "      <td>0.0</td>\n",
       "      <td>0.0</td>\n",
       "      <td>1.0</td>\n",
       "    </tr>\n",
       "    <tr>\n",
       "      <th>2</th>\n",
       "      <td>A-Bomb</td>\n",
       "      <td>Richard Milhouse Jones</td>\n",
       "      <td>Richard Milhouse Jones</td>\n",
       "      <td>20</td>\n",
       "      <td>Richard \"Rick\" Jones was orphaned at a young ...</td>\n",
       "      <td>On rare occasions, and through unusual circu...</td>\n",
       "      <td>80</td>\n",
       "      <td>100</td>\n",
       "      <td>80</td>\n",
       "      <td>100</td>\n",
       "      <td>...</td>\n",
       "      <td>0.0</td>\n",
       "      <td>1.0</td>\n",
       "      <td>0.0</td>\n",
       "      <td>0.0</td>\n",
       "      <td>1.0</td>\n",
       "      <td>1.0</td>\n",
       "      <td>1.0</td>\n",
       "      <td>1.0</td>\n",
       "      <td>1.0</td>\n",
       "      <td>1.0</td>\n",
       "    </tr>\n",
       "    <tr>\n",
       "      <th>3</th>\n",
       "      <td>Aa</td>\n",
       "      <td>Aa</td>\n",
       "      <td>NaN</td>\n",
       "      <td>12</td>\n",
       "      <td>Aa is one of the more passive members of the P...</td>\n",
       "      <td>NaN</td>\n",
       "      <td>80</td>\n",
       "      <td>50</td>\n",
       "      <td>55</td>\n",
       "      <td>45</td>\n",
       "      <td>...</td>\n",
       "      <td>0.0</td>\n",
       "      <td>0.0</td>\n",
       "      <td>0.0</td>\n",
       "      <td>0.0</td>\n",
       "      <td>0.0</td>\n",
       "      <td>0.0</td>\n",
       "      <td>0.0</td>\n",
       "      <td>0.0</td>\n",
       "      <td>0.0</td>\n",
       "      <td>0.0</td>\n",
       "    </tr>\n",
       "    <tr>\n",
       "      <th>4</th>\n",
       "      <td>Aaron Cash</td>\n",
       "      <td>Aaron Cash</td>\n",
       "      <td>Aaron Cash</td>\n",
       "      <td>5</td>\n",
       "      <td>Aaron Cash is the head of security at Arkham A...</td>\n",
       "      <td>NaN</td>\n",
       "      <td>80</td>\n",
       "      <td>10</td>\n",
       "      <td>25</td>\n",
       "      <td>40</td>\n",
       "      <td>...</td>\n",
       "      <td>0.0</td>\n",
       "      <td>0.0</td>\n",
       "      <td>1.0</td>\n",
       "      <td>0.0</td>\n",
       "      <td>0.0</td>\n",
       "      <td>0.0</td>\n",
       "      <td>0.0</td>\n",
       "      <td>0.0</td>\n",
       "      <td>0.0</td>\n",
       "      <td>0.0</td>\n",
       "    </tr>\n",
       "    <tr>\n",
       "      <th>...</th>\n",
       "      <td>...</td>\n",
       "      <td>...</td>\n",
       "      <td>...</td>\n",
       "      <td>...</td>\n",
       "      <td>...</td>\n",
       "      <td>...</td>\n",
       "      <td>...</td>\n",
       "      <td>...</td>\n",
       "      <td>...</td>\n",
       "      <td>...</td>\n",
       "      <td>...</td>\n",
       "      <td>...</td>\n",
       "      <td>...</td>\n",
       "      <td>...</td>\n",
       "      <td>...</td>\n",
       "      <td>...</td>\n",
       "      <td>...</td>\n",
       "      <td>...</td>\n",
       "      <td>...</td>\n",
       "      <td>...</td>\n",
       "      <td>...</td>\n",
       "    </tr>\n",
       "    <tr>\n",
       "      <th>1445</th>\n",
       "      <td>Zatanna</td>\n",
       "      <td>Zatanna Zatara</td>\n",
       "      <td>Zatanna Zatara</td>\n",
       "      <td>10</td>\n",
       "      <td>Zatanna is the daughter of adventurer John Zat...</td>\n",
       "      <td>Zatanna is genetically talented with her magi...</td>\n",
       "      <td>90</td>\n",
       "      <td>10</td>\n",
       "      <td>25</td>\n",
       "      <td>30</td>\n",
       "      <td>...</td>\n",
       "      <td>0.0</td>\n",
       "      <td>0.0</td>\n",
       "      <td>0.0</td>\n",
       "      <td>0.0</td>\n",
       "      <td>0.0</td>\n",
       "      <td>0.0</td>\n",
       "      <td>0.0</td>\n",
       "      <td>0.0</td>\n",
       "      <td>0.0</td>\n",
       "      <td>0.0</td>\n",
       "    </tr>\n",
       "    <tr>\n",
       "      <th>1446</th>\n",
       "      <td>Zero</td>\n",
       "      <td>DWN-∞: Zero</td>\n",
       "      <td>DWN-∞: Zero</td>\n",
       "      <td>18</td>\n",
       "      <td>Zero was created by the late Dr. Albert Wily ...</td>\n",
       "      <td>NaN</td>\n",
       "      <td>80</td>\n",
       "      <td>100</td>\n",
       "      <td>100</td>\n",
       "      <td>100</td>\n",
       "      <td>...</td>\n",
       "      <td>0.0</td>\n",
       "      <td>1.0</td>\n",
       "      <td>1.0</td>\n",
       "      <td>1.0</td>\n",
       "      <td>1.0</td>\n",
       "      <td>1.0</td>\n",
       "      <td>1.0</td>\n",
       "      <td>1.0</td>\n",
       "      <td>1.0</td>\n",
       "      <td>1.0</td>\n",
       "    </tr>\n",
       "    <tr>\n",
       "      <th>1447</th>\n",
       "      <td>Zoom (New 52)</td>\n",
       "      <td>Hunter Zolomon</td>\n",
       "      <td>NaN</td>\n",
       "      <td>20</td>\n",
       "      <td>Hunter Zolomon is better known as Zoom, a spee...</td>\n",
       "      <td>After tricking Barry Allen and Wally West into...</td>\n",
       "      <td>95</td>\n",
       "      <td>50</td>\n",
       "      <td>100</td>\n",
       "      <td>75</td>\n",
       "      <td>...</td>\n",
       "      <td>0.0</td>\n",
       "      <td>1.0</td>\n",
       "      <td>0.0</td>\n",
       "      <td>1.0</td>\n",
       "      <td>1.0</td>\n",
       "      <td>1.0</td>\n",
       "      <td>1.0</td>\n",
       "      <td>1.0</td>\n",
       "      <td>1.0</td>\n",
       "      <td>1.0</td>\n",
       "    </tr>\n",
       "    <tr>\n",
       "      <th>1448</th>\n",
       "      <td>Zoom</td>\n",
       "      <td>Hunter Zolomon</td>\n",
       "      <td>Hunter Zolomon</td>\n",
       "      <td>9</td>\n",
       "      <td>Hunter Zolomon had a troubled relationship wi...</td>\n",
       "      <td>Zoom is able to alter time, to make himself ev...</td>\n",
       "      <td>75</td>\n",
       "      <td>10</td>\n",
       "      <td>100</td>\n",
       "      <td>30</td>\n",
       "      <td>...</td>\n",
       "      <td>0.0</td>\n",
       "      <td>0.0</td>\n",
       "      <td>0.0</td>\n",
       "      <td>0.0</td>\n",
       "      <td>0.0</td>\n",
       "      <td>1.0</td>\n",
       "      <td>0.0</td>\n",
       "      <td>0.0</td>\n",
       "      <td>0.0</td>\n",
       "      <td>0.0</td>\n",
       "    </tr>\n",
       "    <tr>\n",
       "      <th>1449</th>\n",
       "      <td>Zzzax</td>\n",
       "      <td>NaN</td>\n",
       "      <td>NaN</td>\n",
       "      <td>5</td>\n",
       "      <td>Zzzax was the product of an accident that occu...</td>\n",
       "      <td>NaN</td>\n",
       "      <td>45</td>\n",
       "      <td>80</td>\n",
       "      <td>75</td>\n",
       "      <td>95</td>\n",
       "      <td>...</td>\n",
       "      <td>1.0</td>\n",
       "      <td>0.0</td>\n",
       "      <td>0.0</td>\n",
       "      <td>0.0</td>\n",
       "      <td>0.0</td>\n",
       "      <td>1.0</td>\n",
       "      <td>0.0</td>\n",
       "      <td>0.0</td>\n",
       "      <td>1.0</td>\n",
       "      <td>1.0</td>\n",
       "    </tr>\n",
       "  </tbody>\n",
       "</table>\n",
       "<p>1450 rows × 81 columns</p>\n",
       "</div>"
      ],
      "text/plain": [
       "               name               real_name               full_name  \\\n",
       "0           3-D Man     Delroy Garrett, Jr.     Delroy Garrett, Jr.   \n",
       "1     514A (Gotham)             Bruce Wayne                     NaN   \n",
       "2            A-Bomb  Richard Milhouse Jones  Richard Milhouse Jones   \n",
       "3                Aa                      Aa                     NaN   \n",
       "4        Aaron Cash              Aaron Cash              Aaron Cash   \n",
       "...             ...                     ...                     ...   \n",
       "1445        Zatanna          Zatanna Zatara          Zatanna Zatara   \n",
       "1446           Zero             DWN-∞: Zero             DWN-∞: Zero   \n",
       "1447  Zoom (New 52)          Hunter Zolomon                     NaN   \n",
       "1448           Zoom          Hunter Zolomon          Hunter Zolomon   \n",
       "1449          Zzzax                     NaN                     NaN   \n",
       "\n",
       "     overall_score                                       history_text  \\\n",
       "0                6  Delroy Garrett, Jr. grew up to become a track ...   \n",
       "1               10  He was one of the many prisoners of Indian Hil...   \n",
       "2               20   Richard \"Rick\" Jones was orphaned at a young ...   \n",
       "3               12  Aa is one of the more passive members of the P...   \n",
       "4                5  Aaron Cash is the head of security at Arkham A...   \n",
       "...            ...                                                ...   \n",
       "1445            10  Zatanna is the daughter of adventurer John Zat...   \n",
       "1446            18   Zero was created by the late Dr. Albert Wily ...   \n",
       "1447            20  Hunter Zolomon is better known as Zoom, a spee...   \n",
       "1448             9   Hunter Zolomon had a troubled relationship wi...   \n",
       "1449             5  Zzzax was the product of an accident that occu...   \n",
       "\n",
       "                                            powers_text  intelligence_score  \\\n",
       "0                                                   NaN                  85   \n",
       "1                                                   NaN                 100   \n",
       "2       On rare occasions, and through unusual circu...                  80   \n",
       "3                                                   NaN                  80   \n",
       "4                                                   NaN                  80   \n",
       "...                                                 ...                 ...   \n",
       "1445   Zatanna is genetically talented with her magi...                  90   \n",
       "1446                                                NaN                  80   \n",
       "1447  After tricking Barry Allen and Wally West into...                  95   \n",
       "1448  Zoom is able to alter time, to make himself ev...                  75   \n",
       "1449                                                NaN                  45   \n",
       "\n",
       "      strength_score  speed_score  durability_score  ...  has_flight  \\\n",
       "0                 30           60                60  ...         0.0   \n",
       "1                 20           30                50  ...         0.0   \n",
       "2                100           80               100  ...         0.0   \n",
       "3                 50           55                45  ...         0.0   \n",
       "4                 10           25                40  ...         0.0   \n",
       "...              ...          ...               ...  ...         ...   \n",
       "1445              10           25                30  ...         0.0   \n",
       "1446             100          100               100  ...         0.0   \n",
       "1447              50          100                75  ...         0.0   \n",
       "1448              10          100                30  ...         0.0   \n",
       "1449              80           75                95  ...         1.0   \n",
       "\n",
       "      has_accelerated_healing has_weapons_master has_intelligence  \\\n",
       "0                         0.0                0.0              0.0   \n",
       "1                         0.0                0.0              0.0   \n",
       "2                         1.0                0.0              0.0   \n",
       "3                         0.0                0.0              0.0   \n",
       "4                         0.0                1.0              0.0   \n",
       "...                       ...                ...              ...   \n",
       "1445                      0.0                0.0              0.0   \n",
       "1446                      1.0                1.0              1.0   \n",
       "1447                      1.0                0.0              1.0   \n",
       "1448                      0.0                0.0              0.0   \n",
       "1449                      0.0                0.0              0.0   \n",
       "\n",
       "     has_reflexes has_super_speed has_durability has_stamina has_agility  \\\n",
       "0             0.0             1.0            0.0         0.0         0.0   \n",
       "1             1.0             0.0            1.0         0.0         0.0   \n",
       "2             1.0             1.0            1.0         1.0         1.0   \n",
       "3             0.0             0.0            0.0         0.0         0.0   \n",
       "4             0.0             0.0            0.0         0.0         0.0   \n",
       "...           ...             ...            ...         ...         ...   \n",
       "1445          0.0             0.0            0.0         0.0         0.0   \n",
       "1446          1.0             1.0            1.0         1.0         1.0   \n",
       "1447          1.0             1.0            1.0         1.0         1.0   \n",
       "1448          0.0             1.0            0.0         0.0         0.0   \n",
       "1449          0.0             1.0            0.0         0.0         1.0   \n",
       "\n",
       "     has_super_strength  \n",
       "0                   1.0  \n",
       "1                   1.0  \n",
       "2                   1.0  \n",
       "3                   0.0  \n",
       "4                   0.0  \n",
       "...                 ...  \n",
       "1445                0.0  \n",
       "1446                1.0  \n",
       "1447                1.0  \n",
       "1448                0.0  \n",
       "1449                1.0  \n",
       "\n",
       "[1450 rows x 81 columns]"
      ]
     },
     "execution_count": 2,
     "metadata": {},
     "output_type": "execute_result"
    }
   ],
   "source": [
    "df=pd.read_csv('../input/superheroes-nlp-dataset/superheroes_nlp_dataset.csv')\n",
    "df"
   ]
  },
  {
   "cell_type": "code",
   "execution_count": 3,
   "id": "947d6894",
   "metadata": {
    "_kg_hide-output": true,
    "execution": {
     "iopub.execute_input": "2022-02-19T17:38:06.394051Z",
     "iopub.status.busy": "2022-02-19T17:38:06.393382Z",
     "iopub.status.idle": "2022-02-19T17:38:06.418473Z",
     "shell.execute_reply": "2022-02-19T17:38:06.417552Z",
     "shell.execute_reply.started": "2022-02-19T14:01:51.180899Z"
    },
    "papermill": {
     "duration": 0.103258,
     "end_time": "2022-02-19T17:38:06.418691",
     "exception": false,
     "start_time": "2022-02-19T17:38:06.315433",
     "status": "completed"
    },
    "tags": []
   },
   "outputs": [
    {
     "name": "stdout",
     "output_type": "stream",
     "text": [
      "<class 'pandas.core.frame.DataFrame'>\n",
      "RangeIndex: 1450 entries, 0 to 1449\n",
      "Data columns (total 81 columns):\n",
      " #   Column                            Non-Null Count  Dtype  \n",
      "---  ------                            --------------  -----  \n",
      " 0   name                              1448 non-null   object \n",
      " 1   real_name                         1301 non-null   object \n",
      " 2   full_name                         956 non-null    object \n",
      " 3   overall_score                     1450 non-null   object \n",
      " 4   history_text                      1360 non-null   object \n",
      " 5   powers_text                       1086 non-null   object \n",
      " 6   intelligence_score                1450 non-null   int64  \n",
      " 7   strength_score                    1450 non-null   int64  \n",
      " 8   speed_score                       1450 non-null   int64  \n",
      " 9   durability_score                  1450 non-null   int64  \n",
      " 10  power_score                       1450 non-null   int64  \n",
      " 11  combat_score                      1450 non-null   int64  \n",
      " 12  superpowers                       1450 non-null   object \n",
      " 13  alter_egos                        1450 non-null   object \n",
      " 14  aliases                           1450 non-null   object \n",
      " 15  place_of_birth                    788 non-null    object \n",
      " 16  first_appearance                  1247 non-null   object \n",
      " 17  creator                           1311 non-null   object \n",
      " 18  alignment                         1368 non-null   object \n",
      " 19  occupation                        1014 non-null   object \n",
      " 20  base                              878 non-null    object \n",
      " 21  teams                             1450 non-null   object \n",
      " 22  relatives                         901 non-null    object \n",
      " 23  gender                            1305 non-null   object \n",
      " 24  type_race                         1043 non-null   object \n",
      " 25  height                            1448 non-null   object \n",
      " 26  weight                            1448 non-null   object \n",
      " 27  eye_color                         1186 non-null   object \n",
      " 28  hair_color                        1202 non-null   object \n",
      " 29  skin_color                        173 non-null    object \n",
      " 30  img                               1363 non-null   object \n",
      " 31  has_electrokinesis                1383 non-null   float64\n",
      " 32  has_energy_constructs             1383 non-null   float64\n",
      " 33  has_mind_control_resistance       1383 non-null   float64\n",
      " 34  has_matter_manipulation           1383 non-null   float64\n",
      " 35  has_telepathy_resistance          1383 non-null   float64\n",
      " 36  has_mind_control                  1383 non-null   float64\n",
      " 37  has_enhanced_hearing              1383 non-null   float64\n",
      " 38  has_dimensional_travel            1383 non-null   float64\n",
      " 39  has_element_control               1383 non-null   float64\n",
      " 40  has_size_changing                 1383 non-null   float64\n",
      " 41  has_fire_resistance               1383 non-null   float64\n",
      " 42  has_fire_control                  1383 non-null   float64\n",
      " 43  has_dexterity                     1383 non-null   float64\n",
      " 44  has_reality_warping               1383 non-null   float64\n",
      " 45  has_illusions                     1383 non-null   float64\n",
      " 46  has_energy_beams                  1383 non-null   float64\n",
      " 47  has_peak_human_condition          1383 non-null   float64\n",
      " 48  has_shapeshifting                 1383 non-null   float64\n",
      " 49  has_heat_resistance               1383 non-null   float64\n",
      " 50  has_jump                          1383 non-null   float64\n",
      " 51  has_self-sustenance               1383 non-null   float64\n",
      " 52  has_energy_absorption             1383 non-null   float64\n",
      " 53  has_cold_resistance               1383 non-null   float64\n",
      " 54  has_magic                         1383 non-null   float64\n",
      " 55  has_telekinesis                   1383 non-null   float64\n",
      " 56  has_toxin_and_disease_resistance  1383 non-null   float64\n",
      " 57  has_telepathy                     1383 non-null   float64\n",
      " 58  has_regeneration                  1383 non-null   float64\n",
      " 59  has_immortality                   1383 non-null   float64\n",
      " 60  has_teleportation                 1383 non-null   float64\n",
      " 61  has_force_fields                  1383 non-null   float64\n",
      " 62  has_energy_manipulation           1383 non-null   float64\n",
      " 63  has_endurance                     1383 non-null   float64\n",
      " 64  has_longevity                     1383 non-null   float64\n",
      " 65  has_weapon-based_powers           1383 non-null   float64\n",
      " 66  has_energy_blasts                 1383 non-null   float64\n",
      " 67  has_enhanced_senses               1383 non-null   float64\n",
      " 68  has_invulnerability               1383 non-null   float64\n",
      " 69  has_stealth                       1383 non-null   float64\n",
      " 70  has_marksmanship                  1383 non-null   float64\n",
      " 71  has_flight                        1383 non-null   float64\n",
      " 72  has_accelerated_healing           1383 non-null   float64\n",
      " 73  has_weapons_master                1383 non-null   float64\n",
      " 74  has_intelligence                  1383 non-null   float64\n",
      " 75  has_reflexes                      1383 non-null   float64\n",
      " 76  has_super_speed                   1383 non-null   float64\n",
      " 77  has_durability                    1383 non-null   float64\n",
      " 78  has_stamina                       1383 non-null   float64\n",
      " 79  has_agility                       1383 non-null   float64\n",
      " 80  has_super_strength                1383 non-null   float64\n",
      "dtypes: float64(50), int64(6), object(25)\n",
      "memory usage: 917.7+ KB\n"
     ]
    }
   ],
   "source": [
    "df.info()"
   ]
  },
  {
   "cell_type": "markdown",
   "id": "5d6e7a54",
   "metadata": {
    "papermill": {
     "duration": 0.066909,
     "end_time": "2022-02-19T17:38:06.553778",
     "exception": false,
     "start_time": "2022-02-19T17:38:06.486869",
     "status": "completed"
    },
    "tags": []
   },
   "source": [
    "In this analysis we only use the names and the two text columns. As the columns of history_text and powers_text both have more than a hundred null values, I fill them all by \"NA\"."
   ]
  },
  {
   "cell_type": "code",
   "execution_count": 4,
   "id": "593b59a0",
   "metadata": {
    "execution": {
     "iopub.execute_input": "2022-02-19T17:38:06.694792Z",
     "iopub.status.busy": "2022-02-19T17:38:06.694098Z",
     "iopub.status.idle": "2022-02-19T17:38:06.698262Z",
     "shell.execute_reply": "2022-02-19T17:38:06.697764Z",
     "shell.execute_reply.started": "2022-02-19T14:01:51.211863Z"
    },
    "papermill": {
     "duration": 0.076898,
     "end_time": "2022-02-19T17:38:06.698413",
     "exception": false,
     "start_time": "2022-02-19T17:38:06.621515",
     "status": "completed"
    },
    "tags": []
   },
   "outputs": [],
   "source": [
    "df.fillna(value={'history_text':'NA', 'powers_text':'NA'}, inplace=True)"
   ]
  },
  {
   "cell_type": "code",
   "execution_count": 5,
   "id": "ba776cee",
   "metadata": {
    "execution": {
     "iopub.execute_input": "2022-02-19T17:38:06.845142Z",
     "iopub.status.busy": "2022-02-19T17:38:06.843914Z",
     "iopub.status.idle": "2022-02-19T17:38:06.857691Z",
     "shell.execute_reply": "2022-02-19T17:38:06.858237Z",
     "shell.execute_reply.started": "2022-02-19T14:01:51.222486Z"
    },
    "papermill": {
     "duration": 0.091693,
     "end_time": "2022-02-19T17:38:06.858407",
     "exception": false,
     "start_time": "2022-02-19T17:38:06.766714",
     "status": "completed"
    },
    "tags": []
   },
   "outputs": [],
   "source": [
    "df['text']=df.history_text+' '+df.powers_text"
   ]
  },
  {
   "cell_type": "code",
   "execution_count": 6,
   "id": "5e567088",
   "metadata": {
    "execution": {
     "iopub.execute_input": "2022-02-19T17:38:06.997996Z",
     "iopub.status.busy": "2022-02-19T17:38:06.997266Z",
     "iopub.status.idle": "2022-02-19T17:38:07.002752Z",
     "shell.execute_reply": "2022-02-19T17:38:07.003253Z",
     "shell.execute_reply.started": "2022-02-19T14:01:51.245038Z"
    },
    "papermill": {
     "duration": 0.075858,
     "end_time": "2022-02-19T17:38:07.003426",
     "exception": false,
     "start_time": "2022-02-19T17:38:06.927568",
     "status": "completed"
    },
    "tags": []
   },
   "outputs": [],
   "source": [
    "hero_text=df[['name','text']]"
   ]
  },
  {
   "cell_type": "code",
   "execution_count": 7,
   "id": "155fe5ef",
   "metadata": {
    "execution": {
     "iopub.execute_input": "2022-02-19T17:38:07.145084Z",
     "iopub.status.busy": "2022-02-19T17:38:07.144361Z",
     "iopub.status.idle": "2022-02-19T17:38:07.154931Z",
     "shell.execute_reply": "2022-02-19T17:38:07.155463Z",
     "shell.execute_reply.started": "2022-02-19T14:01:51.253105Z"
    },
    "papermill": {
     "duration": 0.083354,
     "end_time": "2022-02-19T17:38:07.155659",
     "exception": false,
     "start_time": "2022-02-19T17:38:07.072305",
     "status": "completed"
    },
    "tags": []
   },
   "outputs": [
    {
     "data": {
      "text/html": [
       "<div>\n",
       "<style scoped>\n",
       "    .dataframe tbody tr th:only-of-type {\n",
       "        vertical-align: middle;\n",
       "    }\n",
       "\n",
       "    .dataframe tbody tr th {\n",
       "        vertical-align: top;\n",
       "    }\n",
       "\n",
       "    .dataframe thead th {\n",
       "        text-align: right;\n",
       "    }\n",
       "</style>\n",
       "<table border=\"1\" class=\"dataframe\">\n",
       "  <thead>\n",
       "    <tr style=\"text-align: right;\">\n",
       "      <th></th>\n",
       "      <th>name</th>\n",
       "      <th>text</th>\n",
       "    </tr>\n",
       "  </thead>\n",
       "  <tbody>\n",
       "    <tr>\n",
       "      <th>0</th>\n",
       "      <td>3-D Man</td>\n",
       "      <td>Delroy Garrett, Jr. grew up to become a track ...</td>\n",
       "    </tr>\n",
       "    <tr>\n",
       "      <th>1</th>\n",
       "      <td>514A (Gotham)</td>\n",
       "      <td>He was one of the many prisoners of Indian Hil...</td>\n",
       "    </tr>\n",
       "    <tr>\n",
       "      <th>2</th>\n",
       "      <td>A-Bomb</td>\n",
       "      <td>Richard \"Rick\" Jones was orphaned at a young ...</td>\n",
       "    </tr>\n",
       "    <tr>\n",
       "      <th>3</th>\n",
       "      <td>Aa</td>\n",
       "      <td>Aa is one of the more passive members of the P...</td>\n",
       "    </tr>\n",
       "    <tr>\n",
       "      <th>4</th>\n",
       "      <td>Aaron Cash</td>\n",
       "      <td>Aaron Cash is the head of security at Arkham A...</td>\n",
       "    </tr>\n",
       "    <tr>\n",
       "      <th>...</th>\n",
       "      <td>...</td>\n",
       "      <td>...</td>\n",
       "    </tr>\n",
       "    <tr>\n",
       "      <th>1445</th>\n",
       "      <td>Zatanna</td>\n",
       "      <td>Zatanna is the daughter of adventurer John Zat...</td>\n",
       "    </tr>\n",
       "    <tr>\n",
       "      <th>1446</th>\n",
       "      <td>Zero</td>\n",
       "      <td>Zero was created by the late Dr. Albert Wily ...</td>\n",
       "    </tr>\n",
       "    <tr>\n",
       "      <th>1447</th>\n",
       "      <td>Zoom (New 52)</td>\n",
       "      <td>Hunter Zolomon is better known as Zoom, a spee...</td>\n",
       "    </tr>\n",
       "    <tr>\n",
       "      <th>1448</th>\n",
       "      <td>Zoom</td>\n",
       "      <td>Hunter Zolomon had a troubled relationship wi...</td>\n",
       "    </tr>\n",
       "    <tr>\n",
       "      <th>1449</th>\n",
       "      <td>Zzzax</td>\n",
       "      <td>Zzzax was the product of an accident that occu...</td>\n",
       "    </tr>\n",
       "  </tbody>\n",
       "</table>\n",
       "<p>1450 rows × 2 columns</p>\n",
       "</div>"
      ],
      "text/plain": [
       "               name                                               text\n",
       "0           3-D Man  Delroy Garrett, Jr. grew up to become a track ...\n",
       "1     514A (Gotham)  He was one of the many prisoners of Indian Hil...\n",
       "2            A-Bomb   Richard \"Rick\" Jones was orphaned at a young ...\n",
       "3                Aa  Aa is one of the more passive members of the P...\n",
       "4        Aaron Cash  Aaron Cash is the head of security at Arkham A...\n",
       "...             ...                                                ...\n",
       "1445        Zatanna  Zatanna is the daughter of adventurer John Zat...\n",
       "1446           Zero   Zero was created by the late Dr. Albert Wily ...\n",
       "1447  Zoom (New 52)  Hunter Zolomon is better known as Zoom, a spee...\n",
       "1448           Zoom   Hunter Zolomon had a troubled relationship wi...\n",
       "1449          Zzzax  Zzzax was the product of an accident that occu...\n",
       "\n",
       "[1450 rows x 2 columns]"
      ]
     },
     "execution_count": 7,
     "metadata": {},
     "output_type": "execute_result"
    }
   ],
   "source": [
    "hero_text"
   ]
  },
  {
   "cell_type": "markdown",
   "id": "51013fe4",
   "metadata": {
    "papermill": {
     "duration": 0.068273,
     "end_time": "2022-02-19T17:38:07.292399",
     "exception": false,
     "start_time": "2022-02-19T17:38:07.224126",
     "status": "completed"
    },
    "tags": []
   },
   "source": [
    "# Word Embedding Vector and Cosine Similarity"
   ]
  },
  {
   "cell_type": "markdown",
   "id": "99b32f0c",
   "metadata": {
    "papermill": {
     "duration": 0.067437,
     "end_time": "2022-02-19T17:38:07.430592",
     "exception": false,
     "start_time": "2022-02-19T17:38:07.363155",
     "status": "completed"
    },
    "tags": []
   },
   "source": [
    "The nlp library **SpaCy** has the features of word embedding, where every word in their trained model has a vector of 300 dimensions. And it is convenient to use."
   ]
  },
  {
   "cell_type": "code",
   "execution_count": 8,
   "id": "169635b6",
   "metadata": {
    "execution": {
     "iopub.execute_input": "2022-02-19T17:38:07.570191Z",
     "iopub.status.busy": "2022-02-19T17:38:07.569512Z",
     "iopub.status.idle": "2022-02-19T17:38:22.752395Z",
     "shell.execute_reply": "2022-02-19T17:38:22.751747Z",
     "shell.execute_reply.started": "2022-02-19T14:01:51.268426Z"
    },
    "papermill": {
     "duration": 15.254362,
     "end_time": "2022-02-19T17:38:22.752588",
     "exception": false,
     "start_time": "2022-02-19T17:38:07.498226",
     "status": "completed"
    },
    "tags": []
   },
   "outputs": [],
   "source": [
    "import spacy\n",
    "\n",
    "#load the large model to get word vectors\n",
    "nlp = spacy.load('en_core_web_lg')"
   ]
  },
  {
   "cell_type": "markdown",
   "id": "9c89e4d0",
   "metadata": {
    "papermill": {
     "duration": 0.076927,
     "end_time": "2022-02-19T17:38:22.908335",
     "exception": false,
     "start_time": "2022-02-19T17:38:22.831408",
     "status": "completed"
    },
    "tags": []
   },
   "source": [
    "In the vector space of word representation, words of similar meanings are pointing at roughly the same directions, so the cosine of the angle of the two vectors acts as a measure of similarity. We can get the word embedding vectors of the words and use a function to calculate cosine similarity, or use SpaCy's method of **similarity**, which is doing the same thing."
   ]
  },
  {
   "cell_type": "code",
   "execution_count": 9,
   "id": "b86bac4e",
   "metadata": {
    "execution": {
     "iopub.execute_input": "2022-02-19T17:38:23.068053Z",
     "iopub.status.busy": "2022-02-19T17:38:23.067205Z",
     "iopub.status.idle": "2022-02-19T17:38:23.071247Z",
     "shell.execute_reply": "2022-02-19T17:38:23.071914Z",
     "shell.execute_reply.started": "2022-02-19T14:02:05.603601Z"
    },
    "papermill": {
     "duration": 0.085222,
     "end_time": "2022-02-19T17:38:23.072127",
     "exception": false,
     "start_time": "2022-02-19T17:38:22.986905",
     "status": "completed"
    },
    "tags": []
   },
   "outputs": [],
   "source": [
    "def cosine_similarity(a, b):\n",
    "    return a.dot(b)/np.sqrt(a.dot(a) * b.dot(b))"
   ]
  },
  {
   "cell_type": "code",
   "execution_count": 10,
   "id": "ad9b86e7",
   "metadata": {
    "execution": {
     "iopub.execute_input": "2022-02-19T17:38:23.232128Z",
     "iopub.status.busy": "2022-02-19T17:38:23.231448Z",
     "iopub.status.idle": "2022-02-19T17:38:23.269903Z",
     "shell.execute_reply": "2022-02-19T17:38:23.269237Z",
     "shell.execute_reply.started": "2022-02-19T14:02:05.609580Z"
    },
    "papermill": {
     "duration": 0.11918,
     "end_time": "2022-02-19T17:38:23.270048",
     "exception": false,
     "start_time": "2022-02-19T17:38:23.150868",
     "status": "completed"
    },
    "tags": []
   },
   "outputs": [
    {
     "data": {
      "text/plain": [
       "0.7615766"
      ]
     },
     "execution_count": 10,
     "metadata": {},
     "output_type": "execute_result"
    }
   ],
   "source": [
    "cool=nlp('cool').vector\n",
    "text=nlp('awesome').vector\n",
    "cosine_similarity(cool, text)"
   ]
  },
  {
   "cell_type": "code",
   "execution_count": 11,
   "id": "b9a60f80",
   "metadata": {
    "execution": {
     "iopub.execute_input": "2022-02-19T17:38:23.431128Z",
     "iopub.status.busy": "2022-02-19T17:38:23.428184Z",
     "iopub.status.idle": "2022-02-19T17:38:23.448750Z",
     "shell.execute_reply": "2022-02-19T17:38:23.449336Z",
     "shell.execute_reply.started": "2022-02-19T14:02:05.648383Z"
    },
    "papermill": {
     "duration": 0.101409,
     "end_time": "2022-02-19T17:38:23.449508",
     "exception": false,
     "start_time": "2022-02-19T17:38:23.348099",
     "status": "completed"
    },
    "tags": []
   },
   "outputs": [
    {
     "data": {
      "text/plain": [
       "0.7615766136619084"
      ]
     },
     "execution_count": 11,
     "metadata": {},
     "output_type": "execute_result"
    }
   ],
   "source": [
    "a=nlp('cool')\n",
    "b=nlp('awesome')\n",
    "a.similarity(b)"
   ]
  },
  {
   "cell_type": "markdown",
   "id": "8f2bea0a",
   "metadata": {
    "papermill": {
     "duration": 0.079145,
     "end_time": "2022-02-19T17:38:23.607151",
     "exception": false,
     "start_time": "2022-02-19T17:38:23.528006",
     "status": "completed"
    },
    "tags": []
   },
   "source": [
    "SpaCy also has **most_similar** method to get the list of most similar words to a given word vector. I put it into a function."
   ]
  },
  {
   "cell_type": "code",
   "execution_count": 12,
   "id": "85844402",
   "metadata": {
    "execution": {
     "iopub.execute_input": "2022-02-19T17:38:23.768685Z",
     "iopub.status.busy": "2022-02-19T17:38:23.768009Z",
     "iopub.status.idle": "2022-02-19T17:38:23.773848Z",
     "shell.execute_reply": "2022-02-19T17:38:23.774333Z",
     "shell.execute_reply.started": "2022-02-19T14:02:05.668941Z"
    },
    "papermill": {
     "duration": 0.088125,
     "end_time": "2022-02-19T17:38:23.774505",
     "exception": false,
     "start_time": "2022-02-19T17:38:23.686380",
     "status": "completed"
    },
    "tags": []
   },
   "outputs": [],
   "source": [
    "def most_similar_list(text_vec, num):\n",
    "    '''taking the 'text' in vector form and printing the list of most similar words, in which the number is specified by 'num' '''\n",
    "    queries = np.asarray([text_vec])\n",
    "    most_similar = nlp.vocab.vectors.most_similar(queries, n=num)\n",
    "    for i in range(len(most_similar[0][0])):\n",
    "        print(nlp.vocab.strings[most_similar[0][0][i]].ljust(20), most_similar[2][0][i])"
   ]
  },
  {
   "cell_type": "code",
   "execution_count": 13,
   "id": "24157d46",
   "metadata": {
    "execution": {
     "iopub.execute_input": "2022-02-19T17:38:23.936503Z",
     "iopub.status.busy": "2022-02-19T17:38:23.935791Z",
     "iopub.status.idle": "2022-02-19T17:38:26.073957Z",
     "shell.execute_reply": "2022-02-19T17:38:26.073393Z",
     "shell.execute_reply.started": "2022-02-19T14:02:05.676376Z"
    },
    "papermill": {
     "duration": 2.220701,
     "end_time": "2022-02-19T17:38:26.074137",
     "exception": false,
     "start_time": "2022-02-19T17:38:23.853436",
     "status": "completed"
    },
    "tags": []
   },
   "outputs": [
    {
     "name": "stdout",
     "output_type": "stream",
     "text": [
      "COOL                 1.0\n",
      "COol                 1.0\n",
      "cool                 1.0\n",
      "Cool                 1.0\n",
      "CooL                 1.0\n",
      "AWesome              0.7616\n",
      "Awesome              0.7616\n",
      "AWESOME              0.7616\n",
      "AWEsome              0.7616\n",
      "awesome              0.7616\n",
      "nICE                 0.7374\n",
      "nice                 0.7374\n",
      "NICE                 0.7374\n",
      "Nice                 0.7374\n",
      "NIce                 0.7374\n",
      "PRETTY               0.6568\n",
      "Pretty               0.6568\n",
      "pretty               0.6568\n",
      "PRetty               0.6568\n",
      "Fun                  0.6487\n",
      "fun                  0.6487\n",
      "FUN                  0.6487\n",
      "kinda                0.6418\n",
      "Kinda                0.6418\n",
      "KINDA                0.6418\n",
      "neat                 0.6415\n",
      "Neat                 0.6415\n",
      "NEAT                 0.6415\n",
      "amaZing              0.6363\n",
      "amazing              0.6363\n",
      "AMazing              0.6363\n",
      "AMAZING              0.6363\n",
      "Amazing              0.6363\n",
      "Really               0.632\n",
      "REALLY               0.632\n",
      "reAlly               0.632\n",
      "REALLy               0.632\n",
      "REally               0.632\n",
      "really               0.632\n",
      "sO                   0.6226\n",
      "So                   0.6226\n",
      "SO                   0.6226\n",
      "so                   0.6226\n",
      "WARM                 0.6214\n",
      "Warm                 0.6214\n",
      "warm                 0.6214\n",
      "AWSOME               0.6195\n",
      "Awsome               0.6195\n",
      "awsome               0.6195\n",
      "TOo                  0.6193\n",
      "TOO                  0.6193\n",
      "too                  0.6193\n",
      "toO                  0.6193\n",
      "Too                  0.6193\n",
      "ToO                  0.6193\n",
      "STUFF                0.6189\n",
      "Stuff                0.6189\n",
      "stuff                0.6189\n",
      "Cute                 0.6118\n",
      "cute                 0.6118\n",
      "CUTE                 0.6118\n",
      "CuTe                 0.6118\n",
      "coolest              0.6084\n",
      "COOLEST              0.6084\n",
      "Coolest              0.6084\n",
      "Chill                0.6075\n",
      "chill                0.6075\n",
      "CHILL                0.6075\n",
      "FUNNY                0.6073\n",
      "FUnny                0.6073\n",
      "funny                0.6073\n",
      "Funny                0.6073\n",
      "Lol                  0.607\n",
      "lOl                  0.607\n",
      "LoL                  0.607\n",
      "lol                  0.607\n",
      "lOL                  0.607\n",
      "LOL                  0.607\n",
      "LOl                  0.607\n",
      "loL                  0.607\n",
      "great                0.6023\n",
      "Great                0.6023\n",
      "greAt                0.6023\n",
      "GREAT                0.6023\n",
      "GReat                0.6023\n",
      "Weird                0.6017\n",
      "WEIRD                0.6017\n",
      "weird                0.6017\n",
      "SUPER                0.6002\n",
      "super                0.6002\n",
      "Super                0.6002\n",
      "SUper                0.6002\n",
      "LOOK                 0.5991\n",
      "look                 0.5991\n",
      "Look                 0.5991\n",
      "LOOKS                0.5976\n",
      "looks                0.5976\n",
      "Looks                0.5976\n",
      "KIND                 0.596\n",
      "kind                 0.596\n"
     ]
    }
   ],
   "source": [
    "most_similar_list(nlp('cool').vector, 100)"
   ]
  },
  {
   "cell_type": "markdown",
   "id": "ec9ab66f",
   "metadata": {
    "papermill": {
     "duration": 0.07098,
     "end_time": "2022-02-19T17:38:26.216526",
     "exception": false,
     "start_time": "2022-02-19T17:38:26.145546",
     "status": "completed"
    },
    "tags": []
   },
   "source": [
    "The word \"cool\" has multiple meanings of many subtle overtones. In popular usages when we say someone is cool, we usually mean he or she is hip, fashionable, excellent, composed, uniquely at their own, but it can also refer to not enthused, dispassionate and unfriendly, and also moderately cold temperature. The 100 most similar words of cool in SpaCy's large English model have \"cool\" in different spellings at the tops, then followed by \"awesome\", \"nice\", \"pretty\" and \"fun\", which are closer to hip and excellent."
   ]
  },
  {
   "cell_type": "code",
   "execution_count": 14,
   "id": "d571e50d",
   "metadata": {
    "execution": {
     "iopub.execute_input": "2022-02-19T17:38:26.360406Z",
     "iopub.status.busy": "2022-02-19T17:38:26.359721Z",
     "iopub.status.idle": "2022-02-19T17:38:26.487185Z",
     "shell.execute_reply": "2022-02-19T17:38:26.486517Z",
     "shell.execute_reply.started": "2022-02-19T14:02:07.481991Z"
    },
    "papermill": {
     "duration": 0.200537,
     "end_time": "2022-02-19T17:38:26.487347",
     "exception": false,
     "start_time": "2022-02-19T17:38:26.286810",
     "status": "completed"
    },
    "tags": []
   },
   "outputs": [
    {
     "name": "stdout",
     "output_type": "stream",
     "text": [
      "cool                 1.0\n",
      "cold                 0.5644185\n",
      "coolest              0.608426\n",
      "awesome              0.7615766\n",
      "amazing              0.6363099\n",
      "chill                0.6075392\n",
      "confidence           0.16269511\n",
      "composed             0.19751108\n",
      "calm                 0.44255415\n",
      "nonchalant           0.24065392\n",
      "Batman               0.36020163\n",
      "Superman             0.31441408\n",
      "nerd                 0.421054\n",
      "geek                 0.4376547\n",
      "uncool               0.33795375\n",
      "hot                  0.5611704\n",
      "ice                  0.41151524\n",
      "fashion              0.37175122\n"
     ]
    }
   ],
   "source": [
    "wordlist=['cool','cold','coolest','awesome','amazing','chill','confidence','composed','calm','nonchalant','Batman','Superman','nerd','geek',\n",
    "          'uncool','hot','ice','fashion']\n",
    "for word in wordlist:\n",
    "    wordvec=nlp(word).vector\n",
    "    print(word.ljust(20), cosine_similarity(cool, wordvec))"
   ]
  },
  {
   "cell_type": "markdown",
   "id": "0efd5cc1",
   "metadata": {
    "papermill": {
     "duration": 0.072218,
     "end_time": "2022-02-19T17:38:26.630669",
     "exception": false,
     "start_time": "2022-02-19T17:38:26.558451",
     "status": "completed"
    },
    "tags": []
   },
   "source": [
    "And the similarity scores of other words show the side of composed, nonchalant and confidence in cool is ranked low in SpaCy's large English model. While \"nerd\" and \"geek\" are regarded as opposite to cool, their relatively higher similarity scores (above 0.4) are attributed to the fact that they are talked more often together with cool than other unrelated topics. And one interesting thing is \"Batman\" has a higher similar score then \"Superman\", perhaps reflecting in common sayings Batman is cooler than Superman."
   ]
  },
  {
   "cell_type": "markdown",
   "id": "1d285b81",
   "metadata": {
    "papermill": {
     "duration": 0.110183,
     "end_time": "2022-02-19T17:38:26.813295",
     "exception": false,
     "start_time": "2022-02-19T17:38:26.703112",
     "status": "completed"
    },
    "tags": []
   },
   "source": [
    "And for vector representation of sentences, paragraphs and even documents, SpaCy follows the conventional method of using centroid vectors, meaning taking the mean of all tokenized words(including punctuations) of the sentence, paragraph and document. Generally speaking, sentences or paragraphs which contain more of the word \"cool\" or similar meaning words should get higher cosine similarity scores."
   ]
  },
  {
   "cell_type": "code",
   "execution_count": 15,
   "id": "7988bd19",
   "metadata": {
    "execution": {
     "iopub.execute_input": "2022-02-19T17:38:27.004862Z",
     "iopub.status.busy": "2022-02-19T17:38:27.003675Z",
     "iopub.status.idle": "2022-02-19T17:38:27.022899Z",
     "shell.execute_reply": "2022-02-19T17:38:27.023407Z",
     "shell.execute_reply.started": "2022-02-19T14:02:07.596222Z"
    },
    "papermill": {
     "duration": 0.100306,
     "end_time": "2022-02-19T17:38:27.023619",
     "exception": false,
     "start_time": "2022-02-19T17:38:26.923313",
     "status": "completed"
    },
    "tags": []
   },
   "outputs": [
    {
     "name": "stdout",
     "output_type": "stream",
     "text": [
      "0.6795831640320981\n"
     ]
    }
   ],
   "source": [
    "b = nlp('he is very awesome. she is nice and amazing.')\n",
    "print(b.similarity(nlp('cool')))"
   ]
  },
  {
   "cell_type": "markdown",
   "id": "7e624484",
   "metadata": {
    "papermill": {
     "duration": 0.072399,
     "end_time": "2022-02-19T17:38:27.168111",
     "exception": false,
     "start_time": "2022-02-19T17:38:27.095712",
     "status": "completed"
    },
    "tags": []
   },
   "source": [
    "The next two paragraphs for testing are taken from an article on the meaning of cool, while the third one is taken from a news article. And the first two paragraphs do have higher similarity scores with the word 'cool' than the third one."
   ]
  },
  {
   "cell_type": "code",
   "execution_count": 16,
   "id": "db051e32",
   "metadata": {
    "execution": {
     "iopub.execute_input": "2022-02-19T17:38:27.323198Z",
     "iopub.status.busy": "2022-02-19T17:38:27.322013Z",
     "iopub.status.idle": "2022-02-19T17:38:27.362668Z",
     "shell.execute_reply": "2022-02-19T17:38:27.362133Z",
     "shell.execute_reply.started": "2022-02-19T14:02:07.619300Z"
    },
    "papermill": {
     "duration": 0.122432,
     "end_time": "2022-02-19T17:38:27.362836",
     "exception": false,
     "start_time": "2022-02-19T17:38:27.240404",
     "status": "completed"
    },
    "tags": []
   },
   "outputs": [
    {
     "name": "stdout",
     "output_type": "stream",
     "text": [
      "0.6362329653887256\n"
     ]
    }
   ],
   "source": [
    "b = nlp(\"It’s tough to define the exact qualities that make someone cool, since pretty much everyone has a different idea of what 'cool' is. For some, it’s a leather-coat-wearing motorcyclist on an open road. For others, it’s the lead singer of a band, an English major surrounded by books, or a really chic neighbor who always burns the best incense. These people are wildly different, and yet they can all be considered cool because they project something special — a certain je ne sais quoi — that makes them stand out.\")\n",
    "print(b.similarity(nlp('cool')))"
   ]
  },
  {
   "cell_type": "code",
   "execution_count": 17,
   "id": "44d8183a",
   "metadata": {
    "execution": {
     "iopub.execute_input": "2022-02-19T17:38:27.508203Z",
     "iopub.status.busy": "2022-02-19T17:38:27.507530Z",
     "iopub.status.idle": "2022-02-19T17:38:27.542233Z",
     "shell.execute_reply": "2022-02-19T17:38:27.542808Z",
     "shell.execute_reply.started": "2022-02-19T14:02:07.664663Z"
    },
    "papermill": {
     "duration": 0.109238,
     "end_time": "2022-02-19T17:38:27.543053",
     "exception": false,
     "start_time": "2022-02-19T17:38:27.433815",
     "status": "completed"
    },
    "tags": []
   },
   "outputs": [
    {
     "name": "stdout",
     "output_type": "stream",
     "text": [
      "0.5910140438438523\n"
     ]
    }
   ],
   "source": [
    "b = nlp('You know you’re in the presence of a cool person when you feel at ease. The reason? “Cool people are present, focused, and interested in those around them,” Romanoff says. They listen, they try to understand — and as a result, they help everyone feel seen and understood.')\n",
    "print(b.similarity(nlp('cool')))"
   ]
  },
  {
   "cell_type": "code",
   "execution_count": 18,
   "id": "7aab062e",
   "metadata": {
    "execution": {
     "iopub.execute_input": "2022-02-19T17:38:27.716029Z",
     "iopub.status.busy": "2022-02-19T17:38:27.715186Z",
     "iopub.status.idle": "2022-02-19T17:38:27.749157Z",
     "shell.execute_reply": "2022-02-19T17:38:27.749838Z",
     "shell.execute_reply.started": "2022-02-19T14:02:07.696124Z"
    },
    "papermill": {
     "duration": 0.121022,
     "end_time": "2022-02-19T17:38:27.750152",
     "exception": false,
     "start_time": "2022-02-19T17:38:27.629130",
     "status": "completed"
    },
    "tags": []
   },
   "outputs": [
    {
     "name": "stdout",
     "output_type": "stream",
     "text": [
      "0.48815137638105816\n"
     ]
    }
   ],
   "source": [
    "b = nlp('Her visit comes after three high-level diplomatic meetings last week ended with Russian troops still on Ukraine’s borders, but no definitive sign whether Putin would risk a military incursion or instead start talks with the US about arms control in Europe, a more limited agenda than his call for a redrawing of the security architecture of Europe.')\n",
    "print(b.similarity(nlp('cool')))"
   ]
  },
  {
   "cell_type": "markdown",
   "id": "f224144d",
   "metadata": {
    "papermill": {
     "duration": 0.083902,
     "end_time": "2022-02-19T17:38:27.919227",
     "exception": false,
     "start_time": "2022-02-19T17:38:27.835325",
     "status": "completed"
    },
    "tags": []
   },
   "source": [
    "# First Attempt: Ranking the Raw Texts by Cosine Similarity Scores with the Word \"Cool\""
   ]
  },
  {
   "cell_type": "markdown",
   "id": "e7642591",
   "metadata": {
    "papermill": {
     "duration": 0.083578,
     "end_time": "2022-02-19T17:38:28.088135",
     "exception": false,
     "start_time": "2022-02-19T17:38:28.004557",
     "status": "completed"
    },
    "tags": []
   },
   "source": [
    "For now it seems to be a promising approach. So a simple way of determining who is the coolest superhero is to get each one's text description tokenized and get the centroid vector, then calculate the cosine similarity with the word \"cool\" as a \"cool score\" and get them ranked. Is it that simple? Let's see how it goes."
   ]
  },
  {
   "cell_type": "code",
   "execution_count": 19,
   "id": "073082a3",
   "metadata": {
    "execution": {
     "iopub.execute_input": "2022-02-19T17:38:28.257773Z",
     "iopub.status.busy": "2022-02-19T17:38:28.257057Z",
     "iopub.status.idle": "2022-02-19T17:42:52.157242Z",
     "shell.execute_reply": "2022-02-19T17:42:52.157841Z",
     "shell.execute_reply.started": "2022-02-19T14:02:07.729528Z"
    },
    "papermill": {
     "duration": 263.98613,
     "end_time": "2022-02-19T17:42:52.158230",
     "exception": false,
     "start_time": "2022-02-19T17:38:28.172100",
     "status": "completed"
    },
    "tags": []
   },
   "outputs": [
    {
     "name": "stderr",
     "output_type": "stream",
     "text": [
      "/opt/conda/lib/python3.7/site-packages/ipykernel_launcher.py:2: SettingWithCopyWarning: \n",
      "A value is trying to be set on a copy of a slice from a DataFrame.\n",
      "Try using .loc[row_indexer,col_indexer] = value instead\n",
      "\n",
      "See the caveats in the documentation: https://pandas.pydata.org/pandas-docs/stable/user_guide/indexing.html#returning-a-view-versus-a-copy\n",
      "  \n"
     ]
    }
   ],
   "source": [
    "with nlp.disable_pipes():\n",
    "    hero_text['cool_score']=hero_text.apply(lambda r: nlp('cool').similarity(nlp(str(r.text))), axis=1)"
   ]
  },
  {
   "cell_type": "code",
   "execution_count": 20,
   "id": "fe8be497",
   "metadata": {
    "execution": {
     "iopub.execute_input": "2022-02-19T17:42:52.306963Z",
     "iopub.status.busy": "2022-02-19T17:42:52.306220Z",
     "iopub.status.idle": "2022-02-19T17:42:52.318292Z",
     "shell.execute_reply": "2022-02-19T17:42:52.318775Z",
     "shell.execute_reply.started": "2022-02-19T14:06:30.126868Z"
    },
    "papermill": {
     "duration": 0.090276,
     "end_time": "2022-02-19T17:42:52.318948",
     "exception": false,
     "start_time": "2022-02-19T17:42:52.228672",
     "status": "completed"
    },
    "tags": []
   },
   "outputs": [
    {
     "data": {
      "text/html": [
       "<div>\n",
       "<style scoped>\n",
       "    .dataframe tbody tr th:only-of-type {\n",
       "        vertical-align: middle;\n",
       "    }\n",
       "\n",
       "    .dataframe tbody tr th {\n",
       "        vertical-align: top;\n",
       "    }\n",
       "\n",
       "    .dataframe thead th {\n",
       "        text-align: right;\n",
       "    }\n",
       "</style>\n",
       "<table border=\"1\" class=\"dataframe\">\n",
       "  <thead>\n",
       "    <tr style=\"text-align: right;\">\n",
       "      <th></th>\n",
       "      <th>name</th>\n",
       "      <th>text</th>\n",
       "      <th>cool_score</th>\n",
       "    </tr>\n",
       "  </thead>\n",
       "  <tbody>\n",
       "    <tr>\n",
       "      <th>1071</th>\n",
       "      <td>Red Mist</td>\n",
       "      <td>The Red Mist was another teenager following th...</td>\n",
       "      <td>0.592707</td>\n",
       "    </tr>\n",
       "    <tr>\n",
       "      <th>615</th>\n",
       "      <td>Hulk (Stark Gauntlet) (MCU)</td>\n",
       "      <td>After Tony created a new gaunlet Hulk uses it ...</td>\n",
       "      <td>0.592674</td>\n",
       "    </tr>\n",
       "    <tr>\n",
       "      <th>126</th>\n",
       "      <td>Batgirl (New 52)</td>\n",
       "      <td>NA Barbara is very intellegent she is one of t...</td>\n",
       "      <td>0.590817</td>\n",
       "    </tr>\n",
       "    <tr>\n",
       "      <th>758</th>\n",
       "      <td>Kool-Aid Man</td>\n",
       "      <td>Before he was officially the Kool-Aid Man in 1...</td>\n",
       "      <td>0.589922</td>\n",
       "    </tr>\n",
       "    <tr>\n",
       "      <th>1332</th>\n",
       "      <td>Trickster II</td>\n",
       "      <td>Axel Walker was the second villain to be calle...</td>\n",
       "      <td>0.585122</td>\n",
       "    </tr>\n",
       "    <tr>\n",
       "      <th>852</th>\n",
       "      <td>Mario</td>\n",
       "      <td>Early Life The Stork was carrying Mario and Lu...</td>\n",
       "      <td>0.583821</td>\n",
       "    </tr>\n",
       "    <tr>\n",
       "      <th>542</th>\n",
       "      <td>Green Goblin (2099)</td>\n",
       "      <td>The Goblin of the year 2099 wanted to take Spi...</td>\n",
       "      <td>0.583415</td>\n",
       "    </tr>\n",
       "    <tr>\n",
       "      <th>1055</th>\n",
       "      <td>Rainbow Rider</td>\n",
       "      <td>Roy G. Bivolo was a daltonic kid whose parents...</td>\n",
       "      <td>0.583311</td>\n",
       "    </tr>\n",
       "    <tr>\n",
       "      <th>713</th>\n",
       "      <td>Kai (The LEGO Ninjago Movie)</td>\n",
       "      <td>Kai's attitude is more serious, like Cole in t...</td>\n",
       "      <td>0.581369</td>\n",
       "    </tr>\n",
       "    <tr>\n",
       "      <th>627</th>\n",
       "      <td>Iceman (FOX)</td>\n",
       "      <td>Bobby lived with his mother, father and younge...</td>\n",
       "      <td>0.578471</td>\n",
       "    </tr>\n",
       "  </tbody>\n",
       "</table>\n",
       "</div>"
      ],
      "text/plain": [
       "                              name  \\\n",
       "1071                      Red Mist   \n",
       "615    Hulk (Stark Gauntlet) (MCU)   \n",
       "126               Batgirl (New 52)   \n",
       "758                   Kool-Aid Man   \n",
       "1332                  Trickster II   \n",
       "852                          Mario   \n",
       "542            Green Goblin (2099)   \n",
       "1055                 Rainbow Rider   \n",
       "713   Kai (The LEGO Ninjago Movie)   \n",
       "627                   Iceman (FOX)   \n",
       "\n",
       "                                                   text  cool_score  \n",
       "1071  The Red Mist was another teenager following th...    0.592707  \n",
       "615   After Tony created a new gaunlet Hulk uses it ...    0.592674  \n",
       "126   NA Barbara is very intellegent she is one of t...    0.590817  \n",
       "758   Before he was officially the Kool-Aid Man in 1...    0.589922  \n",
       "1332  Axel Walker was the second villain to be calle...    0.585122  \n",
       "852   Early Life The Stork was carrying Mario and Lu...    0.583821  \n",
       "542   The Goblin of the year 2099 wanted to take Spi...    0.583415  \n",
       "1055  Roy G. Bivolo was a daltonic kid whose parents...    0.583311  \n",
       "713   Kai's attitude is more serious, like Cole in t...    0.581369  \n",
       "627   Bobby lived with his mother, father and younge...    0.578471  "
      ]
     },
     "execution_count": 20,
     "metadata": {},
     "output_type": "execute_result"
    }
   ],
   "source": [
    "hero_text.sort_values(by='cool_score', ascending=False).head(10)"
   ]
  },
  {
   "cell_type": "code",
   "execution_count": 21,
   "id": "e80891e2",
   "metadata": {
    "_kg_hide-input": true,
    "execution": {
     "iopub.execute_input": "2022-02-19T17:42:52.484222Z",
     "iopub.status.busy": "2022-02-19T17:42:52.483468Z",
     "iopub.status.idle": "2022-02-19T17:42:53.105411Z",
     "shell.execute_reply": "2022-02-19T17:42:53.104885Z",
     "shell.execute_reply.started": "2022-02-19T14:06:30.144953Z"
    },
    "papermill": {
     "duration": 0.714772,
     "end_time": "2022-02-19T17:42:53.105556",
     "exception": false,
     "start_time": "2022-02-19T17:42:52.390784",
     "status": "completed"
    },
    "tags": []
   },
   "outputs": [
    {
     "data": {
      "image/jpeg": "[encoded data removed]",
      "text/plain": [
       "<IPython.core.display.Image object>"
      ]
     },
     "execution_count": 21,
     "metadata": {},
     "output_type": "execute_result"
    }
   ],
   "source": [
    "#codes adapted from Jonathan Besomi\n",
    "Red_Mist = df.query(\"name == 'Red Mist'\")\n",
    "Red_Mist_img = \"https://www.superherodb.com\" + Red_Mist['img'].values[0]\n",
    "\n",
    "import requests\n",
    "import IPython.display as Disp\n",
    "Disp.Image(requests.get(Red_Mist_img).content)"
   ]
  },
  {
   "cell_type": "markdown",
   "id": "db102dcf",
   "metadata": {
    "papermill": {
     "duration": 0.071479,
     "end_time": "2022-02-19T17:42:53.249464",
     "exception": false,
     "start_time": "2022-02-19T17:42:53.177985",
     "status": "completed"
    },
    "tags": []
   },
   "source": [
    "So for this first trial, the Red Mist is the coolest superhero. I make a function to display the text description of selected superhero and also the tokens in the text that have highest similarity scores with the word \"cool\". In the case of Red Mist, there is a direct reference stating he has \"cooler appearance\", but stop words like \"but\" and \"some\" also get moderately high similarity scores."
   ]
  },
  {
   "cell_type": "code",
   "execution_count": 22,
   "id": "cefca1f4",
   "metadata": {
    "execution": {
     "iopub.execute_input": "2022-02-19T17:42:53.397681Z",
     "iopub.status.busy": "2022-02-19T17:42:53.396985Z",
     "iopub.status.idle": "2022-02-19T17:42:53.402390Z",
     "shell.execute_reply": "2022-02-19T17:42:53.402946Z",
     "shell.execute_reply.started": "2022-02-19T14:06:30.769052Z"
    },
    "papermill": {
     "duration": 0.080901,
     "end_time": "2022-02-19T17:42:53.403117",
     "exception": false,
     "start_time": "2022-02-19T17:42:53.322216",
     "status": "completed"
    },
    "tags": []
   },
   "outputs": [],
   "source": [
    "def print_content_and_top_words(df, column, row):\n",
    "    b=nlp(df.loc[row, column])\n",
    "    a=nlp('cool')\n",
    "    token_similarity=pd.DataFrame([token, token.similarity(a)] for token in b if token.has_vector)\n",
    "    token_similarity.columns=['token','similar_score']\n",
    "    print(df.loc[row, column])\n",
    "    display(token_similarity.sort_values(by='similar_score', ascending=False).head(10))"
   ]
  },
  {
   "cell_type": "code",
   "execution_count": 23,
   "id": "6b787888",
   "metadata": {
    "execution": {
     "iopub.execute_input": "2022-02-19T17:42:53.549137Z",
     "iopub.status.busy": "2022-02-19T17:42:53.548489Z",
     "iopub.status.idle": "2022-02-19T17:42:53.608918Z",
     "shell.execute_reply": "2022-02-19T17:42:53.609364Z",
     "shell.execute_reply.started": "2022-02-19T14:06:30.778061Z"
    },
    "papermill": {
     "duration": 0.13497,
     "end_time": "2022-02-19T17:42:53.609555",
     "exception": false,
     "start_time": "2022-02-19T17:42:53.474585",
     "status": "completed"
    },
    "tags": []
   },
   "outputs": [
    {
     "name": "stdout",
     "output_type": "stream",
     "text": [
      "The Red Mist was another teenager following the example of Kick-Ass. But his cooler appearance stole some Kick-Ass fandom. Trying to settle things right, Dave tried to talk to him and force Red Mist to give up his super hero identity but in the end they decided to team-up when a building was on fire.   When Kick-Ass was visited by Hit-Girl and Big Daddy, Red Mist was reluctant to join their team. Both friends were in they way to meet Hit-Girl and her father in their headquarters ready to make a counter offer. But what they saw was a heavenly wounded Big Daddy pleading for help at the hands of Johnny G. At that precise moment, Red Mist was exposed not only as a traitor who set the heroes up but as Johnny G's son. NA\n"
     ]
    },
    {
     "data": {
      "text/html": [
       "<div>\n",
       "<style scoped>\n",
       "    .dataframe tbody tr th:only-of-type {\n",
       "        vertical-align: middle;\n",
       "    }\n",
       "\n",
       "    .dataframe tbody tr th {\n",
       "        vertical-align: top;\n",
       "    }\n",
       "\n",
       "    .dataframe thead th {\n",
       "        text-align: right;\n",
       "    }\n",
       "</style>\n",
       "<table border=\"1\" class=\"dataframe\">\n",
       "  <thead>\n",
       "    <tr style=\"text-align: right;\">\n",
       "      <th></th>\n",
       "      <th>token</th>\n",
       "      <th>similar_score</th>\n",
       "    </tr>\n",
       "  </thead>\n",
       "  <tbody>\n",
       "    <tr>\n",
       "      <th>45</th>\n",
       "      <td>super</td>\n",
       "      <td>0.600200</td>\n",
       "    </tr>\n",
       "    <tr>\n",
       "      <th>16</th>\n",
       "      <td>cooler</td>\n",
       "      <td>0.587706</td>\n",
       "    </tr>\n",
       "    <tr>\n",
       "      <th>93</th>\n",
       "      <td>way</td>\n",
       "      <td>0.548841</td>\n",
       "    </tr>\n",
       "    <tr>\n",
       "      <th>14</th>\n",
       "      <td>But</td>\n",
       "      <td>0.536709</td>\n",
       "    </tr>\n",
       "    <tr>\n",
       "      <th>48</th>\n",
       "      <td>but</td>\n",
       "      <td>0.536709</td>\n",
       "    </tr>\n",
       "    <tr>\n",
       "      <th>112</th>\n",
       "      <td>But</td>\n",
       "      <td>0.536709</td>\n",
       "    </tr>\n",
       "    <tr>\n",
       "      <th>150</th>\n",
       "      <td>but</td>\n",
       "      <td>0.536709</td>\n",
       "    </tr>\n",
       "    <tr>\n",
       "      <th>19</th>\n",
       "      <td>some</td>\n",
       "      <td>0.524228</td>\n",
       "    </tr>\n",
       "    <tr>\n",
       "      <th>28</th>\n",
       "      <td>things</td>\n",
       "      <td>0.522775</td>\n",
       "    </tr>\n",
       "    <tr>\n",
       "      <th>107</th>\n",
       "      <td>make</td>\n",
       "      <td>0.518917</td>\n",
       "    </tr>\n",
       "  </tbody>\n",
       "</table>\n",
       "</div>"
      ],
      "text/plain": [
       "      token  similar_score\n",
       "45    super       0.600200\n",
       "16   cooler       0.587706\n",
       "93      way       0.548841\n",
       "14      But       0.536709\n",
       "48      but       0.536709\n",
       "112     But       0.536709\n",
       "150     but       0.536709\n",
       "19     some       0.524228\n",
       "28   things       0.522775\n",
       "107    make       0.518917"
      ]
     },
     "metadata": {},
     "output_type": "display_data"
    }
   ],
   "source": [
    "print_content_and_top_words(hero_text, 'text', 1071)"
   ]
  },
  {
   "cell_type": "code",
   "execution_count": 24,
   "id": "64a7fa04",
   "metadata": {
    "execution": {
     "iopub.execute_input": "2022-02-19T17:42:53.760568Z",
     "iopub.status.busy": "2022-02-19T17:42:53.759943Z",
     "iopub.status.idle": "2022-02-19T17:42:53.785391Z",
     "shell.execute_reply": "2022-02-19T17:42:53.784756Z",
     "shell.execute_reply.started": "2022-02-19T14:06:30.849411Z"
    },
    "papermill": {
     "duration": 0.103152,
     "end_time": "2022-02-19T17:42:53.785529",
     "exception": false,
     "start_time": "2022-02-19T17:42:53.682377",
     "status": "completed"
    },
    "tags": []
   },
   "outputs": [
    {
     "name": "stdout",
     "output_type": "stream",
     "text": [
      "After Tony created a new gaunlet Hulk uses it to revive everyone. NA\n"
     ]
    },
    {
     "data": {
      "text/html": [
       "<div>\n",
       "<style scoped>\n",
       "    .dataframe tbody tr th:only-of-type {\n",
       "        vertical-align: middle;\n",
       "    }\n",
       "\n",
       "    .dataframe tbody tr th {\n",
       "        vertical-align: top;\n",
       "    }\n",
       "\n",
       "    .dataframe thead th {\n",
       "        text-align: right;\n",
       "    }\n",
       "</style>\n",
       "<table border=\"1\" class=\"dataframe\">\n",
       "  <thead>\n",
       "    <tr style=\"text-align: right;\">\n",
       "      <th></th>\n",
       "      <th>token</th>\n",
       "      <th>similar_score</th>\n",
       "    </tr>\n",
       "  </thead>\n",
       "  <tbody>\n",
       "    <tr>\n",
       "      <th>8</th>\n",
       "      <td>it</td>\n",
       "      <td>0.541804</td>\n",
       "    </tr>\n",
       "    <tr>\n",
       "      <th>11</th>\n",
       "      <td>everyone</td>\n",
       "      <td>0.523846</td>\n",
       "    </tr>\n",
       "    <tr>\n",
       "      <th>3</th>\n",
       "      <td>a</td>\n",
       "      <td>0.411081</td>\n",
       "    </tr>\n",
       "    <tr>\n",
       "      <th>4</th>\n",
       "      <td>new</td>\n",
       "      <td>0.409951</td>\n",
       "    </tr>\n",
       "    <tr>\n",
       "      <th>12</th>\n",
       "      <td>.</td>\n",
       "      <td>0.391355</td>\n",
       "    </tr>\n",
       "    <tr>\n",
       "      <th>9</th>\n",
       "      <td>to</td>\n",
       "      <td>0.380088</td>\n",
       "    </tr>\n",
       "    <tr>\n",
       "      <th>2</th>\n",
       "      <td>created</td>\n",
       "      <td>0.333128</td>\n",
       "    </tr>\n",
       "    <tr>\n",
       "      <th>7</th>\n",
       "      <td>uses</td>\n",
       "      <td>0.301719</td>\n",
       "    </tr>\n",
       "    <tr>\n",
       "      <th>0</th>\n",
       "      <td>After</td>\n",
       "      <td>0.267998</td>\n",
       "    </tr>\n",
       "    <tr>\n",
       "      <th>1</th>\n",
       "      <td>Tony</td>\n",
       "      <td>0.250260</td>\n",
       "    </tr>\n",
       "  </tbody>\n",
       "</table>\n",
       "</div>"
      ],
      "text/plain": [
       "       token  similar_score\n",
       "8         it       0.541804\n",
       "11  everyone       0.523846\n",
       "3          a       0.411081\n",
       "4        new       0.409951\n",
       "12         .       0.391355\n",
       "9         to       0.380088\n",
       "2    created       0.333128\n",
       "7       uses       0.301719\n",
       "0      After       0.267998\n",
       "1       Tony       0.250260"
      ]
     },
     "metadata": {},
     "output_type": "display_data"
    }
   ],
   "source": [
    "print_content_and_top_words(hero_text, 'text', 615)"
   ]
  },
  {
   "cell_type": "code",
   "execution_count": 25,
   "id": "1dd55345",
   "metadata": {
    "execution": {
     "iopub.execute_input": "2022-02-19T17:42:53.940170Z",
     "iopub.status.busy": "2022-02-19T17:42:53.939448Z",
     "iopub.status.idle": "2022-02-19T17:42:53.968202Z",
     "shell.execute_reply": "2022-02-19T17:42:53.968773Z",
     "shell.execute_reply.started": "2022-02-19T14:06:30.882804Z"
    },
    "papermill": {
     "duration": 0.109435,
     "end_time": "2022-02-19T17:42:53.968952",
     "exception": false,
     "start_time": "2022-02-19T17:42:53.859517",
     "status": "completed"
    },
    "tags": []
   },
   "outputs": [
    {
     "name": "stdout",
     "output_type": "stream",
     "text": [
      "NA Barbara is very intellegent she is one of the smartest dc characters . She is also a very good fighter and has many gadgetsand weapons.\n"
     ]
    },
    {
     "data": {
      "text/html": [
       "<div>\n",
       "<style scoped>\n",
       "    .dataframe tbody tr th:only-of-type {\n",
       "        vertical-align: middle;\n",
       "    }\n",
       "\n",
       "    .dataframe tbody tr th {\n",
       "        vertical-align: top;\n",
       "    }\n",
       "\n",
       "    .dataframe thead th {\n",
       "        text-align: right;\n",
       "    }\n",
       "</style>\n",
       "<table border=\"1\" class=\"dataframe\">\n",
       "  <thead>\n",
       "    <tr style=\"text-align: right;\">\n",
       "      <th></th>\n",
       "      <th>token</th>\n",
       "      <th>similar_score</th>\n",
       "    </tr>\n",
       "  </thead>\n",
       "  <tbody>\n",
       "    <tr>\n",
       "      <th>19</th>\n",
       "      <td>good</td>\n",
       "      <td>0.594249</td>\n",
       "    </tr>\n",
       "    <tr>\n",
       "      <th>3</th>\n",
       "      <td>very</td>\n",
       "      <td>0.587075</td>\n",
       "    </tr>\n",
       "    <tr>\n",
       "      <th>18</th>\n",
       "      <td>very</td>\n",
       "      <td>0.587075</td>\n",
       "    </tr>\n",
       "    <tr>\n",
       "      <th>7</th>\n",
       "      <td>one</td>\n",
       "      <td>0.455783</td>\n",
       "    </tr>\n",
       "    <tr>\n",
       "      <th>17</th>\n",
       "      <td>a</td>\n",
       "      <td>0.411081</td>\n",
       "    </tr>\n",
       "    <tr>\n",
       "      <th>15</th>\n",
       "      <td>is</td>\n",
       "      <td>0.399207</td>\n",
       "    </tr>\n",
       "    <tr>\n",
       "      <th>2</th>\n",
       "      <td>is</td>\n",
       "      <td>0.399207</td>\n",
       "    </tr>\n",
       "    <tr>\n",
       "      <th>6</th>\n",
       "      <td>is</td>\n",
       "      <td>0.399207</td>\n",
       "    </tr>\n",
       "    <tr>\n",
       "      <th>13</th>\n",
       "      <td>.</td>\n",
       "      <td>0.391355</td>\n",
       "    </tr>\n",
       "    <tr>\n",
       "      <th>25</th>\n",
       "      <td>.</td>\n",
       "      <td>0.391355</td>\n",
       "    </tr>\n",
       "  </tbody>\n",
       "</table>\n",
       "</div>"
      ],
      "text/plain": [
       "   token  similar_score\n",
       "19  good       0.594249\n",
       "3   very       0.587075\n",
       "18  very       0.587075\n",
       "7    one       0.455783\n",
       "17     a       0.411081\n",
       "15    is       0.399207\n",
       "2     is       0.399207\n",
       "6     is       0.399207\n",
       "13     .       0.391355\n",
       "25     .       0.391355"
      ]
     },
     "metadata": {},
     "output_type": "display_data"
    }
   ],
   "source": [
    "print_content_and_top_words(hero_text, 'text', 126)"
   ]
  },
  {
   "cell_type": "markdown",
   "id": "1f60fb25",
   "metadata": {
    "papermill": {
     "duration": 0.074903,
     "end_time": "2022-02-19T17:42:54.119858",
     "exception": false,
     "start_time": "2022-02-19T17:42:54.044955",
     "status": "completed"
    },
    "tags": []
   },
   "source": [
    "The second placed Hulk (Stark Gauntlet) (MCU) and third placed Batgirl (New 52) fare worse. Both descriptions are extremely short, but with some common words which have fairly high similarity scores with \"cool\" like \"it\", \"everyone\", \"good\" and \"very\", they are ranked high in \"cool score\". It is not convincing, and indicates that the current approach of getting centroid vector to represent a text in it's raw state is discriminating against long descriptions. A long text may say about ten things about a superhero, while it may have some good words on coolness, but the talk of other nine things dilutes so much that the whole text gets a low similarity score. "
   ]
  },
  {
   "cell_type": "markdown",
   "id": "f194f10c",
   "metadata": {
    "papermill": {
     "duration": 0.074616,
     "end_time": "2022-02-19T17:42:54.269835",
     "exception": false,
     "start_time": "2022-02-19T17:42:54.195219",
     "status": "completed"
    },
    "tags": []
   },
   "source": [
    "# Second Attempt: TF-IDF Weighted Document Embedding Vectors"
   ]
  },
  {
   "cell_type": "markdown",
   "id": "2690372b",
   "metadata": {
    "papermill": {
     "duration": 0.075137,
     "end_time": "2022-02-19T17:42:54.421115",
     "exception": false,
     "start_time": "2022-02-19T17:42:54.345978",
     "status": "completed"
    },
    "tags": []
   },
   "source": [
    "A better approach may be to clean the text first and suppress the weighing of words that are common across documents by means like TF-IDF. In creating TF-IDF weighted word embeddings for documents, I adopt the codes of [John Cardente](http://dsgeek.com/2018/02/19/tfidf_vectors.html)."
   ]
  },
  {
   "cell_type": "code",
   "execution_count": 26,
   "id": "01a2696f",
   "metadata": {
    "execution": {
     "iopub.execute_input": "2022-02-19T17:42:54.575110Z",
     "iopub.status.busy": "2022-02-19T17:42:54.574087Z",
     "iopub.status.idle": "2022-02-19T17:46:56.856355Z",
     "shell.execute_reply": "2022-02-19T17:46:56.857032Z",
     "shell.execute_reply.started": "2022-02-19T14:06:30.924368Z"
    },
    "papermill": {
     "duration": 242.361318,
     "end_time": "2022-02-19T17:46:56.857385",
     "exception": false,
     "start_time": "2022-02-19T17:42:54.496067",
     "status": "completed"
    },
    "tags": []
   },
   "outputs": [],
   "source": [
    "def keep_token(t):\n",
    "    '''filter out spaces, punctuation marks, stop words and numbers'''\n",
    "    return (t.is_alpha and \n",
    "            not (t.is_space or t.is_punct or \n",
    "                 t.is_stop or t.like_num))\n",
    "\n",
    "def lemmatize_doc(doc):\n",
    "    '''lemmatize the words'''\n",
    "    return [ t.lemma_ for t in doc if keep_token(t)]\n",
    "\n",
    "docs = [lemmatize_doc(nlp(doc)) for doc in hero_text.text]  #create the list of all cleaned text"
   ]
  },
  {
   "cell_type": "code",
   "execution_count": 27,
   "id": "bc7ef1fc",
   "metadata": {
    "execution": {
     "iopub.execute_input": "2022-02-19T17:46:57.013558Z",
     "iopub.status.busy": "2022-02-19T17:46:57.012934Z",
     "iopub.status.idle": "2022-02-19T17:46:58.138072Z",
     "shell.execute_reply": "2022-02-19T17:46:58.137426Z",
     "shell.execute_reply.started": "2022-02-19T14:10:31.326138Z"
    },
    "papermill": {
     "duration": 1.203252,
     "end_time": "2022-02-19T17:46:58.138240",
     "exception": false,
     "start_time": "2022-02-19T17:46:56.934988",
     "status": "completed"
    },
    "tags": []
   },
   "outputs": [],
   "source": [
    "from gensim.corpora import Dictionary\n",
    "from gensim.models.tfidfmodel import TfidfModel\n",
    "from gensim.matutils import sparse2full\n",
    "\n",
    "docs_dict = Dictionary(docs)  #create a mapping between words and their integer ids.\n",
    "docs_dict.filter_extremes(no_below=1, no_above=0.2) #filters common words that appear in more than 20% of documents\n",
    "docs_dict.compactify()"
   ]
  },
  {
   "cell_type": "code",
   "execution_count": 28,
   "id": "f21a2321",
   "metadata": {
    "execution": {
     "iopub.execute_input": "2022-02-19T17:46:58.322949Z",
     "iopub.status.busy": "2022-02-19T17:46:58.307337Z",
     "iopub.status.idle": "2022-02-19T17:49:42.879018Z",
     "shell.execute_reply": "2022-02-19T17:49:42.880007Z",
     "shell.execute_reply.started": "2022-02-19T14:10:32.417333Z"
    },
    "papermill": {
     "duration": 164.66641,
     "end_time": "2022-02-19T17:49:42.880353",
     "exception": false,
     "start_time": "2022-02-19T17:46:58.213943",
     "status": "completed"
    },
    "tags": []
   },
   "outputs": [],
   "source": [
    "docs_corpus = [docs_dict.doc2bow(doc) for doc in docs] #create a bag-of-words representation of each document\n",
    "model_tfidf = TfidfModel(docs_corpus, id2word=docs_dict, smartirs='bfu') \n",
    "#build the TF-IDF model, using binary term frequency weighing ('b'), inverse document frequency weighing('f') and pivoted unique document normalization('u')\n",
    "docs_tfidf  = model_tfidf[docs_corpus] \n",
    "docs_vecs   = np.vstack([sparse2full(c, len(docs_dict)) for c in docs_tfidf]) #compute the TF-IDF vector for each document\n",
    "tfidf_emb_vecs = np.vstack([nlp(docs_dict[i]).vector for i in range(len(docs_dict))]) #get the word embedding vector for each TF-IDF term\n",
    "docs_emb = np.dot(docs_vecs, tfidf_emb_vecs)  #get the TF-IDF weighted word embedding vector summary of each document"
   ]
  },
  {
   "cell_type": "markdown",
   "id": "441982c5",
   "metadata": {
    "papermill": {
     "duration": 0.076488,
     "end_time": "2022-02-19T17:49:43.086026",
     "exception": false,
     "start_time": "2022-02-19T17:49:43.009538",
     "status": "completed"
    },
    "tags": []
   },
   "source": [
    "Then we use the TF-IDF weighted document embedding vectors to calculate cosine similarity scores for a second attempt of coolness ranking."
   ]
  },
  {
   "cell_type": "code",
   "execution_count": 29,
   "id": "55db90e9",
   "metadata": {
    "execution": {
     "iopub.execute_input": "2022-02-19T17:49:43.244966Z",
     "iopub.status.busy": "2022-02-19T17:49:43.244310Z",
     "iopub.status.idle": "2022-02-19T17:49:51.171091Z",
     "shell.execute_reply": "2022-02-19T17:49:51.172018Z",
     "shell.execute_reply.started": "2022-02-19T14:13:03.763492Z"
    },
    "papermill": {
     "duration": 8.01125,
     "end_time": "2022-02-19T17:49:51.172387",
     "exception": false,
     "start_time": "2022-02-19T17:49:43.161137",
     "status": "completed"
    },
    "tags": []
   },
   "outputs": [
    {
     "name": "stderr",
     "output_type": "stream",
     "text": [
      "/opt/conda/lib/python3.7/site-packages/ipykernel_launcher.py:2: SettingWithCopyWarning: \n",
      "A value is trying to be set on a copy of a slice from a DataFrame.\n",
      "Try using .loc[row_indexer,col_indexer] = value instead\n",
      "\n",
      "See the caveats in the documentation: https://pandas.pydata.org/pandas-docs/stable/user_guide/indexing.html#returning-a-view-versus-a-copy\n",
      "  \n"
     ]
    },
    {
     "data": {
      "text/html": [
       "<div>\n",
       "<style scoped>\n",
       "    .dataframe tbody tr th:only-of-type {\n",
       "        vertical-align: middle;\n",
       "    }\n",
       "\n",
       "    .dataframe tbody tr th {\n",
       "        vertical-align: top;\n",
       "    }\n",
       "\n",
       "    .dataframe thead th {\n",
       "        text-align: right;\n",
       "    }\n",
       "</style>\n",
       "<table border=\"1\" class=\"dataframe\">\n",
       "  <thead>\n",
       "    <tr style=\"text-align: right;\">\n",
       "      <th></th>\n",
       "      <th>name</th>\n",
       "      <th>text</th>\n",
       "      <th>cool_score</th>\n",
       "      <th>cool_score2</th>\n",
       "    </tr>\n",
       "  </thead>\n",
       "  <tbody>\n",
       "    <tr>\n",
       "      <th>1071</th>\n",
       "      <td>Red Mist</td>\n",
       "      <td>The Red Mist was another teenager following th...</td>\n",
       "      <td>0.592707</td>\n",
       "      <td>0.637795</td>\n",
       "    </tr>\n",
       "    <tr>\n",
       "      <th>758</th>\n",
       "      <td>Kool-Aid Man</td>\n",
       "      <td>Before he was officially the Kool-Aid Man in 1...</td>\n",
       "      <td>0.589922</td>\n",
       "      <td>0.620743</td>\n",
       "    </tr>\n",
       "    <tr>\n",
       "      <th>627</th>\n",
       "      <td>Iceman (FOX)</td>\n",
       "      <td>Bobby lived with his mother, father and younge...</td>\n",
       "      <td>0.578471</td>\n",
       "      <td>0.613987</td>\n",
       "    </tr>\n",
       "    <tr>\n",
       "      <th>504</th>\n",
       "      <td>Garmadon (The Lego Ninjago Movie)</td>\n",
       "      <td>At some point, Garmadon met Koko in a battle, ...</td>\n",
       "      <td>0.559985</td>\n",
       "      <td>0.612198</td>\n",
       "    </tr>\n",
       "    <tr>\n",
       "      <th>713</th>\n",
       "      <td>Kai (The LEGO Ninjago Movie)</td>\n",
       "      <td>Kai's attitude is more serious, like Cole in t...</td>\n",
       "      <td>0.581369</td>\n",
       "      <td>0.590670</td>\n",
       "    </tr>\n",
       "    <tr>\n",
       "      <th>733</th>\n",
       "      <td>Kick-Ass</td>\n",
       "      <td>Dave Lizewski lead a typical high school life....</td>\n",
       "      <td>0.563058</td>\n",
       "      <td>0.590288</td>\n",
       "    </tr>\n",
       "    <tr>\n",
       "      <th>812</th>\n",
       "      <td>Lloyd (The LEGO Ninjago Movie)</td>\n",
       "      <td>Lloyd was born to Lord Garmadon and Koko, some...</td>\n",
       "      <td>0.566117</td>\n",
       "      <td>0.589230</td>\n",
       "    </tr>\n",
       "    <tr>\n",
       "      <th>600</th>\n",
       "      <td>Hit-Girl</td>\n",
       "      <td>Hit-Girl (she has not yet been called by anoth...</td>\n",
       "      <td>0.543267</td>\n",
       "      <td>0.585460</td>\n",
       "    </tr>\n",
       "    <tr>\n",
       "      <th>531</th>\n",
       "      <td>GPL</td>\n",
       "      <td>The IT Guys had the idea of making the Garma M...</td>\n",
       "      <td>0.554245</td>\n",
       "      <td>0.583137</td>\n",
       "    </tr>\n",
       "    <tr>\n",
       "      <th>659</th>\n",
       "      <td>Jack Frost</td>\n",
       "      <td>Before Jack Frost became an immortal being who...</td>\n",
       "      <td>0.556214</td>\n",
       "      <td>0.582539</td>\n",
       "    </tr>\n",
       "  </tbody>\n",
       "</table>\n",
       "</div>"
      ],
      "text/plain": [
       "                                   name  \\\n",
       "1071                           Red Mist   \n",
       "758                        Kool-Aid Man   \n",
       "627                        Iceman (FOX)   \n",
       "504   Garmadon (The Lego Ninjago Movie)   \n",
       "713        Kai (The LEGO Ninjago Movie)   \n",
       "733                            Kick-Ass   \n",
       "812      Lloyd (The LEGO Ninjago Movie)   \n",
       "600                            Hit-Girl   \n",
       "531                                 GPL   \n",
       "659                          Jack Frost   \n",
       "\n",
       "                                                   text  cool_score  \\\n",
       "1071  The Red Mist was another teenager following th...    0.592707   \n",
       "758   Before he was officially the Kool-Aid Man in 1...    0.589922   \n",
       "627   Bobby lived with his mother, father and younge...    0.578471   \n",
       "504   At some point, Garmadon met Koko in a battle, ...    0.559985   \n",
       "713   Kai's attitude is more serious, like Cole in t...    0.581369   \n",
       "733   Dave Lizewski lead a typical high school life....    0.563058   \n",
       "812   Lloyd was born to Lord Garmadon and Koko, some...    0.566117   \n",
       "600   Hit-Girl (she has not yet been called by anoth...    0.543267   \n",
       "531   The IT Guys had the idea of making the Garma M...    0.554245   \n",
       "659   Before Jack Frost became an immortal being who...    0.556214   \n",
       "\n",
       "      cool_score2  \n",
       "1071     0.637795  \n",
       "758      0.620743  \n",
       "627      0.613987  \n",
       "504      0.612198  \n",
       "713      0.590670  \n",
       "733      0.590288  \n",
       "812      0.589230  \n",
       "600      0.585460  \n",
       "531      0.583137  \n",
       "659      0.582539  "
      ]
     },
     "execution_count": 29,
     "metadata": {},
     "output_type": "execute_result"
    }
   ],
   "source": [
    "cool_score2=[cosine_similarity(docs_emb[i], nlp('cool').vector) if np.any(docs_emb[i]) else 0 for i in range(len(docs_emb))]\n",
    "hero_text['cool_score2']=pd.Series(cool_score2)\n",
    "hero_text.sort_values(by='cool_score2', ascending=False).head(10)"
   ]
  },
  {
   "cell_type": "markdown",
   "id": "3e255971",
   "metadata": {
    "papermill": {
     "duration": 0.075701,
     "end_time": "2022-02-19T17:49:51.326047",
     "exception": false,
     "start_time": "2022-02-19T17:49:51.250346",
     "status": "completed"
    },
    "tags": []
   },
   "source": [
    "And I adapt the codes of [Nathan Kelber](https://ithaka.github.io/tdm-notebooks/finding-significant-terms.html) for displaying the top 20 tokens in selected document by their TF-IDF scores, and their cosine similarity score and also their products with respect to a stated text(in this case 'cool') in embedded vector form."
   ]
  },
  {
   "cell_type": "code",
   "execution_count": 30,
   "id": "544a986e",
   "metadata": {
    "execution": {
     "iopub.execute_input": "2022-02-19T17:49:51.483482Z",
     "iopub.status.busy": "2022-02-19T17:49:51.482861Z",
     "iopub.status.idle": "2022-02-19T17:49:51.489835Z",
     "shell.execute_reply": "2022-02-19T17:49:51.490314Z",
     "shell.execute_reply.started": "2022-02-19T14:13:11.119441Z"
    },
    "papermill": {
     "duration": 0.087611,
     "end_time": "2022-02-19T17:49:51.490481",
     "exception": false,
     "start_time": "2022-02-19T17:49:51.402870",
     "status": "completed"
    },
    "tags": []
   },
   "outputs": [],
   "source": [
    "def most_important_terms(index, text_vec):\n",
    "\n",
    "    def Sort(tfidf_tuples):\n",
    "        '''Sort the tuples in the tf-idf scores list, based on the second value in the tuple, the tf-idf score'''\n",
    "        tfidf_tuples.sort(key = lambda x: x[1], reverse=True)\n",
    "        return tfidf_tuples \n",
    "\n",
    "    # List the top twenty tokens in the selected document by their TF-IDF scores\n",
    "    most_significant_terms = Sort(docs_tfidf[index])[:20]\n",
    "    \n",
    "    print('term'.ljust(20), 'TF-IDF Score'.ljust(20), 'Cosine Similarity'.ljust(20), 'TF-IDF*Cosine Similarity')\n",
    "    \n",
    "    for id, score in most_significant_terms:\n",
    "        cosine_score = cosine_similarity(nlp(docs_dict[id]).vector, text_vec)\n",
    "        print(docs_dict[id].ljust(20), str(score).ljust(20), str(cosine_score).ljust(20), score*cosine_score)\n",
    "        # Display the token, its TF-IDF score, cosine similarity score and their product with stated text in vector"
   ]
  },
  {
   "cell_type": "markdown",
   "id": "0790f27d",
   "metadata": {
    "papermill": {
     "duration": 0.076426,
     "end_time": "2022-02-19T17:49:51.643020",
     "exception": false,
     "start_time": "2022-02-19T17:49:51.566594",
     "status": "completed"
    },
    "tags": []
   },
   "source": [
    "In this second attempt, Red Mist is still ranked top, apparently factored significantly by the word \"cooler\".  Hulk (Stark Gauntlet) (MCU) and Batgirl (New 52) drop out from the top 10, but the inclusions of Kool-Aid Man, Iceman and Jack Frost reflect that terms related to temperature like \"kool\", \"ice\", \"snow\", \"cold\" come into focus, which is not the sense of \"cool\" we are talking about."
   ]
  },
  {
   "cell_type": "code",
   "execution_count": 31,
   "id": "d8f4bfe9",
   "metadata": {
    "execution": {
     "iopub.execute_input": "2022-02-19T17:49:51.799766Z",
     "iopub.status.busy": "2022-02-19T17:49:51.799027Z",
     "iopub.status.idle": "2022-02-19T17:49:51.945476Z",
     "shell.execute_reply": "2022-02-19T17:49:51.944818Z",
     "shell.execute_reply.started": "2022-02-19T14:13:11.129165Z"
    },
    "papermill": {
     "duration": 0.225376,
     "end_time": "2022-02-19T17:49:51.945642",
     "exception": false,
     "start_time": "2022-02-19T17:49:51.720266",
     "status": "completed"
    },
    "tags": []
   },
   "outputs": [
    {
     "name": "stdout",
     "output_type": "stream",
     "text": [
      "term                 TF-IDF Score         Cosine Similarity    TF-IDF*Cosine Similarity\n",
      "fandom               0.06825090388327139  0.24340743           0.016612776990962714\n",
      "cooler               0.05795031348268659  0.5877062            0.034057759002595396\n",
      "Ass                  0.05795031348268659  0.38833052           0.02250387532249801\n",
      "G                    0.05525300595710841  0.13753474           0.007599207675202477\n",
      "heavenly             0.05525300595710841  0.264263             0.014601325337822494\n",
      "Kick                 0.053160811698653394 0.3664973            0.01948329437949256\n",
      "Hit                  0.0514513645196051   0.32628635           0.016787877711424593\n",
      "Dave                 0.0514513645196051   0.31395507           0.016153416676712024\n",
      "Daddy                0.04764972308210179  0.33185068           0.015812592898378115\n",
      "Mist                 0.043507098560481926 0.35724276           0.01554259610170676\n",
      "precise              0.039269285389395725 0.24971089           0.00980596811277287\n",
      "plead                0.0388525055995198   0.012210308          0.0004744010460644262\n",
      "traitor              0.0377029860510313   0.06485032           0.0024450508197866204\n",
      "reluctant            0.035187742526411894 0.1577571            0.00555111633766994\n",
      "Big                  0.034651825155938815 0.437324             0.015154074350792789\n",
      "ready                0.03138610108890858  0.4025739            0.012635225539714946\n",
      "Johnny               0.03120403708794981  0.28991053           0.009046378776893845\n",
      "counter              0.03102544118447464  0.25684443           0.00796871179257277\n",
      "teenager             0.03102544118447464  0.2468721            0.0076593157334356584\n",
      "settle               0.03018018436923599  0.25423875           0.007672972484943272\n"
     ]
    }
   ],
   "source": [
    "most_important_terms(1071, nlp('cool').vector)"
   ]
  },
  {
   "cell_type": "code",
   "execution_count": 32,
   "id": "16bd87f7",
   "metadata": {
    "execution": {
     "iopub.execute_input": "2022-02-19T17:49:52.104253Z",
     "iopub.status.busy": "2022-02-19T17:49:52.101828Z",
     "iopub.status.idle": "2022-02-19T17:49:52.250871Z",
     "shell.execute_reply": "2022-02-19T17:49:52.251560Z",
     "shell.execute_reply.started": "2022-02-19T14:13:11.268964Z"
    },
    "papermill": {
     "duration": 0.22978,
     "end_time": "2022-02-19T17:49:52.251825",
     "exception": false,
     "start_time": "2022-02-19T17:49:52.022045",
     "status": "completed"
    },
    "tags": []
   },
   "outputs": [
    {
     "data": {
      "text/plain": [
       "'Before he was officially the Kool-Aid Man in 1975, he was the “Pitcher Man”. The Pitcher Man was created in 1954 by Marvin Plotts, an art director for a New York-based advertising agency. General Foods had just purchased Kool-Aid from the drink’s creator Edwin Perkins the year before, and Plotts was charged with drafting a concept to illustrate the copy message: “A 5-cent package makes two quarts. \" Working from his Chicago home on a cold day, Potts watched as his young son traced smiley face patterns on a frosty windowpane,\" recounts Sue Uerling, marketing and communications director for Hastings Museum of Natural and Cultural History. This inspired Marvin Plotts to create a beaming glass pitcher filled with flavorful drink: the Pitcher Man. From there on the joyful pitcher was on all the Kool-Aid’s advertisements. the voice of the man is John Fickley. In 1975 Kraft Foods created the character’s first costume with arms and legs. He also became more of an action figure in commercials — performing extreme sports and busting through brick walls. Kool-Aid Man is famously known for shouting, “Oh, Yeah!” as he is summoned by thirsty children with the phrase, \"Hey, Kool-Aid!\". Commercials of the era also featured a catchy jingle, always ending with the Kool-Aid Man\\'s phrase. Starting in the late 1980s, the character was given dialogue, and his mouth would be digitally manipulated to \"move\" while the voice actor talked. Sometime in the 1990s, the live-action character was retired; from that point until 2008, the character became entirely computer-generated (although other characters -- such as the kids -- remained live-action). In 2000, a new series of commercials were created for Kool-Aid Fierce and the actor chosen to play Kool-Aid Man was Jon Carr. The most recent Kool-Aid commercials feature a new and different live-action Kool-Aid Man playing street basketball and battling \"Cola\" to stay balanced on a log. NA'"
      ]
     },
     "metadata": {},
     "output_type": "display_data"
    },
    {
     "name": "stdout",
     "output_type": "stream",
     "text": [
      "\n",
      "term                 TF-IDF Score         Cosine Similarity    TF-IDF*Cosine Similarity\n",
      "Aid                  0.060925765262218344 0.16466914           0.010032593441059392\n",
      "Cola                 0.060925765262218344 0.2699041            0.016444114257580338\n",
      "Cultural             0.060925765262218344 0.18840528           0.011478735579823861\n",
      "Fickley              0.060925765262218344 nan                  nan\n",
      "Fierce               0.060925765262218344 0.32453394           0.019772478609166155\n",
      "Foods                0.060925765262218344 0.23441777           0.014282081804875143\n",
      "Kool                 0.060925765262218344 0.5290418            0.03223227814894292\n",
      "Kraft                0.060925765262218344 0.1179654            0.007187132282804218\n",
      "Perkins              0.060925765262218344 0.0036381646         0.0002216579627671374\n",
      "Pitcher              0.060925765262218344 0.165058             0.0100562850769405\n",
      "Plotts               0.060925765262218344 nan                  nan\n",
      "Uerling              0.060925765262218344 nan                  nan\n",
      "catchy               0.060925765262218344 0.43455964           0.026475878818215164\n",
      "cent                 0.060925765262218344 0.10096641           0.0061514557248888695\n",
      "digitally            0.060925765262218344 0.20155698           0.012280013287599884\n",
      "flavorful            0.060925765262218344 0.27976936           0.017045162417012608\n",
      "frosty               0.060925765262218344 0.40035927           0.02439219508472133\n",
      "hey                  0.060925765262218344 0.5575973            0.033972040964632286\n",
      "jingle               0.060925765262218344 0.1923118            0.011716743191943085\n",
      "quart                0.060925765262218344 0.13289556           0.008096763636442073\n"
     ]
    },
    {
     "name": "stderr",
     "output_type": "stream",
     "text": [
      "/opt/conda/lib/python3.7/site-packages/ipykernel_launcher.py:2: RuntimeWarning: invalid value encountered in float_scalars\n",
      "  \n"
     ]
    }
   ],
   "source": [
    "display(hero_text.text[758])\n",
    "print()\n",
    "most_important_terms(758, nlp('cool').vector)"
   ]
  },
  {
   "cell_type": "code",
   "execution_count": 33,
   "id": "07c1baac",
   "metadata": {
    "execution": {
     "iopub.execute_input": "2022-02-19T17:49:52.416431Z",
     "iopub.status.busy": "2022-02-19T17:49:52.415781Z",
     "iopub.status.idle": "2022-02-19T17:49:52.562812Z",
     "shell.execute_reply": "2022-02-19T17:49:52.563278Z",
     "shell.execute_reply.started": "2022-02-19T14:13:11.410600Z"
    },
    "papermill": {
     "duration": 0.231575,
     "end_time": "2022-02-19T17:49:52.563457",
     "exception": false,
     "start_time": "2022-02-19T17:49:52.331882",
     "status": "completed"
    },
    "tags": []
   },
   "outputs": [
    {
     "data": {
      "text/plain": [
       "\"Bobby lived with his mother, father and younger brother, eventually he began to display mutant abilities but he kept it from them out of fear. He convinced his parents to send him to a fancy prep school but in reality he went to Xavier's School for Gifted Youngsters. He felt like he belonged and became good friends with Pyro. Iceman possesses the ability to manipulate and generate both cold and ice from his body. He used this ability to freeze various things as well as project ice from his hands. The ice he generates is can be brittle like glass or hard like stone. He can also shoot freezing cold, coolant-like gas or aura from his body that can cause ice to form on whatever it comes into contact with it. With his power over cold, he can reduce temperature to freezing points, to the point where he could turn a ball of fire Pyro created into a ball of brittle\""
      ]
     },
     "metadata": {},
     "output_type": "display_data"
    },
    {
     "name": "stdout",
     "output_type": "stream",
     "text": [
      "\n",
      "term                 TF-IDF Score         Cosine Similarity    TF-IDF*Cosine Similarity\n",
      "prep                 0.06836197412849053  0.21300067           0.014561146297046775\n",
      "brittle              0.061852448897346264 0.22051059           0.013639119819692418\n",
      "coolant              0.058044620739628655 0.2370694            0.013760603305444881\n",
      "fancy                0.055342923666202    0.488408             0.02702992662195581\n",
      "Pyro                 0.04883339843505775  0.19866158           0.009701320123172751\n",
      "Bobby                0.04121774211962252  0.24790552           0.01021810589993529\n",
      "Iceman               0.038915733440893115 0.12840138           0.004996834023752244\n",
      "Youngsters           0.038915733440893115 0.20826104           0.008104631229024226\n",
      "Gifted               0.038516045046195865 0.23666036           0.009115221136093782\n",
      "aura                 0.034708216888478256 0.28318304           0.009828778310188569\n",
      "belong               0.03395651502806086  0.1987843            0.006750022295946958\n",
      "ball                 0.03371874891648573  0.27767512           0.009362857719835556\n",
      "glass                0.033039566796888395 0.35466152           0.011717863122257567\n",
      "School               0.03090038873076065  0.28062537           0.00867143311727961\n",
      "gas                  0.030728067202980793 0.26323706           0.008088766042842647\n",
      "ice                  0.030728067202980793 0.41151524           0.012645067823812702\n",
      "stone                0.030558850737146735 0.2639111            0.008064819859047818\n",
      "reduce               0.02915921889835071  0.18694349           0.005451126039601672\n",
      "cold                 0.02846325168086325  0.5644185            0.016065185668019517\n",
      "freeze               0.028069154986104655 0.339266             0.009522909996655794\n"
     ]
    }
   ],
   "source": [
    "display(hero_text.text[627])\n",
    "print()\n",
    "most_important_terms(627, nlp('cool').vector)"
   ]
  },
  {
   "cell_type": "code",
   "execution_count": 34,
   "id": "a337127f",
   "metadata": {
    "execution": {
     "iopub.execute_input": "2022-02-19T17:49:52.728061Z",
     "iopub.status.busy": "2022-02-19T17:49:52.727347Z",
     "iopub.status.idle": "2022-02-19T17:49:52.877571Z",
     "shell.execute_reply": "2022-02-19T17:49:52.878184Z",
     "shell.execute_reply.started": "2022-02-19T14:13:11.555840Z"
    },
    "papermill": {
     "duration": 0.236105,
     "end_time": "2022-02-19T17:49:52.878386",
     "exception": false,
     "start_time": "2022-02-19T17:49:52.642281",
     "status": "completed"
    },
    "tags": []
   },
   "outputs": [
    {
     "data": {
      "text/plain": [
       "\"Before Jack Frost became an immortal being who possessed the power over ice and snow, Jack was once a teenage human boy who had a family of his own 300 years before the current timeline. Like his current form, Jack was mischievous, liked to have fun and play tricks on his friends and his younger sister. When Jack and his sister got themselves in trouble while they were ice skating on thin ice, Jack made up a game of Hopscotch, and using his staff, Jack saved his sister from the cracking ice, at the cost of his own life.   The Man in the Moon, seeing Jack's selfless act of heroism and sacrifice, shines his light and transforms Jack into a Winter Spirit, of which Jack rises up from the frozen pond and he is reborn as Jack Frost. When Jack Frost was reborn he lost all memory of his previous life and immediately began his adventures of fun and mischief, discovering his powers. The Man in the Moon only ever told him his name, and he quickly discovers no one can see him when he enters a village and is walked through for the first time. NA\""
      ]
     },
     "metadata": {},
     "output_type": "display_data"
    },
    {
     "name": "stdout",
     "output_type": "stream",
     "text": [
      "\n",
      "term                 TF-IDF Score         Cosine Similarity    TF-IDF*Cosine Similarity\n",
      "Hopscotch            0.06770092283048533  0.04172384           0.0028247424678774285\n",
      "skating              0.06770092283048533  0.31288695           0.02118273548367682\n",
      "mischievous          0.061254343852112494 0.19329643           0.01184024614144256\n",
      "selfless             0.061254343852112494 0.1211248            0.007419419938075981\n",
      "mischief             0.05480776487373965  0.1570234            0.008606101590617614\n",
      "pond                 0.05273242998469117  0.31095636           0.016397484424495345\n",
      "shine                0.04836118589536682  0.34952822           0.016903599381534604\n",
      "Spirit               0.0445901789350814   0.3223436            0.014373358261938715\n",
      "snow                 0.042514844046032924 0.41986823           0.01785063235318339\n",
      "heroism              0.04135077080320078  0.052609086          0.002175426258868713\n",
      "Winter               0.040819171974795995 0.43268427           0.01766181373109747\n",
      "thin                 0.039385501666459016 0.3721801            0.014658500116384829\n",
      "frozen               0.039385501666459016 0.28082412           0.011060399035807451\n",
      "fun                  0.03895284470228698  0.64870876           0.025269051614054877\n",
      "crack                0.03776393713889701  0.25471976           0.00961922115551229\n",
      "reborn               0.03670992964837159  0.18735288           0.006877711074892167\n",
      "teenage              0.0346345947593231   0.24330215           0.008426671423379143\n",
      "Moon                 0.032506265723914136 0.3630811            0.01180241063800846\n",
      "village              0.032297258107374674 0.17512222           0.00565596742159379\n",
      "Jack                 0.03131735816052417  0.24989069           0.007825916085675523\n"
     ]
    }
   ],
   "source": [
    "display(hero_text.text[659])\n",
    "print()\n",
    "most_important_terms(659, nlp('cool').vector)"
   ]
  },
  {
   "cell_type": "markdown",
   "id": "791d9304",
   "metadata": {
    "papermill": {
     "duration": 0.078566,
     "end_time": "2022-02-19T17:49:53.038736",
     "exception": false,
     "start_time": "2022-02-19T17:49:52.960170",
     "status": "completed"
    },
    "tags": []
   },
   "source": [
    "# Third Attempt: Refining the Vector of \"Cool\""
   ]
  },
  {
   "cell_type": "markdown",
   "id": "f4fe08b0",
   "metadata": {
    "papermill": {
     "duration": 0.078816,
     "end_time": "2022-02-19T17:49:53.196337",
     "exception": false,
     "start_time": "2022-02-19T17:49:53.117521",
     "status": "completed"
    },
    "tags": []
   },
   "source": [
    "This brings us to the other cool property of word embedding vectors. When a vector space model is well trained, it can capture the semantic structure of words, so that word pairs become parallel vectors that can perform arithmetic operations. If we use \"|word|'' to denote a word vector, the famous examples are:\n",
    "\n",
    "> **|King|-|man|+|woman|=|Queen|**\n",
    "\n",
    "> **|Paris|-|France|+|Germany|=|Berlin|**\n",
    "\n",
    "When we perform the same arithmetics on SpaCy's word embedding vectors, the closest words for the resulting vectors are in fact \"King\" and \"Germany\", but \"Queen\" and \"Berlin\" come as the close second."
   ]
  },
  {
   "cell_type": "code",
   "execution_count": 35,
   "id": "2cb053ef",
   "metadata": {
    "execution": {
     "iopub.execute_input": "2022-02-19T17:49:53.361843Z",
     "iopub.status.busy": "2022-02-19T17:49:53.361141Z",
     "iopub.status.idle": "2022-02-19T17:49:55.224528Z",
     "shell.execute_reply": "2022-02-19T17:49:55.223456Z",
     "shell.execute_reply.started": "2022-02-19T14:13:11.696417Z"
    },
    "papermill": {
     "duration": 1.948353,
     "end_time": "2022-02-19T17:49:55.224795",
     "exception": false,
     "start_time": "2022-02-19T17:49:53.276442",
     "status": "completed"
    },
    "tags": []
   },
   "outputs": [
    {
     "name": "stdout",
     "output_type": "stream",
     "text": [
      "KIng                 0.8024\n",
      "King                 0.8024\n",
      "king                 0.8024\n",
      "KING                 0.8024\n",
      "Queen                0.7881\n",
      "queen                0.7881\n",
      "QUEEN                0.7881\n",
      "PRINCE               0.6401\n",
      "prince               0.6401\n",
      "Prince               0.6401\n"
     ]
    }
   ],
   "source": [
    "king=nlp('king').vector\n",
    "man=nlp('man').vector\n",
    "woman=nlp('woman').vector\n",
    "most_similar_list(king-man+woman, 10)"
   ]
  },
  {
   "cell_type": "code",
   "execution_count": 36,
   "id": "3756070e",
   "metadata": {
    "execution": {
     "iopub.execute_input": "2022-02-19T17:49:55.387599Z",
     "iopub.status.busy": "2022-02-19T17:49:55.386976Z",
     "iopub.status.idle": "2022-02-19T17:49:57.021464Z",
     "shell.execute_reply": "2022-02-19T17:49:57.022238Z",
     "shell.execute_reply.started": "2022-02-19T14:13:13.663950Z"
    },
    "papermill": {
     "duration": 1.71767,
     "end_time": "2022-02-19T17:49:57.022476",
     "exception": false,
     "start_time": "2022-02-19T17:49:55.304806",
     "status": "completed"
    },
    "tags": []
   },
   "outputs": [
    {
     "name": "stdout",
     "output_type": "stream",
     "text": [
      "Germany              0.8028\n",
      "GERMANY              0.8028\n",
      "germany              0.8028\n",
      "BERLIN               0.7547\n",
      "Berlin               0.7547\n",
      "berlin               0.7547\n",
      "paris                0.6961\n",
      "PARIS                0.6961\n",
      "Paris                0.6961\n",
      "FRANKFURT            0.6708\n"
     ]
    }
   ],
   "source": [
    "paris=nlp('paris').vector\n",
    "france=nlp('france').vector\n",
    "germany=nlp('Germany').vector\n",
    "most_similar_list(paris-france+germany, 10)"
   ]
  },
  {
   "cell_type": "markdown",
   "id": "fd7daadc",
   "metadata": {
    "papermill": {
     "duration": 0.090637,
     "end_time": "2022-02-19T17:49:57.220370",
     "exception": false,
     "start_time": "2022-02-19T17:49:57.129733",
     "status": "completed"
    },
    "tags": []
   },
   "source": [
    "How about subtracting \"cold\" from \"cool\"? The closest word becomes \"kewl\", the alternative spelling of \"cool\" in slang, but with cosine similarity score of only 0.4408, \"cool\" features even lower in 0.3774. But when we add one more vector of \"cool\" to it, the most similar word becomes \"cool\" again."
   ]
  },
  {
   "cell_type": "code",
   "execution_count": 37,
   "id": "bb3a4c9b",
   "metadata": {
    "execution": {
     "iopub.execute_input": "2022-02-19T17:49:57.386403Z",
     "iopub.status.busy": "2022-02-19T17:49:57.385442Z",
     "iopub.status.idle": "2022-02-19T17:49:58.998836Z",
     "shell.execute_reply": "2022-02-19T17:49:58.997837Z",
     "shell.execute_reply.started": "2022-02-19T14:13:15.302212Z"
    },
    "papermill": {
     "duration": 1.698444,
     "end_time": "2022-02-19T17:49:58.999014",
     "exception": false,
     "start_time": "2022-02-19T17:49:57.300570",
     "status": "completed"
    },
    "tags": []
   },
   "outputs": [
    {
     "name": "stdout",
     "output_type": "stream",
     "text": [
      "Kewl                 0.4408\n",
      "KEWL                 0.4408\n",
      "kewl                 0.4408\n",
      "AWESOME              0.4206\n",
      "AWEsome              0.4206\n",
      "awesome              0.4206\n",
      "Awesome              0.4206\n",
      "AWesome              0.4206\n",
      "AWSOME               0.3894\n",
      "Awsome               0.3894\n",
      "awsome               0.3894\n",
      "coool                0.3781\n",
      "COOOL                0.3781\n",
      "Coool                0.3781\n",
      "COol                 0.3774\n",
      "CooL                 0.3774\n",
      "cool                 0.3774\n",
      "COOL                 0.3774\n",
      "Cool                 0.3774\n",
      "COOLEST              0.3764\n",
      "Coolest              0.3764\n",
      "coolest              0.3764\n",
      "THx                  0.3624\n",
      "Thx                  0.3624\n",
      "THX                  0.3624\n",
      "thx                  0.3624\n",
      "KickAss              0.3532\n",
      "KICKASS              0.3532\n",
      "Kickass              0.3532\n",
      "kickass              0.3532\n",
      "Groovy               0.3474\n",
      "groovy               0.3474\n",
      "GROOVY               0.3474\n",
      "^_^                  0.3438\n",
      "AVATAR               0.343\n",
      "avatar               0.343\n",
      "Avatar               0.343\n",
      "snazzy               0.343\n",
      "Snazzy               0.343\n",
      "SNAZZY               0.343\n",
      "viD                  0.3382\n",
      "VID                  0.3382\n",
      "Vid                  0.3382\n",
      "vid                  0.3382\n",
      "Thnx                 0.3351\n",
      "THNX                 0.3351\n",
      "thnx                 0.3351\n",
      "Avatars              0.3268\n",
      "AVATARS              0.3268\n",
      "avatars              0.3268\n"
     ]
    }
   ],
   "source": [
    "cool=nlp('cool').vector\n",
    "cold=nlp('cold').vector\n",
    "most_similar_list(cool-cold, 50)"
   ]
  },
  {
   "cell_type": "code",
   "execution_count": 38,
   "id": "bcb084a1",
   "metadata": {
    "execution": {
     "iopub.execute_input": "2022-02-19T17:49:59.163930Z",
     "iopub.status.busy": "2022-02-19T17:49:59.163270Z",
     "iopub.status.idle": "2022-02-19T17:50:00.770336Z",
     "shell.execute_reply": "2022-02-19T17:50:00.771157Z",
     "shell.execute_reply.started": "2022-02-19T14:13:16.919293Z"
    },
    "papermill": {
     "duration": 1.691316,
     "end_time": "2022-02-19T17:50:00.771332",
     "exception": false,
     "start_time": "2022-02-19T17:49:59.080016",
     "status": "completed"
    },
    "tags": []
   },
   "outputs": [
    {
     "name": "stdout",
     "output_type": "stream",
     "text": [
      "CooL                 0.8318\n",
      "COol                 0.8318\n",
      "cool                 0.8318\n",
      "COOL                 0.8318\n",
      "Cool                 0.8318\n",
      "AWEsome              0.7133\n",
      "awesome              0.7133\n",
      "AWesome              0.7133\n",
      "Awesome              0.7133\n",
      "AWESOME              0.7133\n",
      "NICE                 0.6181\n",
      "nice                 0.6181\n",
      "Nice                 0.6181\n",
      "nICE                 0.6181\n",
      "NIce                 0.6181\n",
      "AWSOME               0.6085\n",
      "awsome               0.6085\n",
      "Awsome               0.6085\n",
      "Kewl                 0.5965\n",
      "kewl                 0.5965\n",
      "KEWL                 0.5965\n",
      "coolest              0.5941\n",
      "COOLEST              0.5941\n",
      "Coolest              0.5941\n",
      "fun                  0.5787\n",
      "FUN                  0.5787\n",
      "Fun                  0.5787\n",
      "Amazing              0.5775\n",
      "AMAZING              0.5775\n",
      "AMazing              0.5775\n",
      "amaZing              0.5775\n",
      "amazing              0.5775\n",
      "neat                 0.5757\n",
      "Neat                 0.5757\n",
      "NEAT                 0.5757\n",
      "CUTE                 0.5597\n",
      "CuTe                 0.5597\n",
      "Cute                 0.5597\n",
      "cute                 0.5597\n",
      "funny                0.5377\n",
      "FUNNY                0.5377\n",
      "FUnny                0.5377\n",
      "Funny                0.5377\n",
      ":)                   0.5372\n",
      "lOL                  0.5338\n",
      "lOl                  0.5338\n",
      "loL                  0.5338\n",
      "LOL                  0.5338\n",
      "LOl                  0.5338\n",
      "lol                  0.5338\n"
     ]
    }
   ],
   "source": [
    "most_similar_list(cool*2-cold, 50)"
   ]
  },
  {
   "cell_type": "markdown",
   "id": "7c41ae71",
   "metadata": {
    "papermill": {
     "duration": 0.080897,
     "end_time": "2022-02-19T17:50:00.932848",
     "exception": false,
     "start_time": "2022-02-19T17:50:00.851951",
     "status": "completed"
    },
    "tags": []
   },
   "source": [
    "In [marketing research](https://www.forbes.com/sites/onmarketing/2013/03/07/a-breakthrough-in-measuring-cool/?sh=38b8b0d6a36c) about brand coolness, it is said that there are ten characteristics associated with cool:\n",
    "\n",
    "> “**Authentic**,\" “**Inspiring**,\" “**Creative**,\" “**Attractive**,\" “**Edgy**,\" “**Rebellious**,\" “**Surprising**,\" “**Mysterious**,\" “**Unique**,\" and “**Takes Risks**.\"\n",
    "\n",
    "So when I make the formulation \"**|cool|+|cool|-|cold|+|authentic|+|rebellious|**\"，the most similar words not only include \"cool\", \"authentic\", \"awesome\" and \"rebellious\", \"edgy\", \"inspiring\" and \"unique\" appear too. It looks hopeful that this vector captures much of the idea when we are looking for the coolest superhero. Is it the kind of formula in Besomi's mind?\n"
   ]
  },
  {
   "cell_type": "code",
   "execution_count": 39,
   "id": "0b876038",
   "metadata": {
    "execution": {
     "iopub.execute_input": "2022-02-19T17:50:01.101269Z",
     "iopub.status.busy": "2022-02-19T17:50:01.100127Z",
     "iopub.status.idle": "2022-02-19T17:50:02.733038Z",
     "shell.execute_reply": "2022-02-19T17:50:02.732228Z",
     "shell.execute_reply.started": "2022-02-19T14:13:18.548350Z"
    },
    "papermill": {
     "duration": 1.718895,
     "end_time": "2022-02-19T17:50:02.733205",
     "exception": false,
     "start_time": "2022-02-19T17:50:01.014310",
     "status": "completed"
    },
    "tags": []
   },
   "outputs": [
    {
     "name": "stdout",
     "output_type": "stream",
     "text": [
      "Cool                 0.7232\n",
      "COOL                 0.7232\n",
      "CooL                 0.7232\n",
      "cool                 0.7232\n",
      "COol                 0.7232\n",
      "Authentic            0.6419\n",
      "AUTHENTIC            0.6419\n",
      "authentic            0.6419\n",
      "AWesome              0.624\n",
      "Awesome              0.624\n",
      "awesome              0.624\n",
      "AWESOME              0.624\n",
      "AWEsome              0.624\n",
      "QUIRKY               0.602\n",
      "Quirky               0.602\n",
      "quirky               0.602\n",
      "Inspired             0.6\n",
      "inspired             0.6\n",
      "INSPIRED             0.6\n",
      "Funky                0.5964\n",
      "FUNKY                0.5964\n",
      "funky                0.5964\n",
      "Classy               0.5933\n",
      "CLASSY               0.5933\n",
      "classy               0.5933\n",
      "EDGY                 0.5839\n",
      "edgy                 0.5839\n",
      "Edgy                 0.5839\n",
      "amaZing              0.5742\n",
      "Amazing              0.5742\n",
      "AMazing              0.5742\n",
      "amazing              0.5742\n",
      "AMAZING              0.5742\n",
      "REBELLIOUS           0.5684\n",
      "Rebellious           0.5684\n",
      "rebellious           0.5684\n",
      "Inspiring            0.5668\n",
      "inspiring            0.5668\n",
      "INSPIRING            0.5668\n",
      "Badass               0.5642\n",
      "badass               0.5642\n",
      "BADASS               0.5642\n",
      "BadAss               0.5642\n",
      "retro                0.5587\n",
      "Retro                0.5587\n",
      "RETRO                0.5587\n",
      "fun                  0.5578\n",
      "Fun                  0.5578\n",
      "FUN                  0.5578\n",
      "CHIC                 0.5566\n",
      "chic                 0.5566\n",
      "Chic                 0.5566\n",
      "COLORFUL             0.5542\n",
      "Colorful             0.5542\n",
      "colorful             0.5542\n",
      "Coolest              0.5515\n",
      "COOLEST              0.5515\n",
      "coolest              0.5515\n",
      "STYLISH              0.5483\n",
      "Stylish              0.5483\n",
      "stylish              0.5483\n",
      "cute                 0.5435\n",
      "CUTE                 0.5435\n",
      "Cute                 0.5435\n",
      "CuTe                 0.5435\n",
      "STYLE                0.542\n",
      "style                0.542\n",
      "Style                0.542\n",
      "Trendy               0.5418\n",
      "TRENDY               0.5418\n",
      "trendy               0.5418\n",
      "look                 0.538\n",
      "Look                 0.538\n",
      "LOOK                 0.538\n",
      "NIce                 0.5378\n",
      "Nice                 0.5378\n",
      "nICE                 0.5378\n",
      "nice                 0.5378\n",
      "NICE                 0.5378\n",
      "KIND                 0.537\n",
      "kind                 0.537\n",
      "Kind                 0.537\n",
      "artsy                0.536\n",
      "ARTSY                0.536\n",
      "Artsy                0.536\n",
      "fabulous             0.5353\n",
      "Fabulous             0.5353\n",
      "FABULOUS             0.5353\n",
      "FABulous             0.5353\n",
      "GROOVY               0.5341\n",
      "groovy               0.5341\n",
      "Groovy               0.5341\n",
      "unique               0.534\n",
      "Unique               0.534\n",
      "UNIQUE               0.534\n",
      "sassy                0.5324\n",
      "Sassy                0.5324\n",
      "SASSY                0.5324\n",
      "Charming             0.531\n",
      "CHARMING             0.531\n"
     ]
    }
   ],
   "source": [
    "cool=nlp('cool').vector\n",
    "cold=nlp('cold').vector\n",
    "authentic=nlp('authentic').vector\n",
    "rebellious=nlp('rebellious').vector\n",
    "cool2=cool*2-cold+authentic+rebellious\n",
    "most_similar_list(cool2, 100)"
   ]
  },
  {
   "cell_type": "markdown",
   "id": "15e5284d",
   "metadata": {
    "papermill": {
     "duration": 0.081459,
     "end_time": "2022-02-19T17:50:02.897374",
     "exception": false,
     "start_time": "2022-02-19T17:50:02.815915",
     "status": "completed"
    },
    "tags": []
   },
   "source": [
    "So in the third formulation of \"cool score\", I calculate the cosine similarity scores between the TF-IDF weighted document vectors and the new \"cool\" vector. "
   ]
  },
  {
   "cell_type": "code",
   "execution_count": 40,
   "id": "400a0931",
   "metadata": {
    "execution": {
     "iopub.execute_input": "2022-02-19T17:50:03.065816Z",
     "iopub.status.busy": "2022-02-19T17:50:03.065080Z",
     "iopub.status.idle": "2022-02-19T17:50:03.104489Z",
     "shell.execute_reply": "2022-02-19T17:50:03.105020Z",
     "shell.execute_reply.started": "2022-02-19T14:13:20.200991Z"
    },
    "papermill": {
     "duration": 0.12722,
     "end_time": "2022-02-19T17:50:03.105197",
     "exception": false,
     "start_time": "2022-02-19T17:50:02.977977",
     "status": "completed"
    },
    "tags": []
   },
   "outputs": [
    {
     "name": "stderr",
     "output_type": "stream",
     "text": [
      "/opt/conda/lib/python3.7/site-packages/ipykernel_launcher.py:2: SettingWithCopyWarning: \n",
      "A value is trying to be set on a copy of a slice from a DataFrame.\n",
      "Try using .loc[row_indexer,col_indexer] = value instead\n",
      "\n",
      "See the caveats in the documentation: https://pandas.pydata.org/pandas-docs/stable/user_guide/indexing.html#returning-a-view-versus-a-copy\n",
      "  \n"
     ]
    },
    {
     "data": {
      "text/html": [
       "<div>\n",
       "<style scoped>\n",
       "    .dataframe tbody tr th:only-of-type {\n",
       "        vertical-align: middle;\n",
       "    }\n",
       "\n",
       "    .dataframe tbody tr th {\n",
       "        vertical-align: top;\n",
       "    }\n",
       "\n",
       "    .dataframe thead th {\n",
       "        text-align: right;\n",
       "    }\n",
       "</style>\n",
       "<table border=\"1\" class=\"dataframe\">\n",
       "  <thead>\n",
       "    <tr style=\"text-align: right;\">\n",
       "      <th></th>\n",
       "      <th>name</th>\n",
       "      <th>text</th>\n",
       "      <th>cool_score</th>\n",
       "      <th>cool_score2</th>\n",
       "      <th>cool_score3</th>\n",
       "    </tr>\n",
       "  </thead>\n",
       "  <tbody>\n",
       "    <tr>\n",
       "      <th>713</th>\n",
       "      <td>Kai (The LEGO Ninjago Movie)</td>\n",
       "      <td>Kai's attitude is more serious, like Cole in t...</td>\n",
       "      <td>0.581369</td>\n",
       "      <td>0.590670</td>\n",
       "      <td>0.628535</td>\n",
       "    </tr>\n",
       "    <tr>\n",
       "      <th>465</th>\n",
       "      <td>Fandral</td>\n",
       "      <td>Fandral the Dashing was a charter member of th...</td>\n",
       "      <td>0.538041</td>\n",
       "      <td>0.510940</td>\n",
       "      <td>0.547591</td>\n",
       "    </tr>\n",
       "    <tr>\n",
       "      <th>758</th>\n",
       "      <td>Kool-Aid Man</td>\n",
       "      <td>Before he was officially the Kool-Aid Man in 1...</td>\n",
       "      <td>0.589922</td>\n",
       "      <td>0.620743</td>\n",
       "      <td>0.542037</td>\n",
       "    </tr>\n",
       "    <tr>\n",
       "      <th>531</th>\n",
       "      <td>GPL</td>\n",
       "      <td>The IT Guys had the idea of making the Garma M...</td>\n",
       "      <td>0.554245</td>\n",
       "      <td>0.583137</td>\n",
       "      <td>0.538518</td>\n",
       "    </tr>\n",
       "    <tr>\n",
       "      <th>812</th>\n",
       "      <td>Lloyd (The LEGO Ninjago Movie)</td>\n",
       "      <td>Lloyd was born to Lord Garmadon and Koko, some...</td>\n",
       "      <td>0.566117</td>\n",
       "      <td>0.589230</td>\n",
       "      <td>0.538517</td>\n",
       "    </tr>\n",
       "    <tr>\n",
       "      <th>746</th>\n",
       "      <td>Killow</td>\n",
       "      <td>Not much was known about Killow's life, but at...</td>\n",
       "      <td>0.546608</td>\n",
       "      <td>0.544484</td>\n",
       "      <td>0.527947</td>\n",
       "    </tr>\n",
       "    <tr>\n",
       "      <th>661</th>\n",
       "      <td>Jack Kirby</td>\n",
       "      <td>Born and raised in the Lower East Side, Jack K...</td>\n",
       "      <td>0.563324</td>\n",
       "      <td>0.522332</td>\n",
       "      <td>0.526997</td>\n",
       "    </tr>\n",
       "    <tr>\n",
       "      <th>813</th>\n",
       "      <td>Lloyd</td>\n",
       "      <td>Lloyd is the son of Lord Garmadon and Misako. ...</td>\n",
       "      <td>0.547368</td>\n",
       "      <td>0.552004</td>\n",
       "      <td>0.526785</td>\n",
       "    </tr>\n",
       "    <tr>\n",
       "      <th>891</th>\n",
       "      <td>Misako</td>\n",
       "      <td>As a young woman, Misako met the sons of the F...</td>\n",
       "      <td>0.538980</td>\n",
       "      <td>0.488616</td>\n",
       "      <td>0.526706</td>\n",
       "    </tr>\n",
       "    <tr>\n",
       "      <th>1071</th>\n",
       "      <td>Red Mist</td>\n",
       "      <td>The Red Mist was another teenager following th...</td>\n",
       "      <td>0.592707</td>\n",
       "      <td>0.637795</td>\n",
       "      <td>0.525131</td>\n",
       "    </tr>\n",
       "  </tbody>\n",
       "</table>\n",
       "</div>"
      ],
      "text/plain": [
       "                                name  \\\n",
       "713     Kai (The LEGO Ninjago Movie)   \n",
       "465                          Fandral   \n",
       "758                     Kool-Aid Man   \n",
       "531                              GPL   \n",
       "812   Lloyd (The LEGO Ninjago Movie)   \n",
       "746                           Killow   \n",
       "661                       Jack Kirby   \n",
       "813                            Lloyd   \n",
       "891                           Misako   \n",
       "1071                        Red Mist   \n",
       "\n",
       "                                                   text  cool_score  \\\n",
       "713   Kai's attitude is more serious, like Cole in t...    0.581369   \n",
       "465   Fandral the Dashing was a charter member of th...    0.538041   \n",
       "758   Before he was officially the Kool-Aid Man in 1...    0.589922   \n",
       "531   The IT Guys had the idea of making the Garma M...    0.554245   \n",
       "812   Lloyd was born to Lord Garmadon and Koko, some...    0.566117   \n",
       "746   Not much was known about Killow's life, but at...    0.546608   \n",
       "661   Born and raised in the Lower East Side, Jack K...    0.563324   \n",
       "813   Lloyd is the son of Lord Garmadon and Misako. ...    0.547368   \n",
       "891   As a young woman, Misako met the sons of the F...    0.538980   \n",
       "1071  The Red Mist was another teenager following th...    0.592707   \n",
       "\n",
       "      cool_score2  cool_score3  \n",
       "713      0.590670     0.628535  \n",
       "465      0.510940     0.547591  \n",
       "758      0.620743     0.542037  \n",
       "531      0.583137     0.538518  \n",
       "812      0.589230     0.538517  \n",
       "746      0.544484     0.527947  \n",
       "661      0.522332     0.526997  \n",
       "813      0.552004     0.526785  \n",
       "891      0.488616     0.526706  \n",
       "1071     0.637795     0.525131  "
      ]
     },
     "execution_count": 40,
     "metadata": {},
     "output_type": "execute_result"
    }
   ],
   "source": [
    "cool_score3=[cosine_similarity(docs_emb[i], cool2) if np.any(docs_emb[i]) else 0 for i in range(len(docs_emb))]\n",
    "hero_text['cool_score3']=pd.Series(cool_score3)\n",
    "hero_text.sort_values(by='cool_score3', ascending=False).head(10)"
   ]
  },
  {
   "cell_type": "markdown",
   "id": "6caef09c",
   "metadata": {
    "papermill": {
     "duration": 0.08211,
     "end_time": "2022-02-19T17:50:03.270051",
     "exception": false,
     "start_time": "2022-02-19T17:50:03.187941",
     "status": "completed"
    },
    "tags": []
   },
   "source": [
    "In this third ranking, Red Mist retreats to tenth. The new chart topper Kai from LEGO Ninjago Movie may not look too cool, but apparently the sentence \"he seems to be curious or perhaps more sassy\" in the description helps him get high marks. The second placed Fandral may be more aligned with conventional view of \"cool\", who is described as \"one of the most good-looking Asgardians which along with his charm, gave him the reputation as a ladies' man\". Despite the new formulation of \"cool\", Kool-Aid Man still ranks third."
   ]
  },
  {
   "cell_type": "code",
   "execution_count": 41,
   "id": "b85b4e0c",
   "metadata": {
    "_kg_hide-input": true,
    "execution": {
     "iopub.execute_input": "2022-02-19T17:50:03.440880Z",
     "iopub.status.busy": "2022-02-19T17:50:03.440160Z",
     "iopub.status.idle": "2022-02-19T17:50:03.677153Z",
     "shell.execute_reply": "2022-02-19T17:50:03.676590Z",
     "shell.execute_reply.started": "2022-02-19T14:13:20.247419Z"
    },
    "papermill": {
     "duration": 0.325895,
     "end_time": "2022-02-19T17:50:03.677399",
     "exception": false,
     "start_time": "2022-02-19T17:50:03.351504",
     "status": "completed"
    },
    "tags": []
   },
   "outputs": [
    {
     "data": {
      "image/png": "[encoded data removed]",
      "text/plain": [
       "<IPython.core.display.Image object>"
      ]
     },
     "execution_count": 41,
     "metadata": {},
     "output_type": "execute_result"
    }
   ],
   "source": [
    "Kai_img = \"https://www.superherodb.com/gallery2/075/78/7881.webp\"\n",
    "Disp.Image(requests.get(Kai_img).content)"
   ]
  },
  {
   "cell_type": "code",
   "execution_count": 42,
   "id": "911eae1e",
   "metadata": {
    "_kg_hide-output": true,
    "execution": {
     "iopub.execute_input": "2022-02-19T17:50:03.850296Z",
     "iopub.status.busy": "2022-02-19T17:50:03.849575Z",
     "iopub.status.idle": "2022-02-19T17:50:03.990582Z",
     "shell.execute_reply": "2022-02-19T17:50:03.990017Z",
     "shell.execute_reply.started": "2022-02-19T14:13:20.790848Z"
    },
    "papermill": {
     "duration": 0.229532,
     "end_time": "2022-02-19T17:50:03.990755",
     "exception": false,
     "start_time": "2022-02-19T17:50:03.761223",
     "status": "completed"
    },
    "tags": []
   },
   "outputs": [
    {
     "data": {
      "text/plain": [
       "'Kai\\'s attitude is more serious, like Cole in the TV show. Despite this, he is very compassionate and approachable, as he is \"always ready with a hug.\" Much like his own TV show counterpart, Kai is possibly impulsive, enjoys fighting enemies, and is loyal and protective of those he cares about, especially his teammates. Unlike his TV counterpart (beside the alternate face on his figurine), he seems to be curious or perhaps more sassy. He also appears to enjoy describing things with a variety of onomatopoeia. Kai wields a pair of katanas in the trailers, but he may be skillful with other weapons, though these are his favorite weapons. He and the other Ninja have Elemental Powers like their TV show counterparts, allowing him to create and manipulate fire. As seen in the trailers, Kai\\'s vehicle has weapons that are fire-based like the flamethrower in his mech. Like the other Ninja, he is a master builder.'"
      ]
     },
     "metadata": {},
     "output_type": "display_data"
    },
    {
     "name": "stdout",
     "output_type": "stream",
     "text": [
      "\n",
      "term                 TF-IDF Score         Cosine Similarity    TF-IDF*Cosine Similarity\n",
      "approachable         0.06791984816317684  0.41562268           0.02822902941245572\n",
      "onomatopoeia         0.06791984816317684  0.053381793          0.0036256832888879676\n",
      "sassy                0.06791984816317684  0.53244966           0.036163900244126704\n",
      "figurine             0.061452422800610744 0.20427677           0.012553302460095318\n",
      "compassionate        0.05498499743804464  0.28535867           0.015690445594464374\n",
      "impulsive            0.05290295151224754  0.3019842            0.015975855010809458\n",
      "builder              0.05120179612473055  0.15518515           0.007945758315622588\n",
      "flamethrower         0.05120179612473055  0.1464904            0.007500571342560435\n",
      "trailer              0.048517572075478556 0.19864953           0.009637992678114526\n",
      "hug                  0.04741859481141646  0.27284414           0.01293788552033434\n",
      "mech                 0.04329606437597063  0.18362944           0.007950431981140068\n",
      "Cole                 0.04205014671291246  0.19246423           0.008093149211290378\n",
      "curious              0.04148448731512792  0.486289             0.02017344962592503\n",
      "skillful             0.04148448731512792  0.3420161            0.014188362598670397\n",
      "katana               0.04148448731512792  0.13659008           0.005666369377789276\n",
      "Kai                  0.039512863062656535 0.13144463           0.005193753784328693\n",
      "Powers               0.03866404883943462  0.21461444           0.008297863036326633\n",
      "favorite             0.03716796813553627  0.48303902           0.01795357895903544\n",
      "elemental            0.03682863901340454  0.1464058            0.005391926401016925\n",
      "tv                   0.0365012186644247   0.18959975           0.006920622022027595\n"
     ]
    }
   ],
   "source": [
    "display(hero_text.text[713])\n",
    "print()\n",
    "most_important_terms(713, cool2)"
   ]
  },
  {
   "cell_type": "code",
   "execution_count": 43,
   "id": "534ac91a",
   "metadata": {
    "_kg_hide-input": true,
    "execution": {
     "iopub.execute_input": "2022-02-19T17:50:04.165051Z",
     "iopub.status.busy": "2022-02-19T17:50:04.164341Z",
     "iopub.status.idle": "2022-02-19T17:50:04.709283Z",
     "shell.execute_reply": "2022-02-19T17:50:04.709803Z",
     "shell.execute_reply.started": "2022-02-19T14:13:20.935299Z"
    },
    "papermill": {
     "duration": 0.635687,
     "end_time": "2022-02-19T17:50:04.709981",
     "exception": false,
     "start_time": "2022-02-19T17:50:04.074294",
     "status": "completed"
    },
    "tags": []
   },
   "outputs": [
    {
     "data": {
      "image/png": "[encoded data removed]",
      "text/plain": [
       "<IPython.core.display.Image object>"
      ]
     },
     "execution_count": 43,
     "metadata": {},
     "output_type": "execute_result"
    }
   ],
   "source": [
    "Fandral_img = \"https://www.superherodb.com/gallery2/075/95/9511.webp\"\n",
    "Disp.Image(requests.get(Fandral_img).content)"
   ]
  },
  {
   "cell_type": "code",
   "execution_count": 44,
   "id": "fdc8f6d9",
   "metadata": {
    "_kg_hide-output": true,
    "execution": {
     "iopub.execute_input": "2022-02-19T17:50:04.886542Z",
     "iopub.status.busy": "2022-02-19T17:50:04.885916Z",
     "iopub.status.idle": "2022-02-19T17:50:05.037904Z",
     "shell.execute_reply": "2022-02-19T17:50:05.038671Z",
     "shell.execute_reply.started": "2022-02-19T14:13:21.618904Z"
    },
    "papermill": {
     "duration": 0.243938,
     "end_time": "2022-02-19T17:50:05.038925",
     "exception": false,
     "start_time": "2022-02-19T17:50:04.794987",
     "status": "completed"
    },
    "tags": []
   },
   "outputs": [
    {
     "data": {
      "text/plain": [
       "\"Fandral the Dashing was a charter member of the Warriors Three, a trio of Asgardian adventurers consisting of himself, Hogun the Grim, and Volstagg the Voluminous. Fandral was a strong and brave and a good friend to Thor. He fought in countless battles with his friends, to preserve and protect his people. He has been described as one of the most good-looking Asgardians which along with his charm, gave him the reputation as a ladies' man. Besides his looks, Fandral is also known for his skills in swordsmanship and bravery. He and Thor first met when the Warriors Three joined the Thunder God on an expedition to restore the Odinsword that had become cracked.Allegedly, Volstagg the Staggeringly Perfect led the youth Hogun the Good, Fandral the Quite Plain, Thor and Loki in Hel, fighting against all of its hordes for forty days and nights. Eventually Hogun was hurt and forced to retreat, helped by Fandral. Due to the battle, Hogun the Good became Hogun the Grim, and for some reason, Fandral the Quite Plain became Fandral the Dashing later, while Volstagg started eating every time and Thor was deemed worthy of Mjolnir. Fandral possesses all of the various superhuman attributes common among the Asgardians.\""
      ]
     },
     "metadata": {},
     "output_type": "display_data"
    },
    {
     "name": "stdout",
     "output_type": "stream",
     "text": [
      "\n",
      "term                 TF-IDF Score         Cosine Similarity    TF-IDF*Cosine Similarity\n",
      "Dashing              0.06705253364967637  0.36166626           0.02425063921275286\n",
      "staggeringly         0.06705253364967637  0.21384093           0.014338576265406399\n",
      "voluminous           0.06705253364967637  0.19335152           0.012964709441025173\n",
      "Odinsword            0.06066769521911369  nan                  nan\n",
      "Plain                0.06066769521911369  0.30313048           0.0183902274307171\n",
      "Hogun                0.056932804164071205 nan                  nan\n",
      "Hel                  0.054282856788551014 0.09350801           0.0050758820561565806\n",
      "Fandral              0.054282856788551014 nan                  nan\n",
      "expedition           0.05222739791643635  0.15747079           0.008224289741783642\n",
      "Good                 0.049128026055093685 0.46013132           0.022605343348866283\n",
      "Perfect              0.049128026055093685 0.48676783           0.023913942559585726\n",
      "Volstagg             0.049128026055093685 nan                  nan\n",
      "lady                 0.047898018357988334 0.33759502           0.01617013226264076\n",
      "bravery              0.046813074678466036 0.21403188           0.010019490154197327\n",
      "Grim                 0.046813074678466036 0.23905079           0.011190702515465615\n",
      "brave                0.044163127302945845 0.40907842           0.018066182304394007\n",
      "charm                0.04342582392730859  0.4595618            0.019956849593225544\n",
      "allegedly            0.04342582392730859  0.12687416           0.005509615095794524\n",
      "charter              0.042107668430831184 0.09179359           0.0038652140220658262\n",
      "swordsmanship        0.042107668430831184 0.11615341           0.0048909493413819985\n"
     ]
    },
    {
     "name": "stderr",
     "output_type": "stream",
     "text": [
      "/opt/conda/lib/python3.7/site-packages/ipykernel_launcher.py:2: RuntimeWarning: invalid value encountered in float_scalars\n",
      "  \n"
     ]
    }
   ],
   "source": [
    "display(hero_text.text[465])\n",
    "print()\n",
    "most_important_terms(465, cool2)"
   ]
  },
  {
   "cell_type": "code",
   "execution_count": 45,
   "id": "dd7f2b28",
   "metadata": {
    "_kg_hide-input": true,
    "execution": {
     "iopub.execute_input": "2022-02-19T17:50:05.228513Z",
     "iopub.status.busy": "2022-02-19T17:50:05.227812Z",
     "iopub.status.idle": "2022-02-19T17:50:06.578466Z",
     "shell.execute_reply": "2022-02-19T17:50:06.577928Z",
     "shell.execute_reply.started": "2022-02-19T14:13:21.754206Z"
    },
    "papermill": {
     "duration": 1.451269,
     "end_time": "2022-02-19T17:50:06.578607",
     "exception": false,
     "start_time": "2022-02-19T17:50:05.127338",
     "status": "completed"
    },
    "tags": []
   },
   "outputs": [
    {
     "data": {
      "image/jpeg": "[encoded data removed]",
      "text/plain": [
       "<IPython.core.display.Image object>"
      ]
     },
     "execution_count": 45,
     "metadata": {},
     "output_type": "execute_result"
    }
   ],
   "source": [
    "Kool_Aid_Man = df.query(\"name == 'Kool-Aid Man'\")\n",
    "Kool_Aid_Man_img = \"https://www.superherodb.com\" + Kool_Aid_Man['img'].values[0]\n",
    "Disp.Image(requests.get(Kool_Aid_Man_img).content)"
   ]
  },
  {
   "cell_type": "code",
   "execution_count": 46,
   "id": "908297f7",
   "metadata": {
    "_kg_hide-output": true,
    "execution": {
     "iopub.execute_input": "2022-02-19T17:50:06.761321Z",
     "iopub.status.busy": "2022-02-19T17:50:06.760639Z",
     "iopub.status.idle": "2022-02-19T17:50:06.908337Z",
     "shell.execute_reply": "2022-02-19T17:50:06.907479Z",
     "shell.execute_reply.started": "2022-02-19T14:13:22.321596Z"
    },
    "papermill": {
     "duration": 0.242119,
     "end_time": "2022-02-19T17:50:06.908510",
     "exception": false,
     "start_time": "2022-02-19T17:50:06.666391",
     "status": "completed"
    },
    "tags": []
   },
   "outputs": [
    {
     "data": {
      "text/plain": [
       "'Before he was officially the Kool-Aid Man in 1975, he was the “Pitcher Man”. The Pitcher Man was created in 1954 by Marvin Plotts, an art director for a New York-based advertising agency. General Foods had just purchased Kool-Aid from the drink’s creator Edwin Perkins the year before, and Plotts was charged with drafting a concept to illustrate the copy message: “A 5-cent package makes two quarts. \" Working from his Chicago home on a cold day, Potts watched as his young son traced smiley face patterns on a frosty windowpane,\" recounts Sue Uerling, marketing and communications director for Hastings Museum of Natural and Cultural History. This inspired Marvin Plotts to create a beaming glass pitcher filled with flavorful drink: the Pitcher Man. From there on the joyful pitcher was on all the Kool-Aid’s advertisements. the voice of the man is John Fickley. In 1975 Kraft Foods created the character’s first costume with arms and legs. He also became more of an action figure in commercials — performing extreme sports and busting through brick walls. Kool-Aid Man is famously known for shouting, “Oh, Yeah!” as he is summoned by thirsty children with the phrase, \"Hey, Kool-Aid!\". Commercials of the era also featured a catchy jingle, always ending with the Kool-Aid Man\\'s phrase. Starting in the late 1980s, the character was given dialogue, and his mouth would be digitally manipulated to \"move\" while the voice actor talked. Sometime in the 1990s, the live-action character was retired; from that point until 2008, the character became entirely computer-generated (although other characters -- such as the kids -- remained live-action). In 2000, a new series of commercials were created for Kool-Aid Fierce and the actor chosen to play Kool-Aid Man was Jon Carr. The most recent Kool-Aid commercials feature a new and different live-action Kool-Aid Man playing street basketball and battling \"Cola\" to stay balanced on a log. NA'"
      ]
     },
     "metadata": {},
     "output_type": "display_data"
    },
    {
     "name": "stdout",
     "output_type": "stream",
     "text": [
      "\n",
      "term                 TF-IDF Score         Cosine Similarity    TF-IDF*Cosine Similarity\n",
      "Aid                  0.060925765262218344 0.09816323           0.005980670042842486\n",
      "Cola                 0.060925765262218344 0.16447066           0.010020500683934301\n",
      "Cultural             0.060925765262218344 0.32935748           0.020066356211786734\n",
      "Fickley              0.060925765262218344 nan                  nan\n",
      "Fierce               0.060925765262218344 0.4030141            0.024553942066321964\n",
      "Foods                0.060925765262218344 0.16801979           0.010236734070311167\n",
      "Kool                 0.060925765262218344 0.40055874           0.024404347760913256\n",
      "Kraft                0.060925765262218344 0.057796296          0.0035212835468094094\n",
      "Perkins              0.060925765262218344 0.014764874          0.000899561262209263\n",
      "Pitcher              0.060925765262218344 0.14530031           0.008852532812956126\n",
      "Plotts               0.060925765262218344 nan                  nan\n",
      "Uerling              0.060925765262218344 nan                  nan\n",
      "catchy               0.060925765262218344 0.47232857           0.0287769797935882\n",
      "cent                 0.060925765262218344 0.04317672           0.0026305748160513056\n",
      "digitally            0.060925765262218344 0.28048784           0.01708893601893028\n",
      "flavorful            0.060925765262218344 0.3102684            0.018903339834604373\n",
      "frosty               0.060925765262218344 0.1710401            0.010420749156023229\n",
      "hey                  0.060925765262218344 0.40750888           0.024827790359055624\n",
      "jingle               0.060925765262218344 0.14275527           0.008697474070224904\n",
      "quart                0.060925765262218344 -0.0061431765        -0.00037427772711873833\n"
     ]
    },
    {
     "name": "stderr",
     "output_type": "stream",
     "text": [
      "/opt/conda/lib/python3.7/site-packages/ipykernel_launcher.py:2: RuntimeWarning: invalid value encountered in float_scalars\n",
      "  \n"
     ]
    }
   ],
   "source": [
    "display(hero_text.text[758])\n",
    "print()\n",
    "most_important_terms(758, cool2)"
   ]
  },
  {
   "cell_type": "markdown",
   "id": "cd27f910",
   "metadata": {
    "papermill": {
     "duration": 0.089691,
     "end_time": "2022-02-19T17:50:07.088447",
     "exception": false,
     "start_time": "2022-02-19T17:50:06.998756",
     "status": "completed"
    },
    "tags": []
   },
   "source": [
    "And the new ranking has some intriguing results. Apart from Kai, GPL, Lyold(in two entries), Killow and Masako from the LEGO universe get into the top 10. Does LEGO have a secret formula to make its characters look cool in descriptions? On the surface of words the cool factor is not apparent. On the other hand, Jack Kirby, the creator or co-creator of many classics like Avengers, X-Men and Fantastic Four gets into seventh with a long description."
   ]
  },
  {
   "cell_type": "code",
   "execution_count": 47,
   "id": "de7229bd",
   "metadata": {
    "_kg_hide-input": true,
    "execution": {
     "iopub.execute_input": "2022-02-19T17:50:07.280209Z",
     "iopub.status.busy": "2022-02-19T17:50:07.279496Z",
     "iopub.status.idle": "2022-02-19T17:50:07.767877Z",
     "shell.execute_reply": "2022-02-19T17:50:07.767249Z",
     "shell.execute_reply.started": "2022-02-19T14:13:22.462490Z"
    },
    "papermill": {
     "duration": 0.590807,
     "end_time": "2022-02-19T17:50:07.768032",
     "exception": false,
     "start_time": "2022-02-19T17:50:07.177225",
     "status": "completed"
    },
    "tags": []
   },
   "outputs": [
    {
     "data": {
      "image/jpeg": "[encoded data removed]",
      "text/plain": [
       "<IPython.core.display.Image object>"
      ]
     },
     "execution_count": 47,
     "metadata": {},
     "output_type": "execute_result"
    }
   ],
   "source": [
    "GPL = df.query(\"name == 'GPL'\")\n",
    "GPL_img = \"https://www.superherodb.com\" + GPL['img'].values[0]\n",
    "Disp.Image(requests.get(GPL_img).content)"
   ]
  },
  {
   "cell_type": "code",
   "execution_count": 48,
   "id": "b5bcf316",
   "metadata": {
    "_kg_hide-output": true,
    "execution": {
     "iopub.execute_input": "2022-02-19T17:50:07.954743Z",
     "iopub.status.busy": "2022-02-19T17:50:07.953760Z",
     "iopub.status.idle": "2022-02-19T17:50:08.064420Z",
     "shell.execute_reply": "2022-02-19T17:50:08.063866Z",
     "shell.execute_reply.started": "2022-02-19T14:13:22.919266Z"
    },
    "papermill": {
     "duration": 0.207056,
     "end_time": "2022-02-19T17:50:08.064574",
     "exception": false,
     "start_time": "2022-02-19T17:50:07.857518",
     "status": "completed"
    },
    "tags": []
   },
   "outputs": [
    {
     "data": {
      "text/plain": [
       "'The IT Guys had the idea of making the Garma Mecha Man and help Garmadon conquer the city. Later, Garmadon used them in order to spy on his brother. They found out that he was going into the jungle so Garmadon left his base in order to track them down. It is unknown what happened to them after that. Mostly intelligence'"
      ]
     },
     "metadata": {},
     "output_type": "display_data"
    },
    {
     "name": "stdout",
     "output_type": "stream",
     "text": [
      "\n",
      "term                 TF-IDF Score         Cosine Similarity    TF-IDF*Cosine Similarity\n",
      "Guys                 0.06458517110288423  0.45356318           0.029293455815291573\n",
      "Garma                0.060609108109732086 nan                  nan\n",
      "Mecha                0.05778804652096598  0.22416733           0.012954192213170256\n",
      "jungle               0.04250860316096824  0.2915481            0.012393302616760193\n",
      "Garmadon             0.037708006159823185 nan                  nan\n",
      "spy                  0.030297795833309066 0.24046816           0.007285655195427501\n",
      "conquer              0.029044239047321126 0.24527624           0.007123861819641377\n",
      "idea                 0.028050358455296194 0.4574217            0.012830842376055569\n",
      "intelligence         0.024034992091186022 0.19812399           0.0047619085685221855\n",
      "happen               0.022117229415213515 0.30731177           0.006796884992075967\n",
      "city                 0.0200328140947789   0.28917164           0.00579292162756618\n",
      "track                0.019328478161861697 0.25410795           0.004911520003266613\n",
      "brother              0.017928442724192015 0.30754086           0.005513728761132818\n",
      "base                 0.017720235796057256 0.18585938           0.003293472076652832\n",
      "unknown              0.01612654625695535  0.15884596           0.00256163673931135\n"
     ]
    },
    {
     "name": "stderr",
     "output_type": "stream",
     "text": [
      "/opt/conda/lib/python3.7/site-packages/ipykernel_launcher.py:2: RuntimeWarning: invalid value encountered in float_scalars\n",
      "  \n"
     ]
    }
   ],
   "source": [
    "display(hero_text.text[531])\n",
    "print()\n",
    "most_important_terms(531, cool2)"
   ]
  },
  {
   "cell_type": "code",
   "execution_count": 49,
   "id": "1327eefb",
   "metadata": {
    "_kg_hide-input": true,
    "execution": {
     "iopub.execute_input": "2022-02-19T17:50:08.253444Z",
     "iopub.status.busy": "2022-02-19T17:50:08.252810Z",
     "iopub.status.idle": "2022-02-19T17:50:08.890017Z",
     "shell.execute_reply": "2022-02-19T17:50:08.890534Z",
     "shell.execute_reply.started": "2022-02-19T14:13:23.022571Z"
    },
    "papermill": {
     "duration": 0.735424,
     "end_time": "2022-02-19T17:50:08.890738",
     "exception": false,
     "start_time": "2022-02-19T17:50:08.155314",
     "status": "completed"
    },
    "tags": []
   },
   "outputs": [
    {
     "data": {
      "image/png": "[encoded data removed]",
      "text/plain": [
       "<IPython.core.display.Image object>"
      ]
     },
     "execution_count": 49,
     "metadata": {},
     "output_type": "execute_result"
    }
   ],
   "source": [
    "Jack_Kirby_img = \"https://www.superherodb.com/gallery2/025/41/4110.webp\"\n",
    "Disp.Image(requests.get(Jack_Kirby_img).content)"
   ]
  },
  {
   "cell_type": "code",
   "execution_count": 50,
   "id": "b3c9cb41",
   "metadata": {
    "_kg_hide-output": true,
    "execution": {
     "iopub.execute_input": "2022-02-19T17:50:09.077225Z",
     "iopub.status.busy": "2022-02-19T17:50:09.076484Z",
     "iopub.status.idle": "2022-02-19T17:50:09.226090Z",
     "shell.execute_reply": "2022-02-19T17:50:09.226533Z",
     "shell.execute_reply.started": "2022-02-19T14:13:23.444937Z"
    },
    "papermill": {
     "duration": 0.244817,
     "end_time": "2022-02-19T17:50:09.226764",
     "exception": false,
     "start_time": "2022-02-19T17:50:08.981947",
     "status": "completed"
    },
    "tags": []
   },
   "outputs": [
    {
     "data": {
      "text/plain": [
       "\"Born and raised in the Lower East Side, Jack Kirby (born Jacob Kurtzberg) created or co-created some of the most enduring characters and stories in comics (Captain America, Avengers, Hulk, X-Men, Fantastic Four, Silver Surfer, Darkseid, among hundreds of others). In addition to revolutionizing such comic book genres as crime, war, and superheroes, Kirby also co-invented romance comics with his partner Joe Simon. Kirby’s 1960s work with Marvel’s Stan Lee (who dubbed Kirby “King”) may be his most well-known. Another Kirby legacy is that he almost single-handedly defined the visual language of comic books with his dynamic page layouts portraying exaggerated anatomy, heartfelt emotion, explosive movement, and cosmic wonder. Kirby died in 1994 at age 76. Evidence of his work and influence surrounds us today, not only in comics but also in television and movies In The Beginning… In August of 1917, Rose and Ben Kurtzberg, two immigrants from Galicia in what is now Poland welcomed their firstborn, Jacob. In the early 20th century, New York City’s Lower East Side was the most densely populated two square miles on the planet. Ben sewed pants in sweatshops. Rose did piecework at home when not raising her sons. Lower East Side kids played in the streets, and fighting was a favorite pastime. Kirby’s gang, the Jewish kids of Suffolk St. would take on the Italian kids from another block, or the African-American kids from yet another block. Jake was small in stature, and once had to rescue his younger brother David from an attack by a rival gang. Jake recalled it happening in slow-motion as if choreographing the whole fight in his head. Jake loved fighting so much that he once took a long subway trip to the Bronx to see if they fought any differently there. Rose’s extended family were storytellers. Jake grew up hearing stories about demi-gods, werewolves, and vampires, learning about them long before they appeared in the movie theaters that were everywhere on the Lower East Side. At 14 Jake found a science fiction pulp magazine in a rain-drenched gutter. The image on the cover changed him forever. He took the magazine home, read it, and it fueled his interest in drawing. The stories in the magazine reminded him of the tales his mother and her friends told, but with new, hopeful, futuristic trappings. He began reading as much as he could, something he had to hide from his buddies, and took how-to-draw books out from the library. Jake met his “second father” Harry Slonaker around this time. Slonaker graduated from the Boys’ Brotherhood Republic in Chicago and was assigned to New York City to start one there. The BBR helped boys in the worst neighborhoods learn responsibility and useful skills, and it had its own rules, government, and even media. Jake took up boxing and became the cartoonist on the BBR newspaper, which he signed with the name “Jack”. While Jack’s mother wasn’t going to let him follow neighborhood hero, actor John Garfield (nee Jacob Garfinkle), to Hollywood, his time as an office boy in a newspaper cartoonist’s office showed him there was another way out of the ghetto. Most of his pals saw careers as policemen, politicians, or gangsters in their future. Jack stayed less than a week in an art class at the Pratt Institute. Not only wasn’t he the kind of artist they wanted – he worked fast – but his father lost his job, and Jack dropped out of school entirely to find work. After a brief stint as a newsboy, Jack found work at the Fleischer Brothers animation studio, working on Popeye and Betty Boop cartoons as an inbetweener, filling in the necessary number of drawings to complete the illusion of movement. Jack’s steady work allowed the Kurtzbergs to move from the Lower East Side to Brooklyn. Jack’s time with the Fleischers was short-lived. The environment reminded him too much of the sweatshops where his father worked, and the studio was relocating to Florida. He found work with some small newspaper syndicates, preparing his strips (Socko The Seadog, Your Health Comes First) at home on the kitchen table. One series, “The Romance Of Money” didn’t get syndicated, but was collected as a small pamphlet for savings banks as a giveaway. Arguably, The Romance Of Money is Jack’s first comic book. Kirby Comic Books Begin! With the success of Superman in 1938, there was a tremendous demand for new, original comic book content. Jack found his way to the Eisner-Iger Studio, preparing stories in a similar fashion to the single pages appearing in Sunday newspapers. Soon, he and his boss Will Eisner realized they were working in an entirely new, multi-page art form. Eisner recalled one incident where Jack got in the faces of mobsters who were shaking down the studio for a towel service payment. The goons left. Unfortunately, Jack came up against too much of that “sweatshop” approach again at Eisner-Iger and soon found work as a staff artist in the office of Victor Fox, where he drew the first four weeks of the Blue Beetle newspaper strip. While at Fox, Jack hit it off with Joe Simon, and the two began collaborating on Blue Bolt. Simon & Kirby quickly produced Red Raven Comics for Martin Goodman at Timely, which contained a Comet Pierce story where Jack first signed his name as “Jack Kirby.” Jack soon left Fox to work with Simon exclusively and moved his family to a nicer apartment in Brooklyn. There, he met his upstairs neighbor, and future wife, Rosalind Goldstein. Simon & Kirby produced Captain America, and the first cover featured the patriotic hero punching Adolf Hitler in the face. Published in late 1940, a year before the U.S.A. entered the war, the cover was a stark declaration of intent, and the book was a smash hit. Kirby’s choreographed action sequences were the main selling point. At one point, the Nazi-sympathizing group the American Bund were making threatening phone calls to the Simon & Kirby team. When they called again, Kirby went downstairs to confront them, but they weren’t there. Also for Goodman, they took two superhero sidekicks, Bucky and Toro, teamed them with four non-super-powered kids and created the Young Allies, the first kid gang. While still on staff at Timely, Kirby, Simon, and several inkers produced Captain Marvel Adventures #1 for Fawcett, uncredited, over a weekend. It became one of the top sellers of its time. The Simon & Kirby Team & WW2 The Simon & Kirby team had such success with Captain America and their Captain Marvel one-shot that when they discovered Goodman wasn’t paying them the agreed percentage of revenue, they quickly moved to National Comics, home of Superman. They revamped existing features Sandman and Manhunter, while Kirby’s youth inspired them to create the Boy Commandos and the Newsboy Legion. In 1942, the bickering Boy Commandos received their own title which was only outsold by National’s Superman and Batman comics. That same year, Jacob Kurtzberg legally changed his name to Jack Kirby and married Rosalind. In the midst of this success, World War II was looming. Jack was drafted into the infantry in June of 1943. In August 1944, Kirby arrived in Normandy, France and was sent to Verdun to join General Patton’s Army on its rapid offensive eastward. His division was sent to the south of Metz to rid the area of German resistance. Taking advantage of Kirby’s drawing skill and his knowledge of the German dialect Yiddish, Kirby’s commander sent him into enemy territory to scout and draw up detailed maps. Kirby’s war experiences were more brutal, horrifying, and violent than anything he experienced on the mean streets of the Lower East Side. His time in combat had a profound effect on him. Since storytelling was such a part of his personality, he shared war stories for the rest of his life. Eventually, Kirby contracted trench foot and nearly needed both feet amputated. Thankfully, that didn’t happen. Roz, at least, expressed that losing his drawing hand would have been much worse. In January 1945, Kirby made his way back stateside to North Carolina and was honorably discharged in July with several honors including the Bronze Battle Star. In December 1945, Roz and Jack’s first child, Susan, was born. After The War – The 1950s With the war behind them, the Simon & Kirby team got back to work, producing the short-lived Stuntman and Boy Explorers for Al Harvey. But action heroes and kid gangs didn’t sell like they used to. Comic books had been popular with soldiers overseas, but now that they were home, they had more reading choices. By 1947, the team was trying their hand at other genres; crime comics, funny animals, and teen humor. “True Romance” pulp magazines had been selling well to both teen and adult women for a while, so through Crestwood/Prize, Simon & Kirby’s Young Romance, the first romance comic, debuted that summer to great success. After two lucrative years producing romance comics and with growing families, the Kirbys and the Simons moved into houses across the street from each other in the suburbs of Long Island’s Nassau County. In 1953, Simon & Kirby started their own publishing company – Mainline Comics. Unfortunately, the corrupt newsstand business was collapsing, and social forces that had been building for years came to a head with the publication of Fredric Wertham’s book, Seduction Of The Innocent, which claimed comic books were corrupting America’s children. Subsequently, horror and crime comics were chased off the market, and comic book creators were stigmatized. Comic book quality experienced a sharp decline, with all offerings assuredly safe for the youngest kids. Eventually, Joe Simon left the team for more lucrative and secure work in advertising and marketing for political campaigns. Kirby brought the team’s Challengers of the Unknown to National (DC), and started working for Goodman (Atlas) again. He also worked up a number of comic strip proposals. Eventually, through a connection made by Jack Schiff, an editor at DC, Kirby, with writers Ed and Dave Wood, began a newspaper strip that capitalized on the nascent space race, Sky Masters Of The Space Force. With inking by Wallace Wood, the strips were beautiful. Unfortunately, due to a misunderstanding of the financial arrangement with Schiff, and what Schiff felt was Kirby’s using ideas from story conferences for Challengers Of The Unknown in Sky Masters, Schiff sued Kirby. Kirby lost. He continued the strip for a while, but the financial arrangement made it a losing proposition, so he quit. He’d also lost DC as a client. Jack soon found more work under Atlas editor Stan Lee, mostly on monster and science fiction stories. Simon and Kirby teamed up briefly at Archie Comics on The Double Life of Private Strong and The Adventures of the Fly. Kirby even worked briefly for Classics Illustrated. The Marvelous 1960s Inspired by his success with starting Challengers Of The Unknown at DC, the slight success of the Archie heroes, and his son Neal’s interests, Kirby felt the time was again ripe for superheroes. Soon enough, Goodman and Lee saw what was happening at DC with the Justice League of America, and decided that Kirby was right. Lee had Kirby take one of his monster stories featuring some adventurers, and give them superpowers. Thus was born Marvel Comics as we know it, with The Fantastic Four. Kirby’s vivid imagination, his heartfelt humanity, his love of science fiction and mythology, and his amazing dynamic visual storytelling all coalesced in his work for Lee and Marvel when he was in his 40s. Kirby continued to pitch heroes. Lee had been publishing monster comics, so how about a monster as a lead character, the Hulk? A scientist from a previous story became Ant-Man. Mythology was one of Kirby’s favorites, so Norse god Thor came next. An urban hero who walked on walls came next, with Kirby bringing in a logo from the Simon & Kirby studio days in the early 1950s – Spiderman. Steve Ditko ended up with the assignment. Next came Iron Man, with the origin drawn by Don Heck; Sgt. Fury and His Howling Commandos, a grown-up Boy Commandos; X-Men, a science fiction-based kid gang; and The Avengers, a bickering group of adult heroes. Kirby even had a hand in the creation of Daredevil, evoking his earlier Stuntman. In response to the assassination of President Kennedy, Lee and Kirby revived Captain America. Marvel’s sales picked up. Lee’s snappy dialogue combined with Kirby’s stories, as well as the familiar, fan club-like tone of Marvel’s editorial copy kept the baby boomers reading comics into their teens and college years. Soon, Kirby was producing so many stories for Lee, that it became more expedient to eschew story conferences before the art was drawn. They’d briefly discuss the next issue, and Kirby would return with a fully drawn story, and describe to Lee what was happening. When even this became too time-consuming, Kirby would include story notes on the edges of his artwork for Lee to use while preparing the dialogue script for the letterer. In one notable example, Lee and Kirby had discussed having the antagonist be “The Big G” – a euphemism for God. Kirby knew that such a powerful, threatening force would be preceded by… a scout, whom he cosmically depicted as a surfer of the spaceways. Lee loved Kirby’s new character and dubbed him the Silver Surfer. Audiences’ minds were blown. Goodman started licensing Marvel characters out, which led to Steve Ditko’s departure since Goodman wasn’t including him in licensing revenue. As a result, Lee tried to strengthen his relationship with Kirby, agreeing to a profile of he and Kirby by the NY Herald-Tribune. Unfortunately, the profile failed. The writer admired Lee’s P.T. Barnum-like chicanery and denigrated Kirby’s appearance and manner. Upset, Kirby kept producing stories and characters for Lee, but not for long. On one Fantastic Four story where Kirby introduced a new character, Him, Lee ignored the notes and changed Kirby’s theme. After that, Kirby only delivered stories containing already existing characters. Full Rein Kirby couldn’t stop creating new concepts, though. He just kept them to himself. When Goodman sold Marvel to Perfect Film, a more corporate entity, Kirby was stung by the new owner not wanting to negotiate a contract. Kirby felt the need to break out of his situation, so he moved his family to Southern California and began talking to Carmine Infantino at DC. Infantino, a long-ago Kirby protege who had successfully updated Batman for the readers brought in by the TV show, was rising in the editorial ranks. For DC to have an artist in the editorial office was unprecedented, and Infantino was looking to innovate. Once Jack Schiff retired, Infantino was free to bring Kirby aboard. Infantino had wanted Kirby to revamp Superman, but Kirby only took on the Jimmy Olsen series, adding an updated Newsboy Legion to the cast (Olsen was a newsboy, after all). Kirby pitched a new science fiction mythology that filled three ongoing series, but unlike his time at Marvel, he retained creative and editorial control, eventually bringing in California resident Mike Royer to provide inking and lettering. The New Gods, Mister Miracle, and the Forever People, his “Fourth World” comics, were unfettered Kirby at the top of his game, making comics for everyone, not just kids or teenagers. Unfortunately, the newsstand business was still corrupt, with distributors selling fan-favorite comics like Kirby’s to comic dealers to sell at conventions without reporting those sales to the publishers. As a result, the sales reports for Kirby’s comics were disappointing. Infantino then asked Kirby for a horror comic, like the movies that were then in vogue, and a kids' comic to capture the popularity of the Planet Of The Apes movie series. Jack delivered The Demon and Kamandi, The Last Boy On Earth. Kamandi became Jack’s longest-running series for DC. But as the end of his DC contract neared, Kirby was unsatisfied with his prospects there. A Return to Marvel and Cartoons In 1976, Kirby returned to Marvel and Captain America. He also created the Eternals, Machine Man, the Black Panther, Devil Dinosaur, and an adaptation of 2001: A Space Odyssey. At the end of his two-year deal, he worked with Lee on a Silver Surfer graphic novel in the hopes it would be turned into a rock musical movie. In 1978 Kirby was commissioned by producer Barry Ira Geller to design the sets for a movie based on Roger Zelazny’s science fiction novel Lord Of Light. Geller’s idea was for the sets to act as a theme park called Science Fiction Land once shooting was complete. Royer inked the pieces to perfection. The movie and theme park weren’t to be At this point. Kirby had enough of comic books and found work in the production of television cartoons for children. He finished his contract with Marvel by storyboarding Fantastic Four cartoons. He designed characters, props, and situations for Ruby-Spears, sometimes for existing shows like the Kamandi-like Thundarr The Barbarian, but mostly for presentation pitches for new shows. Kirby made some of the best income of his life, and for the first time, even had health insurance benefits. The Last Kirby Comic Books In 1981, Kirby returned to comic books with the first issue of Captain Victory And The Galactic Rangers. Published by Pacific Comics, Captain Victory and Silver Star were the first Kirby comics that bypassed newsstands for the comic book “Direct Market”. In 1983, while having dinner with publisher Richard Kyle, Roz encouraged Kirby to change the subject from WW2, and tell a story about growing up on the Lower East Side. Kyle commissioned Kirby to draw “Street Code”, Kirby’s only explicitly autobiographical work. To raise money for writer Steve Gerber’s lawsuit against Marvel over the rights to Howard The Duck, Kirby drew Gerber’s Destroyer Duck story pro bono. The comic was so successful, Kirby and Gerber would produce four more issues. After the last issues of Captain Victory and Silver Star, Kirby returned to DC to provide covers and editorial material for a new edition of New Gods. Among other things, he also produced the graphic novel The Hunger Dogs, bringing his Fourth World saga to a close. In 1984, the comics publishers were realizing that it was in their best interest to return the original art they had been warehousing for years to the artists. Marvel sent a brief release for the artwork to all the artists except Kirby. To him, they sent a four-page document with excessive stipulations. Kirby tried to negotiate but to no avail. His situation gained serious notice in the comics community, who put significant pressure on Marvel to return Kirby’s art as they had to other artists. In 1987 Marvel complied. Jack and Roz celebrated their 50th anniversary in 1992 surrounded by family and friends. Kirby died the morning of February 6th, 1994 in his hilltop home in Thousand Oaks, California. All this time, throughout their life together, Jack and Roz attended comic book conventions and welcomed fans into their home. They loved their fellow fans of comics, science fiction, mythology, romance, and action, encouraged them to live their own lives to the fullest, and to tell their own stories. The high profile of comics in our culture today is a testament to the Kirbys’ positive energy, love, and commitment. Imagination Kirby possessed imagination and artistic ability that both bordered on a superhuman level.\""
      ]
     },
     "metadata": {},
     "output_type": "display_data"
    },
    {
     "name": "stdout",
     "output_type": "stream",
     "text": [
      "\n",
      "term                 TF-IDF Score         Cosine Similarity    TF-IDF*Cosine Similarity\n",
      "BBR                  0.030059266935080042 -0.07996785          -0.0024037749180101484\n",
      "Barbarian            0.030059266935080042 0.21690407           0.006519977458278463\n",
      "Barnum               0.030059266935080042 -0.033380877         -0.0010034046990812365\n",
      "Books                0.030059266935080042 0.2535265            0.007620821003382681\n",
      "Boop                 0.030059266935080042 0.18722442           0.005627828755168982\n",
      "Bund                 0.030059266935080042 -0.020908857         -0.0006285049067895288\n",
      "Cartoons             0.030059266935080042 0.2754124            0.008278695164383166\n",
      "Classics             0.030059266935080042 0.35925016           0.010798796397941459\n",
      "Comic                0.030059266935080042 0.36084726           0.010846804247248844\n",
      "Crestwood            0.030059266935080042 0.014246441          0.00042823758563578074\n",
      "Ditko                0.030059266935080042 -0.009791492         -0.00029432505828984063\n",
      "Eisner               0.030059266935080042 -0.025043355         -0.000752784901943488\n",
      "Fiction              0.030059266935080042 0.26140788           0.007857729303225652\n",
      "Fleischer            0.030059266935080042 -0.045210876         -0.0013590057771505873\n",
      "Fleischers           0.030059266935080042 nan                  nan\n",
      "Fredric              0.030059266935080042 -0.047666118         -0.0014328085511625679\n",
      "Galicia              0.030059266935080042 -0.0647934           -0.0019476421202523232\n",
      "Garfinkle            0.030059266935080042 nan                  nan\n",
      "Geller               0.030059266935080042 -0.010382639         -0.0003120945245320094\n",
      "Goldstein            0.030059266935080042 -0.055805866         -0.0016774834128743868\n"
     ]
    },
    {
     "name": "stderr",
     "output_type": "stream",
     "text": [
      "/opt/conda/lib/python3.7/site-packages/ipykernel_launcher.py:2: RuntimeWarning: invalid value encountered in float_scalars\n",
      "  \n"
     ]
    }
   ],
   "source": [
    "display(hero_text.text[661])\n",
    "print()\n",
    "most_important_terms(661, cool2)"
   ]
  },
  {
   "cell_type": "code",
   "execution_count": 51,
   "id": "c480da11",
   "metadata": {
    "_kg_hide-input": true,
    "execution": {
     "iopub.execute_input": "2022-02-19T17:50:09.418873Z",
     "iopub.status.busy": "2022-02-19T17:50:09.418213Z",
     "iopub.status.idle": "2022-02-19T17:50:09.908789Z",
     "shell.execute_reply": "2022-02-19T17:50:09.908133Z",
     "shell.execute_reply.started": "2022-02-19T14:13:23.590129Z"
    },
    "papermill": {
     "duration": 0.589948,
     "end_time": "2022-02-19T17:50:09.908941",
     "exception": false,
     "start_time": "2022-02-19T17:50:09.318993",
     "status": "completed"
    },
    "tags": []
   },
   "outputs": [
    {
     "data": {
      "image/png": "[encoded data removed]",
      "text/plain": [
       "<IPython.core.display.Image object>"
      ]
     },
     "execution_count": 51,
     "metadata": {},
     "output_type": "execute_result"
    }
   ],
   "source": [
    "Misako_img = \"https://www.superherodb.com/gallery2/075/78/7892.webp\"\n",
    "Disp.Image(requests.get(Misako_img).content)"
   ]
  },
  {
   "cell_type": "code",
   "execution_count": 52,
   "id": "c2db3807",
   "metadata": {
    "_kg_hide-output": true,
    "execution": {
     "iopub.execute_input": "2022-02-19T17:50:10.100500Z",
     "iopub.status.busy": "2022-02-19T17:50:10.099835Z",
     "iopub.status.idle": "2022-02-19T17:50:10.240466Z",
     "shell.execute_reply": "2022-02-19T17:50:10.239725Z",
     "shell.execute_reply.started": "2022-02-19T14:13:24.149835Z"
    },
    "papermill": {
     "duration": 0.238526,
     "end_time": "2022-02-19T17:50:10.240663",
     "exception": false,
     "start_time": "2022-02-19T17:50:10.002137",
     "status": "completed"
    },
    "tags": []
   },
   "outputs": [
    {
     "data": {
      "text/plain": [
       "\"As a young woman, Misako met the sons of the First Spinjitzu Master; Garmadon and Wu. She befriended the brothers, and was even taught Spinjitzu by Wu. Though she was initially inclined toward Wu, a letter she received from Garmadon swayed her to choose to marry him instead. The two spent many happy years together, and eventually had a son named Lloyd. Eventually, Garmadon succumbed to the evil growing inside him as a result of his bite by The Great Devourer and was cast into the Underworld after a battle against Wu. Realizing that Lloyd would become the legendary Green Ninja, Misako left him at Darkley's Boarding School for Bad Boys so that she could research the prophecy in the hopes of preventing it. Misako is Garmadon’s wife, Lloyd’s mother, and the love of Master Wu’s life. She was tricked into marrying Garmadon and regrets the years she missed with Wu. Intelligent and accomplished, Misako worked as an archaeologist at the NINJAGO® Museum of History and is also a Spinjitzu master and an expert on NINJAGO mythology. Although she is an academic, she is also a lover of adventure and has never been content to sit behind a desk. Misako knew Lloyd would become the Green Ninja someday, and so enrolled him at Darkly’s School for Bad Boys while she researched the prophecy of the Green Ninja. After reuniting with Lloyd, she became involved in many of the ninja’s adventures. Misako fled as her husband Lord Garmadon turned to evil and was forced to leave Lloyd behind. She threw herself into her archaeological research, hoping to uncover a way for her son and husband to avoid their inevitable final battle. She is overjoyed to be reunited with Lloyd and to see the young man he’s become today. Can she save both son and husband, or will she rekindle an old romance with Master Wu?\""
      ]
     },
     "metadata": {},
     "output_type": "display_data"
    },
    {
     "name": "stdout",
     "output_type": "stream",
     "text": [
      "term                 TF-IDF Score         Cosine Similarity    TF-IDF*Cosine Similarity\n",
      "Darkly               0.06418390653806137  0.2957853            0.018984656556572246\n",
      "NINJAGO              0.06418390653806137  nan                  nan\n",
      "archaeological       0.06418390653806137  0.16499858           0.010590253183787823\n",
      "Boarding             0.05807222289566651  0.15743129           0.009142384937711329\n",
      "Darkley              0.05807222289566651  nan                  nan\n",
      "inclined             0.05807222289566651  0.29268578           0.016996913677369527\n",
      "mythology            0.05196053925327166  0.2471848            0.012843855405601755\n",
      "academic             0.049993016581721235 0.17089221           0.008543417028956314\n",
      "archaeologist        0.04838543350619979  0.14359596           0.006947952954163725\n",
      "Boys                 0.045848855610876815 0.33418396           0.015321952182376157\n",
      "Misako               0.045848855610876815 nan                  nan\n",
      "overjoyed            0.04388133293932638  0.21428053           0.009402915314904822\n",
      "History              0.04304095490245226  0.32048362           0.01379392124780822\n",
      "inevitable           0.04304095490245226  0.17118692           0.007368048674943386\n",
      "Devourer             0.04227374986380494  -0.0031330339        -0.00013244509004750786\n",
      "desk                 0.04030622719225451  0.13470171           0.005429317884431065\n",
      "rekindle             0.04030622719225451  0.21391934           0.008622281581903271\n",
      "someday              0.039202626752294883 0.30466488           0.011943663576635271\n",
      "today                0.03869864411673306  0.24156487           0.00934823293061722\n",
      "prophecy             0.03869864411673306  0.18067811           0.00699199804478485\n"
     ]
    },
    {
     "name": "stderr",
     "output_type": "stream",
     "text": [
      "/opt/conda/lib/python3.7/site-packages/ipykernel_launcher.py:2: RuntimeWarning: invalid value encountered in float_scalars\n",
      "  \n"
     ]
    }
   ],
   "source": [
    "display(hero_text.text[891])\n",
    "most_important_terms(891, cool2)"
   ]
  },
  {
   "cell_type": "markdown",
   "id": "c02a1ba7",
   "metadata": {
    "papermill": {
     "duration": 0.093903,
     "end_time": "2022-02-19T17:50:10.430718",
     "exception": false,
     "start_time": "2022-02-19T17:50:10.336815",
     "status": "completed"
    },
    "tags": []
   },
   "source": [
    "# Fourth Attempt: Compare Only the Top Similarity Scoring Terms"
   ]
  },
  {
   "cell_type": "markdown",
   "id": "360de27e",
   "metadata": {
    "papermill": {
     "duration": 0.095174,
     "end_time": "2022-02-19T17:50:10.620129",
     "exception": false,
     "start_time": "2022-02-19T17:50:10.524955",
     "status": "completed"
    },
    "tags": []
   },
   "source": [
    "Despite Kirby's entry, most of the high similarity scoring texts are relatively short, reflecting that even if TD-IDF is used, it cannot overcome the dilution problem of long documents effectively. An alternative approach is to concentrate just on the top similarity scoring terms in each document of description, instead of getting the similarity score from the vector of the whole document. In the following implementation, I get the top 10 scoring terms with the new \"cool\" vector and then take the average in each document as a basis of comparison. To avoid the case that some descriptions may score high simply because they have repeated mentions of certain fairly high scoring terms such as \"look\" and \"kind\", I only count the unique terms. In this way, descriptions which have more high similarity terms with the new \"cool\" vector would get higher scores, but long documents would have advantage as they are more likely to include various words related to \"cool\"."
   ]
  },
  {
   "cell_type": "code",
   "execution_count": 53,
   "id": "cc2bd51a",
   "metadata": {
    "execution": {
     "iopub.execute_input": "2022-02-19T17:50:10.841807Z",
     "iopub.status.busy": "2022-02-19T17:50:10.841113Z",
     "iopub.status.idle": "2022-02-19T17:50:10.844190Z",
     "shell.execute_reply": "2022-02-19T17:50:10.843531Z",
     "shell.execute_reply.started": "2022-02-19T10:30:53.378188Z"
    },
    "papermill": {
     "duration": 0.123771,
     "end_time": "2022-02-19T17:50:10.844330",
     "exception": false,
     "start_time": "2022-02-19T17:50:10.720559",
     "status": "completed"
    },
    "tags": []
   },
   "outputs": [],
   "source": [
    "def top_n_similarity_score(tokens_list, target, n):\n",
    "    target_score_list=[cosine_similarity(nlp(word).vector, target) if np.any(nlp(word).vector) else 0 for word in set(tokens_list)]\n",
    "    target_score_list.sort(reverse=True)\n",
    "    if len(target_score_list) >= n:\n",
    "        return sum(target_score_list[:n])/n\n",
    "    else:\n",
    "        return sum(target_score_list)/len(target_score_list)"
   ]
  },
  {
   "cell_type": "code",
   "execution_count": 54,
   "id": "98aa2297",
   "metadata": {
    "execution": {
     "iopub.execute_input": "2022-02-19T17:50:11.046852Z",
     "iopub.status.busy": "2022-02-19T17:50:11.046174Z",
     "iopub.status.idle": "2022-02-19T18:51:01.309084Z",
     "shell.execute_reply": "2022-02-19T18:51:01.308339Z",
     "shell.execute_reply.started": "2022-02-19T10:30:53.388703Z"
    },
    "papermill": {
     "duration": 3650.368902,
     "end_time": "2022-02-19T18:51:01.309272",
     "exception": false,
     "start_time": "2022-02-19T17:50:10.940370",
     "status": "completed"
    },
    "tags": []
   },
   "outputs": [],
   "source": [
    "docs_top_10_score=[top_n_similarity_score(token_list, cool2, 10) for token_list in docs]"
   ]
  },
  {
   "cell_type": "code",
   "execution_count": 55,
   "id": "e1d5b543",
   "metadata": {
    "execution": {
     "iopub.execute_input": "2022-02-19T18:51:01.504286Z",
     "iopub.status.busy": "2022-02-19T18:51:01.503298Z",
     "iopub.status.idle": "2022-02-19T18:51:01.512482Z",
     "shell.execute_reply": "2022-02-19T18:51:01.513067Z",
     "shell.execute_reply.started": "2022-02-19T11:51:32.715264Z"
    },
    "papermill": {
     "duration": 0.107779,
     "end_time": "2022-02-19T18:51:01.513248",
     "exception": false,
     "start_time": "2022-02-19T18:51:01.405469",
     "status": "completed"
    },
    "tags": []
   },
   "outputs": [
    {
     "data": {
      "text/plain": [
       "616     0.541959\n",
       "630     0.541959\n",
       "835     0.541959\n",
       "1424    0.541959\n",
       "1195    0.541743\n",
       "          ...   \n",
       "876     0.087689\n",
       "537     0.073837\n",
       "926     0.061235\n",
       "59      0.055142\n",
       "1162    0.053617\n",
       "Length: 1450, dtype: float64"
      ]
     },
     "execution_count": 55,
     "metadata": {},
     "output_type": "execute_result"
    }
   ],
   "source": [
    "pd.Series(docs_top_10_score).sort_values(ascending=False)"
   ]
  },
  {
   "cell_type": "code",
   "execution_count": 56,
   "id": "9eb5893a",
   "metadata": {
    "execution": {
     "iopub.execute_input": "2022-02-19T18:51:01.707547Z",
     "iopub.status.busy": "2022-02-19T18:51:01.706886Z",
     "iopub.status.idle": "2022-02-19T18:51:01.727511Z",
     "shell.execute_reply": "2022-02-19T18:51:01.726900Z",
     "shell.execute_reply.started": "2022-02-19T11:36:46.031256Z"
    },
    "papermill": {
     "duration": 0.118899,
     "end_time": "2022-02-19T18:51:01.727674",
     "exception": false,
     "start_time": "2022-02-19T18:51:01.608775",
     "status": "completed"
    },
    "tags": []
   },
   "outputs": [
    {
     "name": "stderr",
     "output_type": "stream",
     "text": [
      "/opt/conda/lib/python3.7/site-packages/ipykernel_launcher.py:1: SettingWithCopyWarning: \n",
      "A value is trying to be set on a copy of a slice from a DataFrame.\n",
      "Try using .loc[row_indexer,col_indexer] = value instead\n",
      "\n",
      "See the caveats in the documentation: https://pandas.pydata.org/pandas-docs/stable/user_guide/indexing.html#returning-a-view-versus-a-copy\n",
      "  \"\"\"Entry point for launching an IPython kernel.\n"
     ]
    },
    {
     "data": {
      "text/html": [
       "<div>\n",
       "<style scoped>\n",
       "    .dataframe tbody tr th:only-of-type {\n",
       "        vertical-align: middle;\n",
       "    }\n",
       "\n",
       "    .dataframe tbody tr th {\n",
       "        vertical-align: top;\n",
       "    }\n",
       "\n",
       "    .dataframe thead th {\n",
       "        text-align: right;\n",
       "    }\n",
       "</style>\n",
       "<table border=\"1\" class=\"dataframe\">\n",
       "  <thead>\n",
       "    <tr style=\"text-align: right;\">\n",
       "      <th></th>\n",
       "      <th>name</th>\n",
       "      <th>text</th>\n",
       "      <th>cool_score</th>\n",
       "      <th>cool_score2</th>\n",
       "      <th>cool_score3</th>\n",
       "      <th>cool_score4</th>\n",
       "    </tr>\n",
       "  </thead>\n",
       "  <tbody>\n",
       "    <tr>\n",
       "      <th>616</th>\n",
       "      <td>Hulk</td>\n",
       "      <td>Robert Bruce Banner was the son of an alcoho...</td>\n",
       "      <td>0.538590</td>\n",
       "      <td>0.471117</td>\n",
       "      <td>0.437627</td>\n",
       "      <td>0.541959</td>\n",
       "    </tr>\n",
       "    <tr>\n",
       "      <th>630</th>\n",
       "      <td>Immortal Hulk</td>\n",
       "      <td>Childhood Trauma Robert Bruce Banner was the s...</td>\n",
       "      <td>0.539076</td>\n",
       "      <td>0.468902</td>\n",
       "      <td>0.437131</td>\n",
       "      <td>0.541959</td>\n",
       "    </tr>\n",
       "    <tr>\n",
       "      <th>835</th>\n",
       "      <td>Maestro Hulk</td>\n",
       "      <td>Childhood Trauma Robert Bruce Banner was the s...</td>\n",
       "      <td>0.539449</td>\n",
       "      <td>0.468811</td>\n",
       "      <td>0.437468</td>\n",
       "      <td>0.541959</td>\n",
       "    </tr>\n",
       "    <tr>\n",
       "      <th>1424</th>\n",
       "      <td>World Breaker Hulk</td>\n",
       "      <td>Childhood Trauma Robert Bruce Banner was the s...</td>\n",
       "      <td>0.539449</td>\n",
       "      <td>0.468811</td>\n",
       "      <td>0.437468</td>\n",
       "      <td>0.541959</td>\n",
       "    </tr>\n",
       "    <tr>\n",
       "      <th>1195</th>\n",
       "      <td>Sonic The Hedgehog</td>\n",
       "      <td>Past Not much is known about Sonic's early lif...</td>\n",
       "      <td>0.558913</td>\n",
       "      <td>0.527919</td>\n",
       "      <td>0.478624</td>\n",
       "      <td>0.541743</td>\n",
       "    </tr>\n",
       "    <tr>\n",
       "      <th>393</th>\n",
       "      <td>Devilman</td>\n",
       "      <td>Transformation Akira is first seen walking hom...</td>\n",
       "      <td>0.542339</td>\n",
       "      <td>0.527686</td>\n",
       "      <td>0.471312</td>\n",
       "      <td>0.535343</td>\n",
       "    </tr>\n",
       "    <tr>\n",
       "      <th>582</th>\n",
       "      <td>Heart Of The Monster Hulk</td>\n",
       "      <td>NA The Hulk is one of the most powerful beings...</td>\n",
       "      <td>0.535973</td>\n",
       "      <td>0.471837</td>\n",
       "      <td>0.392193</td>\n",
       "      <td>0.530370</td>\n",
       "    </tr>\n",
       "    <tr>\n",
       "      <th>1421</th>\n",
       "      <td>Wonder Woman</td>\n",
       "      <td>Origin  Wonder Woman did not keep her identity...</td>\n",
       "      <td>0.532390</td>\n",
       "      <td>0.464344</td>\n",
       "      <td>0.469892</td>\n",
       "      <td>0.530018</td>\n",
       "    </tr>\n",
       "    <tr>\n",
       "      <th>467</th>\n",
       "      <td>Fëanor</td>\n",
       "      <td>Fëanor drew so much of Míriel's life energy w...</td>\n",
       "      <td>0.501195</td>\n",
       "      <td>0.389129</td>\n",
       "      <td>0.442618</td>\n",
       "      <td>0.530011</td>\n",
       "    </tr>\n",
       "    <tr>\n",
       "      <th>661</th>\n",
       "      <td>Jack Kirby</td>\n",
       "      <td>Born and raised in the Lower East Side, Jack K...</td>\n",
       "      <td>0.563324</td>\n",
       "      <td>0.522332</td>\n",
       "      <td>0.526997</td>\n",
       "      <td>0.528659</td>\n",
       "    </tr>\n",
       "  </tbody>\n",
       "</table>\n",
       "</div>"
      ],
      "text/plain": [
       "                           name  \\\n",
       "616                        Hulk   \n",
       "630               Immortal Hulk   \n",
       "835                Maestro Hulk   \n",
       "1424         World Breaker Hulk   \n",
       "1195         Sonic The Hedgehog   \n",
       "393                    Devilman   \n",
       "582   Heart Of The Monster Hulk   \n",
       "1421               Wonder Woman   \n",
       "467                      Fëanor   \n",
       "661                  Jack Kirby   \n",
       "\n",
       "                                                   text  cool_score  \\\n",
       "616     Robert Bruce Banner was the son of an alcoho...    0.538590   \n",
       "630   Childhood Trauma Robert Bruce Banner was the s...    0.539076   \n",
       "835   Childhood Trauma Robert Bruce Banner was the s...    0.539449   \n",
       "1424  Childhood Trauma Robert Bruce Banner was the s...    0.539449   \n",
       "1195  Past Not much is known about Sonic's early lif...    0.558913   \n",
       "393   Transformation Akira is first seen walking hom...    0.542339   \n",
       "582   NA The Hulk is one of the most powerful beings...    0.535973   \n",
       "1421  Origin  Wonder Woman did not keep her identity...    0.532390   \n",
       "467    Fëanor drew so much of Míriel's life energy w...    0.501195   \n",
       "661   Born and raised in the Lower East Side, Jack K...    0.563324   \n",
       "\n",
       "      cool_score2  cool_score3  cool_score4  \n",
       "616      0.471117     0.437627     0.541959  \n",
       "630      0.468902     0.437131     0.541959  \n",
       "835      0.468811     0.437468     0.541959  \n",
       "1424     0.468811     0.437468     0.541959  \n",
       "1195     0.527919     0.478624     0.541743  \n",
       "393      0.527686     0.471312     0.535343  \n",
       "582      0.471837     0.392193     0.530370  \n",
       "1421     0.464344     0.469892     0.530018  \n",
       "467      0.389129     0.442618     0.530011  \n",
       "661      0.522332     0.526997     0.528659  "
      ]
     },
     "execution_count": 56,
     "metadata": {},
     "output_type": "execute_result"
    }
   ],
   "source": [
    "hero_text['cool_score4']=pd.Series(docs_top_10_score)\n",
    "hero_text.sort_values(by='cool_score4', ascending=False).head(10)"
   ]
  },
  {
   "cell_type": "markdown",
   "id": "f1469d3d",
   "metadata": {
    "papermill": {
     "duration": 0.096542,
     "end_time": "2022-02-19T18:51:01.920533",
     "exception": false,
     "start_time": "2022-02-19T18:51:01.823991",
     "status": "completed"
    },
    "tags": []
   },
   "source": [
    "After this change of approach, some of the more well known names finally emerged, although with some surprise. According to this measurement, Hulk is the coolest superhero. In fact five versions of Hulk, each with very similar descriptions, get into the top 10. The cool related terms in descriptions of the Hulks include \"awesome\", \"amazing\", \"style\", \"look\", \"unique\", \"fantastic\". \"great\", \"truly\", \"incredibly\" and \"love\"."
   ]
  },
  {
   "cell_type": "code",
   "execution_count": 57,
   "id": "05dec7b3",
   "metadata": {
    "execution": {
     "iopub.execute_input": "2022-02-19T18:51:02.120340Z",
     "iopub.status.busy": "2022-02-19T18:51:02.119696Z",
     "iopub.status.idle": "2022-02-19T18:51:02.121247Z",
     "shell.execute_reply": "2022-02-19T18:51:02.121782Z",
     "shell.execute_reply.started": "2022-02-19T14:18:47.666535Z"
    },
    "papermill": {
     "duration": 0.105182,
     "end_time": "2022-02-19T18:51:02.121972",
     "exception": false,
     "start_time": "2022-02-19T18:51:02.016790",
     "status": "completed"
    },
    "tags": []
   },
   "outputs": [],
   "source": [
    "def display_content_and_top_words(index, target):\n",
    "    token_similarity=pd.DataFrame([token, cosine_similarity(nlp(token).vector, target)] for token in set(docs[index]) if np.any(nlp(token).vector))\n",
    "    token_similarity.columns=['token','similarity_score']\n",
    "    display(hero_text.text[index])\n",
    "    display(token_similarity.sort_values(by='similarity_score', ascending=False).head(10))"
   ]
  },
  {
   "cell_type": "code",
   "execution_count": 58,
   "id": "976fb15e",
   "metadata": {
    "_kg_hide-input": true,
    "execution": {
     "iopub.execute_input": "2022-02-19T18:51:02.328425Z",
     "iopub.status.busy": "2022-02-19T18:51:02.327707Z",
     "iopub.status.idle": "2022-02-19T18:51:02.930154Z",
     "shell.execute_reply": "2022-02-19T18:51:02.930699Z",
     "shell.execute_reply.started": "2022-02-19T14:17:01.838252Z"
    },
    "papermill": {
     "duration": 0.712828,
     "end_time": "2022-02-19T18:51:02.930874",
     "exception": false,
     "start_time": "2022-02-19T18:51:02.218046",
     "status": "completed"
    },
    "tags": []
   },
   "outputs": [
    {
     "data": {
      "image/jpeg": "[encoded data removed]",
      "text/plain": [
       "<IPython.core.display.Image object>"
      ]
     },
     "execution_count": 58,
     "metadata": {},
     "output_type": "execute_result"
    }
   ],
   "source": [
    "Hulk = df.query(\"name == 'Hulk'\")\n",
    "Hulk_img = \"https://www.superherodb.com\" + Hulk['img'].values[0]\n",
    "Disp.Image(requests.get(Hulk_img).content)"
   ]
  },
  {
   "cell_type": "code",
   "execution_count": 59,
   "id": "12741d59",
   "metadata": {
    "_kg_hide-output": true,
    "execution": {
     "iopub.execute_input": "2022-02-19T18:51:03.130327Z",
     "iopub.status.busy": "2022-02-19T18:51:03.129649Z",
     "iopub.status.idle": "2022-02-19T18:51:17.060385Z",
     "shell.execute_reply": "2022-02-19T18:51:17.059803Z",
     "shell.execute_reply.started": "2022-02-19T14:46:04.373932Z"
    },
    "papermill": {
     "duration": 14.03212,
     "end_time": "2022-02-19T18:51:17.060530",
     "exception": false,
     "start_time": "2022-02-19T18:51:03.028410",
     "status": "completed"
    },
    "tags": []
   },
   "outputs": [
    {
     "data": {
      "text/plain": [
       "'  Robert Bruce Banner was the son of an alcoholic who deeply hated him. Banner\\'s mother showed much affection for her child, who returned her love, but this only served to fuel his father\\'s rage. Dr. Brian Banner was an atomic physicist who worked on producing clean nuclear power as an energy source, but he was afraid his exposure to it mutated his son\\'s genes. Bruce showed signs of high intelligence at an early age which strengthened his father\\'s belief. Brian became abusive to Bruce and when his mother intervened, Brian murdered her. He frightened Bruce to keep quiet, but his own bragging landed him in a psychiatric institute.   As a child Bruce was withdrawn, possibly developing a split personality to help deal with his pain and rage. His only happiness came from spending time with his cousin Jennifer Walters. Bruce found it hard to develop friendships and often found himself on the receiving end of physical abuse at the hands of school bullies. One such incident sparked him to build and plant a bomb in the basement of his school. The bomb was a dud, and Bruce was expelled, but the military took notice of his genius. Eventually, Bruce earned a doctorate in nuclear physics and started a career with them.    Supervising the trial of an experimental gamma bomb that he designed for the U.S. Defense Department at a nuclear research facility in New Mexico, Bruce selflessly rushed to the rescue of an ignorant teenager who had wandered onto the testing field as the countdown ticked inexorably toward zero. After shoving young Rick Jones to safety in a nearby ditch, Bruce was struck full-force by the bomb blast. He survived, but was irradiated by the deadly gamma energy.   At first, Banner would transform into the brutish gray Hulk only at sunset, and revert to human form at dawn. Eventually, his changes into the childlike green Hulk came to be triggered by the release of adrenaline when he was intensely excited, no matter what time of day. The green Hulk possesses little of Banner\\'s memory and intelligence, and is easily enraged; making him a menace to society.   Since Banner\\'s initial transformation into the Hulk, military forces commanded by the implacable General Thaddeus \"Thunderbolt\" Ross � Bruce\\'s one-time benefactor � have hunted him continually. Hulk continued to make more enemies within the military such as Major Glenn Talbot as he and Bruce constantly competed for the affections of Ross\\' daughter, Betty.   For a short time, Banner successfully treated his condition with radiation and was able to maintain enough of his own personality when he became the Hulk to control himself in that form. Subsequently, he earned the government\\'s favor by destroying the alien Metal Master and received a presidential pardon.    Not long after Hulk was baited into a trap by the Asgardian trickster, Loki, into destroying a train trestle. This would lead to the first instance where Hulk became a team player. Beside the occasional group endeavors, Hulk has teamed-up with many others that didn\\'t think he was so bad. Spider-Man, Power Man and Iron Fist have partnered with Hulk on several occasions. Even brutes like the Thing and scrappers like Wolverine identified with Hulk and have allied with him almost as many times as they\\'ve fought against him. Not only has Hulk befriended those in the super-hero community, but he has managed to form bonds with regular people such as \"Crackajack\" Jackson and Jim Wilson. Unfortunately for the Hulk, there are many who used his limited intelligence against him and attempted to manipulate him for their own selfish means. Vile menaces like the Leader, Tyrannus, and Captain Omen. When Hulk proved to be too hard to control, they sent their minions like Aquon and Mogol to confront him physically. Enemies came in all shapes and sizes, ranging in power levels. From mere humans like Devastator, to evolved beings like the Inheritor, to monstrous powerhouses like Glob, Hulk always found a way to prevail � even against those who masqueraded as friends such as his old physics professor, Geoffrey Crawford � later known as Ravage.    Gamma-powered psychiatrist Leonard \"Doc\" Samson captured the Hulk and successfully separated Banner and his alter ego. Without Banner\\'s psyche to restrain him, the Hulk became a greater danger than ever before. Realizing there was only one way to reign in the Hulk, Banner agreed to merge with the monster. But the stress of the re-integration fractured Banner\\'s subconscious, creating the street-smart gray Hulk. During this time, he spent several years in Las Vegas, sometimes operating as an enforcer calling himself Mr. Fixit (or \"Joe Fixit.\") The smart-mouth Fixit was an ill-tempered, wise-cracking, thuggish brute whose personality resembled that of his father and the fraternity boys who surrounded him in college. It was also at this time that Joe Fixit began his a short-lived relationship with the future wife of Rick Jones, Marlo Chandler. In this state of the Hulk, Banner again found himself changing into the Hulk at night and into his human form in the light of the day.   Soon after, the swirling mess of persona and mentalities took their toll on the ever-flustered mind of Dr. Banner, and a battle for supremacy and control took place in Banner\\'s subconscious. With assistance by the Ringmaster and his hypnotic abilities, Doc Samson tapped into the subconscious of Banner and reached his separate incarnations. Through this hypnosis, Banner, the green Hulk, and the grey Fixit all aligned to face their true inner demons-- Banner\\'s unresolved issues with his abusive father and the murderer of his mother. With this realization, Banner was able to fuse these mentalities together, finding peace of mind. However, a green but intelligent version of the Hulk emerged. He had the mentality of Dr. Banner but the body and abilities of the Hulk � later nicknamed the Professor. Although Banner had his dominant personalities merged together, there were a number of other personas running through his mind including that of a \"Devil-Hulk.\"    It was during this time the Professor was recruited into the Pantheon, a group determined to end war, famine and pestilence on the Earth. His exploits with the team ranged from posing as gangsters in Las Vegas, taking down individuals like the enigmatic Mr. Frost, to renewing old grudges with powerful foes such as Madman while forming new enemies as the amphibious android, Piecemeal, to battling enemies from beyond the stars. During this time, Hulk also traveled forward in time and met his future self, the Maestro. However, once it was discovered Agamemnon, immortal founder of the Pantheon, betrayed them to an alien race called the Troyjans, Hulk quit the group. Sometime later, the Pantheon was hired by Henry Gyrich to capture the Hulk, but they secretly wanted him to join their ranks again. They faked the Hulk\\'s death as a show of good faith, but he still declined their invitation.   When Dr. Banner realized he must once again keep his temper in check, he triggered a fail-safe within his subconscious. Any time he let his rage loose, the mentality of the savage green Hulk would soon take over, albeit in the form of Banner\\'s human body. Without the strength of the Hulk and filled with the Green Goliath\\'s rage and belief of his old abilities, he proved to be a great danger only to himself. This was, however, not to last. During the assault of the being known as Onslaught, the Hulk asked Jean Grey to let the green Hulk loose from its mental prison in order to use his maximum potential and abilities to defeat the menace. In a strange twist, Banner became divided. Half physically went away to a parallel world created upon Onslaught\\'s defeat, where he once again became the savage green Hulk. The other half that remained on Earth was a cold, somewhat unfeeling but intelligible version of the jade monster. This version of the Hulk also found himself allied with Apocalypse (En Sabah Nur), who made Hulk into War � one of his Four Horsemen. This only lasted until War injured Rick Jones, and Hulk\\'s guilt rejected Apocalypse\\'s programming.   The surly version of the Hulk remained in this state, never changing until much later when the two Hulk fragments re-merged, and Banner and Hulk split their time and existence. The Maestro returned after absorbing enough radiation to re-form his body after suffering a previous defeat from Hulk, but was beaten again. He reestablished a connection to his wife, Betty, but was left a broken man after her death due to radiation poisoning. Banner blamed himself, believing it was Betty\\'s prolonged exposure to him that caused her death, but he discovered the Abomination had injected her with his radioactive blood. Hulk would later bludgeon his archenemy into a bloody pulp, nearly killing him.   After the events of the M-Day, Banner sought refuge and peace in Alaska, where he lived as a hermit loosely connected to the town community. He was eventually tracked down by Nick Fury of S.H.I.E.L.D., who required his help in defeating the Hydra space weapon called the Godseye which could detonate all the nuclear bombs in the world. Sent up as the Hulk, he discovered that the Godseye was actually a rogue S.H.I.E.L.D. weapon that could match the strength of any enemy. In the ensuing battle, the Godseye found that though it could try, it could not match the increasing power of the Hulk, and it exploded. A S.H.I.E.L.D. commissioned space shuttle was sent to retrieve the Hulk, or so he believed. Seizing the opportunity to be rid of the Hulk, a group of superheroes known as the Illuminati decided to jettison the shuttle into space, to a planet with no intelligent life forms. Unfortunately, there was a navigation error, and the Hulk landed on Sakaar, a place full of barbarian tribes, gladiator battles and ruled over by a corrupt empire. The planet was situated near a portal, which gave it access to several different cultures and technologies. The trip made him vulnerable, and it wasn\\'t long before he was subjugated by the Red King. Hulk was forced to fight, but he eventually brought peace to the savage planet.File:Acotilletta2--WWHulk.jpg Hulk was proclaimed the Green King, and all those on Sakaar worshiped him and his Queen, Caiera. She told her king that she would bear him a child, and it seemed that the Hulk\\'s life of running and fighting was over. However, the Hulk was not destined for a happy ending as the ship that brought him to that world soon exploded, seemingly killing both his wife and unborn child sending Banner into a rage like no other. He and his Warbound journeyed to Earth seeking revenge on the planet\\'s heroes for their part in Sakaar\\'s destruction.   Once they arrived, the Hulk crushed Black Bolt on Attilan and took the city of New York as his battleground. Iron Man, Mister Fantastic and Doctor Strange all fell before the Hulk and his Warbound too. Even old sparring partners such as the X-Men as well as new threats like the Gamma Corps couldn\\'t even slow the Hulk\\'s rampage. Iron Man called upon the combined power of various satellites to finally put an end to Hulk\\'s war. Banner was taken into S.H.I.E.L.D. custody and was placed three miles below the Mojave Desert. The Warbound was also placed in S.H.I.E.L.D. custody, but they escaped after saving New York from being split in half by an expanding chasm the Hulk created.   While Banner was incarcerated at Gamma Base, a new mystery revealed itself when long-time Hulk foe, the Abomination, was found murdered in his homeland of Russia. A team comprised of Iron Man, General Ross, Samson, She-Hulk and Commander Maria Hill went to investigate only to determine the only suspect that could have done this was the Hulk. The perpetrator soon revealed himself on a S.H.I.E.L.D. Helicarrier, and it was indeed a massive creature referring to itself as the Red Hulk. This new incarnation of the Hulk decimated the likes of She-Hulk, Iron Man, Thor, and even Rick Jones in his new powered up identity named A-Bomb. Banner was set free when the conflict between the Red Hulk and A-Bomb caused a big enough earthquake to damage his prison. The potential threat to Banner\\'s life triggered his transformation into the Green Goliath, and the Hulk wasted no time in confronting his new nemesis. The Hulk was caught unprepared for the Red Hulk\\'s fighting style. He was defeated in their first meeting - suffering a broken arm in the process - but the outcome was much different during their second clash. The Hulk found a potential weakness in the Red Hulk and exploited it. Once the Red Hulk was beaten, the Hulk left before he could find out the Red Hulk\\'s true identity. However, Banner had been spending his time trying to track down the Red Hulk before he can do anymore damage. On his journey, Banner ended up in Las Vegas where the Hulk had to team up with Sentry, Ms. Marvel, Moon Knight and even Brother Voodoo to quell a pack of Wendigos from devouring everyone inside a casino.   The Grandmaster came to Hulk with a proposition: if Hulk chose to participate in a game and won, Grandmaster would bring his love, Jarella, back to life. Hulk agreed and was told he could pick a group of allies to aid him in the game. Hulk chose his former teammates in the Defenders: Namor, Doctor Strange, and Silver Surfer. When the time came to meet their opponents, the Collector appeared with the Red Hulk, and his team: Baron Mordo, Terrax and Tiger Shark - now known as the Offenders. With the game underway, a member of each team was paired up on separate battlefields, but each couple was too evenly matched. In an unexpected turn of events, the Red Hulk impaled the Hulk on a trident, killing him. Grandmaster would eventually resurrect the Hulk to attend to an out of control Red Hulk, but he would still be left broken-hearted over the loss of his beloved Jarella � much to the satisfaction of his red nemesis.   Banner became a captive of M.O.D.O.K. and the Intelligencia, and quartet of heroes attempted to infiltrate the underground base to free him. They uncovered that at the end of Hulk\\'s war with the heroes of Earth, the satellites Stark used to end the Hulk\\'s rampage were hacked into by M.O.D.O.K. for the sole purpose of interfacing with Banner\\'s irradiated cells. With this information, and the help of a seemingly traitorous General Ross, M.O.D.O.K. intended to create an army of gamma-powered soldiers. They already caused Doc Samson to develop an evil split personality, transformed Rick Jones into the monstrous A-Bomb, and created the Red Hulk. When Samson turned on his group and attacked She-Hulk, leaving Ben Urich and Peter Parker to fend for themselves against the Red Hulk, an enraged Banner released his alter-ego to save them. The battle between the Hulks left the base in ruins, but it appeared it would be the last time these behemoths would ever clash again. The Red Hulk used his power to absorb radiation to drain Hulk dry, leaving Banner unable to ever transform into the Green Goliath again. Taking Hulk out of the equation so soon wasn\\'t initially part of the plan, but that was only the start of the Intelligencia\\'s master stroke.   Unable to summon his incredible strength to combat his foes, Banner had to rely mainly on his son, Skaar, to do as he was told. Skaar had come to Earth to kill his father but without Hulk around, he wound up aiding Banner. Amadeus Cho, She-Hulk, A-Bomb, his recently discovered daughter, Lyra, and a bevy of other heroes were also working with Banner to defeat the Intelligencia. An unforeseeable event occurred when the Intelligencia put their plan in motion and transformed an army of A.I.M. soldiers into Hulks and marched them into the nation\\'s capitol � the ray used to transform the soldiers also created \"Hulked-Out Heroes.\" Following a chaotic battle, Banner and the rest of the world\\'s smartest men managed to revert the all of the Hulks and M.O.D.O.K. back to normal humans, but the cost was too high. The radiation taken from the soldiers\\' bodies was brought back to the Intelligencia\\'s ship, the Hellcarrier, but its machinery couldn\\'t contain it for long. The only thing on the planet able to absorb it all was Banner. Samson attempted to help undo some of the damage he caused and sacrificed himself in the process. Immediately following the absorption process, Banner became the Hulk once again, and Skaar was finally going to get the fight he\\'d been longing for. During the brawl Skaar accidentally placed several innocents at risk. Hulk saved their lives, proving he wasn\\'t the monster Skaar or Banner made him out to be. Father and son finally reconciled and decided to act as a family.   With the threat of the Intelligencia behind him Banner began to make amends with his makeshift family, but Betty wanted no part of it. The more Bruce pushed the more she spurned his advances and eventually transformed into her Red She-Hulk persona and vaulted away. Banner followed suit and pursued as the Hulk which only led to a clash titanic enough to grab the attention of Steve Rogers and his Avengers. It was at this time Hulk discovered he had another son � Skaar�s twin brother, Hiro-Kala, who was racing toward Earth with the planet K�ai in tow. The Hulk took his family into space to stop Hiro-Kala before the planets collided, killing everyone on both. While Hulk�s allies dealt with Hiro-Kala�s forces, Hulk confronted his son with the hope he could reason with him. He soon found out his second son was evil and cruel, and the only thing he understood was violence. Still, Hulk could not bring himself to kill his own flesh and blood, so Skaar sealed Hiro-Kala in a rock tomb, leaving him imprisoned on K�ai for the foreseeable future. K�ai was brought back to its point of origin, the Microverse, by Arcturus Rann and the Enigma Force.   As Hulk was dealing with his errant son the Chaos King was busy trying to plunge the universe back to the nothing before time and space began. Only Hercules and a select few had the power to oppose him, but they were rapidly losing ground. Dr. Strange appeared before Hulk and requested aid. The Hulk returned to Earth and was immediately assaulted by an enemy long-thought dead � the Abomination, now a servant of the Chaos King. To make matters worse Dr. Strange fought at Abomination�s side, possessed by Zom, and the two were seeking Marlo Chandler, A-Bomb�s ex-wife and the only person on Earth to have been touched by death and live. The dead had returned as servants of the Chaos King to fight the Hulk, but fallen allies rose to help him. Samson, Jarella and even Banner�s mother stood by his side, but one parent�s return signaled the resurrection of his father. Hulk had to face his personal demons alone as his new family contended with an army of undead enemies, but before long they were all united in defending Marlo. It almost seemed as if the Chaos King�s forces would overwhelm the heroes until Marlo tapped into the power within her and returned all of the Chaos King�s allies to the grave, and Hercules restored the universe to the way it was before the assault. After seeing how some of the heroes were rewarded for their assistance, Hulk was angered his family did not receive anything for their service. He journeyed to the new Mount Olympus where the Greek gods were restored to power and challenged Zeus, demanding his family be given the opportunity to live normal lives as their reward for their part in saving existence. Zeus gladly accepted the challenge but once he realized Hulk was only looking to sacrifice his own life for the lives of others, Zeus stopped fighting and decided to teach hulk a lesson through torture. Hulk was saved by Hercules and his family, but having to live with his own tortured soul proved to be punishment enough.  The Hulk is one of the most powerful beings in the universe since his powers increase with his rage, because of that he is capable of matching the power of beings like Thor and Silver Surfer. Transformation  The process by which Banner usually transforms into the Hulk is presumably the result of the chemical catalyst, adrenaline (a.k.a. epinephrine). As in normal human beings, Banner\\'s adrenal medulla secretes large amounts of adrenaline in time of fear, rage, or stress, which hormonally stimulates the heart rate, increases blood-sugar levels, and inhibits sensations of fatigue. Whereas the secretion heightens normal physical abilities in normal human beings, in Banner\\'s case it triggers the complex chemical-extra-physical process that transforms him into the Hulk. The total time of transformation falls anywhere between seconds to 5 minutes, depending on the initial adrenalin surge, which will be determined by the original stimulus. Soon after the transformation, the amount of adrenalin in the Hulk will return to more normal, reduced levels. However, there were instances in which Banner became the Hulk without any discernible increase in heart rate or adrenal levels, suggesting that the true trigger mechanism into the Hulk is far more psychological than physical. When the Hulk transforms back into Banner, the excess muscle mass and energy is lost, presumably to the same place he derives it. Superhuman Strength  The Hulk possesses the capacity for vast levels of physical strength. The Beyonder once stated that the Hulk\\'s potential strength is limitless . His strength has been additionally described as limitless. However, each of the core Hulk personalities possesses a base strength level. While in a functionally calm state, the Gray Hulk is able of lifting 70 tons, the Savage Hulk can lift 90 tons, and the Professor Hulk can lift about 100 tons. The incarnation sometimes referred to as \"Green Scar\" is the physically strongest of the primary Hulk incarnations. After being exposed to energies from the exploding core of the ship that brought him to Sakaar, his base strength level was dramatically increased. While in a \"calm\" state, the Hulk was able of lifting well over 100 tons. However, while he is in an enraged state, adrenaline surges through the Hulk\\'s body, what increases his strength considerably beyond his base limits. Among his amazing feats are supporting a 150 billion ton mountain, overpowering bunker designed to withstand an explosion several thousand megatons in magnitude, knocking out the Human Torch, the Thing and the Invisible Woman, in a classic battle against them , destroying Crypto Man after he was boasted with strength superior than Thor\\'s , overpowering Thor fighting against the Wonder Man, the Iron Man, the Vision and the Scarlet Witch, while narration states that Hulk\\'s power is even greater than their combined might fighting against the West Coast and East Coast Avengers teams during a prolonged period of time despite of being very weakened due to separation from Bruce Banner, almost breaking the East Coast and threating to break the whole planet by the mere output of force from all his body, with the awesome energy becoming work, overcoming a power-depleting machine which contained much of the combined power of himself, the Silver Surfer, the Doctor Strange and Namor , smashing pure adamantium , holding together the entire space-time structure to impede the Defenders of being sucked into a fissure , holding together the tectonic plates of a planet, overcoming a field of pure energy powerful enough to change the orbit of a planet, pushing two enormous spheres of matter and antimatter apart, destroying an asteroid twice the size of Earth due especially to his toughness and, according to Newton\\'s Third Law, to the impulse generated by the contraction of his legs, breaking up the own space-time barrier , cracking the Onslaught\\'s armor, who was at least Celestial level in power, ripping out a device designed to fight against the Celestials, sending concussive force throughout countless dimensions due mostly to his power. The Mighty Thor cited that the Hulk may be stronger. The Hulk also grows even stronger the more radiation and the more dark magic he absorbs. Self Sustenance  The Hulk can survive on very little sustenance, but after the Hulk adapts to a hostile environment (like space) he no longer needs sustenance and does not need air, water, food, or sleep. Prolonged Longevity  The Hulk ages at an incredibly slow rate. Because of his great healing factor that regenerates his cells, and the gamma energy and the dark magic he has absorbed that empowers him, the Hulk has an extremely long lifespan. A possible alternate persona, the Maestro, was still in his physical prime despite being more than one hundred years old . In another alternate future the Hulk outlived mankind on earth and was still in his physical prime . Superhuman Speed  Regardless of his size, Hulk\\'s superhumanly strong legs allow him to run at speeds that are far beyond the natural physical limits of even the finest human athlete (about 770 mph). Nevertheless, this does not grant him any enhanced reflexes or agility as smaller foes exploit his size and use it to their advantage. However, he has been fast enough to catch mortar shells shot at him. Superhuman Stamina  The Hulk\\'s body counteracts fatigue poisons that build up in his muscles during physical activity. In an enraged state, he is capable of exerting himself at peak physical capacity for several days before fatigue begins to affect him. However, much like his physical strength, the Hulk\\'s stamina does increase as he becomes angrier. Superhuman Durability  In addition to great strength, the Hulk\\'s body possesses a high degree of resistance to injury. The Hulk\\'s skin is impervious to conventional blades, adamantium and vibranium being amongst the very few metals that are truly capable of piercing his skin. The Hulk is capable of withstanding high caliber bullets, powerful explosives, pressures extremes, falls from orbital heights , maximized heat without blistering, maximized cold without freezing, and great impacts. The Hulk has withstood the impact of a ground zero nuclear explosion and also the Human Torch\\'s Nova Blast , with a temperature of one milion degrees Fahrenheit, without any injury. The Hulk was also able to withstand the force equivalent to thousands of nuclear weapons , planet-devastating impacts at point blank, and a powerful blast from Galactus. The Hulk\\'s durability, like his strength, is fueled by rushes of adrenaline while angry. Regenerative Healing Factor  Despite his high resistance to physical harm, it is possible to cause the Hulk injury. However, he is capable of regenerating damaged or destroyed areas of his body with far greater speed and efficiency than an ordinary human. For example, during a battle with Vector all of the skin and much of the muscle mass of the Hulk were destroyed. It took the Hulk moments to regain the mass and be completely healed. The Hulk\\'s healing factor enables him to recover from any physical transmutation. He also heals faster and more efficiently the madder he gets. Resistance to Psychic Control  In many instances, the Hulk has demonstrated great psychic resistance as a side-effect of his rage and the multiple personalities inside his mind. Immunity to All Diseases and Viruses  The Hulk is immune to all known Earth-based diseases and viruses, including AIDS . He can operate under intense conditions for extended periods of time due to his body not developing fatigue toxins quickly. Superhuman Leaping Ability  The Hulk is able to use his highly developed leg muscles to leap great distances. While calm, he is capable of leaping roughly 3 miles. However, as he becomes enraged, his strength increases considerably, which means he can jump much farther than usual. On more than one occasion, the Hulk has nearly jumped into orbit. The Hulk has also been known to cover 1,000 miles with a single leap. Other example of his leaping ability is shown when Hulk jumped on top of Mount Olympus from ground level, in a single leap . The Hulk also shows incredible precision with his ability to aim his jumps and landings. He has grabbed missiles of the air on multiple occasions and landed on tiny islands that were barely visible from the height he fell from. Adaptation to Hostile Environments  There have been several instances in the past where Hulk has not only spent extended periods of time in oxygen-less outer space without suffocating, but he has also moved his mouth and spoken in these environments. The Hulk\\'s body is capable to adapt itself to new inhospitable environments whenever it is necessary. Like his healing factor, it is believed that this ability is also fueled by his rage and the madder the Hulk is, the quicker the Hulk\\'s body will adapt. Underwater Breathing  The Hulk has been seen on the ocean floor a number of times so that he is capable to breathe due to his body developing a gland which creates an oxygenated perfluorocarbon emulsion which fills his lungs and equalizes the pressure. He is therefore able to breathe fluid and avoid decompression and nitrogen narcosis.  Astral Form Perception  The Hulk has the unique ability of being able to see \"astral forms\"--or ghosts . This power has come in handy when working with his fellow Defender, Dr. Strange, who is able to leave his body in an usually invisible, ghost-like state better known as an astral form. Banner subconsciously feared his father\\'s ghost would come back to haunt him, and so the Hulk developed this mechanism to allow him to look out for him. More recent events have shown that the power to see astral forms may now extend to Bruce Banner. However, it was suggested the clarity of the astral forms is diminished when compared to the Hulk\\'s ability to view them. The Hulk\\'s ability to see astral forms may go beyond just seeing individual spirits. The Hulk once experienced a whole town in the middle of the desert that faded away into nothing. While it is possible it was merely a mirage, the issue suggests it is possible the Hulk was able to see a town that didn\\'t exist in our plane of reality that no one else could see.  Homing Ability  The Hulk also has a seemingly mystical homing ability that enables him to locate the area in New Mexico where he first became the Hulk. This applies even if the Hulk is in another dimension. An image of the Maestro once explained to Bruce that the reason he was able to do that was because the Maestro\\'s spirit was there, calling to him. However, since the time Maestro was resurrected the Hulk has continued to return to the gamma bomb site, suggesting that there is more to his ability than merely the Maestro\\'s spirit. This homing ability has also been used to find people on rare occasions. For example, the Hulk was able to dig a tunnel underground exactly in the direction of the Onslaught. While it is possible that Onslaught was mentally leading the Hulk to him, there were other instances of Hulk demonstrating this ability. The Hulk\\'s instincts led him to Rick Jones and Betty and the Hulk located the Abomination with no prior knowledge of his whereabouts.  Gamma Radiation/Energy Manipulation and Emission  Not usually a power associated with the Hulk, but there is enough evidence that Hulk possesses at least a limited ability to manipulate forms of energy, particularly gamma radiation. The Hulk\\'s body works like a \"gamma battery\" by creating and radiating gamma energy. Armageddon once wanted to use Hulk\\'s own energy to power machines capable of bringing his son back to life. However, the Hulk outsmarted him by consciously force feeding his own energy into the machines at a rate too fast for them to handle and they promptly overloaded and exploded. He also generated massive amounts of gamma energy during World War Hulk. The extent to which Hulk controls his own energy, and foreign sources of energy, is yet to be determined.'"
      ]
     },
     "metadata": {},
     "output_type": "display_data"
    },
    {
     "data": {
      "text/html": [
       "<div>\n",
       "<style scoped>\n",
       "    .dataframe tbody tr th:only-of-type {\n",
       "        vertical-align: middle;\n",
       "    }\n",
       "\n",
       "    .dataframe tbody tr th {\n",
       "        vertical-align: top;\n",
       "    }\n",
       "\n",
       "    .dataframe thead th {\n",
       "        text-align: right;\n",
       "    }\n",
       "</style>\n",
       "<table border=\"1\" class=\"dataframe\">\n",
       "  <thead>\n",
       "    <tr style=\"text-align: right;\">\n",
       "      <th></th>\n",
       "      <th>token</th>\n",
       "      <th>similarity_score</th>\n",
       "    </tr>\n",
       "  </thead>\n",
       "  <tbody>\n",
       "    <tr>\n",
       "      <th>787</th>\n",
       "      <td>awesome</td>\n",
       "      <td>0.623981</td>\n",
       "    </tr>\n",
       "    <tr>\n",
       "      <th>149</th>\n",
       "      <td>amazing</td>\n",
       "      <td>0.574151</td>\n",
       "    </tr>\n",
       "    <tr>\n",
       "      <th>770</th>\n",
       "      <td>style</td>\n",
       "      <td>0.542009</td>\n",
       "    </tr>\n",
       "    <tr>\n",
       "      <th>243</th>\n",
       "      <td>look</td>\n",
       "      <td>0.538010</td>\n",
       "    </tr>\n",
       "    <tr>\n",
       "      <th>964</th>\n",
       "      <td>unique</td>\n",
       "      <td>0.533982</td>\n",
       "    </tr>\n",
       "    <tr>\n",
       "      <th>260</th>\n",
       "      <td>Fantastic</td>\n",
       "      <td>0.530717</td>\n",
       "    </tr>\n",
       "    <tr>\n",
       "      <th>435</th>\n",
       "      <td>great</td>\n",
       "      <td>0.521193</td>\n",
       "    </tr>\n",
       "    <tr>\n",
       "      <th>807</th>\n",
       "      <td>truly</td>\n",
       "      <td>0.520816</td>\n",
       "    </tr>\n",
       "    <tr>\n",
       "      <th>883</th>\n",
       "      <td>incredibly</td>\n",
       "      <td>0.519549</td>\n",
       "    </tr>\n",
       "    <tr>\n",
       "      <th>441</th>\n",
       "      <td>love</td>\n",
       "      <td>0.515183</td>\n",
       "    </tr>\n",
       "  </tbody>\n",
       "</table>\n",
       "</div>"
      ],
      "text/plain": [
       "          token  similarity_score\n",
       "787     awesome          0.623981\n",
       "149     amazing          0.574151\n",
       "770       style          0.542009\n",
       "243        look          0.538010\n",
       "964      unique          0.533982\n",
       "260   Fantastic          0.530717\n",
       "435       great          0.521193\n",
       "807       truly          0.520816\n",
       "883  incredibly          0.519549\n",
       "441        love          0.515183"
      ]
     },
     "metadata": {},
     "output_type": "display_data"
    }
   ],
   "source": [
    "display_content_and_top_words(616, cool2)"
   ]
  },
  {
   "cell_type": "code",
   "execution_count": 60,
   "id": "270296eb",
   "metadata": {
    "_kg_hide-output": true,
    "execution": {
     "iopub.execute_input": "2022-02-19T18:51:17.264810Z",
     "iopub.status.busy": "2022-02-19T18:51:17.263601Z",
     "iopub.status.idle": "2022-02-19T18:51:31.468532Z",
     "shell.execute_reply": "2022-02-19T18:51:31.469056Z",
     "shell.execute_reply.started": "2022-02-19T14:46:17.205060Z"
    },
    "papermill": {
     "duration": 14.309838,
     "end_time": "2022-02-19T18:51:31.469246",
     "exception": false,
     "start_time": "2022-02-19T18:51:17.159408",
     "status": "completed"
    },
    "tags": []
   },
   "outputs": [
    {
     "data": {
      "text/plain": [
       "'Childhood Trauma Robert Bruce Banner was the son of an alcoholic who deeply hated him. Banner\\'s mother showed much affection for her child, who returned her love, but this only served to fuel his father\\'s rage. Dr. Brian Banner was an atomic physicist who worked on producing clean nuclear power as an energy source, but he was afraid his exposure to it mutated his son\\'s genes. Bruce showed signs of high intelligence at an early age which strengthened his father\\'s belief. Brian became abusive to Bruce and when his mother intervened, Brian murdered her. He frightened Bruce to keep quiet, but his own bragging landed him in a psychiatric institute. As a child Bruce was withdrawn, possibly developing a split personality to help deal with his pain and rage. His only happiness came from spending time with his cousin Jennifer Walters. Bruce found it hard to develop friendships and often found himself on the receiving end of physical abuse at the hands of school bullies. One such incident sparked him to build and plant a bomb in the basement of his school. The bomb was a dud, and Bruce was expelled, but the military took notice of his genius. Eventually, Bruce earned a doctorate in nuclear physics and started a career with them. Man or Monster Supervising the trial of an experimental gamma bomb that he designed for the U.S. Defense Department at a nuclear research facility in New Mexico, Bruce selflessly rushed to the rescue of an ignorant teenager who had wandered onto the testing field as the countdown ticked inexorably toward zero. After shoving young Rick Jones to safety in a nearby ditch, Bruce was struck full-force by the bomb blast. He survived, but was irradiated by the deadly gamma energy. At first, Banner would transform into the brutish gray Hulk only at sunset, and revert to human form at dawn. Eventually, his changes into the childlike green Hulk came to be triggered by the release of adrenaline when he was intensely excited, no matter what time of day. The green Hulk possesses little of Banner\\'s memory and intelligence, and is easily enraged; making him a menace to society. Since Banner\\'s initial transformation into the Hulk, military forces commanded by the implacable General Thaddeus \"Thunderbolt\" Ross � Bruce\\'s one-time benefactor � have hunted him continually. Hulk continued to make more enemies within the military such as Major Glenn Talbot as he and Bruce constantly competed for the affections of Ross\\' daughter, Betty. For a short time, Banner successfully treated his condition with radiation and was able to maintain enough of his own personality when he became the Hulk to control himself in that form. Subsequently, he earned the government\\'s favor by destroying the alien Metal Master and received a presidential pardon. Friends and Foes Not long after Hulk was baited into a trap by the Asgardian trickster, Loki, into destroying a train trestle. This would lead to the first instance where Hulk became a team player. Beside the occasional group endeavors, Hulk has teamed-up with many others that didn\\'t think he was so bad. Spider-Man, Power Man and Iron Fist have partnered with Hulk on several occasions. Even brutes like the Thing and scrappers like Wolverine identified with Hulk and have allied with him almost as many times as they\\'ve fought against him. Not only has Hulk befriended those in the super-hero community, but he has managed to form bonds with regular people such as \"Crackajack\" Jackson and Jim Wilson. Unfortunately for the Hulk, there are many who used his limited intelligence against him and attempted to manipulate him for their own selfish means. Vile menaces like the Leader, Tyrannus, and Captain Omen. When Hulk proved to be too hard to control, they sent their minions like Aquon and Mogol to confront him physically. Enemies came in all shapes and sizes, ranging in power levels. From mere humans like Devastator, to evolved beings like the Inheritor, to monstrous powerhouses like Glob, Hulk always found a way to prevail � even against those who masqueraded as friends such as his old physics professor, Geoffrey Crawford � later known as Ravage. Multiple Personality Disorder Gamma-powered psychiatrist Leonard \"Doc\" Samson captured the Hulk and successfully separated Banner and his alter ego. Without Banner\\'s psyche to restrain him, the Hulk became a greater danger than ever before. Realizing there was only one way to reign in the Hulk, Banner agreed to merge with the monster. But the stress of the re-integration fractured Banner\\'s subconscious, creating the street-smart gray Hulk. During this time, he spent several years in Las Vegas, sometimes operating as an enforcer calling himself Mr. Fixit (or \"Joe Fixit.\") The smart-mouth Fixit was an ill-tempered, wise-cracking, thuggish brute whose personality resembled that of his father and the fraternity boys who surrounded him in college. It was also at this time that Joe Fixit began his a short-lived relationship with the future wife of Rick Jones, Marlo Chandler. In this state of the Hulk, Banner again found himself changing into the Hulk at night and into his human form in the light of the day. Soon after, the swirling mess of persona and mentalities took their toll on the ever-flustered mind of Dr. Banner, and a battle for supremacy and control took place in Banner\\'s subconscious. With assistance by the Ringmaster and his hypnotic abilities, Doc Samson tapped into the subconscious of Banner and reached his separate incarnations. Through this hypnosis, Banner, the green Hulk, and the grey Fixit all aligned to face their true inner demons-- Banner\\'s unresolved issues with his abusive father and the murderer of his mother. With this realization, Banner was able to fuse these mentalities together, finding peace of mind. However, a green but intelligent version of the Hulk emerged. He had the mentality of Dr. Banner but the body and abilities of the Hulk � later nicknamed the Professor. Although Banner had his dominant personalities merged together, there were a number of other personas running through his mind including that of a \"Devil-Hulk.\" Pantheon It was during this time the Professor was recruited into the Pantheon, a group determined to end war, famine and pestilence on the Earth. His exploits with the team ranged from posing as gangsters in Las Vegas, taking down individuals like the enigmatic Mr. Frost, to renewing old grudges with powerful foes such as Madman while forming new enemies as the amphibious android, Piecemeal, to battling enemies from beyond the stars. During this time, Hulk also traveled forward in time and met his future self, the Maestro. However, once it was discovered Agamemnon, immortal founder of the Pantheon, betrayed them to an alien race called the Troyjans, Hulk quit the group. Sometime later, the Pantheon was hired by Henry Gyrich to capture the Hulk, but they secretly wanted him to join their ranks again. They faked the Hulk\\'s death as a show of good faith, but he still declined their invitation. Harmless to Horseman When Dr. Banner realized he must once again keep his temper in check, he triggered a fail-safe within his subconscious. Any time he let his rage loose, the mentality of the savage green Hulk would soon take over, albeit in the form of Banner\\'s human body. Without the strength of the Hulk and filled with the Green Goliath\\'s rage and belief of his old abilities, he proved to be a great danger only to himself. This was, however, not to last. During the assault of the being known as Onslaught, the Hulk asked Jean Grey to let the green Hulk loose from its mental prison in order to use his maximum potential and abilities to defeat the menace. In a strange twist, Banner became divided. Half physically went away to a parallel world created upon Onslaught\\'s defeat, where he once again became the savage green Hulk. The other half that remained on Earth was a cold, somewhat unfeeling but intelligible version of the jade monster. This version of the Hulk also found himself allied with Apocalypse (En Sabah Nur), who made Hulk into War � one of his Four Horsemen. This only lasted until War injured Rick Jones, and Hulk\\'s guilt rejected Apocalypse\\'s programming. Devastating Loss The surly version of the Hulk remained in this state, never changing until much later when the two Hulk fragments re-merged, and Banner and Hulk split their time and existence. The Maestro returned after absorbing enough radiation to re-form his body after suffering a previous defeat from Hulk, but was beaten again. He reestablished a connection to his wife, Betty, but was left a broken man after her death due to radiation poisoning. Banner blamed himself, believing it was Betty\\'s prolonged exposure to him that caused her death, but he discovered the Abomination had injected her with his radioactive blood. Hulk would later bludgeon his archenemy into a bloody pulp, nearly killing him. Planet Hulk After the events of the M-Day, Banner sought refuge and peace in Alaska, where he lived as a hermit loosely connected to the town community. He was eventually tracked down by Nick Fury of S.H.I.E.L.D., who required his help in defeating the Hydra space weapon called the Godseye which could detonate all the nuclear bombs in the world. Sent up as the Hulk, he discovered that the Godseye was actually a rogue S.H.I.E.L.D. weapon that could match the strength of any enemy. In the ensuing battle, the Godseye found that though it could try, it could not match the increasing power of the Hulk, and it exploded. A S.H.I.E.L.D. commissioned space shuttle was sent to retrieve the Hulk, or so he believed. Seizing the opportunity to be rid of the Hulk, a group of superheroes known as the Illuminati decided to jettison the shuttle into space, to a planet with no intelligent life forms. Unfortunately, there was a navigation error, and the Hulk landed on Sakaar, a place full of barbarian tribes, gladiator battles and ruled over by a corrupt empire. The planet was situated near a portal, which gave it access to several different cultures and technologies. The trip made him vulnerable, and it wasn\\'t long before he was subjugated by the Red King. Hulk was forced to fight, but he eventually brought peace to the savage planet.File:Acotilletta2--WWHulk.jpg Hulk was proclaimed the Green King, and all those on Sakaar worshiped him and his Queen, Caiera. She told her king that she would bear him a child, and it seemed that the Hulk\\'s life of running and fighting was over. However, the Hulk was not destined for a happy ending as the ship that brought him to that world soon exploded, seemingly killing both his wife and unborn child sending Banner into a rage like no other. He and his Warbound journeyed to Earth seeking revenge on the planet\\'s heroes for their part in Sakaar\\'s destruction. World War Hulk Once they arrived, the Hulk crushed Black Bolt on Attilan and took the city of New York as his battleground. Iron Man, Mister Fantastic and Doctor Strange all fell before the Hulk and his Warbound too. Even old sparring partners such as the X-Men as well as new threats like the Gamma Corps couldn\\'t even slow the Hulk\\'s rampage. Iron Man called upon the combined power of various satellites to finally put an end to Hulk\\'s war. Banner was taken into S.H.I.E.L.D. custody and was placed three miles below the Mojave Desert. The Warbound was also placed in S.H.I.E.L.D. custody, but they escaped after saving New York from being split in half by an expanding chasm the Hulk created. The Coming of the Red Hulk While Banner was incarcerated at Gamma Base, a new mystery revealed itself when long-time Hulk foe, the Abomination, was found murdered in his homeland of Russia. A team comprised of Iron Man, General Ross, Samson, She-Hulk and Commander Maria Hill went to investigate only to determine the only suspect that could have done this was the Hulk. The perpetrator soon revealed himself on a S.H.I.E.L.D. Helicarrier, and it was indeed a massive creature referring to itself as the Red Hulk. This new incarnation of the Hulk decimated the likes of She-Hulk, Iron Man, Thor, and even Rick Jones in his new powered up identity named A-Bomb. Banner was set free when the conflict between the Red Hulk and A-Bomb caused a big enough earthquake to damage his prison. The potential threat to Banner\\'s life triggered his transformation into the Green Goliath, and the Hulk wasted no time in confronting his new nemesis. The Hulk was caught unprepared for the Red Hulk\\'s fighting style. He was defeated in their first meeting - suffering a broken arm in the process - but the outcome was much different during their second clash. The Hulk found a potential weakness in the Red Hulk and exploited it. Once the Red Hulk was beaten, the Hulk left before he could find out the Red Hulk\\'s true identity. However, Banner had been spending his time trying to track down the Red Hulk before he can do anymore damage. On his journey, Banner ended up in Las Vegas where the Hulk had to team up with Sentry, Ms. Marvel, Moon Knight and even Brother Voodoo to quell a pack of Wendigos from devouring everyone inside a casino. Defenders / Offenders War The Grandmaster came to Hulk with a proposition: if Hulk chose to participate in a game and won, Grandmaster would bring his love, Jarella, back to life. Hulk agreed and was told he could pick a group of allies to aid him in the game. Hulk chose his former teammates in the Defenders: Namor, Doctor Strange, and Silver Surfer. When the time came to meet their opponents, the Collector appeared with the Red Hulk, and his team: Baron Mordo, Terrax and Tiger Shark - now known as the Offenders. With the game underway, a member of each team was paired up on separate battlefields, but each couple was too evenly matched. In an unexpected turn of events, the Red Hulk impaled the Hulk on a trident, killing him. Grandmaster would eventually resurrect the Hulk to attend to an out of control Red Hulk, but he would still be left broken-hearted over the loss of his beloved Jarella � much to the satisfaction of his red nemesis. Fall of the Hulks Banner became a captive of M.O.D.O.K. and the Intelligencia, and quartet of heroes attempted to infiltrate the underground base to free him. They uncovered that at the end of Hulk\\'s war with the heroes of Earth, the satellites Stark used to end the Hulk\\'s rampage were hacked into by M.O.D.O.K. for the sole purpose of interfacing with Banner\\'s irradiated cells. With this information, and the help of a seemingly traitorous General Ross, M.O.D.O.K. intended to create an army of gamma-powered soldiers. They already caused Doc Samson to develop an evil split personality, transformed Rick Jones into the monstrous A-Bomb, and created the Red Hulk. When Samson turned on his group and attacked She-Hulk, leaving Ben Urich and Peter Parker to fend for themselves against the Red Hulk, an enraged Banner released his alter-ego to save them. The battle between the Hulks left the base in ruins, but it appeared it would be the last time these behemoths would ever clash again. The Red Hulk used his power to absorb radiation to drain Hulk dry, leaving Banner unable to ever transform into the Green Goliath again. Taking Hulk out of the equation so soon wasn\\'t initially part of the plan, but that was only the start of the Intelligencia\\'s master stroke. World War Hulks Unable to summon his incredible strength to combat his foes, Banner had to rely mainly on his son, Skaar, to do as he was told. Skaar had come to Earth to kill his father but without Hulk around, he wound up aiding Banner. Amadeus Cho, She-Hulk, A-Bomb, his recently discovered daughter, Lyra, and a bevy of other heroes were also working with Banner to defeat the Intelligencia. An unforeseeable event occurred when the Intelligencia put their plan in motion and transformed an army of A.I.M. soldiers into Hulks and marched them into the nation\\'s capitol � the ray used to transform the soldiers also created \"Hulked-Out Heroes.\" Following a chaotic battle, Banner and the rest of the world\\'s smartest men managed to revert the all of the Hulks and M.O.D.O.K. back to normal humans, but the cost was too high. The radiation taken from the soldiers\\' bodies was brought back to the Intelligencia\\'s ship, the Hellcarrier, but its machinery couldn\\'t contain it for long. The only thing on the planet able to absorb it all was Banner. Samson attempted to help undo some of the damage he caused and sacrificed himself in the process. Immediately following the absorption process, Banner became the Hulk once again, and Skaar was finally going to get the fight he\\'d been longing for. During the brawl Skaar accidentally placed several innocents at risk. Hulk saved their lives, proving he wasn\\'t the monster Skaar or Banner made him out to be. Father and son finally reconciled and decided to act as a family. Dark Son With the threat of the Intelligencia behind him Banner began to make amends with his makeshift family, but Betty wanted no part of it. The more Bruce pushed the more she spurned his advances and eventually transformed into her Red She-Hulk persona and vaulted away. Banner followed suit and pursued as the Hulk which only led to a clash titanic enough to grab the attention of Steve Rogers and his Avengers. It was at this time Hulk discovered he had another son � Skaar�s twin brother, Hiro-Kala, who was racing toward Earth with the planet K�ai in tow. The Hulk took his family into space to stop Hiro-Kala before the planets collided, killing everyone on both. While Hulk�s allies dealt with Hiro-Kala�s forces, Hulk confronted his son with the hope he could reason with him. He soon found out his second son was evil and cruel, and the only thing he understood was violence. Still, Hulk could not bring himself to kill his own flesh and blood, so Skaar sealed Hiro-Kala in a rock tomb, leaving him imprisoned on K�ai for the foreseeable future. K�ai was brought back to its point of origin, the Microverse, by Arcturus Rann and the Enigma Force. Total Chaos As Hulk was dealing with his errant son the Chaos King was busy trying to plunge the universe back to the nothing before time and space began. Only Hercules and a select few had the power to oppose him, but they were rapidly losing ground. Dr. Strange appeared before Hulk and requested aid. The Hulk returned to Earth and was immediately assaulted by an enemy long-thought dead � the Abomination, now a servant of the Chaos King. To make matters worse Dr. Strange fought at Abomination�s side, possessed by Zom, and the two were seeking Marlo Chandler, A-Bomb�s ex-wife and the only person on Earth to have been touched by death and live. The dead had returned as servants of the Chaos King to fight the Hulk, but fallen allies rose to help him. Samson, Jarella and even Banner�s mother stood by his side, but one parent�s return signaled the resurrection of his father. Hulk had to face his personal demons alone as his new family contended with an army of undead enemies, but before long they were all united in defending Marlo. It almost seemed as if the Chaos King�s forces would overwhelm the heroes until Marlo tapped into the power within her and returned all of the Chaos King�s allies to the grave, and Hercules restored the universe to the way it was before the assault. After seeing how some of the heroes were rewarded for their assistance, Hulk was angered his family did not receive anything for their service. He journeyed to the new Mount Olympus where the Greek gods were restored to power and challenged Zeus, demanding his family be given the opportunity to live normal lives as their reward for their part in saving existence. Zeus gladly accepted the challenge but once he realized Hulk was only looking to sacrifice his own life for the lives of others, Zeus stopped fighting and decided to teach hulk a lesson through torture. Hulk was saved by Hercules and his family, but having to live with his own tortured soul proved to be punishment enough. The Hulk is one of the most powerful beings in the universe since his powers increase with his rage, because of that he is capable of matching the power of beings like Thor and severely overpowering beings such as Silver Surfer, the Hulk is able to go far beyond universal levels of power, perhaps at his best, Multiversal feats. Transformation The process by which Banner usually transforms into the Hulk is presumably the result of the chemical catalyst, adrenaline (a.k.a. epinephrine). As in normal human beings, Banner\\'s adrenal medulla secretes large amounts of adrenaline in time of fear, rage, or stress, which hormonally stimulates the heart rate, increases blood-sugar levels, and inhibits sensations of fatigue. Whereas the secretion heightens normal physical abilities in normal human beings, in Banner\\'s case it triggers the complex chemical-extra-physical process that transforms him into the Hulk. The total time of transformation falls anywhere between seconds to 5 minutes, depending on the initial adrenalin surge, which will be determined by the original stimulus. Soon after the transformation, the amount of adrenalin in the Hulk will return to more normal, reduced levels. However, there were instances in which Banner became the Hulk without any discernible increase in heart rate or adrenal levels, suggesting that the true trigger mechanism into the Hulk is far more psychological than physical. When the Hulk transforms back into Banner, the excess muscle mass and energy is lost, presumably to the same place he derives it. Superhuman Strength The Hulk possesses the capacity for vast levels of physical strength. The Beyonder once stated that the Hulk\\'s potential strength is limitless . His strength has been additionally described as limitless. However, each of the core Hulk personalities possesses a base strength level. While in a functionally calm state, the Gray Hulk is able of lifting 70 tons, the Savage Hulk can lift 90 tons, and the Professor Hulk can lift about 100 tons. The incarnation sometimes referred to as \"Green Scar\" is the physically strongest of the primary Hulk incarnations. After being exposed to energies from the exploding core of the ship that brought him to Sakaar, his base strength level was dramatically increased. While in a \"calm\" state, the Hulk was able of lifting well over 100 tons. However, while he is in an enraged state, adrenaline surges through the Hulk\\'s body, what increases his strength considerably beyond his base limits. Among his amazing feats are supporting a 150 billion ton mountain, overpowering bunker designed to withstand an explosion several thousand megatons in magnitude, knocking out the Human Torch, the Thing and the Invisible Woman, in a classic battle against them , destroying Crypto Man after he was boasted with strength superior than Thor\\'s , overpowering Thor fighting against the Wonder Man, the Iron Man, the Vision and the Scarlet Witch, while narration states that Hulk\\'s power is even greater than their combined might, fighting against the West Coast and East Coast Avengers teams during a prolonged period of time despite of being very weakened due to separation from Bruce Banner, almost breaking the East Coast and threating to break the whole planet by the mere output of force from all his body, with the awesome energy becoming work, overcoming a power-depleting machine which contained much of the combined power of himself, the Silver Surfer, the Doctor Strange and Namor , smashing pure adamantium , holding together the entire space-time structure to impede the Defenders of being sucked into a fissure , holding together the tectonic plates of a planet, overcoming a field of pure energy powerful enough to change the orbit of a planet, pushing two enormous spheres of matter and antimatter apart, destroying an asteroid twice the size of Earth due especially to his toughness and, according to Newton\\'s Third Law, to the impulse generated by the contraction of his legs, breaking up the own space-time barrier , cracking the Onslaught\\'s armor, who was at least Celestial level in power, ripping out a device designed to fight against the Celestials, sending concussive force throughout countless dimensions due mostly to his power. The Mighty Thor cited that the Hulk may be stronger. The Hulk also grows even stronger the more radiation and the more dark magic he absorbs. The Hulk, however, is far more powerful than Arm\\'Cheddon, who is comparable or more powerful than Silver Surfer, Hulk didn\\'t struggle to defeat him, Hulk has destroyed entire universes against Darkcrawler, and again against Nightmare, he even once shook an infinite number of Dimensions, most recently, The Immortal Hulk was able to shake off Jane Foster, Wonderman, Rouge and Hercules like they were insects, that was after tanking an Asgardian level attack without even flinching. Self Sustenance The Hulk can survive on very little sustenance, but after the Hulk adapts to a hostile environment (like space) he no longer needs sustenance and does not need air, water, food, or sleep. Prolonged Longevity The Hulk ages at an incredibly slow rate. Because of his great healing factor that regenerates his cells, and the gamma energy and the dark magic he has absorbed that empowers him, the Hulk has an extremely long lifespan. A possible alternate persona, the Maestro, was still in his physical prime despite being more than one hundred years old . In another alternate future the Hulk outlived mankind on earth and was still in his physical prime . Superhuman Speed Regardless of his size, Hulk\\'s superhumanly strong legs allow him to run at speeds that are far beyond the natural physical limits of even the finest human athlete (about 770 mph) at his calmest, he has been fast enough to catch mortar shells shot at him. However, Hulk is able to react to massively faster than light combatants such as Thor, Silver Surfer, Sentry and Gladiator, just to name a few, Hulk even kept up with Mjolnir, which transcends time itself. Superhuman Stamina The Hulk\\'s body counteracts fatigue poisons that build up in his muscles during physical activity. In an enraged state, he is capable of exerting himself at peak physical capacity for several days before fatigue begins to affect him. However, much like his physical strength, the Hulk\\'s stamina does increase as he becomes angrier. Superhuman Durability In addition to great strength, the Hulk\\'s body possesses a high degree of resistance to injury. The Hulk\\'s skin is impervious to conventional blades, adamantium and vibranium being amongst the very few metals that are truly capable of piercing his skin. The Hulk is capable of withstanding high caliber bullets, powerful explosives, pressures extremes, falls from orbital heights , maximized heat without blistering, maximized cold without freezing, and great impacts. The Hulk has withstood the impact of a ground zero nuclear explosion and also the Human Torch\\'s Nova Blast , with a temperature of one milion degrees Fahrenheit, without any injury. The Hulk was also able to withstand the force equivalent to thousands of nuclear weapons , planet-devastating impacts at point blank, and a powerful blast from Galactus. The Hulk\\'s durability, like his strength, is fueled by rushes of adrenaline while angry. Regenerative Healing Factor Despite his high resistance to physical harm, it is possible to cause the Hulk injury. However, he is capable of regenerating damaged or destroyed areas of his body with far greater speed and efficiency than an ordinary human. For example, during a battle with Vector all of the skin and much of the muscle mass of the Hulk were destroyed. It took the Hulk moments to regain the mass and be completely healed. The Hulk\\'s healing factor enables him to recover from any physical transmutation. He also heals faster and more efficiently the madder he gets. Resistance to Psychic Control In many instances, the Hulk has demonstrated great psychic resistance as a side-effect of his rage and the multiple personalities inside his mind. Immunity to All Diseases and Viruses The Hulk is immune to all known Earth-based diseases and viruses, including AIDS . He can operate under intense conditions for extended periods of time due to his body not developing fatigue toxins quickly. Superhuman Leaping Ability The Hulk is able to use his highly developed leg muscles to leap great distances. While calm, he is capable of leaping roughly 3 miles. However, as he becomes enraged, his strength increases considerably, which means he can jump much farther than usual. On more than one occasion, the Hulk has nearly jumped into orbit. The Hulk has also been known to cover 1,000 miles with a single leap. Other example of his leaping ability is shown when Hulk jumped on top of Mount Olympus from ground level, in a single leap . The Hulk also shows incredible precision with his ability to aim his jumps and landings. He has grabbed missiles of the air on multiple occasions and landed on tiny islands that were barely visible from the height he fell from. Adaptation to Hostile Environments There have been several instances in the past where Hulk has not only spent extended periods of time in oxygen-less outer space without suffocating, but he has also moved his mouth and spoken in these environments. The Hulk\\'s body is capable to adapt itself to new inhospitable environments whenever it is necessary. Like his healing factor, it is believed that this ability is also fueled by his rage and the madder the Hulk is, the quicker the Hulk\\'s body will adapt. Underwater Breathing The Hulk has been seen on the ocean floor a number of times so that he is capable to breathe due to his body developing a gland which creates an oxygenated perfluorocarbon emulsion which fills his lungs and equalizes the pressure. He is therefore able to breathe fluid and avoid decompression and nitrogen narcosis. Astral Form Perception The Hulk has the unique ability of being able to see \"astral forms\"--or ghosts . This power has come in handy when working with his fellow Defender, Dr. Strange, who is able to leave his body in an usually invisible, ghost-like state better known as an astral form. Banner subconsciously feared his father\\'s ghost would come back to haunt him, and so the Hulk developed this mechanism to allow him to look out for him. More recent events have shown that the power to see astral forms may now extend to Bruce Banner. However, it was suggested the clarity of the astral forms is diminished when compared to the Hulk\\'s ability to view them. The Hulk\\'s ability to see astral forms may go beyond just seeing individual spirits. The Hulk once experienced a whole town in the middle of the desert that faded away into nothing. While it is possible it was merely a mirage, the issue suggests it is possible the Hulk was able to see a town that didn\\'t exist in our plane of reality that no one else could see. Homing Ability The Hulk also has a seemingly mystical homing ability that enables him to locate the area in New Mexico where he first became the Hulk. This applies even if the Hulk is in another dimension. An image of the Maestro once explained to Bruce that the reason he was able to do that was because the Maestro\\'s spirit was there, calling to him. However, since the time Maestro was resurrected the Hulk has continued to return to the gamma bomb site, suggesting that there is more to his ability than merely the Maestro\\'s spirit. This homing ability has also been used to find people on rare occasions. For example, the Hulk was able to dig a tunnel underground exactly in the direction of the Onslaught. While it is possible that Onslaught was mentally leading the Hulk to him, there were other instances of Hulk demonstrating this ability. The Hulk\\'s instincts led him to Rick Jones and Betty and the Hulk located the Abomination with no prior knowledge of his whereabouts. Gamma Radiation/Energy Manipulation and Emission Not usually a power associated with the Hulk, but there is enough evidence that Hulk possesses at least a limited ability to manipulate forms of energy, particularly gamma radiation. The Hulk\\'s body works like a \"gamma battery\" by creating and radiating gamma energy. Armageddon or Arm\\'Cheddon once wanted to use Hulk\\'s own energy to power machines capable of bringing his son back to life. However, the Hulk outsmarted him by consciously force-feeding his own energy into the machines at a rate too fast for them to handle and they promptly overloaded and exploded. He also generated massive amounts of gamma energy during World War Hulk. The extent to which Hulk controls his own energy, and foreign sources of energy, is yet to be determined, on another occasion, World Breaker Hulk completely dominated him.'"
      ]
     },
     "metadata": {},
     "output_type": "display_data"
    },
    {
     "data": {
      "text/html": [
       "<div>\n",
       "<style scoped>\n",
       "    .dataframe tbody tr th:only-of-type {\n",
       "        vertical-align: middle;\n",
       "    }\n",
       "\n",
       "    .dataframe tbody tr th {\n",
       "        vertical-align: top;\n",
       "    }\n",
       "\n",
       "    .dataframe thead th {\n",
       "        text-align: right;\n",
       "    }\n",
       "</style>\n",
       "<table border=\"1\" class=\"dataframe\">\n",
       "  <thead>\n",
       "    <tr style=\"text-align: right;\">\n",
       "      <th></th>\n",
       "      <th>token</th>\n",
       "      <th>similarity_score</th>\n",
       "    </tr>\n",
       "  </thead>\n",
       "  <tbody>\n",
       "    <tr>\n",
       "      <th>809</th>\n",
       "      <td>awesome</td>\n",
       "      <td>0.623981</td>\n",
       "    </tr>\n",
       "    <tr>\n",
       "      <th>153</th>\n",
       "      <td>amazing</td>\n",
       "      <td>0.574151</td>\n",
       "    </tr>\n",
       "    <tr>\n",
       "      <th>792</th>\n",
       "      <td>style</td>\n",
       "      <td>0.542009</td>\n",
       "    </tr>\n",
       "    <tr>\n",
       "      <th>248</th>\n",
       "      <td>look</td>\n",
       "      <td>0.538010</td>\n",
       "    </tr>\n",
       "    <tr>\n",
       "      <th>993</th>\n",
       "      <td>unique</td>\n",
       "      <td>0.533982</td>\n",
       "    </tr>\n",
       "    <tr>\n",
       "      <th>266</th>\n",
       "      <td>Fantastic</td>\n",
       "      <td>0.530717</td>\n",
       "    </tr>\n",
       "    <tr>\n",
       "      <th>449</th>\n",
       "      <td>great</td>\n",
       "      <td>0.521193</td>\n",
       "    </tr>\n",
       "    <tr>\n",
       "      <th>830</th>\n",
       "      <td>truly</td>\n",
       "      <td>0.520816</td>\n",
       "    </tr>\n",
       "    <tr>\n",
       "      <th>911</th>\n",
       "      <td>incredibly</td>\n",
       "      <td>0.519549</td>\n",
       "    </tr>\n",
       "    <tr>\n",
       "      <th>456</th>\n",
       "      <td>love</td>\n",
       "      <td>0.515183</td>\n",
       "    </tr>\n",
       "  </tbody>\n",
       "</table>\n",
       "</div>"
      ],
      "text/plain": [
       "          token  similarity_score\n",
       "809     awesome          0.623981\n",
       "153     amazing          0.574151\n",
       "792       style          0.542009\n",
       "248        look          0.538010\n",
       "993      unique          0.533982\n",
       "266   Fantastic          0.530717\n",
       "449       great          0.521193\n",
       "830       truly          0.520816\n",
       "911  incredibly          0.519549\n",
       "456        love          0.515183"
      ]
     },
     "metadata": {},
     "output_type": "display_data"
    }
   ],
   "source": [
    "display_content_and_top_words(630, cool2)"
   ]
  },
  {
   "cell_type": "markdown",
   "id": "72ea0e6a",
   "metadata": {
    "papermill": {
     "duration": 0.100855,
     "end_time": "2022-02-19T18:51:31.671966",
     "exception": false,
     "start_time": "2022-02-19T18:51:31.571111",
     "status": "completed"
    },
    "tags": []
   },
   "source": [
    "After four of the Hulks, Sonic the Hedgehog and the Devilman claim the highest positions. Sonic's high scoring terms include \"authentic\", \"amazing\" and \"unique\", while Devilman's description refers to \"keep everything cool\"."
   ]
  },
  {
   "cell_type": "code",
   "execution_count": 61,
   "id": "5c04266f",
   "metadata": {
    "_kg_hide-input": true,
    "_kg_hide-output": true,
    "execution": {
     "iopub.execute_input": "2022-02-19T18:51:31.891929Z",
     "iopub.status.busy": "2022-02-19T18:51:31.891213Z",
     "iopub.status.idle": "2022-02-19T18:51:32.452995Z",
     "shell.execute_reply": "2022-02-19T18:51:32.453505Z",
     "shell.execute_reply.started": "2022-02-19T14:18:01.408042Z"
    },
    "papermill": {
     "duration": 0.676649,
     "end_time": "2022-02-19T18:51:32.453801",
     "exception": false,
     "start_time": "2022-02-19T18:51:31.777152",
     "status": "completed"
    },
    "tags": []
   },
   "outputs": [
    {
     "data": {
      "image/jpeg": "[encoded data removed]",
      "text/plain": [
       "<IPython.core.display.Image object>"
      ]
     },
     "execution_count": 61,
     "metadata": {},
     "output_type": "execute_result"
    }
   ],
   "source": [
    "Sonic_the_Hedgehog = df.query(\"name == 'Sonic The Hedgehog'\")\n",
    "Sonic_the_Hedgehog_img = \"https://www.superherodb.com\" + Sonic_the_Hedgehog['img'].values[0]\n",
    "Disp.Image(requests.get(Sonic_the_Hedgehog_img).content)"
   ]
  },
  {
   "cell_type": "code",
   "execution_count": 62,
   "id": "6705e9a2",
   "metadata": {
    "_kg_hide-output": true,
    "execution": {
     "iopub.execute_input": "2022-02-19T18:51:32.677012Z",
     "iopub.status.busy": "2022-02-19T18:51:32.669004Z",
     "iopub.status.idle": "2022-02-19T18:51:58.852915Z",
     "shell.execute_reply": "2022-02-19T18:51:58.853425Z",
     "shell.execute_reply.started": "2022-02-19T14:42:15.521253Z"
    },
    "papermill": {
     "duration": 26.296278,
     "end_time": "2022-02-19T18:51:58.853619",
     "exception": false,
     "start_time": "2022-02-19T18:51:32.557341",
     "status": "completed"
    },
    "tags": []
   },
   "outputs": [
    {
     "data": {
      "text/plain": [
       "'Past Not much is known about Sonic\\'s early life. He was born on Christmas Island with his abnormal ability to run at super-speed, but his love for adventure eventually called him away from his home. Since then, he has spent his life traveling the globe, driven by his restless spirit, in search of adventures to satisfy his thirst for thrills. At some point, Sonic met Dr. Ivo Robotnik and they became enemies. Sonic would subsequently fight Robotnik in an untold number of confrontations as the scientist attempted time and again to conquer the world, with Sonic foiling the doctor\\'s plans each time. Despite their many battles, Sonic did not really account for his adversary. Sonic the Hedgehog (1991) In Sonic the Hedgehog, Sonic heard the news about Dr. Robotnik invading South Island after the doctor had discovered some powerful relics, called the \"Chaos Emeralds\", which were hidden on the island and which he now sought to produce weapons of mass destruction. Annoyed by Robotnik\\'s perseverance, Sonic hurried to South Island to stop him. Once Sonic arrived, he was met by Robotnik, who revealed his new method to enslave the animal residents: trapping them inside robot shells. With this method, he could turn them into robotic servants called Badniks, a method that left Sonic greatly shocked. Despite having the whole island as his enemy, Sonic resolved to save the animals and get the Chaos Emeralds before Dr. Robotnik could get his hands on them. After traveling across the island while freeing the animal residents and securing the Chaos Emeralds, Sonic entered the doctor\\'s local stronghold, where he defeated the mad scientist and drove him off the island. With Robotnik defeated, Sonic reunited with his friends to Green Hill Zone, where he released the Chaos Emeralds, with their power ensured the island\\'s prosperity. Sonic the Hedgehog 2 (16-bit) In Sonic the Hedgehog 2, Sonic was traveling the world in the Tornado in search of adventure, when he discovered West Side Island. Deciding to land there, Sonic began exploring this new region. After a few days, Sonic noticed that someone was following him and saw it was a two-tailed fox cub named Miles \"Tails\" Prower, who had come to idolize him. As Tails hid upon being discovered, Sonic chose to ignore him and tried running away, but Tails continued to follow him and even kept up with his speed. Impressed by the fox\\'s tenacity and ability to keep up, Sonic decided to let him tag along despite his disinterest in him. Later, during an early afternoon, Sonic was napping under the Tornado when he was awoken by explosions and saw Badniks attacking West Side Island. Standing beside Tails, who was watching him, during the initial attack, Sonic knew that Dr. Robotnik was behind this and ran into the center of the attack to find the mad doctor. It turned out that it was indeed Robotnik who was at his old schemes again. This time, he was turning the island residents into Badniks to find the Chaos Emeralds, which were located on the island, to create the Death Egg for conquering the world. Sonic thus set out to stop Robotnik, retrieve the Chaos Emeralds, and save the island, with Tails following him all the way. When Sonic obtained all seven of the Chaos Emeralds, he discovered that their powers could turn him into Super Sonic. All the while, Tails proved to be a great assistance to Sonic with his unique skills, and the two began forming a strong bond. After freeing West Side Island, Sonic and Tails followed Robotnik to the Wing Fortress Zone on board the Tornado,[11] where Tails and the Tornado were shot down, forcing Sonic to go on alone. When Dr. Robotnik escaped in his rocket ship, Sonic found Tails coming to his aid in a rocket-enhanced Tornado. Catching up to the doctor\\'s rocket in the Tornado, Sonic rode the ship to the Death Egg where Sonic fought Robotnik\\'s Mecha Sonic, followed by Robotnik in the Death Egg Robot. After a heated battle, Robotnik was defeated once again, which triggered a chain reaction that made the Death Egg crash, but Sonic escaped by jumping off into space. Falling through the atmosphere, Sonic was saved by Tails who had flown into the sky to look for Sonic, and together the two of them flew through the sky. With their adventure at an end, Tails had become Sonic\\'s best friend. Sonic, in turn, took the fox under his wing as his sidekick, setting the course for their future. Sonic the Hedgehog 2 (8-bit) In Sonic the Hedgehog 2, Sonic, after having saved South Island, had just returned to the island from a casual adventure when he found a note from Tails. In the note, Tails said that he and the Animals of the island had been kidnapped by Dr. Robotnik and were now being held captive in the Crystal Egg. To reach Tails, Sonic had to collect the Chaos Emeralds. The note also warned Sonic of Robotnik\\'s six Master Robots, who were waiting for him. With no time to waste, Sonic set off to save Tails. Along his adventure, Sonic got the Chaos Emeralds as instructed and took out the Robot Masters, before facing Robotnik in the Crystal Egg Zone. However, the doctor escaped through a teleporter upon his defeat. With Tails still missing, Sonic almost despaired, but then Tails appeared from the teleporter, unharmed. Though confused at this turn of events, Sonic was happily reunited with Tails and the duo departed for new adventures together. SegaSonic the Hedgehog In SegaSonic the Hedgehog, Sonic was captured by Dr. Robotnik and imprisoned on Eggman Island where he was to be executed along with Mighty the Armadillo and Ray the Flying Squirrel. Teaming up with Mighty and Ray, Sonic escaped his cell, only to be blown to the other side of the island with Mighty and Ray by a geyser triggered by Robotnik. Working together to escape the island, the trio got to Eggman\\'s Tower where they confronted Robotnik. Robotnik, however, triggered the self-destruction of the tower, with Sonic, Ray and Mighty managing to escape just in time. Sonic the Hedgehog CD In Sonic the Hedgehog CD, Sonic was traveling to Never Lake to explore the Little Planet, a small satellite that goes near Earth once a year. When Sonic arrived, however, he saw that the entire planet had been transformed into a mechanical wasteland and chained to a nearby mountain. After avoiding some falling mountain debris, Sonic noticed Dr. Robotnik\\'s face carved into the mountain where the chain was embedded; immediately he knew that his arch-nemesis was behind this and up to no good again and traveled to the Little Planet to liberate it. As he arrived, Sonic learned he could undo Robotnik\\'s work by using Little Planet\\'s time passages to change the past and by collecting the native Time Stones, powerful gems capable of controlling the passage of time which Robotnik had his eyes on to conquer the world. Shortly after his arrival, Sonic met Amy Rose, who had a massive crush on him. Only shortly after their meeting though, Amy was captured by Metal Sonic, a robot created by Robotnik to destroy Sonic, leaving Sonic with the task of saving Amy too. Using his unrivaled speed, Sonic ensured a good future for the Little Planet. He eventually caught up to Metal Sonic and the doctor once again and raced Metal Sonic at Stardust Speedway with Eggman hot on his heels. While Sonic outraced his metallic doppelganger, Metal Sonic was smashed at the finishing line while Sonic saved Amy from captivity. Sonic went on and defeated the doctor in Metallic Madness, which caused the doctor\\'s bases to collapse. After escaping Little Planet with Amy, Sonic destroyed the chain holding the Little Planet and stood in awe as the Little Planet showed Sonic\\'s face in a shower of light as a sign of gratitude before warping away, leaving many new flowers growing around the area. While Robotnik managed to grab a Time Stone, Sonic put an end to his schemes by destroying his escape vehicle. Sonic Chaos In Sonic Chaos, Sonic was out on an adventure with Tails when they heard a rumor saying that Dr. Robotnik was seeking the Chaos Emeralds on South Island. Returning home, they found the island in chaos as Robotnik had stolen one of the Chaos Emeralds, thereby creating an imbalance that scattered the rest of the Chaos Emeralds and was making the island sink into the ocean. As such, Sonic and Tails set out to get the Chaos Emeralds before it was too late. In the ensuing battles, Sonic and Tails recovered the lost Chaos Emeralds except one. Afterward, they defeated Robotnik in a final showdown and retrieved the Chaos Emerald in his possession, ensuring South Island\\'s safety once more. Sonic the Hedgehog 3 & Knuckles Sonic the Hedgehog 3 In Sonic the Hedgehog 3, many days after stopping the Death Egg, Sonic was napping on the beach until Tails came who had discovered a large reaction of chaos energy out on the sea. At the same time, Sonic found an ancient ring washed on the shore, which made him recall a legend about a floating island in the sky with a highly unique culture supported by a powerful stone. Filled with excitement, Sonic headed out with Tails in the Tornado for another adventure to check out the reaction. When Sonic and Tails reached the location, they found the legendary floating isle, Angel Island, except that the island was kept at the ocean\\'s surface by the Death Egg, which Sonic thought they had destroyed, which had crash-landed on it. Seeing that the Death Egg was currently being rebuilt, Sonic and Tails set out to destroy the Death Egg for good. Sonic used the Chaos Emeralds to transform into his Super State and stormed the island, but when he arrived, Sonic was ambushed by Knuckles the Echidna, the guardian of the floating island and the Master Emerald, who forced the emeralds out of Sonic. The echidna, who had been tricked by Dr. Robotnik into believing that Sonic and Tails had come to steal the Master Emerald, thus stole the Chaos Emeralds and escaped with them to hide them. Despite this setback, Sonic and Tails left to liberate the island from Dr. Robotnik\\'s robots. During their adventure, Sonic and Tails were repeatedly ambushed by Knuckles, but they got through each encounter with their lives and recovered the Chaos Emeralds as well. When reaching the Launch Base Zone, Sonic and Tails boarded the Death Egg just as it took off where they faced Robotnik, who had returned to defeat Sonic with excessive force. Nevertheless, Sonic defeated Robotnik again, with their resulting battle taking its toll on the Death Egg at a critical point of its launch, making it crash into the Lava Reef Zone. Sonic & Knuckles In Sonic & Knuckles, as Sonic and Tails landed in the Mushroom Hill Zone after escaping the falling Death Egg, they saw the space station survive another crash landing, this time into the island\\'s volcano. Not content unless the Death Egg was completely destroyed, Sonic set out with Tails once more to find the Death Egg and destroy it and as well discover Robotnik\\'s fate. As the duo got through Mushroom Hill, they spotted Knuckles passing through a hidden doorway. After making sure Knuckles was gone, Sonic opened the hidden doorway and looked inside it with Tails, where they found a Giant Ring. Enthralled, Sonic touched it, which took him and Tails to the Emerald Shrine in the Hidden Palace Zone where the Master Emerald rested. Riddled with questions, Sonic and Tails returned to Mushroom Hill Zone to began the next phase of their adventure. Eventually, the duo reached the Hidden Palace Zone on their own, where Sonic faced Knuckles in an epic showdown and won. Sonic and Tails then followed the red echidna as he went to check the Master Emerald, where they saw that Robotnik steal it for the purpose of powering the Death Egg. As the doctor escaped with the Master Emerald, Knuckles, having realized Robotnik\\'s deceit, befriended Sonic and Tails and guided them to Sky Sanctuary Zone to reach the Death Egg, though they had to leave Knuckles behind as he was too exhausted from the previous struggles. On their way through the sanctuary, Sonic and Tails fought Eggrobo and Mecha Sonic fought several times, where they in the final encounter used a crumbling pillar to get on the Death Egg. Onboard the Death Egg, Sonic and Tails faced Dr. Robotnik in his Great Eggman Robo for a final showdown. After the defeat of the contraption, causing the final destruction of the Death Egg, Robotnik escaped with the Master Emerald in another mech, but Sonic transformed into Super Sonic and pursued the doctor through space. After a long battle, Sonic beat Robotnik\\'s mechs and returned to earth with the Master Emerald where Tails caught him in the Tornado. The two then brought the Master Emerald back to where it belonged. Having made peace with Knuckles, Sonic and Tails left Angel Island for the time being. Sometime after this though, Sonic rescued Knuckles in the Tornado—after the latter\\'s fight against the recently-reactivated Mecha Sonic—from falling into the ocean. The two brought the stolen Master Emerald back to Angel Island and they parted ways once more. Sonic the Hedgehog Triple Trouble In Sonic the Hedgehog Triple Trouble, Sonic, and Tails caught wind that Dr. Robotnik had lost the Chaos Emeralds following a weapons test and sprung into action to find them. While collected information, however, Knuckles, who had been deceived by Robotnik that they sought the Emeralds for the wrong reasons, suddenly popped up and gave them a warning before leaving. Despite their adversaries, Sonic\\'s resolve remained unshaken. Along their adventure, Sonic got all but one of the Chaos Emeralds while overcoming both Knuckles and Fang the Sniper, the latter who wanted the Emeralds for profit. When arriving at the Dr. Robotnik\\'s base, Sonic and Tails faced and beat Metal Sonic, Fang and finally Robotnik for good while retrieving the final Chaos Emerald from the doctor. After that, Sonic and Tails freed Knuckles from imprisoned and made up once more, before taking off on the Tornado towards new adventures. Sonic Labyrinth In Sonic Labyrinth, some days after Tails left on a solo adventure, Sonic awoke from a nap on South Island, but when he slipped his shoes on, he noticed that his feet felt extremely heavy. Upon examination, he noticed Dr. Robotnik\\'s insignia on his shoes which proved irremovable. Cursing his carelessness, Sonic noticed Robotnik proclaiming to his nemesis that he had switched Sonic\\'s Power Sneakers out with his Speed Down Boots, which disabled Sonic\\'s speed and agility. The only thing that could remove them were the Chaos Emeralds, which Robotnik had already hidden away in his new super labyrinth on South Island. Unable to chase after the doctor, Robotnik began taking over the island. While his speed was gone, however, Sonic realized that he could still use his Spin Dash and resolved to brave this labyrinth to get back both his speed and the Emeralds. With his Spin Dash, Sonic made his way through the labyrinth and expelled Robotnik from the island while regaining the Chaos Emeralds and his regular shoes. Sonic the Fighters In Sonic the Fighters, Sonic learned that Dr. Robotnik had built the Death Egg II and was deploying armies of robots from it, which were laying waste to everything. Luckily, Tails had built the Lunar Fox, which he could fly directly to the new Death Egg in and destroy it. However, it was a one-seater and it needed all of the Chaos Emeralds to take off. Sonic and Tails, therefore, set off to gather the Emeralds from their friends (and enemies), who were safeguarding them, from around the globe. On their first stop, however, Sonic got into an argument with Knuckles (one of the Emerald guardians) over who would get to use the Lunar Fox, with Knuckles arguing that only the strongest among them should go. Believing he was more than qualified, Sonic accepted Knuckles\\'s challenge, but before the hedgehog and echidna could fight, Tails got between them and convinced them to fight fair and squarely over the spot in the ring with the other Emerald guardians, and the one who could win against all the contestants got to ride the Lunar Fox. A fighting tournament was subsequently established. At the end of the tournament, the victor used the Chaos Emeralds to go to the Death Egg II and made it self-destruct moments after escaping it. Sonic 3D Blast In Sonic 3D Blast, Sonic traveled with Tails and Knuckles to Flicky Island. Having heard legends about the island\\'s Flickies\\' being the key to find the Chaos Emeralds, the trio journeyed to there to find these birds. Once they arrived on the island, however, they found the island in pandemonium and Dr. Robotnik nearby, busying himself with turning the Flickies into Badniks. It turned out that Robotnik had established a base on the island and was trapping the Flickies so they could power his robots and find the Chaos Emeralds on the island. As Sonic made his presence clear to Robotnik who departing in the Egg Mobile, Sonic decided to rescue the island and its inhabitants.[19] In no time, Sonic saved the Flickies on the island and, with the help of Tails and Knuckles, gathered all of the Chaos Emeralds before the doctor could do. The Flickies then helped Sonic enter Dr. Robotnik\\'s secret lair, where Sonic beat Robotnik in a lengthy battle. Escaping the lair in time, Sonic met the Flickies who thanked him for his help and peace reigned over the island once more. Sonic Blast In Sonic Blast, Sonic was napping on South Island when he was awoken by a light from a nearby Chaos Emerald which shattered and spread across the island. Robotnik then showed up to reveal he was planning to shoot Sonic with a laser beam but hit the Chaos Emerald instead. Still pleased with the outcome, Robotnik planned to use the shards to fortify his Silver Castle. As Sonic was about to head to find the shards, Knuckles showed up and joined him in his quest. Eventually, Sonic and Knuckles got the shards first and destroyed Robotnik\\'s fortress. Sonic R In Sonic R, Sonic was on an adventure with Tails when they saw an advertisement of the World Grand Prix, a racing competition to determine the fastest in the world. Despite Tails\\' urging, Sonic was not interested in participating, but when he glimpsed Dr. Robotnik\\'s name on the list of participants, he changed his mind and ran off to register. In the competition, Sonic had to face many of his friends, new and old enemies and as well Robotnik, who planned to use Sonic to locate the Chaos Emeralds which were on the race tracks. In the end, Sonic kept his title as the fastest thing alive while he and the others kept Dr. Robotnik from the Chaos Emeralds. Sonic Adventure In Sonic Adventure, Sonic was just returning home through Station Square after being gone for a while on a long journey where he saw the Station Square Police Department fighting Chaos. Sonic stepped and defeated Chaos, though it escaped. The next day, Sonic saw Tails\\' crash in his plane nearby and came to his aid. The fox took Sonic to see a plane he was working on, powered by a Chaos Emerald, but at the workshop, Dr. Eggman appeared to take the Emerald. Though the duo beat Eggman and his Egg Hornet, Eggman snatched the Chaos Emerald and revealed Chaos, whom he transformed into Chaos 1 with the Emerald and told his plan to make it invincible with all seven Chaos Emeralds and then build Robotnikland upon Station Square. As Eggman fled, Sonic set out with Tails to get the Chaos Emeralds before Dr. Eggman. Sonic and Tails soon got two Emeralds, only for Eggman to briefly knock them out with sleeping gas and steal one. Unshaken, Sonic and Tails soon found another Chaos Emerald, when they were attacked by Knuckles, who had been tricked by Eggman into believing Sonic had Master Emerald Shards. Sonic fought Knuckles until he dropped the Chaos Emeralds, which were then taken by Eggman and given to Chaos 2, transforming it into Chaos 4. After Sonic and the others beat it, Eggman escaped to his Egg Carrier. Sonic and Tails tried followed him in the Tornado, but were shot down. Back on the ground, Sonic began looking for Tails but met Amy who wanted him to her protect a Flickey. Despite Sonic refusing, Amy followed him until they were attacked by ZERO, who soon kidnapped Amy. Sonic followed them as ZERO fled to the Egg Carrier until he reached a dead end, but then met Tails in the Tornado 2 who got them onboard the Egg Carrier. When they found Amy with Eggman however, Sonic was attacked by E-102 Gamma, but before Sonic could destroy Gamma, Amy convinced him to let it go. As the Egg Carrier began to crash, Sonic had Tails get Amy to safety while he followed Eggman. Eventually, Sonic found Eggman with Chaos 6, just as Big the Cat showed up to save Froggy who was trapped inside Chaos. After saving Froggy, Sonic defeated Chaos 6, but as Eggman escaped, Knuckles showed up, whom Sonic left Chaos to while he followed Eggman. On the way, Sonic found an ancient temple with a mural depicting a monster on the inside and a mysterious light that took him back in time to see the Altar of the Emeralds in ruins and Tikal trying to stop a catastrophe. Back in the present, Sonic found Eggman and beat him for good before reuniting with Tails again. While trying to rest, Sonic had to head out when Tails reported that Angel Island had fallen. There, they found both Knuckles and Eggman, and learned that Chaos was still alive, had rebelled against Eggman to destroy the world, and possessed six Chaos Emeralds. As they were heading out get the last Emerald before Chaos, Sonic was drawn into the past again, where he saw the Knuckles Clan\\'s attack on the altar and Tikal sealing herself and Chaos inside the Master Emerald. Back in the present, Sonic and Tails found the Chaos Emerald in the Tornado 2, but lost it to Chaos, who became Perfect Chaos and attacked Station Square. As Perfect Chaos destroys the Egg Carrier 2, Tikal came to Sonic to explain that Chaos was blinded by wrath. After Perfect Chaos released the drained Chaos Emeralds, Tikal wanted to seal Chaos again, but Sonic said it would not work as Chaos would still be full of rage. Sonic\\'s friends then came with the Chaos Emeralds, claiming that he could still use their positive energy. Transforming into Super Sonic, Sonic defeated Perfect Chaos while neutralizing its anger. As Chaos and Tikal departed, Sonic noticed Eggman making his escape and decided to head off himself for his next adventure. Sonic the Hedgehog Pocket Adventure[/h][/b][/i] In Sonic the Hedgehog Pocket Adventure, Sonic discovered Dr. Eggman was up to his old tricks again by capturing Animals, and set out to foil him. While chasing Eggman, Sonic had several confrontations with the doctor, who managed to give Sonic the slip each time. Eventually though, Sonic came across Knuckles, who suddenly attacked him. Upon defeating Knuckles and claiming his Chaos Emerald, however, Eggman ambushed the two heroes. Taking the Emerald, Eggman left Sonic and Knuckles to get crushed by the collapsing cave they were in. With his last strength, however, Knuckles sent Sonic out of the cave and into the sky with an uppercut. Among the clouds, Sonic landed on the wings of the passing Tornado, flown by Tails. With Tails\\' aid, Sonic reached Eggman\\'s airbase and resumed his hunt for Eggman. There, Sonic had a rematch with Mecha Sonic, who went haywire upon its defeat and revealed an entrance into the next Zone where Eggman was hiding. There, Sonic found Eggman, only for the doctor to use a trap he had set for Sonic to drop him into the depths of his base. However, Sonic soon caught up to Eggman and surprised the doctor, who tried fighting back using another one of his creations. However, Sonic still defeated Eggman and chased him to Last Utopia Zone. There, Eggman appeared before Sonic in a mech powered by the Chaos Emerald he stole from Knuckles. However, Sonic took back the Emerald and defeated the mech. Eggman then tried to escape into space. In response, Sonic, having gathered all the Chaos Emeralds at this point, transformed into Super Sonic and chased after Eggman. In the depths of space, Sonic defeated Eggman when he tried using his last mech against him and returned to Earth where he reunited with Tails onboard the Tornado, just before the Chaos Emeralds scattered themselves. With peace restored to the world, Sonic headed out on new adventures with Tails. Sonic Shuffle[/h][/b][/i] In Sonic Shuffle, Sonic, Tails, Knuckles and Amy were suddenly transported to the Temple of Light in Maginaryworld. There, they met Lumina Flowlight who had brought them here to help her restore the Perfect Precioustone which had been shattered by Void and caused its guardian, Illumina, to disappear. With Maginaryworld endangered by Void without the Precioustone, Sonic and his team promised to help. While recovering the Precioustone pieces and restoring the worlds affected by Void, Sonic occasionally had dreams where he met Void. While initially defying Void, Sonic and his friends noticed he was lonely and sad which touched their hearts, and they soon realized that Void and Lumina were two halves of the same being. After returning all the Precioustones to the Temple of Light, Sonic and the group headed there to stop Void when he sought the Perfect Precioustone again. There, Void succumbed to his despair and became a monster. Though Sonic and his team defeated Void, Lumina lost hope as the Perfect Precioustone was not recovering. As Sonic found Void in the form of a dark gem, Sonic helped cheer Lumina up by telling her that she should not reject Void as the negative feelings that he embodies makes it possible for people to dream. Sonic then gave Void to Lumina and witnessed her restoring the Perfect Precioustone, and Lumina and Void returning to their original form, Illumina. With Maginaryworld restored to an even better place, Sonic and the gang received Illumina\\'s gratitude before returning home. Sonic Adventure 2[/h][/b][/i] In Sonic Adventure 2, Sonic was on his own when he met the Guardian Units of Nations who arrested him for robbing a federal reserve bank of a Chaos Emerald. Handcuffed, Sonic was brought onboard a helicopter, but he managed to escape while over Central City. Soon after, Sonic encountered Shadow the Hedgehog, the true thief of the Chaos Emerald. Realizing that he had been mistaken for him, Sonic attacked Shadow, but Shadow used Chaos Control to escape. No sooner, Sonic was cornered and arrested by G.U.N. and locked up on Prison Island. The following day though, Sonic found Amy at his cell, who had come with Tails to break him out. While freeing Sonic, Amy revealed Shadow was on the island and Dr. Eggman was behind it all. With this information, Sonic left to find Shadow. When he did, Sonic fought Shadow until he heard that the island was about to explode on Eggman\\'s radio. Sonic, however, found Tails and Amy and escaped the island before it exploded. Back in Central City, Sonic, Tails and Amy saw Eggman\\'s broadcast, where he revealed the Eclipse Cannon, powered by six Chaos Emeralds, on the Space Colony ARK. After demonstrating the Eclipse Cannon blowing up half of the Moon, Eggman demanded world control within 24 hours or he would fire at earth. Their new target now Eggman, Sonic distracted the police as they arrived to give Tails time to track Eggman. He soon contacted Tails and heard they could use the communication link to Eggman in the President\\'s limousine to find him. Meeting up inside the limo, Sonic and Tails learned Eggman was on the Space Colony ARK. With Knuckles\\' help, Sonic, Tails and Amy found Eggman\\'s base where they hoped to find a space ship to the ARK so they could destroy the Eclipse Cannon. After infiltrating the base, where Sonic enlisted Knuckles to find the keys to the center, they were ambushed by Eggman and his Egg Golem. However, Sonic defeated the robot and joined the others in a space shuttle. While en route to Space Colony ARK, Knuckles tried to take control of the shuttle when a stray asteroid force-open the cargo bay and released his Emerald Shards, causing Sonic and the others to crash land on the ARK. Onboard, Sonic got a fake Emerald from Tails that he could use to destroy the Eclipse Cannon from the inside out when Tails turned off the power. When Sonic reached the control room, however, he was contacted by Dr. Eggman, who demanded the final Chaos Emerald or he would kill Amy. Meeting with Eggman, Sonic thought he could trick him into taking the fake Emerald. Eggman, however, saw through this and Sonic was captured in a capsule set to explode and rejected into space after saying goodbyes to his friends. Before the capsule could explode, however, Sonic used Chaos Control with the fake Emerald to warp himself back to the ARK. There, Sonic got Knuckles to find Tails and Amy while he went to the cannon to destroy it with the fake Emerald. On his way there, Sonic met Shadow and fought him once more. After Sonic won, he destroyed the Eclipse Cannon just before it fired. Back onboard, Sonic and Knuckles met Rouge, who revealed the ARK was now on a collision course towards earth. There, Sonic and all the others saw a recording of Gerald Robotnik announcing to the world that the ARK would crash into the planet and destroy it as his revenge at humanity for the death of his granddaughter, Maria. Banding together with Eggman, Sonic and the group came up with a plan of using the Master Emerald to deactivate the cannon\\'s core, which was powered by the seven Chaos Emeralds, to stop the Space Colony\\'s crash course. When Sonic and Knuckles reached the core, they were intercepted by the Biolizard, but Shadow appeared, now on their side, and held it off, while they deactivated the Chaos Emeralds. In response, the Biolizard warped outside the ARK and became the Finalhazard to keep the ARK on its collision course. Determined to stop it, Sonic and Shadow used the Chaos Emeralds to become Super Sonic and Super Shadow, and they defeated the Finalhazard before sending the ARK back into orbit with Chaos Control. Back onboard, Sonic informed the others that Shadow had seemingly died after stopping the ARK, before giving Shadow\\'s gold ring to Rouge and assuring her that Shadow was a great hero. After processing Shadow\\'s death, Sonic suggested that they all went home and he bid farewell to his worthy rival. Sonic Advance[/h][/b][/i] In Sonic Advance, Sonic joined forces with Tails, Knuckles, and Amy to stop Dr. Eggman from obtaining the seven Chaos Emeralds. Over the course of their adventure, Sonic and his friends got the Chaos Emeralds first and followed Eggman to the X-Zone. After they defeated the EGG X, Sonic chased after Eggman. When Eggman fled to the Moon though, Sonic used the Chaos Emeralds to become Super Sonic and pursued the doctor. On the moon\\'s surface, Super Sonic defeated Eggman and his Super Egg Robo. After the fight, Super Sonic seemingly disappeared, only to reappear in the sky a few days later where he met Tails in the Tornado. Sonic Advance 2[/h][/b][/i] In Sonic Advance 2, Sonic learned that Dr. Eggman kidnapped Tails and Knuckles when he tried again to build the Eggman Empire. As such, Sonic headed out to save his friends. Along the way, Sonic met Cream the Rabbit and Cheese, who were held hostage by Dr. Eggman. After saving Cream and Cheese from Eggman, Sonic tried to leave them, but the duo followed him as Cream wanted to save her mother, Vanilla, who was held captive by Eggman too. Following that, Sonic rescued Tails and Knuckles from Eggman (the latter who had been tricked by Eggman into fighting him) who also joined him on his adventure. After hunting down and seemingly defeating Eggman, Sonic and the others found Vanilla, only to have her kidnapped by Eggman in his new mech. Seeing Cream cry at the loss of her mother, Sonic transformed into Super Sonic and both defeated Eggman and saved Vanilla. As they fell through the atmosphere, Super Sonic tried to break the fall of the capsule containing Vanilla, but the re-entry tore the capsule apart and Super Sonic powered down to normal. However, Sonic caught Vanilla and brought her safely back down to the ground. There, Sonic reunited Cream and her mother and he thanked Tails and Knuckles for their help before running off again, looking for new adventures. Sonic Advance 3[/h][/b][/i] In Sonic Advance 3, while hanging out with Tails, Sonic witnessed Dr. Eggman splitting Earth into seven regions with Chaos Control so he could turn each region into a part of the Eggman Empire. Sonic thus set out with Tails to restore the world and collect the Chaos Emeralds before Eggman could. During their adventure, Sonic and Tails found Knuckles, Amy, and Cream who joined them. Along the way, Sonic also faced Dr. Eggman\\'s newest creation, G-merl, a rebuilt version of Emerl. After securing the seven Chaos Emeralds, Sonic and his friends made it to the Emerald Altar where they beat the Hyper EggRobo and used the Master Emerald to return the world to normal. Sonic then followed Eggman and G-merl, until G-merl betrayed Eggman, took the seven Chaos Emeralds from Sonic and transformed into Ultimate G-merl. Sonic, however, took the discarded Chaos Emeralds and transformed into Super Sonic. Putting aside their differences to fight a common enemy, Super Sonic and Eggman joined forces and defeated Ultimate G-merl. With Ultimate G-merl\\'s defeat, Sonic passed out in the following explosion, but woke up back home and found himself surrounded by his friends who had awaited his return. After seeing Eggman leaving, Sonic then headed out himself, searching for new adventures. Sonic Pinball Party[/h][/b][/i] In Sonic Pinball Party, right after foiling Dr. Eggman\\'s last plan for world domination, Sonic learned that the evil scientist was up to no good again. From Casinopolis, the doctor had been busy kidnapping Animals and turning them into Badniks. In addition, the doctor had also brainwashed Tails and Amy into serving him. To save his friends, Sonic enrolled himself in the Egg Cup Tournament hosted in Casinopolis. During the first round, Sonic faced off against Knuckles (who had joined the tournament out of own free will) and won. After that, he faced Tails and Amy, whom he freed from Eggman\\'s control after beating them during their respective rounds. Making it to the finals, Sonic squared off against Metal Sonic and won, only for Eggman to intrude on the tournament and challenge Sonic to an additional match. After defeating Eggman, Sonic rescued all the Animals. Sonic Battle[/h][/b][/i] In Sonic Battle, Sonic found a Gizoid robot during a stroll at Emerald Beach. As he examined it, Sonic displayed some fighting moves upon its request, forming a Link with it. Sonic decided to take it to Tails to get it examined but ran into Shadow, who demanded the Gizoid. Sonic refused and beat him in battle. After Shadow told Sonic to keep the Gizoid from Eggman and left, Sonic presented Tails with the Gizoid, but then saw Rouge on the beach and went to question her. Rouge told Sonic she and the government were after the Gizoid too, but Sonic got her to leave after fighting her. When returning to Tails\\' Lab, Sonic encountered and defeated an E-121 Phi before finding Tails unharmed, much to his relief. Tails revealed that the Gizoid evolved with each Chaos Emerald inserted into it and that it could copy fighting moves. Thrilled, Sonic decided to train it. After some training, Sonic named the Gizoid \"Emerl\", and they and Tails decided to see if Knuckles had a Chaos Emerald to help Emerl evolve. On the way, they faced an E-121 Phi and Chaos Gamma but defeated both. When they got there, however, Knuckles mistook Emerl for an E-121 Phi and attacked him. After Emerl beat Knuckles, Sonic and Tails explained everything and got Knuckles\\' Chaos Emerald which they gave to Emerl. Sonic continued training Emerl until Tails decided to take Emerl to Central City for examination. When they returned, Sonic heard from Tails and Rouge that Emerl was a weapon of mass destruction, but Sonic refused to believe it and suggested they could reprogram Emerl, and Rouge revealed that they could reset Emerl by inserting all seven Chaos Emeralds into him and giving him an unknown keyword. While wary of Rouge\\'s motives, Sonic nevertheless introduced her to Emerl (forming a Link with her), but then Rouge left. Knuckles then arrived and Sonic told what had happened before he and Emerl began to tease him, which led to a fight between the three of them. From there, Sonic continued Emerl\\'s training until he saw Amy coming and ran away, only to learn when he returned that Rouge had stolen Emerl. Sonic later found Emerl with Rouge and engaged her in battle with Tails and Knuckles\\' aid and eventually made Rouge surrendered Emerl. Later on, Sonic left Emerl with Tails for a while and when he returned, he heard from Emerl that Knuckles had been tricked by Eggman during his absence. Soon after, Sonic and Emerl met Amy again, who viewed Emerl as hers and Sonic’s \"baby\". As Sonic was berated by Amy for his parenting, he ran off when Emerl made a bad choice of words. He later returned and was told by Amy that he had to marry her now since she had helped to raise Emerl, but Sonic fled after tricking Amy to close her eyes. Sonic and Tails later left Emerl in Amy\\'s and Cream’s care, when they checked out a lead on a Chaos Emerald, which turned out to be fake. Later, Sonic was contacted by Eggman who claimed he held Cream and Emerl hostage, but he did not believe him when he could not prove it (as Emerl and Cream had escaped). He later saw Eggman captured in his own \"spiky rodent trap\" by Emerl and Cream on-screen, and headed out to pick them up. Sonic later met Shadow again and thought he wanted to capture Emerl, but heard that it was not his intention. Shadow informed Sonic that Emerl only needed one more Chaos Emerald to awake his full power, which would destroy the world, but Sonic believed Emerl would not do that since he had a heart like Shadow, who was also a top-secret ultimate weapon. As Shadow brushed off his arguments, Sonic gave up trying to convince Shadow and let him have Emerl. Despite Emerl being attracted to Shadow\\'s Chaos Emerald, Sonic let Emerl go with Shadow, believing he would learn who he really was with his help. When Emerl then came to fight Shadow after having reset to a good robot, Sonic teamed up with Shadow to test Emerl\\'s abilities to the fullest. After the fight, Sonic saw that Emerl no longer needed him and told him to live his life on his own, though he noted his punches could use some work. Later on, Sonic and Emerl met Eggman, who announced that he would use his Final Egg Blaster on his newest Death Egg to conquer the world before escaping. Sonic and Emerl then met up with Tails, who had brought a transporter to the Death Egg with him. There, Sonic chose Emerl to stop Eggman since the transporter could only send one at the time. When Emerl left for the Death Egg, Sonic and his friends watched Emerl through a monitor on the Death Egg. After Emerl defeated Eggman however, the doctor fired the Final Egg Blaster and destroyed some stars, causing Emerl to revert back to his original programming. However, Eggman was unable to control Emerl as expected, and Emerl prepared to fire the Final Egg Blaster at Earth. As the Master Emerald then appeared, Sonic went to the Death Egg with it, hoping to neutralize Emerl\\'s power, but Emerl smashed the Master Emerald. Tails then told Sonic that he could stop Emerl by damaging him, but it would destroy him. With a heavy heart, Sonic engaged Emerl in battle and defeated him with his full strength. As Emerl began to say farewell, Sonic, in a rare chase of emotional denial, tried to assure Emerl everything would be fine, only for Emerl to disappear. Back home, Sonic tried to comfort his friends over Emerl’s death and was positive they would see Emerl again one day. Sonic Heroes[/h][/b][/i] In Sonic Heroes, Sonic was running around on his own world tour when he met Tails and Knuckles in the Tornado 2, who gave him a letter from Dr. Eggman. In the letter, Eggman claimed to have created \"the ultimate weapon\" to conquer the world and that he challenged them to stop him within three days. Confident as ever, Sonic took off to stop Eggman with Tails and Knuckles right behind him, officially forming Team Sonic. Team Sonic began their mission by tracking down Dr. Eggman to Ocean Palace. There, they defeated his Egg Hawk, but Eggman escaped. After that, Team Sonic tracked Eggman to Grand Metropolis. After liberating the city from Eggman\\'s control, and escaping the Power Plant, Team Sonic came across Team Rose, who began fighting them. However, Sonic used the fight as a distraction to escape Amy. Team Sonic then arrived in Casino Park. After passing through the city, Team Sonic was attacked by Eggman\\'s robot hordes, which they defeated. As they chased Eggman to Rail Canyon and only having until sunset, Sonic and his team reached Bullet Station and destroying Eggman\\'s local base. There, the team found Eggman in the Egg Albatross and defeated him. However, Team Sonic then discovered that the Eggman they had been chasing was a fake and that their challenge letter was to distract them while Eggman launched his Egg Fleet. Enraged, Sonic ran off in pursuit of Eggman. Resuming their chase after Eggman through the jungle, Team Sonic encountered Team Dark. Amazed to see Shadow was still alive, Sonic and his team fought Team Dark to decide who went after Eggman. After the battle, Sonic saw Eggman and Shadow head towards Hang Castle and lead his team that way. After infiltrating the castle and escaping Mystic Mansion, Team Sonic was attacked by Eggman\\'s robot hordes, but they quickly beat them. After that, Team Sonic got to the Egg Fleet, where they traveled across the flagships to the Final Fortress and destroyed the flagship\\'s core. Afterward, Team Sonic found Dr. Eggman in his Egg Emperor and defeated him. After heavily destroying the Egg Fleet, Sonic was teased by Knuckles on how he would not have done this on his own but surprised Knuckles by agreeing and thanked both him and Tails for their help. No sooner though, Amy came running and Sonic tried to escape. Sometime later, Team Sonic and the other teams witnessed the return of Metal Sonic, who had been staging the teams\\' adventures and impersonating Eggman so he could follow them and copy their data for a plan to conquer the world himself, as he transformed into Metal Madness. Seeing that the teams had all the Chaos Emeralds, the real Dr. Eggman came up with the plan of using them against Metal Sonic. Though their chances of winning were slim, Sonic volunteered to go up against Metal Sonic alone but was joined by Knuckles and Tails while the other teams volunteered to buy them sometime. Accepting everyone\\'s help, Sonic and his team got the Chaos Emeralds ready while Team Rose, Dark, and Chaotix fought Metal Madness. As Metal Madness became into Metal Overlord, Sonic transformed into Super Sonic, whilst granting Tails and Knuckles their own Super States. The team then took off and defeated Metal Overlord. Back on the flagship, Sonic stood triumphant over Metal Sonic, until he saw Amy coming. Sonic then told Metal Sonic that he would be ready for a rematch anytime and left with Tails. Soon after, Sonic reunited with Knuckles, and he headed out with his team to find their next adventure. Sonic Jump (2005)[/h][/b][/i] In Sonic Jump, Sonic received a call from Tails, who warned him that Dr. Eggman had obtained a Chaos Emerald for an unknown purpose. As the signal began to fade out, however, Tails told Sonic to meet him at his research facility. Intrigued, Sonic went to the facility, only to witness Tails get kidnapped by Eggman, who escaped with Tails in a helicopter. Pursuing Eggman to his flying fortress in the sky, Sonic came to Tails\\' rescue. However, as Eggman made his escape, he warned Sonic that he had obtained six of the Chaos Emeralds and that there was only one left to find. Following Tails\\' hunches, Sonic headed to Angel Island, which was the location of the last Chaos Emerald. Upon arriving on Angel Island, Sonic and Tails found Eggman demanding Knuckles to hand over the Chaos Emerald. Unfortunately, Eggman snatched the Emerald when Knuckles turned his attention to Sonic. Now possessing all the Chaos Emeralds, Eggman gloated to the heroes that he planned to harness the Emeralds\\' power to create the \"Brainwash Beam\", which would let him take over the world, before taking off. As Sonic began arguing with Knuckles over whose fault this was, Tails stopped them. Tails then suggested that Eggman needed to head into space in order for the Brainwash Beam to cover the whole world. As such, Sonic and his friends headed for South America, which was supposedly where Eggman had a space station to launch a rocket from. When they arrived, however, Eggman had already prepared the rocket launch and was heading into space. Not willing to give up, Sonic asked for a way to catch up to Eggman and Tails replied that it was possible using the space station\\'s controls. With them, Sonic launched himself into space, where he eventually caught up with Eggman and destroyed his space satellite containing the Brainwash Beam, scattering the Chaos Emeralds around Earth before falling back down to Earth himself. Recovering from his fall, Sonic reunited with his friends. After Knuckles reminded him of the Chaos Emeralds, however, Sonic went in search of them, but could not find the last one. Suspecting that Eggman had it, Sonic returned to space where he successfully defeated Eggman one last time and took back the Emerald. In the aftermath, Eggman disappeared, although not before swearing revenge at Sonic. Returning home, Sonic received praise from his friends, although Knuckles noted that Eggman would probably be back soon. Sonic Jump (2012)[/h][/b][/i] In Sonic Jump (2012), Sonic and co. discovered that Eggman had begun kidnapping Animals again and taking them high into the sky, prompting the heroes to set out to stop Dr. Eggman\\'s operations. Whenever they managed to corner Eggman in a Zone and defeat him however, the doctor would retreat to another Zone, although not before capturing more Animals. After Eggman\\'s defeat in Mechanical Zone, however, the doctor would crash down to Earth, ending his plans, thus allowing Sonic to reunite with all the Animals. Shadow the Hedgehog[/h][/b][/i] In Shadow the Hedgehog, Sonic worked with most of his friends and G.U.N.\\'s forces to repel the Black Arms\\' invasion of Earth. He often appeared during Shadow\\'s Hero Missions, helping Shadow fight the Black Arms and their leader, Black Doom. Westopolis[/b][/i] While fighting the Black Arms in Westopolis, Sonic came across Shadow, who was looking for the Chaos Emeralds, and asked for his help in taking out the enemy. In the Hero scenario, where Shadow accepted Sonic\\'s request, Sonic tried to chat with Shadow after completing their objective and suggest a friendly face-off, but was declined. After Doom\\'s Eye arrived and told them where the next Chaos Emerald was, Sonic ran off to its location with Shadow. Lethal Highway[/b][/i] Having arrived at Lethal Highway before Shadow, Sonic found the Black Tank containing the Chaos Emerald the Black Arms had taken. As Sonic chased after the Black Tank, he met up with Shadow and asked for his assistance. In the Hero scenario where Shadow agreed to help Sonic, the two destroyed the Black Tank. However, as they tried to collect the Chaos Emerald, Sonic and Shadow were confronted by Doom\\'s Eye, who summoned the Black Bull to stop them. Nevertheless, Sonic and Shadow defeated the Black Bull and claimed the Chaos Emerald. Mad Matrix and Death Ruins[/b][/i] In the Hero scenario of Mad Matrix and Death Ruins, Sonic had learned the Black Arms were heading out to the Space Colony ARK and decided to follow them. With a spacecraft provided by Tails, Sonic went on his way to the ARK alone. While passing through Iron Jungle, however, Sonic came across Shadow and invited him to come with him. Shadow accepted Sonic\\'s offer and the two of them took off. Sky Troops[/b][/i] In the Hero scenario of Sky Troops, Sonic had learned the Black Arms were heading out to the Space Colony ARK and decided to follow them there. Using a spacecraft from Tails, Sonic headed for the ARK alone. While passing through Iron Jungle, however, Sonic came across Shadow and invited him to come with him to the ARK. Shadow accepted Sonic\\'s offer and the two of them took off. As Sonic and Shadow approached the ARK in their spacecraft, the Black Arms\\' forces were waiting for them. Excited about the challenge, Sonic hurried out to engaged the enemies with Shadow. Space Gadget[/b][/i] When Sonic and Shadow made it to the Space Colony ARK as they followed the Black Arms, Sonic saw that they were in familiar surroundings, and tried to make Shadow recall the time they race each other there. Sonic then challenged Shadow to a race through Space Gadget to the Chaos Emerald on board the ARK. In the Hero scenario, where Shadow accepts the challenge, Sonic was beaten in the race and Shadow claimed the Chaos Emerald. As the two make their way through the ARK, Sonic and Shadow caught a glimpse of the Black Comet. When Shadow asked what it was, Sonic realized that Shadow suspected the Black Comet was connected to the Black Arms. As Shadow suddenly sensed the Black Arms on the Black Comet, Sonic and Shadow decided to head there. Lost Impact[/b][/i] In the Hero scenario of Lost Impact, Sonic made it onboard the Space Colony ARK with Shadow as they followed the Black Arms. As the two make their way through the ARK, Sonic and Shadow caught a glimpse of the Black Comet. When Shadow asked what it was, Sonic realized that Shadow suspected the Black Comet was connected to the Black Arms. As Shadow suddenly sensed the Black Arms on the Black Comet, Sonic and Shadow decided to head there. Final Haunt[/b][/i] After traveling from Space Colony ARK to the Black Comet, Sonic and Shadow made their way to the Final Haunt on the Black Comet, planning to stop Black Doom and the alien invasion of Earth. In the Hero scenario, Sonic and Shadow began hunting for Black Doom. After obtaining another Chaos Emerald within Black Doom\\'s inner sanctum, Sonic and Shadow finally found Black Doom and defeated him. As Shadow took the final Chaos Emerald from Black Doom, Sonic stood by Shadow\\'s side, as Shadow pronounced he would use the Emeralds to stop the Black Arms. In the Dark scenario, Sonic was betrayed by Shadow when he abandoned their original goal and began aiding the Black Arms with sealing off Black Doom\\'s inner sanctum. In the last minute, Sonic encountered the Commander in the Diablon, and teamed up with him to stop Shadow. When they found Shadow, Sonic was confused why Shadow sided with the Black Arms but was amused to hear he did so just to get the opportunity to prove his superiority to him. However, Sonic and the G.U.N. Commander were utterly defeated, and Shadow took the final Chaos Emerald from them. Sonic then commended Shadow for his nerve to do this before Shadow announced he was now the most powerful hedgehog in the world. Black Comet[/b][/i] In the Dark scenario of Black Comet, as Shadow was decimating G.U.N.\\'s forces on behalf of the Black Arms, Sonic teamed up with the Commander in the Diablon to stop Shadow. When they found Shadow, Sonic refused to let him do this, but he and the Commander were utterly defeated by Shadow, who took the final Chaos Emerald from them. As Sonic questioned Shadow why he sided with the Black Arms, Shadow proclaimed himself as the servant of Black Doom. GUN Fortress[/b][/i] In the Dark scenario of GUN Fortress, as Shadow ravaged through the GUN Fortress on behalf of the Black Arms, Sonic teamed up with the Commander in the Diablon to stop Shadow. When they found Shadow, Sonic refused to let him do this, but he and the Commander were utterly defeated by Shadow, who took the final Chaos Emerald from them. As Sonic asked Shadow what he planned to do with the Emeralds, Shadow claimed he would use them to destroy the Earth. Last Story[/b][/i] In the last story, Sonic arrived with Tails, Knuckles, Amy, Rouge and Dr. Eggman to stop Shadow from giving Black Doom the Chaos Emeralds. Black Doom, however, took the Emeralds and used an enhanced Chaos Control to transport the Black Comet to the surface, intending to use humans as energy sources for the Black Arms. Before Sonic could act, he and the others were paralyzed by nerve gas and Black Doom unleashed the Death leeches on them. Shadow, however, was immune to the gas and as he left to stop Black Doom, Sonic told him that he was their only hope left. Sonic and the others eventually escaped the Black Comet and found some shelter from where they cheered Super Shadow on as he defeated Devil Doom. He then witnessed Super Shadow sending the Black Comet back into space and destroying it with the Eclipse Cannon. Impressed by Shadow\\'s victory, Sonic joined the others for a laugh as an enraged Knuckles chased Eggman around. Sonic Rush seriesEdit Sonic RushEdit In Sonic Rush, Sonic came across Dr. Eggman, who claimed that he would soon possess \"the ultimate power\". After defeating Eggman, Sonic saw that he dropped a Sol Emerald, but then suddenly he met Blaze the Cat, who took the emerald and left. Sonic later met up with Tails and explained what had happened. Excited by this challenge, Sonic left with Tails to stop Eggman\\'s newest scheme. At Water Palace, Sonic first encountered Dr. Eggman Nega, a new foe that had teamed up with Dr. Eggman. After defeating him, Sonic and Tails headed to Tails’ workshop, where they learned that there was a rift in the space-time continuum that threatened reality itself. While Tails suspected Eggman Nega may be involved in this, Sonic thought that Blaze might also be a part of this. While fighting Nega and searching for info, Sonic and Tails met Vanilla and learned from her that Cream was with Blaze. Once Vanilla told where to find them, Sonic took off to get answers from Blaze. During their search, Sonic and Tails came to a path closed by rocks from where Knuckles emerged. Sonic and Tails then heard from Knuckles that he got trapped under the rocks when chasing Blaze. As Knuckles smashed some rocks in fury, Sonic and Tails continued through the path he had cleared. Soon after, they found Blaze and Cream, and Sonic asked Blaze about Eggman Nega, but Blaze noted she would deal with Eggman Nega and the crisis alone. Sonic tried to tell her they should work together, but Blaze declined and left with Cream, forcing Sonic and Tails to follow them. Along the way, Sonic and Tails ran into Amy, who provided them with directions to where Blaze went when they asked (though Sonic was hesitant to ask since Amy thought he liked Blaze). Sonicvsblaze Sonic and Blaze clash. Eventually, Sonic tracked Blaze to Dead Line where they faced both Eggmans. While Sonic insisted on helping, Blaze refused and tried to force him to leave by fighting him, a fight Sonic tried to stop. As their fight ended in a draw, Sonic saw that Blaze was still willing to manage the crisis and he understood her rough past. Sonic then told her not to handle too much on her own and be true to herself, making Blaze realize she could rely on others, and the two became friends. With Blaze on their side, Sonic learned that the space-time rift was because her world and Sonic’s world were merging with one another due to the Sol Emeralds having been stolen and brought to Sonic\\'s world. Hearing that Eggman and Eggman Nega were to blame, Sonic decided to confront Eggman Nega on Blaze\\'s behalf, since she was not in shape to fight. Just before Sonic could leave, however, they noticed Cream was gone and found a letter left by Dr. Eggman that said he held Cream hostage and that Blaze had to come to Point W alone. Sonic suggested that they gathered help, but Blaze insisted on going alone because Cream was her friend, which Sonic allowed. While Tails doubted this, Sonic assured him by saying that believing in someone was a part of friendship. Sonic himself then faced and defeated Eggman Nega. After the fight, Sonic was welcomed back by his friends, but ran off when he saw Amy coming. Having collected all the Chaos Emeralds, Sonic came to Blaze’s aid when Eggman and Eggman Nega Egg Salamander drained her Sol Emeralds\\' power. As the doctors left to prepare for the coming fight, Sonic encouraged Blaze as she despaired, and, with his friends backing Blaze up, he assured her that the Sol Emeralds would never lose their power due to the friendships she has made, causing the Sol Emeralds to recharge. Sonic and Blaze then used their Emeralds to become Super Sonic and Burning Blaze and together they defeated the Eggmans. As the space-time continuum began to restore itself, Sonic promised Blaze they would meet again as she planned to head home. The two of them then shook hands as the space-time continuum pulled them apart and returned them to their own worlds. back home, Sonic found Cream, who was sad over Blaze’s departure, but cheered her up by telling her Blaze would be back. Sonic Rush AdventureEdit Sonic is found by Marine Sonic Rush Adventure Sonic is found by Marine. In Sonic Rush Adventure, Sonic and Tails were out investigating an unknown energy reaction in the Tornado, but got caught in a storm and sucked into a hurricane. Washing ashore on Southern Island, Sonic and Tails met Marine the Raccoon and they decided to explore the surrounding islands in this unknown territory. The next day, Sonic and Tails found Marine accidentally destroying her SS Marine that she was building. The duo then helped Marine build a new vessel, with Sonic providing the Materials, and the trio began exploring the surrounding islands. On their journey, the group was attacked by several robotic enemies. Sonic also encountered Johnny, who became his rival in waterbike racing. When arriving at Coral Cave, Sonic met Captain Whisker and his crew, who were the ones behind the attacks. Suddenly, Sonic saw to his surprise Blaze the Cat attack Whisker. Though confused at Blaze\\'s arrival, Sonic teamed up with her to fight the Ghost Kraken. After the fight, the pirates escaped with the Jeweled Scepter, an artifact hidden in Coral Cave which Blaze tried to protect. As Sonic wondered why Blaze was here and not in her own world, he and Tails realized they had been transported to Blaze\\'s world during the storm. After explaining their story, Sonic suggested to Blaze they worked together to get the scepter back which posed a threat to their worlds and she accepted it. From there, Sonic and the group traveled the sea in their search for clues to the pirates\\' whereabouts. After having tracked and lost the pirates at Haunted Ship, freeing the Vikings on Blizzard Peaks from the pirates\\' captivity and uncovering the secrets of Sky Babylon, the group found the pirates’ hideout in some ancient ruins. Before heading there however, Sonic, Tails, and Blaze decided to make Marine stay behind as she could endanger the mission. While Sonic and Tails tried to be gentle about it, they silently agreed with Blaze when she told Marine she was a nuisance, making her run off crying. At the pirates’ hideout, Sonic faced Whisker and Johnny alongside Blaze. Despite beating them, however, Whisker escaped and Sonic and his friends saw Marine arriving and going after the pirates, only to get caught by the Ghost Titan. Fortunately, Sonic came up with a plan to distract Whisker by letting Tails pretend the scepter was somewhere else while he and Blaze saved Marine. Sonic and Blaze then destroyed the Ghost Titan together and escaped, while the pirates went down with their ship. Seeing Marine had reclaimed the Jeweled Scepter, the group headed back to Southern Island. After collecting all seven Chaos Emeralds and Sol Emeralds, Sonic and Tails planned to return home, but learned that the Jeweled Scepter had been stolen again. In the wake of an earthquake, the thieves revealed themselves to be Dr. Eggman and Dr. Eggman Nega in the Egg Wizard, who were behind the pirates, so they could use the Jeweled Scepter\\'s incredible power to build Eggmanland upon both worlds. As Sonic and the gang pursued the Eggmans to Deep Core, the villains tapped into the Power of the Stars with the scepter, but Sonic and Blaze used the Emeralds to become Super Sonic and Burning Blaze. As they were about to defeat the Egg Wizard, however, Eggman Nega tried to destroy them and the world, but Marine distracted them, allowing Sonic and Blaze to destroy the Egg Wizard. Letsshake Sonic shakes hands with Blaze once more. The next morning, Tails constructed a vessel for him and Sonic to return home in. Just before Sonic could leave, Blaze suggested that the Sol Emeralds and the Chaos Emeralds were responsible for their reunion, which Sonic remarked that they could never know for sure, before he shook hands with Blaze once more. As Sonic and Tails were taking off, Marine arrived in her SS Super-Marine to say goodbye. Sonic and Tails then promised Marine they would see each other again and headed back to their own world. Sonic Riders seriesEdit Sonic RidersEdit Sonic vs Jet Riders Sonic facing Jet for the first time. In Sonic Riders, Team Sonic arrived at Future City to search for a Chaos Emerald, when they saw the Babylon Rogues. Tails read on his radar that they had the Emerald and Sonic ran off to intercept them. After Knuckles knocked Storm off his Type-S, Sonic chased after Jet on the Type-S, but was blown off the Extreme Gear by Jet and the Babylon Rogues escaped. Regardless, Sonic was excited to have found new competition. The next day, Team Sonic saw Dr. Eggman announcing the EX World Grand Prix and that the entry fee for the contestants was a Chaos Emerald, with the winner getting to claim all seven. Sonic was initially suspicious, but when he saw that the participants Dr. Eggman had found were the Babylon Rogues, he decided to enter the competition. After the qualifications rounds, Sonic was with his team when he met Amy, who also signed up for the tournament, much to his discomfort. After hearing Tails\\' explanation about the legends of the Babylon Rogues and Babylon Garden, the group met Wave the Swallow who mocked Tails\\' Blue Star (and placed a bomb on it), leaving Sonic annoyed by her behavior. No sooner though, Sonic and the other hurried to next race. As Sonic made it to the semifinals, he took time off to practice his Extreme Gear skill with his team when they were interrupted by Jet, who mocked Sonic before leaving. While angered, Sonic did not believe he should underestimate Jet. Tails then began to doubt the Blue Star he had made for Sonic, but Sonic told him not to worry. When Sonic and his team got to the finals, Sonic vowed to a taunting Jet that he would not to lose. When Sonic was about to win the race, Wave detonated the bomb under Sonic’s Blue Star, causing him to lose to Jet, much to Sonic\\'s anger. Sonic and the others the saw Jet claim and use the seven Chaos Emeralds in tandem with the Key to Babylon Garden to reveal Babylon Garden itself, with the intention of claiming its treasure. Eggman, however, stole the key so that he could take the treasure for himself, believing it to be technology that he could use to conquer the world. Calling his team, Sonic headed out to stop Eggman. Using the Tornado 2, Team Sonic arrived at Babylon Garden, where Sonic received the Blue Star II from Tails and went after Eggman on it. On the way however, he was pitted again Jet, who was after Eggman too, and Sonic raced against Jet to Eggman as a rematch. Jet and Sonic part ways Jet and Sonic part ways. Sonic eventually beat Jet and cornered Dr. Eggman, but stopped when Eggman showed that he held Amy hostage. Sonic, however, dived into Eggman (and Amy) and blew them away when Eggman looked away. Sonic then took back the Key to Babylon Garden and handed it back to the Rouges despite Jet\\'s refusal. As the Rogues went to claim the treasure, Sonic decided to leave, but Amy, furious at him for endangering her, chased after him with her Piko Piko Hammer. No sooner, Sonic and the others heard a roar from inside Babylon Garden and went to check it out. There, they saw the Babylon Rogues had awoken the Babylon Guardian and were forced to fight it. After beating the guardian, Sonic, Jet and the rest found the Treasure of Babylon, which turned out to be a Magic Carpet, much to the disappointment of Eggman. With the whole ordeal over and with their rivalry more friendly, Sonic promised Jet that he would be ready to race him again the next time they met before taking his leave with his friends. Sonic Riders: Zero GravityEdit Sonic saved by a stone Sonic using the meteorite to manipulate gravity. In Sonic Riders: Zero Gravity, a few months after the EX World Grand Prix, Sonic was driving with Tails and Knuckles through Monopole, fumbling thoughtfully with a mysterious meteorite Tails had found the other night.[23] On their way to Megalo Station, they were attacked by SCR-HD and some SCR-GPs, a part of a currently global robot rampage who were after the meteorite. In the insuring chase, the group fell out from a 300-story high building, but Sonic was saved by the meteorite by using it to manipulate gravity. As Sonic and his friends tried to hide from the robots, they met Amy who revealed she was being chased by the robots because she had a meteorite similar to Sonic’s. Sonic then decided to head to the robots\\' creator, MeteorTech, to get some answers. There, Sonic and the gang were discovered by security, but then the Babylon Rogues arrived and Jet repelled the security robots with another meteorite. As Jet demanded the meteorites, called the Arks of the Cosmos, and said he wanted to challenge Sonic to a race, Sonic was eager to accept it, but decided to postpone it when more robots showed up. As Sonic raced Jet to the control room, Sonic and the others were surprised to find Dr. Eggman, who was the owner of MeteorTech, and Sonic suspected he was behind the robot rampage. While Eggman claimed to have no part in it, Sonic got suspicious when Eggman recognized his Ark of the Cosmos. After forcing him, Eggman revealed that MeteorTech’s mother computer was powered by one of the Arks of the Cosmos and that the robot\\'s leader, SCR-HD, which also had an Ark of the Cosmos, sought them out for reasons unknown. The group then noticed that Amy was gone, and saw on the computer screen that she was being chased by SCR-HD and Storm, and Sonic left with his friends to save her. When they found Amy, Sonic, Knuckles, and Tails heard from Amy that SCR-HD had suddenly blown up and that Storm had taken its Ark of the Cosmos. However, Tails deduced that they had to remove the Ark of the Cosmos in MeteoTech’s mother computer to stop the robots. As they tried to figure where the mother computer could be, Amy remembered Storm mentioning Gigan Rocks, which held information about the Ark of the Cosmos, so Sonic and the others went there to find clues. At Gigan Rocks, the group learned from the ruins that the Arks of the Cosmos were power units for Babylon Garden. The group then saw the Babylon Rogues chase after Eggman above them, and learned from both that and the ruins the location of MeteoTech’s mother computer. When Sonic and his friends got to this location, they found the Crimson Tower and the Babylon Rogues, who told them Eggman had stolen their Arks of the Cosmos. As they conclude that Eggman planned to use them to control all the world\\'s robots for world domination, Sonic almost headed out, when Jet demanded a race for the Arks of the Cosmos and title of the fastest in the universe, which Sonic accepted. SRZG-cs Sonic faces the fury of a black hole. The race eventually came to a draw, as both Sonic and Jet stopped Eggman at the same time and stopped the robot rampage. After Babylon Garden appeared due to all Arks of the Cosmos being present, Sonic gave his Arks of the Cosmos to Jet and took his leave, content with settling the score with Jet at the next World Grand Prix. However, SCR-HD then appeared and took all five Arks of the Cosmos to Babylon Garden, which transformed it into Astral Babylon and made it form a black hole that threatened to consume the planet. Sonic then headed to Astral Babylon with his team and the Babylon Rogues to disconnect the ship\\'s engine and stop the black hole where they faced and defeated Master Core: ABIS, thus saving the world. Later, Sonic, Knuckles, Tails, and Amy returned to Monopole, where they learned from Tails of how the Arks of the Cosmos made the robots run amok. No sooner, Sonic was challenged by Jet to a new race, which Sonic accepted, and raced Jet throughout the city. Sonic Free RidersEdit Sonic and Jet (Sonic Free Riders Opening) Sonic against Jet in Sonic Free Riders In Sonic Free Riders, Sonic and the rest of Team Sonic signed up to compete in the second World Grand Prix hosted by Dr. Eggman for the sake of the competition rather than the prizes. As they were interviewed by Omochao, Sonic was ready to start racing, though he suspected that Eggman was up to something. In their first race, Team Heroes faced Team Rose, who Sonic was openly disappointed about facing. During the challenges, Sonic was berated by Amy for not going easy, but Sonic insisted on competing seriously. Once Team Heroes had beaten Team Rose, Amy demanded a date with Sonic to make it up for this, but Sonic wondered why he owed her a date for winning. For their next race, Sonic and Team Heroes went up against Team Dark. During the race, Knuckles suspected Team Dark’s member, E-10000B of foul play, but Sonic thought that he was just imaging it. Sonic and the team eventually beat Team Dark and advanced to the finals, where they met Team Babylon, though Sonic was not surprised about facing Jet in the finals. In the final face-off, Sonic and his team beat Team Babylon, seemingly securing their victory. However, when he heard Jet had mechanical troubles during the race, Sonic called for a rematch, intending to have a fair race. Sonic thus faced Jet in a one-on-one race and defeated him. As Team Heroes was commended as champions, Sonic told the viewers how incredible he felt before noticing Team Babylon had left. When Omochao tracked Team Babylon down, Sonic thanked Jet for the race and told him that he looked forward to their future rematch. As the tournament progressed, Team Heroes had their own fair share of losses, but Sonic continuously displayed good sportsmanship. At the end of the tournament, Sonic and the other teams came to the awards ceremony to collect their prizes, but Eggman made them have a final race against his \"ultimate Gear-Jockey robot\", which made Sonic suspicious. After the race, Eggman revealed that he used the World Grand Prix to gather the riders\\' racing data with his E-10000 robots to create the ultimate Extreme Gear which he could use for his own agenda, but Sonic thought his plan was lame. In retaliation, Eggman challenged Sonic and the others to a race, but lost. Sonic then noticed E-10000B was acting funny before seeing Metal Sonic emerging from it and heard that Metal Sonic had stolen Eggman’s data and replaced it with fake data. Sonic then noticed that Metal Sonic was challenging him to a race and despite being told that Metal Sonic could not be beaten, Sonic gladly accepted the challenge. Eventually, Sonic was victorious in the race and forced Metal Sonic to run away. As Eggman cursed being tricked, Sonic mocked Eggman for ruining his own plan. As the World Grand Prix drew to a close and the other teams began to leave, Sonic insisted that they all had a great time at the World Grand Prix nonetheless. Sonic the Hedgehog (2006)Edit Ss03 Sonic arriving in Soleanna to save Princess Elise. In Sonic the Hedgehog (2006), Sonic visited Soleanna during the Festival of the Sun where he saved their monarch Princess Elise from Dr. Eggman who was after the Flames of Disaster known as Iblis to help him rule the world which was sealed inside Elise. As Sonic brought Elise to safety, he got distracted by Eggman\\'s mechs and Eggman kidnapped Elise and escaped, though not before Sonic received her Chaos Emerald. Determined to save Elise, Sonic teamed up with Tails the next day and tried to catch the Egg Carrier at Wave Ocean, but failed. After returning to the city, Sonic and Tails learned Eggman was in Dusty Desert. There, they found Elise, only for Eggman to attack them with the Egg Cerberus. After Sonic destroyed it, Sonic escaped Eggman\\'s forces with Elise by letting Tails create a diversion. As they escaped, Elise treated Sonic\\'s injuries and apologized for them, but Sonic insisted her smile was all he needed. Sonic was then filled in on the Flames of Disaster and Solaris (Soleanna\\'s sun god) by Elise, who grew worried of what Eggman would do with it. However, Sonic cheered her up with a run and gave her some advice to go by. Vlc 2016-06-22 15-46-00-706 Sonic taking Eggman\\'s message. Back in Castle Town with Elise, Sonic was attacked by Silver the Hedgehog, who claimed that Sonic would destroy his world. Sonic initially had the upper hand, but Silver caught him off-guard and incapacitated him. Meanwhile, Sonic saw Eggman kidnap Elise again, but was unable to save her. Luckily, Sonic was saved when Amy stopped Silver from finishing him off, and he cased after Eggman. Sonic then met up with Tails and Knuckles in Soleanna\\'s New City, who gave him a message from Eggman demanding Sonic’s Chaos Emerald in exchange for Elise. Despite knowing it was a trap, Sonic, Tails and Knuckles arrived at Eggman\\'s HQ in White Acropolis, where Sonic gave Eggman the Chaos Emerald, but was tricked and sent to the future by Eggman\\'s machine with his friends. Arriving in a ravaged future, they met Shadow and Rouge. They then decided to work together to get home by finding enough Chaos Emeralds for a Chaos Control powerful enough for time travel. While searching for the Chaos Emeralds, Sonic, Tails, and Knuckles briefly saw Silver and Blaze talking with Mephiles before they went back in time. From their database, the group learned that Elise would die in the Egg Carrier\\'s future crash-landing, leaving Sonic more determined than ever to save her. Locating a Chaos Emerald in Flame Core, Sonic his friends met up with Rouge and Shadow and journeyed there, where they were attacked by Iblis when they found the Emerald. After Sonic and Shadow defeated it, they used their Chaos Emeralds to make a rift back to the present. Through it, Sonic, Tails, and Knuckles got back to the present. Locating Elise on Eggman\\'s train, Sonic managed to save the princess, but was attack by Silver again. While caught in the fight, Sonic saw Eggman kidnap Elise again. Fortunately, Shadow arrived and held Silver off while Sonic saved Elise again and destroyed the Egg Genesis. As they fled from Eggman\\'s robots, Sonic took Elise to a beautiful location to cheer her up. There, Sonic told Elise that he would leave once he defeated Eggman, but cheered her up when she was sad about his departure. After that, Sonic returned Elise to the castle but after hearing that Eggman kidnapped Elise again, he ran off to save her. On his way, Sonic was attacked by Eggman\\'s robots, but was assisted by Silver who now wanted help Sonic. Unfortunately, Sonic was too late as Eggman’s ship crash and exploded with Elise inside as predicted. However, Silver had the plan to send Sonic back in time to save Elise by using Chaos Control with two Chaos Emeralds to create a rift. Sonic promised Silver to change his future by saving Elise before heading into the rift. Arriving at the day before, Sonic bordered the Egg Carrier and defeated Eggman in the Egg Wyvern before narrowly escaping the exploding Egg Carrier with Elise. On their way back to the city, Sonic and Elise were distracted by a Chaos Emerald. Mephiles then appeared and impaled Sonic, killing him. Despairing over Sonic\\'s death, Elise cried and released Iblis from within her, allowing Mephiles to merge with Iblis. Now whole again, Solaris created a spatial distortion that transported Sonic\\'s body and Elise to the End of the World. There, Sonic\\'s allies and Eggman saw Sonic’s dead body in Elise’s arms, each showing sadness at his death. Revivesonic Sonic being revived by the Chaos Emeralds. Sonic’s soul had yet to pass on at this point though and Elise sensed his presence. Realizing that it was not too late, everyone gathered all the Chaos Emeralds to restore Sonic to life. Revived as Super Sonic by Elise\\'s kiss and the Emeralds, Sonic turned Shadow and Silver into Super Shadow and Super Silver and they defeated Solaris. Sonic and Elise were then sent back to when Solaris was just a flame. If Elise blew out the candle it would destroy Solaris forever, but it would mean the events leading to Elise\\'s meeting with Sonic would never had happened. Sonic, however, encouraged Elise to accept things as they were and she extinguished the candle. Time was reverted, but Sonic still traveled to Soleanna where he watched the festival happily, hinting that he still remembered the erased events of this adventure. Sonic Rivals seriesEdit Sonic RivalsEdit In Sonic Rivals, when Onyx Island appeared at the sea, Sonic and Tails went to investigate it, suspecting it was another of Dr. Eggman\\'s schemes.[24] When they arrived, Sonic spotted who he believed to be Dr. Eggman, but was really Dr. Eggman Nega disguised as Eggman (Sonic however, does not realize this throughout the game). Sonic confronted the doctor, but Eggman Nega pulled out a card depicting Amy Rose and explained he had turned Amy into a card with a special camera. Sonic did not believe it at first, but as Tails stated his opinion on Eggman Nega\\'s claim, a flash from Eggman Nega\\'s camera blinded Sonic and when he regained his sight, Tails was gone.[24] Sonic asked Eggman Nega what he had done, and the doctor revealed that he had turned Tails into a card as well. At the same time, Knuckles appeared, believing Eggman Nega had stolen the Master Emerald. As Eggman Nega showed he had turned the Master Emerald it into a card as well, he escaped, and Sonic raced Knuckles to see who got to face Eggman Nega first. Eventually, the two found Eggman Nega and teamed up to fend off the Egg Turtle, but Eggman Nega escaped. As Sonic followed him, however, he ran into Silver, who had come to bring Eggman Nega back to the future. As Silver insisted on getting to Eggman Nega first, Sonic gladly accepted the challenge and they raced after Eggman Nega. As Sonic reached Eggman Nega, he demanded the cards back, but Silver insisted on going first, and it broke down to a fight between them and Eggman Nega\\'s Egg Falcon. Despite defeating the Egg Falcon, Sonic and Silver continued to fight, until Silver teleported Sonic to another location. Surprised, Sonic looked around and found Shadow. Seeing that Shadow was after Eggman Nega too, Sonic challenged him to see who got to Eggman Nega first. Sonic eventually outraced Shadow and found Eggman Nega, and demanded to know his plan. Eggman Nega however, retaliated by unleashing Metal Sonic on Sonic. After defeating Metal Sonic, Sonic thought about Eggman Nega’s plan, but ran into Silver again. Sonic then told Silver that he would share his information with Silver if he beat him in a race to Eggman Nega, and the pair chased the doctor again. Sonic and Silver eventually cornered Eggman Nega and Sonic demanded Tails’ card back, but Eggman Nega fought him and Silver with the Egg Lynx. After defeating the Egg Lynx, Sonic reclaimed Tails’ card while Eggman Nega escaped. Sonic then freed Tails from his card, but then Knuckles reappeared and Sonic was challenged by him to race to Eggman Nega first. Sonic eventually reached Eggman Nega first where he faced the Egg Kong and an upgraded Metal Sonic, but still won. Frustrated at his constant defeats, Eggman Nega told Sonic that he now planned to turn the world into a card and escaped, much to Sonic’s frustration. Tails, however, appeared in the Tornado and they traveled to Eggman Nega’s base. As Sonic ventured to and through Eggman Nega’s base, he met Knuckles, Shadow and Silver, and they each put aside their differences to help stop Eggman Nega. At the center of the base, Sonic and the others found a large spaceship with Eggman Nega’s special camera equipped on that he planned to use to turn the world into a card. Sonic then noticed that Eggman Nega planned to fuel the device with Amy’s card and some other cards, but the four rivals destroyed the spaceship as it took off, thus foiling Eggman Nega’s plan. After the battle, Sonic freed Amy from her card, who believed this meant that she and Sonic were to live happily together. Sonic, however, came up with the excuse that he had to find the other captives in Eggman Nega’s cards and ran off. Sonic Rivals 2Edit In Sonic Rivals 2, Sonic arrived on an island to meet Tails who told Sonic that a group of Chao have gone missing and that he suspected Dr. Eggman, who was on the island, was behind it. As such, Sonic teamed up with Tails to find Eggman and get answers. No sooner, Sonic saw Knuckles with Rouge and teased Knuckles. Regardless, Knuckles asked if he had seen Dr. Eggman since the Master Emerald had been stolen. Unsurprised, Sonic insisted on finding Dr. Eggman first and the two competed to see who would find the doctor. Sonic and the others eventually found Dr. Eggman, who really was Eggman Nega masquerading as Dr. Eggman (Sonic does not realize this throughout the game). Sonic demanded to know what he had done with the Chao, but Eggman Nega pretended to be innocent and attacked Sonic and the others in his Egg Liner. After the fight, Sonic and Tails followed Eggman Nega to Sunset Forest Zone. As they lost the doctor\\'s trail, they found a page dropped by Eggman Nega mentioning a creature called the Ifrit. Soon after, Sonic ran into Silver, who was looking for Eggman Nega as well and challenged him to see who faced Eggman Nega first. Sonic and Tails eventually caught up to Eggman Nega with Silver and Espio, but Eggman Nega attacked them in his Egg Crawler. After the fight, Sonic and Tails followed Eggman Nega to Neon Palace Zone discovering more dropped pages on the Ifrit. There, Sonic met Shadow and Metal Sonic. Suspicious at why Metal Sonic was involved, Sonic and Tails followed the pair, with Sonic following Shadow. After catching up with Shadow, Sonic began questioning him, but the two fought when Shadow refused to answer. After the fight, Sonic and Shadow found Eggman Nega who attacked in his Egg Dealer, but the group defeated him. Afterwards, Sonic and Tails tracked Eggman Nega to Frontier Canyon Zone, where they found more dropped pages on the Ifrit and Sonic suspected it was involved in Eggman Nega\\'s plans. They then met Knuckles and Rouge again, who needed Rings for their Emerald Detector and Sonic volunteered himself and Tails to find some. After Sonic had found Rings, however, Espio appeared and took them, but Sonic pursued him. Afterwards, Sonic found Eggman Nega again and fought his Egg Bull. Afterwards, the doctor revealed his plan to release the Ifrit from a portal within a haunted mansion and Sonic and Tails headed there to stop the Ifrit. At the mansion, Sonic and Tails split up. While searching, Sonic met a shape-shifting ghost of himself and defeated it in battle. After reuniting with Tails, they found Eggman Nega with their ghost counterparts. After fighting Eggman Nega in his Egg Phantom, Tails found the missing Chao, which Eggman Nega had planned to feed to the Ifrit to make it invincible, and Sonic got Tails to bring them to safety. The two eventually found the portal to the Ifrit\\'s dimension, which was about to close and they headed inside to find Eggman Nega before it was too late. There, they faced the Ifrit itself, who took control of Tails, forcing Sonic to face both Tails and the Ifrit to stop the end of the world. Though Sonic was occasionally taken over by the Ifrit too, the two friends defeated the Ifrit, thus keeping it from leaving its world and escaped before the portal closed. With the Ifrit stopped, the world saved and the Chao rescued, Sonic and Tails headed to the Chao Garden to get some rest. Sonic Storybook seriesEdit Sonic and the Secret RingsEdit Arrivalsonic Sonic and Shahra entering the Arabian Nights In Sonic and the Secret Rings, Sonic awoke from a nap when he encountered the genie of the ring, Shahra from the world of the Arabian Nights. She revealed that an evil genie called Erazor Djinn was absorbing her world, the very power of the book itself, and if he was not stopped, he would enter Sonic\\'s world too. She also revealed that Sonic was the \"Legendary Blue Hedgehog\" foretold in legend, who could stop him. Willing to help, Sonic agreed to help Shahra and she lead him into her world. While on their way, Sonic encountered Erazor, who demanded that Shahra gathered the seven World Rings, but she refused. Trying to punish her with a curse, Sonic took the blow for Shahra and was hit by a flaming arrow. Erazor then demanded before he left that Sonic gathered all the World Rings for him before the arrow burned out, or he would die. Sonic then head into the Arabian Nights, with Shahra at his side, intending to stop Erazor before it was too late. Darkspine Sonic 1 Sonic as Darkspine Sonic. On his adventures through the Arabian Nights, while stopping Erazor\\'s plans along the way, Sonic collected all the World Rings and learned about a past relationship between Shahra and the Erazor Djinn. With the help of King Solomon, Sonic eventually faced the Erazor Djinn in his stronghold and defeated him, who then retreated. Sonic caught up to Erazor who was waiting for him. Sonic then told Erazor to remove the curse, but he did not keep his word. Instead, Erazor took the World Rings by manipulating Shahra and tried to sacrifice Sonic to gain control of the rings, but Shahra saved Sonic at the cost of her own life. Erazor then used the seven World Rings hoping to gain total control over the Arabian Nights, but ended up transforming into the incomplete Alf Layla wa-Layla. Three of the World Rings was then absorbed by Sonic who transforms into Darkspine Sonic, which broke his curse, and he defeated Alf Layla wa-Layla. With Erazor defeated, Sonic decided to use Erazor\\'s lamp, given to him by Shahra earlier, to make him grant three wishes: revive Shahra, restore the Arabian Nights and seal Erazor himself away in his lamp forever. Having no choice, Erazor granted all of Sonic\\'s wishes and the Arabian Nights were saved. Though Shahra cried over Erazor\\'s fate, Sonic wished for a mountain of handkerchiefs, allowing her to cry as much as she needed to. Afterwards, Sonic discarded Erazor\\'s lamp in the Evil Foundry before looking for a way back to his own world, having many adventures along the way before finally going home. Sonic and the Black KnightEdit Chili Dog and the Black Knight Sonic in the world of Camelot. In Sonic and the Black Knight, Sonic was having chili dogs while waiting for Amy, having somehow been talked into going on a date with her. Suddenly though, he was called into the world of Camelot by Merlina the Wizard to defeat King Arthur, who had become a tyrant after being corrupted by the scabbard of Excalibur, making him immortal. After his arrival, Sonic met Merlina and quickly dispatched Arthur\\'s Knights of the Underworld who were following her. Sonic then tried to take on Arthur, but he was restrained by Merlina, who teleported them away. Soon after, Sonic was filled in on the kingdom\\'s situation by Merlina and was lead to the sacred sword Caliburn, a sentient sword who became Sonic\\'s teacher in knighthood to get a fighting chance. Soon after, Sonic had a brief confrontation with Arthur (who left when he did not consider Sonic a threat). Sonic and Caliburn then left to find Nimue who knew how to stop the scabbard of Excalibur. During their search, Sonic met Sir Lancelot who was sent to kill him, but Sonic defeated him and took his Arondight. Soniccn Sonic and Caliburn with Nimue. Sonic and Caliburn soon found Nimue, who told that she would only reveal the scabbard\\'s secrets if Sonic passed a test of true knighthood, and gave him three tasks to finish within three days. On their way though, Sonic and Caliburn met a young villager whose family and villagers were kidnapped by a dragon. Following his heart, Sonic decided to help the child despite Caliburn\\'s protests. On their way to the dragon, Sonic met Sir Gawain, who had come to kill him, and defeated him. Afterwards, Sonic kept him from committing suicide out of shame for failing his king. Asking him if there was more to being a knight than serving a king, Sonic left with Gawain\\'s Galatine. Eventually, Sonic saved the villagers, though at the cost of running out of time for his tasks. When Sonic met the child from earlier, however, she revealed herself to be Nimue in disguise and told him that he had proven himself a true knight. Sonic was then told that he had to collect all the sacred swords, whose united power could negate the scabbard\\'s. Already having two, Sonic went to get the last one from Sir Percival. After not only defeating Percival, but also saving her life, Sonic earned Caliburn\\'s respect and was titled \"Sir Sonic, Knight of the Wind\". With all the sacred swords, Sonic defeated King Arthur in battle, only to see him vanish like his minions. When Sonic brought the scabbard to Merlina, she revealed that she had used Sonic to get the scabbard herself to prevent the grim fate that awaited the kingdom at the cost of many lives. Excalibursonicv13 Sonic as Excalibur Sonic. Sonic regrouped with the Knights of the Round Table after Merlina\\'s assault and united them against Merlina. With Nimue\\'s help, Sonic and his allies tried to contain Merlina\\'s influence with a magical barrier. Sonic then faced Merlina, now the Dark Queen, who told him of the fate of the kingdom to make him understand. Sonic, however, turned a deaf ear and tried to attack, only to get a massive beating from her and get Caliburn cut in half. However, Sonic refused to give up, and his determination awoke the sacred swords\\' power, transforming him and Caliburn into Excalibur Sonic and Excalibur. Together, Sonic and Caliburn defeated Merlina and Sonic convinced Merlina to let go of her sadness and just live her life. As the Knights of the Round Table thought about disbanding without a king, Caliburn revealed that Sonic was the true King Arthur, much to Sonic\\'s surprise. Despite his new title, Sonic returned home and told of his adventure to Amy. However, she thought it was an excuse for forgetting their date, making Sonic run away from Amy and her Piko Piko Hammer. Sonic Chronicles: The Dark BrotherhoodEdit Chronicles bioware wp sonic 1920x1200 Sonic in Sonic Chronicles: The Dark Brotherhood. In the beginning of Sonic Chronicles: The Dark Brotherhood, Sonic, Tails, Knuckles and Amy were facing Dr. Eggman onboard the Egg Carrier. Together, they succeeded in making the Egg Carrier crash into Metropolis and Eggman was presumed dead. With no need to be a hero anymore, Sonic went on a long vacation alone. Sometime later, he got a call from Tails who said that the Chaos Emeralds had been stolen and Knuckles had been kidnapped by a group dubbed the \"Marauders\" so Sonic agreed to help find Knuckles. On his way to Tails, Sonic joined up with Amy and they beat one from the Marauders. With help from G.U.N., Sonic and his friends located the Marauders\\' hideout where they found Knuckles. When the team tried to get to Angel Island to protect the Master Emerald from the Marauders, however, they discovered that Angel Island had been hijacked. Suspecting Eggman was working with Marauders, the group looked for the doctor. Eventually, the team located Eggman. However, the doctor claimed that he had been reformed and was against the Marauders as well, and was willing to help Sonic and the others fight the Marauders by leading them into Metropolis where the Marauders had drawn Angel Island to with the Chaos Emeralds. While Sonic was distrusting of Eggman\\'s motives, he let the doctor join. On the way there, the team came across Shadow who Sonic fought and convinced to join them. Later, Sonic and the others met a Marauder, called Shade, who revealed the Marauders were a group of echidnas called the Nocturnus Clan, exiled to the Twilight Cage in ancient times. Despite defeating her, Shade blocked their way to Metropolis, but Sonic and the others found a way around it. In Metropolis, Sonic, Knuckles and a part of the group went to Angel Island to secure the Master Emerald, while Tails and Eggman prepared a weapon against the Nocturnus Clan. By hijacking an airship and with some help from Tails\\' team, Sonic and his group got to Angel Island where they met the Nocturnus Clan’s leader, Imperator Ix, who sought to rule the world. Ix unleashed his soldiers and overwhelmed them, but Sonic stood his ground until Tails and Eggman appeared and deployed their weapon, which dispatched the soldiers. Sonic and his team then fought Ix, but were unable to stop him from stealing the Master Emerald. Ix then used the Master Emerald to create a wormhole into Sonic’s dimension so that the Nocturnus Clan could conquer it and Angel Island fell from the sky. The team then came up with the plan of going after Ix into the Twilight Cage and reclaim the Emeralds and Shade joined Sonic’s team to stop Ix’s plan, having realized the evil nature of her leader. Using the newly-built Blue Cyclone, Sonic and the group entered the Twilight Cage while Eggman stayed behind. Inside the Twilight Cage, Sonic and his team got five of the Chaos Emeralds back and gained the alliance of the alien races residing in there. When they prepared to invade Nocturne to find the last Emeralds, Sonic united the alien races under them, who then helped them infiltrate Nocturne. Once there, they split into two teams, with Sonic and Tails leading their group and Knuckles and Shade leading the other, to find the last two Emeralds in the possession of Charyb and Scylla. On their way, Sonic and Tails helped Knuckles\\' group defeat Gizoid Centurions. Sonic and his group then found Charyb and beat him with the help of Knuckles and his team and reclaimed the Chaos Emerald. Once Knuckles got their Chaos Emerald as well, Sonic and his group headed to Ix’s throne room where they saw Knuckles standing by his duty despite Ix\\'s persuasions and attacked him. After the fight, Sonic and his team stepped in and stalled Ix, while Knuckles got the Master Emerald back. After the fight, Ix used Nocturne’s power to achieve his Super State, but Sonic retaliated by using the seven Chaos Emeralds to become Super Sonic and defeated Ix for good. As a final act, however, Ix started to close the wormhole out of the Twilight Cage, but Sonic and the others got through it just in time. When they returned home, however, they realized that a lot of time had passed, which allowed Eggman to rebuild his forces, which they faced upon exit from the Twilight Cage. In combat, Sonic has low damage power and low armor, but he gets three attacks per round thanks to his amazing quickness. With his speed, Sonic almost always goes first and can damage enemies before they get a chance to react. Sonic UnleashedEdit Sonic going Werehog Sonic Unleashed Sonic becoming Sonic the Werehog. In Sonic Unleashed, after an untold series of adventures for Sonic, he arrived at Dr. Eggman\\'s massive space fleet where he faced a battalion of Egg Fighters and Eggman in a powerful mech. During the battle, Sonic became Super Sonic and destroyed Eggman\\'s mech and his fleet. When he corned Eggman on a space station however, Sonic was caught in an energy field where the Chaos Emeralds were painfully ripped from him, returning him to normal. With the Emeralds\\' power, Eggman fired an energy blast that broke the earth apart and awoke an ancient creature called Dark Gaia to harness its power. In the process, a part of Dark Gaia\\'s energy infected Sonic and turned him into a \"Werehog\". Sonic was then ejected from the station with the powerless Chaos Emeralds. Moments before impacting the earth, Sonic\\'s fall was temporarily broken by a green light. After recovering, he met an imp-like creature who noticed he had developed retrograde amnesia. Believing that he caused it by falling on the creature, Sonic promised to help recover his memories. Dawn then broke and Sonic suddenly returned to normal. The duo soon arrived at Apotos where Sonic named his new friend Chip after an ice cream they got from a local vendor. After a day\\'s fruitless search for someone who knew Chip, Sonic realized the nature of his werehog form when he assumed it again at night. They soon after met Tails when Sonic saved him from Dark Gaia\\'s Minions. After hearing their story, Tails took Sonic and Chip to Professor Pickle, who knew something about the global crisis, in Spagonia with the Tornado-1. When they arrived, however, they learned Eggman had kidnapped the professor. Sonic, Tails, and Chip tracked Pickle to Mazuri where they freed him from Eggman\\'s base and reclaimed the stolen Gaia Manuscripts. Pickle told them that Dark Gaia was behind the planet\\'s shattering, but since it was not fully reborn, they could restore the planet and the Chaos Emeralds by placing the drained Emeralds in the Gaia Temples across the world. Sonic and Chip soon after returned to Mazuri, where they saved the villagers from Eggman and drove him off before locating a Gaia Temple. There, with Chip\\'s ability to activate the temple, Sonic could restore the Emerald and a continent. When returning to Spagonia at night, Sonic met Amy, but when Amy did not recognized him as a werehog, Sonic became sadden about his different appearance. He later found Amy caught in a group of people possessed by Dark Gaia, but with Chip\\'s help, Sonic exorcised them and saved Amy. However, he left before Amy could see him, but eventually came clean with her. Sonic and Chip continued their adventure, healing the planet one piece at a time. As the two of them restored the sixth continent however, Sonic saw Chip regaining his memories inside the sixth temple. Chip revealed that his real name was Light Gaia and that he had been fighting Dark Gaia in a continuous cycle of destruction and restoration of the planet since the dawn of time. Sonic thought that Chip was the reason he remained the person as a Werehog, but Chip revealed that it was Sonic\\'s own strong heart that kept his darkness bay. Chip then tried to leave to stop Dark Gaia on his own, but Sonic convinced him to let him help him. Sonic listening Sonic paying his respect to Chip. Arriving in Eggmanland, the duo activated the last temple. As the last continent returned, Sonic the Werehog and Chip were attacked by Eggman in his Egg Dragoon. After Sonic beat Eggman at the planet\\'s core, Dark Gaia itself appeared and knocked Eggman away. As they shuffled, Dark Gaia drew its last fragment out of Sonic to complete itself, curing Sonic of his Werehog condition, but also weakening him. Fortunately, Sonic was saved when Chip called the Gaia Temples to him and formed the Gaia Colossus and together they fought Dark Gaia. However, Dark Gaia soon matured and became Perfect Dark Gaia and began casting the world into darkness. Sonic, however, harnessed the Chaos Emeralds and became Super Sonic. Together with Chip, they defeated and sealed Dark Gaia, although Super Sonic fell unconscious in his normal due to exhaustion. He was then returned to the surface by Chip, who got sealed inside the planet and returned to dormancy. Back on the surface, Sonic found Chip\\'s necklace, which he kept as a bracelet. As he heard Chip\\'s final goodbye, Sonic paid his respects to his friend and left for new adventures with Tails. Sonic the Hedgehog 4Edit Episode IEdit Sonic The Hedgehog 4 - Game Shot - (1) Sonic the Hedgehog in Sonic the Hedgehog 4: Episode 1 In Sonic the Hedgehog 4: Episode I, which takes place directly after the Angel Island incident, Sonic had just managed to finally destroy the Death Egg. With this whole ordeal over, Sonic decided to take a much-deserved break from his adventures. Sonic then parted with Tails and Knuckles for the time being and ventured out on his own to explore new parts of the world. Sonic\\'s break was cut short, however, when Dr. Eggman, having survived their last encounter, returned to defeat Sonic with a new and improved army of Badniks. Sonic then began chasing and fighting Dr. Eggman while collecting Chaos Emeralds through the various Zones. At the end of his journey, Sonic gave a final chase to Dr. Eggman, but Eggman retreated to the E.G.G. Station Zone, a base in space. Sonic, however, jumped onto a rising rocket and pursued the doctor. Onboard the E.G.G. Station, Sonic faced all of the past battle machines constructed by Eggman in past zones before confronting the mad scientist in a rebuilt Death Egg Robot. Despite the mech\\'s improvements, however, Sonic defeated it and escaped the base as it began exploding, before landing in Splash Hill Zone where his adventure ended for the time being. Episode IIEdit In Sonic the Hedgehog 4: Episode II, after having defeated Dr. Eggman onboard the E.G.G. Station Zone, Sonic spent the next few months relaxing from his adventures. When Sonic heard that Dr. Eggman had returned and was up to no good on the neighboring continent, however, he prepared to stop Eggman and sought out Tails. The two of them then headed out together in the Tornado to investigate Eggman\\'s newest scheme.[25] Arriving in Sylvania Castle Zone, Sonic and Tails began investigating. They eventually found Eggman and learned the doctor planned to turn Little Planet, which had made its annual return, into a power source for his Death Egg mk.II. As such, Sonic and Tails began chasing the doctor to stop him. Along the way, they were attacked by Metal Sonic, who had returned more powerful than ever to settle the score with Sonic under the alliance of Eggman, but Sonic and Tails defeated him in each encounter. When they got to the Sky Fortress Zone, Sonic and Tails used an escape pod to follow Eggman and Metal Sonic to the Death Egg mk.II as the flying fortress was exploding around them. Onboard, they briefly fought Dr. Eggman and Metal Sonic until the villains escaped. Soon after, Sonic was challenged to a rematch by Metal Sonic, but he and Tails beat him again. Sonic and Tails went on and faced Dr. Eggman and his Egg Heart and defeated him, making the Death Egg mk.II crash. The two of them then used some escape pods to return home while watching the Death Egg mk.II shut down and be pulled away by Little Planet\\'s orbit. Sonic ColorsEdit Abccd Sonic and Tails alongside the Wisps. In Sonic Colors, Sonic traveled to Dr. Eggman\\'s Incredible Interstellar Amusement Park, an amusement park made of planets, before its opening day with Tails as he was suspicious of Eggman\\'s claim to have made it to make up for his past misdeeds.[26] There, Sonic saved two Wisps from Orbot and Cubot, where the Cyan Wisp gave him his first Color Power. Meeting with Tails, who was building a translator to understand the White Wisp Sonic saved, Sonic reported to Tails what happened before going to discover Eggman\\'s plan. Once he found Eggman, however, Sonic was attacked by Rotatatron, which he destroyed and unintentionally sent one of its pieces into one of the nearby towers. Returning to Tails, who had the translator ready, Sonic learned from the white Wisp, named Yacker, that Eggman was catching the Wisp, and set out to save them upon Yacker\\'s request. While exploring one of the amusement park\\'s planets, Sonic found a generator which he subsequently destroyed and afterward learning from Tails and Yacker that Eggman was harvesting the Wisps\\' Hyper-go-on. While exploring the next planet, Sonic was saved by Tails from Eggman\\'s Mind Control Ray, though the fox was temporarily mind-controlled. Eggman then sends the local giant robot at them, but Sonic destroyed it and the local generator. Knowing now that Eggman was preparing a mind-control weapon with the Wisps\\' Hyper-go-on, Sonic discovered that Eggman used the generators to keep the Wisps\\' planets captive while he kidnapped the Wisps. Sonic then set out to destroy the remaining three generators, thinking this would stop Eggman\\'s plans. Traveling across Eggman\\'s amusement park, Sonic successfully located and destroyed all the generators while at the same time freeing the captive Wisps. With the planets and the Wisps safe, Sonic and Tails returned to the Tropical Resort where they started celebrating with the freed Wisps. However, when the amusement park began to collapse due to Eggman\\'s mind-control cannon backfiring when the doctor tried to use it (which was because of the Rotatatron\\'s piece that was unintentionally struck in it by Sonic), Sonic and Tails escaped to Eggman\\'s space elevator to get back home. There, however, Eggman showed up in the Nega-Wisp Armor to crush Sonic. Wanting Tails to be safe, Sonic pushed him into the elevator and launched Tails back home, while he fought Eggman alone. Sonic Colors (The End) Tails and Sonic looking at the sky. Though Sonic managed to defeat Eggman, he was still caught in the black hole created by the collapse of Eggman\\'s mind control cannon. However, he was saved by the Wisps who got him back to Earth where he reunited with Tails and later saw the Wisps stop the black hole. Yacker then appeared and thanked Sonic and Tails for their help, but told them that he had to return to his own planet. Sonic then said goodbye to Yacker and watched the Wisps leave with the kidnapped planets. Sonic GenerationsEdit Modern Sonic and Classic Sonic Sonic Generations Modern Sonic and Classic Sonic meet each other. In Sonic Generations, Sonic\\'s history was interfered with by a mysterious foe called the Time Eater. In the present day, some time after the Wisp incident, Sonic arrived to see that his friends were holding a surprise birthday party for him which he delightedly joined. During the party, the Time Eater appeared and sucked Sonic\\'s friends into different periods of Sonic\\'s past. Sonic, unable to defeat it, was knocked out during the encounter and later awoke in the White Space. After passing through Green Hill, Sonic was able to restore Tails and the area from a colorless frozen state. Sonic then decided to save his friends caught in the White Space with the same procedure, unaware that Classic Sonic, a past version of Sonic from another dimension, was doing the same thing. When Sonic and Classic Sonic passed through a Boss Gate, however, they came across each other, where Classic Sonic went ahead and fought Dr. Eggman when the doctor appeared, only to see him get caught by the Time Eater. After that, the Sonics discovered with the help of Modern and Classic Tails that they were traveling through time and space. Teaming up to stop the Time Eater, the Sonics progressed through the White Space, restoring the frozen areas and their friends. Along the way, they learned from the Tails\\' that the Time Eater\\'s actions ripped space apart, that their speed was the key to restoring space and time and finally, the Chaos Emeralds were the Time Eater\\'s weakness, which they set their sights on collecting. When Modern Sonic later defeated Dr. Eggman in his Egg Dragoon, he and his friends witnessed Eggman getting caught the Time Eater again, much to their confusion. The Sonics eventually obtained all the Chaos Emeralds and freed their friends before facing the Time Eater in its own domain. There, Dr. Eggman and his time-space counterpart, Classic Eggman, revealed themselves as the ones behind the Time Eater in an attempt to erase the Sonics from history so that the doctors would be victorious in the present. The two Sonics squared off against the Time Eater, but got knocked out. While passed out, however, the Sonics got support from all of their friends, allowing the Chaos Emeralds to activate and transform them both into Super Sonic. Together, they defeated the Time Eater and stopped the doctors\\' plan. As a result, time was restored and the Sonics returned back to Sonic\\'s world with their friends where Sonic\\'s birthday party left off. During the party, Sonic thanked Classic Sonic for his help before saying goodbye to him and promising him a great future when Classic Sonic and Classic Tails returned to their own world through a Time Hole left behind by the Time Eater. Sonic Lost WorldEdit SLW Opening Drop the Critters! Sonic trying to save the day. In Sonic Lost World, Sonic and Tails were chasing Dr. Eggman, Orbot and Cubot in the Tornado to free some Animals they had captured. As the duo went after the captured animals in a Capsule Eggman dropped from the sky, the Tornado was damaged by Eggman. Falling from the sky, Sonic and Tails came across the Lost Hex. There, Sonic found the lost capsule and reported back to Amy and Knuckles. Soon after, Sonic found Eggman with the Deadly Six, a group of Zeti Eggman controlled. While Eggman left Zazz to finish him, Sonic defeated Zazz and reunited with Tails. The duo then left to find Eggman. Mistake SLW Sonic kicks away Eggman\\'s Cacophonic Conch. After Sonic met and fought Zomom, he and Tails found Eggman scolding the Deadly Six. Despite Tails\\' warnings, Sonic knocked away the conch Eggman used to control the Zeti. However, this allowed the Deadly Six to rebel against Eggman by taking control of his Badniks and using them to attack everyone. When Tails got injured, Sonic escaped with Eggman, Orbot, and Cubot to bring Tails to safety. After escaping, Sonic and Tails parted with Eggman and his lackeys to deal with the Zeti. Meanwhile, they were contacted by Amy, who informed them that something was draining the world of life. After Sonic had an encounter with Master Zik, he and Tails met Eggman again, who revealed the Deadly Six were using his Extractor to destroy the Earth. Reluctantly, Sonic teamed up with Eggman to bring the doctor through the Zeti and have him shut the Extractor down properly. On their way, Sonic realized that Tails was mad at him for entrusting Eggman rather than him to stop the Extractor. After Sonic fought off Zeena, his group were briefly contacted by Zavok, who stated the futility of their actions. Sonic would later argue with Eggman on how to beat the Zeti when Tails got attacked by Cubot when he let him on a Crabmeat. However, Eggman saved him. Though perplexed by Eggman\\'s behavior, Sonic scolded Tails. Sonic would later try to open a capsule, but Tails stopped him, having discovered it was a trap from the Deadly Six, though Tails was caught and taken away in the process. Coming across Zor, Sonic demanded him to return Tails. Instead, Zor fled, leaving Sonic to confront him in battle. Alone SLW Sonic mourns the loss of his friends. Sonic later came across Zavok who revealed his plans to roboticize Tails. As Sonic chased after Zavok and fought him, Sonic lost contact with Amy on the Miles Electric as her life dwindled away. Finally close to the Extractor, Sonic and Eggman were attacked by Zazz and Zomom, pushing them into a lava pit. Sonic, however, was saved by Eggman, though Eggman would fall into the lava pit. Continuing on alone, Sonic beat Zazz, Zomom and Master Zik for good, though he was disheartened over having seemingly lost his friends. Confronted by Zavok, Zeena and Zor, Sonic was shocked to see Tails had seemingly become a robot. However, when Tails was ordered to kill him, Tails revealed he was just fine and attacked the Zeti. His resolve restored, Sonic beat Zeena, Zor, and Zavok for good. With the Zeti gone, Sonic and Tails reached the Extractor only to see it was turned off. Eggman then showed up in a new mech, having faked his death earlier so he could charge his mech while Sonic fought the Deadly Six and now planned to conquer the remains of the world. Beating Eggman, Sonic apologized to Tails for doubting him as he returned the planet\\'s energy, mending their friendship. As Eggman tried to escape, Sonic revealed he removed his jet pack\\'s exhaust pipe, making Eggman fall down to earth. Returning to Knuckles and Amy with Tails, Sonic decided to take a nap to rest from his adventure. Sonic Runners seriesEdit Sonic RunnersEdit Sonic The Hedgehog (Sonic Runners) Sonic in Sonic Runners. In Sonic Runners, Sonic and his team discovered that Dr. Eggman was back to sow up chaos again. With the aid of Tails and Knuckles, Sonic spent the next period foiling Eggman and his lackeys\\' numerous plots, such as kidnaping Animals, hunting Wisps on Earth, harassing Chao, building new and improved Badnik armies, and attempting to procure the Master Emerald. Along the way, Sonic also helped several local inhabitants with their issues. While Team Sonic managed to stop Eggman every time, it all would lead to Eggman\\'s endgame: the construction of a new Brainwashing Laser powered by the Chaos Emeralds to enslave the world with. Although Team Sonic secured the Emeralds, they were too late to stop Eggman from draining them of their chaos energy. Sonic ultimately faced Eggman in a final showdown, but upon Eggman\\'s defeat, the mad doctor fired his Brainwashing Laser at Sonic. Fortunately, Sonic was saved by the seven Chaos Emeralds he held, which reabsorbed their energies from the laser and transformed Sonic into Super Sonic, allowing Sonic to destroy Eggman\\'s laser. Reuniting with his team, Sonic, after returning to normal, noticed that Eggman had snuck away to plan his next scheme, but was certain that they could stop whatever Eggman would come up with, before celebrating with his friends. Sonic Runners AdventureEdit In Sonic Runners Adventure, Sonic received a transmission from Tails, telling him to come to South Island as Dr. Eggman was up to his old tricks again by kidnapping Animals. After asking around and following some clues while messing up Eggman\\'s operations, Sonic found Tails in Eggman\\'s facility. There, Tails told him that the doctor somehow caught him and made him build a robot teleporter. Sonic subsequently tracked down Eggman and beat him. Although Eggman then escaped through Tails\\' teleporter, Sonic and Tails followed him through it. However, Sonic got injured during the transfer, and had to rest while Tails went after Eggman on his own. Rejoining Tails later on, the two resumed their hunt for Eggman. With Knuckles coming along, Sonic and Tails let the echidna take the lead when they arrived in more hostile surroundings. Along the way, Knuckles took out Eggman\\'s newest Extractor. Sonic and his team would then follow Eggman to Sky Sanctuary. When Sonic was forced to let Eggman go by the doctor\\'s Mind Control Ray though, Team Sonic realized what Eggman\\'s plan was all along: setting up a new mind control canon powered by the Extractor and Sky Sanctuary to take over the world with. Resolving to stop Eggman\\'s weapon, Team Sonic destroyed the mind control cannon, leaving only Sonic to defeat Eggman for good. Retreating, Eggman vowed revenge, but Sonic promised that he and the others would be ready when the time comes. Sonic ForcesEdit In Sonic Forces, Sonic got a distress signal from Tails, citing that Eggman was attacking the City. After travelling through Green Hill, and taking note of how much of it had turned into a sandy desert, Sonic arrived in the nick of time to save Tails and some civilians from a squad of Egg Pawns that were about to shoot them. However, this time, Eggman was anticipating Sonic\\'s arrival, and proceeded to unveil Shadow, Zavok, Chaos, and Metal Sonic, along with a foe named Infinite, Eggman\\'s new right-hand man. Sonic, although surprised by the group\\'s presence, nonetheless attempted to fight Infinite, only to get pummeled into defeat by him and his allies. Afterward, Sonic got captured by Infinite and brought to the rebuilt Death Egg, where Eggman planned to banish him into space after having the hedgehog see his completed Eggman Empire. With Sonic out of sight, everyone believed him to be dead and lost hope of a swift defeat of Eggman\\'s forces. Over the next six months, Sonic remained imprisoned onboard the Death Egg. In the meantime, the Eggman Empire conquered over 99% of the world, with its only opposition being the Resistance, led by Sonic\\'s friends, with Knuckles as their commander. However, after the Resistance learned that Sonic was alive, Eggman was forced to push Sonic\\'s execution ahead of schedule via Zavok. However, as Zavok was about to get him, a power surge caused by the Resistance after infiltrating the Death Egg allowed Sonic to escape his restraints and defeat Zavok, who vanished upon his defeat. Having no time to ponder about what happened though, Sonic searched for a way off the Death Egg. Eventually, Sonic found the Avatar, a rookie Resistance member who had come to free him, and saved him from some Egg Pawns. Joining up with the Avatar, the two of them fled back to their world in an Eggman Fleet space shuttle. Back home, Sonic was welcomed back by Knuckles, who, out of necessity, sent him and the Avatar to take down the Arsenal Pyramid, Eggman\\'s main munitions factory that was situated in Green Hill. During their mission, Sonic quickly bonded with the Avatar. Upon returning to HQ, Sonic learned that Infinite was on the move in Mystic Jungle and that Silver was fighting him. Sonic, eager for a rematch against Infinite, rushed over to the site of the battle, where he saved Silver just before Infinite could kill him. Making it clear to Infinite that he was not afraid of him despite what he might think, Sonic tried to make him tell him the source of his strange power in his usual cocky manner. Instead, Infinite proceeded to fight Sonic. Although Sonic managed to hold his own compared to before when he first faced Infinite in the City, he ultimately still lost to Infinite, who let him live due to viewing him as not being worth killing. After that, Sonic spent some time healing from his fight, leaving the Avatar to handle the next few missions. Eventually, the Avatar returned with Tails and Classic Sonic, and Sonic had a warm reunion with Tails. Although Tails brought the bad news that Eggman would have a plan for wiping out the Resistance ready in three days, Sonic was sure that they could stop it. Sonic soon after went to the City after learning that Shadow was leading Eggman troops into the City, including Death Egg Robot sentinels, with Sonic hoping to learn why Shadow went rogue. Upon confronting him, however, he was surprised to see Shadow vanish after he got attacked by another Shadow, the second one being the authentic Ultimate Life Form. He then learned from the real Shadow that the one who vanished was a fake Shadow, one of several replicas made by Infinite\\'s powers over virtual reality and that Eggman\\'s familiar henchmen were also replicas. Although this meant that Eggman had an unlimited army of clones with powers equal to their templates at his disposal, Sonic was still certain there was a way to win. After Infinite foiled Operation Big Wave, Sonic and the Resistance found it necessary to figure out Infinite\\'s weakness, prompting Tails and Classic Sonic to go on a recon mission. Meanwhile, Sonic and the Avatar got sent to the City to stop a Metal Sonic replica. After clearing out a Death Egg Robot sentinel that ambushed them, the duo found the replica and took it out. Afterward, Sonic thanked the Avatar for their help with a fist bump. Returning to HQ, Sonic learned that Tails had discovered the secret to Infinite\\'s power: the Phantom Ruby prototype, a gem with power over the virtual reality that Infinite has been fused with. Because this gem required the Death Egg to supply it with the power needed for it to work, Sonic and the Resistance set up a plan to destroy the Death Egg. As a part of the plan, Sonic invaded Network Terminal while the Avatar distracted Eggman\\'s forces at Guardian Rock, and shut down the Death Egg\\'s defenses from there. This allowed Classic Sonic to invade the Death Egg and destroy it. With the Phantom Ruby seemingly out of commission, Sonic and the Resistance attacked Metropolis in an attempt to capture Eggman and end the war. When Sonic and Tails found Eggman with Orbot and Cubot however, the doctor called in Infinite, who still had his powers thanks to a backup power source underneath the Eggman Empire Fortress. On Eggman\\'s order, Infinite opened a portal into Null Space, a close-up space designed to trap Sonic inside it forever. In the end, Sonic got sucked into the null space, along with the Avatar when they tried to rescue him. However, the two were able to escape from the null space using the Double Boost and rejoin the fight in Metropolis. Although the duo managed to track down Eggman and Infinite, the two villains promptly retreated to the Eggman Empire Fortress to begin Eggman\\'s endgame, leaving Metropolis to be captured by the Resistance. Having less than an hour left before Eggman\\'s endgame, Sonic and the Resistance confronted the Eggman Army at the Eggman Empire Fortress in an attempt to reach and stop the Phantom Ruby\\'s power source. During the fight, E-123 Omega came to the aid of Sonic and co. It was then that Eggman had Infinite execute his endgame; using his Phantom Ruby prototype\\'s power, Infinite created a sun to drop on the Resistance. Thanks to the Avatar, however, the sun was vanquished, thus allowing the Resistance to continue the fight. Sonic himself used this opportunity to confront Infinite while he was weak from creating the sun. When Infinite regained his full power however, the Avatar came to Sonic\\'s aid, and together they beat Infinite, who vanished into thin air. Warned by Eggman that it was not over, however, the duo then made their way to the Phantom Ruby\\'s power source and destroyed it, seemingly winning the war. After rejoining their friends, however, Eggman revealed that the power source was a decoy and that the real Phantom Ruby had been incorporated into his triumph card: the Death Egg Robot. This meant the Ruby had no weakness anymore. With the Eggman Army on the rise, thanks to Ruby, Sonic, Classic Sonic and the Avatar fought Eggman. Destroying the robot, the trio ensured the Resistance\\'s victory over the Eggman Empire. In the aftermath, Sonic bid farewell to Classic Sonic, whose return to his dimension was imminent with the Phantom Ruby now gone, although Sonic was sure they would meet again. Sonic then inspired the Resistance to set out to clean up the mess Eggman had left the world in. When the Resistance later disbanded, Sonic decided to head out in search of new adventures, although not before bidding farewell to the Avatar, who had decided to set out on their own. Team Sonic Racing In Team Sonic Racing, Sonic and his team received vaguely worded invitations to the Ultimate Test of Racing Skill. With their curiosity getting the better of them, Team Sonic made a beeline for the rendezvous, where they ran into Team Rose. Just as Sonic accepted Amy\\'s offer to join Team Rose\\'s picnic, a stranger approached, a Tanuki calling himself Dodon Pa. Introducing himself as the one who sent the invitation, Dodon Pa told Team Sonic that they would be racing as a team in the most advanced cars he could create in a Grand Prix that would test their limits. While Dondo Pa\\'s vagueness rose suspicion, Sonic, who was curious about this whole competition, convinced his team to join the Grand Prix. As Team Sonic got ready to depart for the first race on Planet Wisp, Team Rose ended up coming along and joining the competition. For the races, Sonic received the Blue Star to race in. Shortly after the Grand Prix began, Sonic quickly started to enjoy the competition. Even as Dodon Pa brought in more brutal challenges, Sonic gladly welcomed them. Not long after, Team Vector joined the Grand Prix. Just as the next race was about to begin, Sonic caught Amy talking to Vector about Dodon Pa, whom they did not trust. Wanting Amy to stay focused on racing, Sonic goaded her into challenging him on the racetrack. Soon after, Sonic met Silver, who had received an invitation to the Grand Prix as well. Seeing that Dodon Pa had managed to send a message to the future, the group realized that their enigmatic host held a lot of power. Soon after, Dodon Pa took the racing challenges up a notch. While Amy disapproved of this, Sonic gladly accepted the challenge. Later, Sonic heard from Knuckles that Tails were being sneaky. Sonic subsequently confronted Tails with this, who admitted that he was working on something. Respecting Tails\\' privacy, Sonic told Tails to tell him about it when he was ready. Not long after, Dr. Eggman and his team joined the competition, along with Team Dark, prompting Sonic to trash-talk with Eggman, who insisted that he was just here to race. During a race between Team Sonic and Team Dark, Sonic focused solely on Shadow as they raced neck-to-neck in their speed-type racecars. Just as Sonic was beginning to enjoy the competition, however, Dr. Eggman intruded on the teams\\' race in order to compete against them on his own as a \"special guest\" (which Dodon Pa permitted despite knowing it was a lie). After Eggman began gaining the lead, Sonic, his team, and Team Dark all agreed to put their feud aside and work together to keep Eggman from winning the race. Thanks to Tails\\' quick thinking and his team\\'s support, Sonic was able to pass Eggman alongside Shadow using a Slingshot maneuver. Sonic and Shadow would afterward pass the finish line while the other racers took care of Eggman with a combined Wisp power-up assault. However, Dodon Pa was too busy watching Eggman\\'s beating to see which one between Sonic and Shadow crossed the finish line first. As such, the two hedgehogs decided to have a rematch. Sonic later agreed with Tails that Eggman appearing here could mean he was working with Dodon Pa since they could not figure out the Tanuki\\'s motives for making them race. Suspecting that Shadow could know something since he could likely work with Eggman, Sonic confronted his arch-rival, who revealed that he was here to stop whatever plan Eggman was cooking up. However, their egos soon clashed, and Sonic and Shadow ended up challenging each other to a race. Afterward, they agreed that they had to watch out for both Dodon Pa and Eggman. Soon after, Sonic learned that Eggman and Dodon Pa were seemingly working together. Since they did not know what the pair was up to though, the heroes decided to keep racing for now. Later, after Sonic taunted Eggman when he lost a race, the doctor sent hundreds of Eggpawns after the racers. As Team Dark set out to slag the Eggpawns, Sonic competed with Shadow to see who could slag the most Eggpawns. Sonic and Amy would later talk about how crummy a racer Eggman was, before learning that Metal Sonic had joined Eggman\\'s team. Sonic, however, was not worried about Metal Sonic\\'s participation. When they later had to start a new race, Sonic tried trash-talking with Silver, but to no avail. After another race, Sonic saw the Chao spectators go amok after spotting someone, who turned out to be Zavok. Annoyed by Zavok\\'s appearance, Sonic asked Eggman if he was with him. Although Eggman denied this, he quickly had Zavok join his team. Afterward, Knuckles wanted to make his move due to Zavok\\'s arrival, but Sonic reminded him that they had no moves while remaining confident that they would be able to handle Zavok. Since new information had put Dodon Pa into a new perspective though, Tails reminded everyone that they had no idea who the bad guy was in all of this. Sonic, however, stood by that it was Eggman and that they should keep racing for now. Later, after it was revealed that Dodon Pa was a good guy and that he was using the Grand Prix to gather information for his corporation\\'s Ultimate Energy Engine, which Dodon Pa wanted to use for philanthropic purposes, Sonic wanted to focus on the Grand Prix. However, Shadow reminded him that they still had Eggman to worry about. Soon after, the heroes learned from Big that Eggman had kidnapped Dodon Pa and brought him to the Final Fortress. Wanting to rescue Dodon Pa, Sonic and co. went to the Final Fortress. There, Eggman had them compete in a number of races with Team Eggman and his army of Eggpawns in exchange for Dodon Pa, not knowing Eggman was using them to gather the Ultimate Team Energy needed to finish the Ultimate Energy Engine. Once the engine was complete, Eggman stole it from Dodon Pa and incorporated it into his monster machine. Sonic and his crew subsequently faced the monster machine, and Sonic managed to beat it in a race. However, the monster machine soon after went crazy and drove into the Final Fortress\\'s core. As the Final Fortress crashed, Sonic had his friends abandon their cars and evacuate, with the exception of Tails and Knuckles who decided to remain with Sonic and help him save Dodon Pa. Touched by his friends\\' devotion, Sonic saved Dodon Pa with the aid of his friends and reunited with the others down on the ground. Just as the Grand Prix seemed over since the cars had been destroyed when the Final Fortress crashed, Dodon Pa decided to give everyone new cars, thus allowing Sonic and his friends to race once more. Superhuman Speed Sonic\\'s greatest strength is his super speed, an innate talent that members of the hedgehog species possess. Sonic, however, has proven himself in a class of its own with his speed, having been credited as \"the fastest thing alive\" and even the fastest being in the universe. He has the ability to instantly accelerate to the speed of sound and run at speeds far greater than Mach 1, which is at the blistering speed of about 768 mph and can run backward just as well as he can forwards. Due to such speed, he can scale vertical surfaces and ceilings, run over water, outspeed lasers, and even cause the ground to explode in his wake. Even then, Sonic can take his speed even further. By revving up in one place, he can take off at turbo speeds in an instant. He can also envelope himself in a blue energy field that lets him accelerate beyond the sound barrier on both the ground and in midair for a short time, allowing him to not only smash straight through enemies and obstacles like a living projectile but also fly immense distances through midair. Using certain techniques, he can even achieve light-speed momentarily. It\\'s unknown what Sonic\\'s unaided top speed is. In Sonic Battle, it is stated he can move several times the speed of sound and when facing Ultimate Emerl, he went at least ten rounds with him in less than thirty seconds. It has also often been stated that Sonic can move at supersonic speed (which ranges from 915-3,840 mph), and he has once been called the \"the world\\'s fastest, hypersonic hedgehog\" (which ranges from 3,840-7,680 mph). There are as well records stating that Sonic can move faster than the speed of light, although their accuracy cannot be guaranteed. However, E-123 Omega himself calculated that Sonic\\'s speed could potentially exceed light speed and Sonic has boasted that light speed is \"small-time\" to him. Sonic\\'s demonstrated complete mastery of his speed in any environment and can use it for both high-speed offense and defense. Not only can he run at maximum tilt in straight lines, but also in full tight circles and through sharp turns with full control over his momentum. As far as stamina goes, Sonic\\'s is seemingly limitless as he is never winded from running. His speed also allows him to perform several impressive feats: he can heal himself by vibrating his body, launch shockwaves by spinning rapidly, leap in midair, launch stunning waves with fast kicks, increase the force of his blows by striking with increased momentum, and create barriers of super speed. He can also spin in circles or rotate his extremities at super-speed to create winds strong enough to attack or blow away opponents, similar to aerokinesis. Sonic possesses astounding kineticism, precision and reaction time to match his speed. He has profound acrobatic skills and agility, along with enhanced reflexes that let him avoid any incoming obstacles with precise and delicate movements. As seen in his first meeting with Silver, Sonic can even detect attacks beyond his field of vision due to his sharp reflexes. When launched into the air, he can also pull off several tricks before landing.  Body Control Sonic\\'s core offensive maneuver is the Spin Attack, a technique where he curls into a concussive ball or cutting disk and directs himself at his targets. With it, Sonic can shred or burrow through just about any substance given enough speed and hit with enough force to pierce colossal boulders. Highly adept in its usage, Sonic can utilize several variants of the Spin Attack for both ground- and aerial maneuvers, including the Spin Dash, Spin Jump, Homing Attack and the super-charged Focused Homing Attack. It appears that Sonic can control the strength and durability of his otherwise soft quills at will. While he is in Spinball form, they appear to be extremely hard like buzzsaw blades; as demonstrated during the Neo Metal Sonic incident, his quills (and body) are durable enough to slice through battleships without even moving at the speed of sound. In addition, Sonic\\'s quills can sense nearby dangers, which they warn him about by creating a tingling sensation. Sonic has also demonstrated the ability to transfer his speed throughout various parts of his body, allowing him to immediately set off from stationary positions and even channel it into objects to speed up their movements and make them pierce through solid objects as he does while running. He can also create an effect reminiscent of a time halt, even though it is unknown what it is derived from. Superhuman Strength Sonic possesses enhanced strength, though he\\'s been noted to lack overall raw power by comparison. He can push and lift things several times bigger and heavier than himself, run with extra weight slowing down and his attacks can smash through metal and rock, and damage foes countless times his size. However, it is debatable whether the latter\\'s power comes from his speed, strength, or a combination of both. Sonic\\'s strength particularly lies in his legs; with a single kick, he can topple the Egg Golem, knockback several Egg Gunners at once and send Badniks flying. This doesn\\'t mean that Sonic\\'s arms aren\\'t strong either; he has enough strength to tear robots apart with his hands and punch through a collapsed wall. Even with a little extra weight, Sonic is capable of leaping up to several hundred meters with his incredible jumping skills.  Superhuman Durability Sonic has several times demonstrated extreme resilience to damage. He can survive getting caught in the crossfire from all angles by Eggman\\'s robots (which only knocked him out cold briefly), withstand the force of a massive explosion and a Hyper-go-on-based black hole unscathed, being pummeled with swords, and smash through several robots with his fist without discomfort, and take a ruthless pummeling from the Time Eater. Additionally, Sonic has more than once survived impacts from falls at extreme heights, bordering at the edge of space, only to shake it off when landing, and has even withstood atmospheric entry.  Despite not having undergone any known training, Sonic\\'s years of battles have made him a skilled and powerful fighter. He has defeated giant robots, demons, and god-like beings on his own, gone up against and bested those with far more combat experience, and even beaten people who are his equal. It has also been noted that Sonic is steadily growing stronger; during the Time Eater incident, Sonic could beat the Egg Emperor/Perfect Chaos on his own where he previously required additional power. Sonic even told Infinite upon holding his own against the latter compared to the previous time they fought that he becomes more powerful every second. It is safe to say that Sonic is far more powerful than he lets on, but his overconfidence and reluctance to go all out usually keeps him from fighting at full strength. His victories over Emerl at the Gizoid\\'s maximum potential and Perfect Chaos in his base form are prime examples of Sonic\\'s true power. Regardless of his blocks, Sonic ranks amongst the most powerful characters in the series. Even without his Spin Attack, Sonic is a skilled hand-to-hand combatant. He mostly relies on his fast footwork since the majority of his power lies in his legs, though he has been known to use his fists and arms as well, albeit in a rather straightforward manner. His fighting style is mostly derived from breakdancing moves that utilize Sonic\\'s legs to their fullest, allowing him wide-ranged and swift kicks. He has also been known to use flying forward kicks, split kicks, and scissor kicks. What Sonic lacks in strength for combat, he makes up for it in speed which he uses to deliver lightning-fast strikes in a short time. He has also learned the martial art of Linshao Kung Fu from Shuifon, though he is yet to be seen using it. Indomitable Will Sonic possesses an unbreakable and incorruptible spirit; in situations where most others would give up and where he is severely outnumbered and outgunned, Sonic never loses faith in himself and never surrenders. This trait enables him to keep on fighting when utterly exhausted or after taking an abnormal amount of damage. His will even lets him withstand mind-controlling powers, like the corruptive influence of Dark Gaia and the Overmind\\'s psychic powers, though he did have some protection in the latter case. Even when possessed by the Ifrit, Sonic was arguably able to occasionally regain control. Weapon Mastery Sonic is shown to excel in swordsmanship. Even as a rookie swordsman, Sonic could beat a dragon and after receiving formal training, he could best master swordsmen like the Knights of the Round Table. In addition to using advanced techniques, Sonic can apply his speed to his swordplay for quick and swift slashes, and become a buzzsaw by spinning with his sword, enabling him to slice clean through enemies.  Vehicular Mastery Sonic has extraordinary skills in operating vehicles. He has excellent skills when it comes to piloting planes like the Tornado, driving and racing at high speeds in cars like the Speed Star, and water bike surfing on vessels like the Wave Cyclone. He is also experienced in a variation of sports such as boarding and surfing (he is skilled enough to keep from bailing) and other recreational activities like grinding. Sonic also appears to be an excellent gunner, capable of using the Tornado and Tornado-1\\'s onboard weaponry with immense accuracy. Sonic has proven himself as a world-class Extreme Gear rider. He is said to move faster than he can run on an Extreme Gear and can go head-to-head with legendary Wind Masters like Jet the Hawk. Sonic seemingly has a knack for Extreme Gear riding, quickly grasping the controls on his first try and later developing advanced techniques despite being self-taught. After the second World Grand Prix, Sonic can be considered the best Extreme Gear rider in the world, having beat Metal Sonic in a race, who at that point was an \"unbeatable\" rider with the skills of the world\\'s finest Extreme Gear riders at his disposal. Chaos Control Sonic has also demonstrated the ability to harness chaos energy for his own use; with a Chaos Emerald, Sonic can perform Chaos Powers, such as Chaos Control, and occasionally gain a boost in power too.'"
      ]
     },
     "metadata": {},
     "output_type": "display_data"
    },
    {
     "data": {
      "text/html": [
       "<div>\n",
       "<style scoped>\n",
       "    .dataframe tbody tr th:only-of-type {\n",
       "        vertical-align: middle;\n",
       "    }\n",
       "\n",
       "    .dataframe tbody tr th {\n",
       "        vertical-align: top;\n",
       "    }\n",
       "\n",
       "    .dataframe thead th {\n",
       "        text-align: right;\n",
       "    }\n",
       "</style>\n",
       "<table border=\"1\" class=\"dataframe\">\n",
       "  <thead>\n",
       "    <tr style=\"text-align: right;\">\n",
       "      <th></th>\n",
       "      <th>token</th>\n",
       "      <th>similarity_score</th>\n",
       "    </tr>\n",
       "  </thead>\n",
       "  <tbody>\n",
       "    <tr>\n",
       "      <th>1245</th>\n",
       "      <td>authentic</td>\n",
       "      <td>0.641879</td>\n",
       "    </tr>\n",
       "    <tr>\n",
       "      <th>241</th>\n",
       "      <td>amazing</td>\n",
       "      <td>0.574151</td>\n",
       "    </tr>\n",
       "    <tr>\n",
       "      <th>1435</th>\n",
       "      <td>style</td>\n",
       "      <td>0.542009</td>\n",
       "    </tr>\n",
       "    <tr>\n",
       "      <th>427</th>\n",
       "      <td>look</td>\n",
       "      <td>0.538010</td>\n",
       "    </tr>\n",
       "    <tr>\n",
       "      <th>1767</th>\n",
       "      <td>unique</td>\n",
       "      <td>0.533982</td>\n",
       "    </tr>\n",
       "    <tr>\n",
       "      <th>1540</th>\n",
       "      <td>funny</td>\n",
       "      <td>0.523466</td>\n",
       "    </tr>\n",
       "    <tr>\n",
       "      <th>768</th>\n",
       "      <td>great</td>\n",
       "      <td>0.521193</td>\n",
       "    </tr>\n",
       "    <tr>\n",
       "      <th>433</th>\n",
       "      <td>Great</td>\n",
       "      <td>0.521193</td>\n",
       "    </tr>\n",
       "    <tr>\n",
       "      <th>786</th>\n",
       "      <td>love</td>\n",
       "      <td>0.515183</td>\n",
       "    </tr>\n",
       "    <tr>\n",
       "      <th>1412</th>\n",
       "      <td>beautiful</td>\n",
       "      <td>0.506362</td>\n",
       "    </tr>\n",
       "  </tbody>\n",
       "</table>\n",
       "</div>"
      ],
      "text/plain": [
       "          token  similarity_score\n",
       "1245  authentic          0.641879\n",
       "241     amazing          0.574151\n",
       "1435      style          0.542009\n",
       "427        look          0.538010\n",
       "1767     unique          0.533982\n",
       "1540      funny          0.523466\n",
       "768       great          0.521193\n",
       "433       Great          0.521193\n",
       "786        love          0.515183\n",
       "1412  beautiful          0.506362"
      ]
     },
     "metadata": {},
     "output_type": "display_data"
    }
   ],
   "source": [
    "display_content_and_top_words(1195, cool2)"
   ]
  },
  {
   "cell_type": "code",
   "execution_count": 63,
   "id": "720ba0eb",
   "metadata": {
    "_kg_hide-input": true,
    "execution": {
     "iopub.execute_input": "2022-02-19T18:51:59.078449Z",
     "iopub.status.busy": "2022-02-19T18:51:59.077830Z",
     "iopub.status.idle": "2022-02-19T18:51:59.634300Z",
     "shell.execute_reply": "2022-02-19T18:51:59.634910Z",
     "shell.execute_reply.started": "2022-02-19T14:18:14.077728Z"
    },
    "papermill": {
     "duration": 0.669533,
     "end_time": "2022-02-19T18:51:59.635082",
     "exception": false,
     "start_time": "2022-02-19T18:51:58.965549",
     "status": "completed"
    },
    "tags": []
   },
   "outputs": [
    {
     "data": {
      "image/jpeg": "[encoded data removed]",
      "text/plain": [
       "<IPython.core.display.Image object>"
      ]
     },
     "execution_count": 63,
     "metadata": {},
     "output_type": "execute_result"
    }
   ],
   "source": [
    "Devilman = df.query(\"name == 'Devilman'\")\n",
    "Devilman_img = \"https://www.superherodb.com\" + Devilman['img'].values[0]\n",
    "Disp.Image(requests.get(Devilman_img).content)"
   ]
  },
  {
   "cell_type": "code",
   "execution_count": 64,
   "id": "0a78b3e8",
   "metadata": {
    "_kg_hide-output": true,
    "execution": {
     "iopub.execute_input": "2022-02-19T18:51:59.855797Z",
     "iopub.status.busy": "2022-02-19T18:51:59.855147Z",
     "iopub.status.idle": "2022-02-19T18:52:10.822922Z",
     "shell.execute_reply": "2022-02-19T18:52:10.822339Z",
     "shell.execute_reply.started": "2022-02-19T14:44:19.411520Z"
    },
    "papermill": {
     "duration": 11.07919,
     "end_time": "2022-02-19T18:52:10.823069",
     "exception": false,
     "start_time": "2022-02-19T18:51:59.743879",
     "status": "completed"
    },
    "tags": []
   },
   "outputs": [
    {
     "data": {
      "text/plain": [
       "'Transformation Akira is first seen walking home from his first day at his new school with Miki Makimura whose family he had recently moved in with. One the way however they are stopped by Ken,\\xa0Go and Dosu-Roku\\xa0three gang member, all of whom were all attracted to Miki and start teasing the two, Miki gets angered by them whilst Akira tries to keep everything cool, Miki slaps Ken and Meriken-Jo but is grabbed by a furious Dosu-Roku starts to try and undress her, whilst Akira is held back by the other two, luckily they are saved by the sudden and mysterious intervention of Ryo Asuka who threatens the gang with a highly illegal sawed-off shotgun. Ryo says that he needs to speak to Akira privately and Miki is forced to walk back by herself. On the way to Ryo\\'s home, he reveals that his father committed suicide after killing his dog John\\xa0and then attempted to kill Ryo, as they arrive at his home he tells Akira that his father had been possessed by a Demon. At first, Akira didn\\'t believe his friend\\'s story but Ryo takes him to an empty room containing only a strange demonic mask. Ryo tells him to put the mask on, he does so and his mind is suddenly barraged with visions of Demons explaining their origins and powers and how they were escaping from their icy tomb. These images were projected by the demon known as Psycho Jenny\\xa0but this was unknown to both Akira and Ryo at the time. After removing the mask Ryo says why he brought Akira here, he says that he wants Akira to become a warrior against the Demons to protect the human race. Akira at first thinks Ryo was insane for thinking of such an idea. Ryo tells him to think about it and drives him home. However on the way they are attacked by the hordes of demons. They are forced to go back to Ryo\\'s house, however, Ryo takes Akira into a hidden basement in his home, and Akira decides that he will become a demon warrior. Ryo then moves through the basement to reveal another hidden room and much to Akira\\'s surprise is holding a massive party. Ryo says that he is planning to perform a Black Sabbath, meaning he would have to cause much carnage within the room to summon the demons. Akira was hesitant to let people die and be overcome by such fearsome creatures in spite of their sinful nature. As Ryo starts stabbing people with a broken wine bottle, the partiers angrily start to beat them both up but unknown to them they were being possessed by demon starting with the she-demon Welvath. They continue to transform and kill those who failed to do so, before surrounding Akira. But suddenly Akira blacks out and starts to become overtaken by the demon Amon. Akira\\'s pure heart and soul dominates Amon and gains control of his body, turning into Devilman for the first time. He proceeds to kill every demon in the area. Suddenly remembering Ryo, he tries to find his friend only to see that Ryo had been crushed by a dead demon, and screams in pain over his friend\\'s supposed death. Sirene Attacks A little while later Akira is seen mocking Tare and Miki Makimura commenting on Miki\\'s breasts swelling after having too many baths. She angrily retorts only to then go to pour another bath, Akira then suddenly leaves having sensed some trouble about to start. At the same time, the she-demon Sirene\\xa0arrives and lands on top of the Makimura residence and summons her two demon subordinates Ghelmer and Agwel as they attack the Makimura family.\\xa0 Realizing that the battle had begun Akira runs to find the Makimuras but is greeted by Tare running in panic after finding his parents embedded in the wall and ceiling. Akira tells Tare to hide and runs to rescue Miki from Ghelmer and Agwel who use all of their abilities to fight and trick Akira, with Ghelmer even using Miki as a puppet. Fortunately, Devilman manages to turn the tables on both demons, killing them. He sets Miki down on the bed but still senses another demon. He is then attacked by Sirene who grabs Akira by her talons and flies into the sky. Akira struggles to get himself free as Sirene proceeds to crush him. Akira is saved by a recently awakened Ryo using a sniper rifle with Sirene losing her grip and Akira transforming into his Devilman form. Sirene knocks out Ryo with one of her claws as she grapples with Devilman. The two battle in mid-air before landing on the ground, Sirene\\'s telekinesis proved to be a problem as she uses it attacks Akira with trees and her detached arm that she uses it to cut through Akira\\'s right arm and then impales it into his chest. Akira figures out that it was her antenna that was controlling the arm and uses his own antenna to fry the receptors in hers causing the arm to go out of control and impale her in her stomach, Akira then rips off her right-wing grounding the demon.\\xa0Sirene, however, is helped by other demons including her companion Kaim. Akira takes out the other demons but now has to deal with\\xa0Sirene\\'s gestalt with Kaim. Badly wounded, Akira finally admits defeat and falls unconscious. Waking up in the morning however, he finds out that Sirene didn\\'t take the final strike as she died from her wounds. Ryo had patched up Akira\\'s wounds and reattached his arm. Akira then sees Sirene\\'s frozen body in the sunlight, noticing that she died with a smile of victory upon her face, something which Akira remarks as being beautiful. Rasber\\'s Invasion After the battle with Sirene, Akira overhears his classmates talk about disappearances around Japan, Akira knowing that demons were the cause of it. At the top of the school\\'s roof, Dosu-Roku\\'s gang challenge him to a fight however in a matter of minutes they are all defeated by Akira and sprawled out across the roof.\\xa0Later at the end of school Miki comes to find Akira only for the two to be cornered by Masa and his gang. However, Akira realizes that they had been possessed and hadn\\'t merged with them so he took care not to kill them. He crushes the spiders on the groups head freeing them from their possession. They thank him and agree to join him in his battle against the Demon race. However as soon as they get outside, they are surrounded by many of the school\\'s more physical and strong students had also been possessed by the Spider Demons and start to attack them. Akira tells the gang to protect Miki while he goes to find the spider\\'s control. The demon Rasber, however, used a perfect copy of himself, he mocks Akira as he forms an image in the sky as Zann the demon general of the Army of 100 Demons issues his commands and taunts everyone.\\xa0Rasber laughs at Akira and the others and retracts the Demon Spiders. He then attacks and wraps up Miki and the gang in his webbing, Akira battles Rasber and kills him quickly allowing the others to escape. Jinmen\\'s Torture Display After departing from the gang, Miki and Akira go back to the Makimura Residence were they encounter a small girl trying to reach for the doorbell. The girl\\'s name was Sachiko\\xa0and she was a friend of Akira\\'s before he moved away to live with the Makimura\\'s, Akira invites her inside although Miki and Sachiko immediately start to agitate each other. Akira later takes Sachiko to the train station and put her on the 16:10 Shinkansen\\xa0and tells her not to make such long journeys on her own anymore, she agrees and the two depart. However later that night, news of the 16:10 Shinkansen\\'s disappearance is announced and almost as soon as Akira learns about this he gets a mysterious phone call telling him to meet him at a local park and then tells him that his little friend was delicious and reveals himself as Jinmen of Zann\\'s troops. Akira barely retaining his anger flees the Makimura home and goes to a park that Jinmen told him to meet. After waiting around the park\\'s playground a while he sees the face of Sachiko. He calls out to her, she replies by saying \"I didn\\'t want to die, I\\'m so young\" afterward more screaming faces appear around her before a laugh is heard and the demon Jinmen reveals himself to Akira. After some brief dialogue the two battle one another but it is not long before that he damages one of the faces on Jinmen\\'s back, shocked by its screams Akira freezes in his tracks. Jinmen then tells him that the faces upon his back are still alive as when he ate a living creature it would become one with his shell never dying. They continue to battle, but Jinmen gets the upper hand as Akira constantly misses trying not to hit the faces. However, Sachiko screams out to Akira and tells him to smash through her and destroy Jinmen. Begrudgingly he does so and smashes through Sachiko\\'s eye and through Jinmen\\'s chest. Jinmen starts to stumble around before Akira grabs him and rips off his shell, killing Jinmen, the faces on his back, and what was left of Sachiko. Zennon\\'s Declaration The next time Akira is seen, he breaks the fourth wall and addresses the reader. He tells them that this would no longer be his own drama but the whole world\\'s, including the reader. He then fades away, and not much later the demon\\'s start to go a suicide march merging into peoples body\\'s at random causing many people to die or turn into demons. During the panic Ryo finds Akira, Ryo explains to him what the more intelligent demons were doing by sending the lesser demons to merge with perfectly lucid or normal people meaning they would die in the process. However, he also says that a few of the mergings would work but not many. Ryo panics at several thoughts including how humanity will wreak havoc about this. Akira doubts this saying humanity would not be so weak as they had the courage that would conquer fear. However, he is sadly proved wrong when a news report showed the destruction of the city of Tsuringrad\\xa0which had just been obliterated with a hydrogen bomb, having been fired by the Soviet Union. The report goes on to say that it was necessary to stop the demons. A few days later Akira reads in a paper about a girl who accidentally killed her two friends with acids ejected from her body, the girl\\'s name was Mikiko Kawamoto. He starts to realize that there would be others like him and that he should form together an army of Devilmen\\xa0to defeat the demons. Immediately after, he gets a phone call from Ryo telling him to look outside. He rushes out to see a gigantic four-headed demon, the Demon\\xa0King Zennon. Zennon announces himself across the world telling humanity that the demons were coming\\xa0to retake the Earth and eradicate humanity just like they did the dinosaurs. He then announces that the attack will take place\\xa0in five minutes\\xa0before teleporting away. Akira realizes Zennon was the demon Amon had nightmares about previously. When he tells the Makimura\\'s to go hold up in their home, he notices a collection of military vehicles go past. He runs inside the house to find Ryo. Ryo tells him that he shouldn\\'t go out to right now, telling Akira to wait for a later fight. To demonstrate, Ryo opens the window to see a massive armada of flying demons across the Tokyo sky. Akira watches the carnage of the demons and decides to leave, Ryo tries to stop him but Akira slaps him and leaves. Akira goes on a rampage and kills many demons, however, he eventually comes face to face with a demoness named Psycho Jenny who uses her powers and knocks Akira unconscious. Suddenly\\xa0swarms of demons surround him, Jenny disappears and the demons move in for the kill. But Akira is saved when the demon General Zann comes flying down and forbids them from killing him after receiving orders from his master, which to everyone\\'s surprise was someone higher than even Zennon. Later Akira later awakes to find himself in a bed bandaged with Ryo looking over him, Ryo turns on the TV and shows Kyoto burning in flames. Ryo berates him about having going outside and tells him that humanity had no chance to destroy the Demons. Akira reveals to Ryo about the other Devilmen and about Satan being the true leader of the demons. The TV then suddenly switches showing the entirety of Russia absorbed in a blinding white light, as soon as Ryo sees this he screams in terror with Akira stunned by what just happened. Later that night Akira returns to the Makimura home and is glad to see it mostly undamaged. However when inside, he sees several dead snakes around the home. Miki tells him they were attacked by a demon named Rosushido, however, they were saved by the sudden arrival of Meriken-Jo and Dosu-Roku who kill the demon.\\xa0Akiko comes through and tells them to watch the television saying that the government had discovered a way to defeat the demons, and the newly designed Demon Busters are shown off to the world. The Devilman Corps Later after Akira had managed to gather together a small group of Devilmen, Dosu-Roku comes running to him telling him about a young kid who they suspected to be a Devilman. After Dosu-Roku leaves Akira and the other Devilmen join hands and attempt to psychically contact other Devilmen. Unfortunately, they are unsuccessful. They are suddenly mocked by a burst o loud laughter who reveal themselves as the Bonds of Hinduism, they tell them that they would help them and use their psychic abilities to contact the Devilman across the entire world. Akira is later seen lurking around the anti-demon labs where he grabs Dr. Rainuma\\xa0the man behind the Anti-Demon Corps, he demands to know where his fellow Devilmen were. He takes him to Mikiko the girl Akira had earlier read about in the newspaper, he breaks her containment tube and tells her what she was before picking her up and flying her away to safety. Ryo\\'s Betrayal A little while later Akira arrives at the Makimura home, where the family was waiting along with Dosu-Roku and Masa. Akira, who had had been searching for Ryo, arrives home after having searched for him for a long time. Miki tries to cheer him up and turns on the TV.\\xa0It goes to the news and it says that they were holding an interview with Ryo, who had something to share with the world. initially Akira thought that Ryo was going to prove Dr. Rainuma\\'s theories false and explain the Devilmen, however instead Ryo shows a videotape. The tape showed Akira\\'s first transformation into Devilman, and at that the others run in fear, Kozo pulls a gun on him and Miki runs in fear. He grabs ahold of Miki but is warded off by Kozo who tells him to get out, Akira tries to explain but starts to doubt even himself and begins to panic. However, he regains his senses and explains that he was Devilman and he retained his human heart and soul. After that, Kozo advises that he still leave as the Demon Busters would arrive soon, he thanks them before saying he would see Miki again soon before leaving. Unbeknownst to him, Kozo and Akiko are taken in his place by the Demon Busters for having harbored a demon. Akira later finds Ryo waiting for him as the sun was rising in some rubble. Ryo tells Akira that he should let him do what he wants. Akira, angry at Ryo\\'s betrayal shouts at Ryo, but Ryo remains calm and tells him that a new age was coming soon. Akira calmly asks what he meant by this, and decided whether or not he should kill him. Ryo tells him that the demons were no longer attacking and were taking a backseat as they watched humanity slowly crumble, continuing his new age. Akira then starts to realize something. Ryo then tells him that he had Akira merge with Amon not to save the human race, but simply because he didn\\'t want to see Akira disappear alongside the rest of humanity. He finishes by saying that he didn\\'t want to fight the Devilman army and starts to walk away. Ryo says that he wants the Devilmen to come with him into the new era, and with that, he turns and walks off into the sunrise. Akira now realizing who Ryo really was, calls out his name. He turns and briefly looks over before continuing on.\\xa0 Afterward, he is joined by Masami Izumi, who is better known as the Devilman Puffurle, He asks her about Satan being as beautiful as an Angel. She tells him about how Satan was an angel who had dared to defy God and was banished from Heaven to earth. She jokes saying that maybe he has seen Satan, he flatly replies saying he had. She turns to ask what he meant but decides against it. Akira had fully realized that his longtime friend and companion was in fact Satan. The End of the Makimura\\'s Later Akira runs into Dosu-Roku who tells him the Miki\\'s parents had both been arrested and were now being tortured. Akira tells him to go and gather all the Devilmen he knew. And with that, the entire Devilman army is gathered together as it flies over to destroy the Anti-Demon Corps HQ. The building is slowly brought down, costing the lives of several Devilmen in the process. However, after the building finally collapses, Akira begins to explore the basements. He comes across the torture rooms, after looking through for a while he comes across Akiko\\'s body scarred and bloodied hanging down from some meat hooks. He continues to look on through, and he hears someone faintly call his name he turns to see Kozo in a large torture machine. Akira goes over to him and he has enough strength to call out Kensaku and Miki\\'s name before coughing up his blood and passing. Akira finds the three men responsible, they beg for their lives, but he ignores the pleas and engulfs them in flames. Afterward, Akira sits and thinks about what had happened. Masami comes and finds him in the basement, she asks what he was thinking and he replies saying that he was still thinking about Satan and humans. He says that he has realized that the humans are no longer worth fighting for as they became even worse than the Demons. But he then realizes that he still had someone to fight for, Miki. He rushes back to the Makimura residence only see that it had been burnt to the ground and dancing around the flames were Miki\\'s neighbors. They had the body parts of Kenskau, Masa and Miki on pikes being marched around proudly. Akira runs at them and ignites himself on fire wiping out the entire surrounding area. He picks up Miki\\'s head and clutches it in his arms, now knowing he had nothing left to protect and starts to cry. Endgame Akira gathers the entirety of the Devilmen from across the world and prepares for battle. Despite Satan trying to put it off, they are forced into a war by Akira and their two generals Zennon and Psycho Jenny. However, they initially refuse to do so as they had fallen in love with Akira. The two gigantic forces gather and face each other. The war begins and goes on for over twenty years. Unfortunately, Akira loses the fight and is torn in two in the end. Satan sits with him a while sitting on a large isolated rock in the ocean, Akira stares up at the moon. Satan tells him about their father God\\xa0and how he created the Earth. Satan tells him how they wanted to save the demons and destroy humanity as they were destroying the world they loved. But they realized too late that this made them no better than their father and begs for Akira to forgive them. Akira, however, had already died with Satan crying, as the Angels descended down around them. Devilman: One Summers Day Set not so long after his fight with Sirene, Akira is seen on the beach with Miki and Ryo. When Akira plays in the ocean with Miki, Akira starts to swim out far from the shore with Miki only to notice the sky starting to darken. When suddenly a gigantic Sea Serpent Demon named Doelamale\\xa0bursts out of the water and grabs Miki. The demon starts to mock Akira as it slowly removes her swimming suit and starts to lick her body. Akira transforms into Devilman and the two battle until he finally succeeds in removing its head. Shin Devilman The story begins with Akira walking up to his friend Ryo\\'s house, he notices that the plants had all died and realizes that something was in the ground. He hears a noise inside and crashes through a window to find Ryo being attacked by a Caterpillar demon named Oysnas. Akira transforms and quickly kills the demon setting it on fire and throwing it through the ceiling. He notices Ryo screaming in agony he runs over only to see his surroundings change around him. Ryo regains his senses and realizes they were in a kind of timeslip\\xa0and find out they were in pre-World War I Vienna. There they encounter a man who welcomes them in he introduces himself as Harnisch and a young man named Adolf. While nothing seemed to be wrong, the leave but follow the two men to the home of Schultz the head of the local Jewish Bank. While losing sight of Harnisch and Adolf, they find Schultz revealing himself to Adolf after killing the girl he loved. This allows for Akira to find Schultz and quickly kill him. After doing so the Timeslip starts up again and they are placed inside the Timeslip itself where they discover the Court of Hell. At the court, Akira overhears the court\\'s judge Magistrum\\xa0planning to distort human history by murdering famous human peacekeepers. Among them was Jeanne d\\'Arc, however, Akira arrives just as they attempt to strip her of her armor and begins to taunt the demons before they attack him. However, he quickly transforms and proceeds to slaughter them with ease. He walks up to Magistrum and beheads him. Akira goes to comfort Joanne as she is sent back to her proper time. The two then find themselves on an ancient Greek warship going to attack the island of Samothrace. There, in spite of their small numbers, the Samothraceian soldiers pull out rocket launchers and machine guns and wipe out the Greek ship. Akira and Ryo are taken prisoner where they witness the female demon Nike (who looked like Miki) posing as a God coming down from the heavens and giving advanced weaponry to the people. Akira breaks his chain and sprouts wings from his back and flies to confront her. However, Nike tells the people that he was a demon and the people open fire. Akira merely blows them away from gusts of wind from beats of his wings and chases after the fleeing Nike. He quickly catches up and fully transforms in Devilman, Nike turns to see him and utters Amon\\'s name before having her arm torn from her body and crashing into the rocks below. Akira follows and finds her, where she tells him that she was a past lover of Amon and is nearly successful in reawakening Amon. But Ryo who had been watching comes up from behind and decapitates Nike with a sword. Next, they arrive in France shortly before the French Revolution erupts. Ryo senses a demon and the two of them follow the scent only to find the source coming from Marie Antoinette. They realize that the demon was harboring itself in her body and the two of them confront her before they are teleported into her body. Inside they find the demon Poirsenus infecting her personality, Akira transforms and attacks headfirst at the demon. Ryo tries to warn him against it saying it would affect Marie also, but Akira ignores this and proceeds to violently kill the demon. The final jump takes them into America during the eighteenth century where they encounter the Cheyenne Tribe. While they stay there, they make friends with both the chief of the Tribe Crazy Horse and a young girl named Tiana. One day when the two are away from the camp, Tiana and the other villagers are attacked by the 7th Calvary led by General Custer. When the two return they find the camp in tatters and bodies sprawled amongst the wreckage. Motivated purely by anger Akira goes of and confronts the 7th Calvary before slaughtering each and every man. Devilman Lady A Match Made in Hell Following his death at the hands of Satan, Akira’s spirit is cast down to hell due to being a Devilman and has spent most of his time exploring Hell and the new world that replaced his own. He is first seen by the protagonist, Jun Fudo in the Grumech Embassy but nobody else could see him. It was only after Jun had fallen into the pit of hell that she saw images of the past including Akira as Devilman. Once on solid ground, she encounters Akira (but not recognizing him from earlier). While there, Akira protects Jun from demons while explaining to her what she saw and how Hell works. He explains certain events that happened in the past, including his war with Satan. After being cast down into Hell, Akira found a way out of Hell and discovers that history was rewritten so that he and people in his world never actually existed and has been adapted into a graphic novel. With Jun wanting to escape Hell and get back to the living world, Akira decided to act as her guide. On the way, they encounter the Vlava Army where Jun as Devilman Lady is subdued and Akira has to fight the still fused Sirene. During the fight, Devilman berates Sirene for throwing Kaim away for vengeance, not once but twice when she threw his body into a volcano. Sirene stops and is overcome with grief while Akira gives pointers to Jun on how to fight back against Vlava\\'s army. After a quick run-in with Vlava who explains the cycles of demon evolution, Akira manages to pick up Jun and break through defenses to the next quadrant of Hell. Jun is still going through some issues where she was reminded of how she was violated by Vlava\\'s cult and asks for Akira\\'s help in getting past this trauma. Akira does so by making love to Jun in mid-flight. As they continue to travel downwards, Akira begins to show Jun more elaborate methods of using Hell\\'s environment to her advantage while explaining to her about Satan. With demons and hell\\'s guardians at every turn, things look bleak but as Jun gets better and the couple grows closer nothing seems to be able to stop them. Akira would comment about how some religions and myths had turned out to be real including the appearance of the Titans. Once at the lowest level of Hell and its cold prison, they find a large demon where Satan was supposed to be but he is not present. Akira leads Jun to the way out and as Jun\\'s psychic presence starts to fade, Akira lacking a physical body cannot make the journey with her. They say their goodbyes, fully aware of each other\\'s feelings. Devilman Ghost With Jun gone, Akira decides to interact with the living world as a ghost to gather information. Going through the timeslip, he confronts Lan Asuka on being Satan but even when he pries into her mind he can only get images of time going on. Not getting what he wanted Akira travels the timeslip stopping at certain points to help Jun when she is going through personal crises including on how to control her impulses by possessing a man and even appearing at the Grumech Embassy just to be able to see her. Akira laments that he cannot help the woman he loves the way he wanted. At certain points, Akira would project his powers into certain objects including a skull Devilman mask to scare off predators attacking Jun. In spite of not recalling Akira\\'s name, she recognizes his abilities and as a way to communicate, creates a costume to go with the mask. Akira uses this costume to fight anyone who would directly harm Jun when she cannot defend herself including Devil Beasts that try to use her for their own pleasures as the Devilman Ghost. Resurrection Akira in his giant Devilman form would later be seen by Ryo Utsugi as he traveled through Hell but neither party bothered the other as Devilman was lost in thought. In a twist of fate, Akira is brought to the living world through the fetus of Jun after she is impregnated by a male Lan and Akira takes it over. Akira is glad to be able to protect Jun in the living world but is stunned when she is fused with Lan to become Satan. While looking disappointed about the development, Akira as Devilman agrees to work with Satan against the army of god lead by Archangel Michael, Satan\\'s copy. Akira leads the good-aligned Devilmen but the battle only razes the Earth once again with Akira\\'s fate left undetermined.  Extraordinary Intellect Prior to becoming Devilman, Akira had some of the best grades in his classes and had impressive intellect, partly due to the fact that he spent most time reading.  Superhuman Characteristics In terms of physical skills, Akira had a very weak physique and would often show poor performance. After his first transformation into his Devilman, he became much more physically powerful; having greater strength, speed, reflexes, and combat skills, being able to take on Zann\\'s demon spiders without needing to transform. His physical parameters are increased several times fold compared to a normal human with enough physical resistance to take a flurry of powerful hits and was able to continue fighting even after he lost an arm and had his stomach slashed open by Sirene. His ferocious strength allows him to lift heavy objects, tear demons apart with his bare hands, breakthrough barriers, and leap over buildings effortlessly.  Flight When Devilman grows his wings he is able to fly.  Electrokinesis He is able to release electric charges on enemies once he comes into contact with him or her. Energy Beams He can shoot beams from the antenna on his forehead. He can also release energy from his antenna but in a less focused way than his normal Devil Beam. Devilman was also shown using his antennae to create signals similar to those used by Sirene to control her fireable arms and used this technique to direct the arm into Sirene\\'s stomach.  Immortality As a Devilman, Akira isn\\'t technically alive and as long as he retains his own will that exists in Hell, Akira exists independently from normal life or death. As an idea, as long as the idea that is \"Amon\", still exists, he cannot truly die. Akira\\'s also recovered after God erased the existence of all life on earth, recreating the world of genesis in the process Teleportation He has the ability to teleport as shown when he rescued Miko. When Miki\\'s parents are killed, Devilman breathed flames from his mouth on the killers with enough heat and force to turn them to ash. Another less-seen ability is his power to phase through solid objects even through inches of hard steel. He is able to grow to a great size which gives him an advantage when fighting smaller demons. Telepathy As shown with other Devilmen, Akira is able to communicate with other Devilmen through telepathy but his is limited compared other Devilmen. He is able to look into a person\\'s memories and for a short while appear visible to a person Posssession Akira can possess objects like other Devilmen, most notably the Devilman Ghost costume made by Jun He is also able to combine with living tissue, this is never used in the manga, but it was used at the end of the novel version to combine with the other Devilman Corps to assume a larger version of himself. Devilman vs Getter Robo took this a step further by combining with the Getter Robo itself. For a limited amount of time, Devilman can leave Hell and interact with the physical world, but his actions are very limited without a physical body. Augmented Power In the Devilman Lady manga, after spending a long time in Hell, Akira\\'s powers have heightened to extremes that rival even Satan\\'s. Devilman can also release energy at an opponent through heightened psychic abilities and fight through said objects with impressive strength and psychic power that can effortlessly tear through enemies.'"
      ]
     },
     "metadata": {},
     "output_type": "display_data"
    },
    {
     "data": {
      "text/html": [
       "<div>\n",
       "<style scoped>\n",
       "    .dataframe tbody tr th:only-of-type {\n",
       "        vertical-align: middle;\n",
       "    }\n",
       "\n",
       "    .dataframe tbody tr th {\n",
       "        vertical-align: top;\n",
       "    }\n",
       "\n",
       "    .dataframe thead th {\n",
       "        text-align: right;\n",
       "    }\n",
       "</style>\n",
       "<table border=\"1\" class=\"dataframe\">\n",
       "  <thead>\n",
       "    <tr style=\"text-align: right;\">\n",
       "      <th></th>\n",
       "      <th>token</th>\n",
       "      <th>similarity_score</th>\n",
       "    </tr>\n",
       "  </thead>\n",
       "  <tbody>\n",
       "    <tr>\n",
       "      <th>767</th>\n",
       "      <td>cool</td>\n",
       "      <td>0.723243</td>\n",
       "    </tr>\n",
       "    <tr>\n",
       "      <th>773</th>\n",
       "      <td>look</td>\n",
       "      <td>0.538010</td>\n",
       "    </tr>\n",
       "    <tr>\n",
       "      <th>123</th>\n",
       "      <td>kind</td>\n",
       "      <td>0.536982</td>\n",
       "    </tr>\n",
       "    <tr>\n",
       "      <th>396</th>\n",
       "      <td>great</td>\n",
       "      <td>0.521193</td>\n",
       "    </tr>\n",
       "    <tr>\n",
       "      <th>635</th>\n",
       "      <td>truly</td>\n",
       "      <td>0.520816</td>\n",
       "    </tr>\n",
       "    <tr>\n",
       "      <th>430</th>\n",
       "      <td>love</td>\n",
       "      <td>0.515183</td>\n",
       "    </tr>\n",
       "    <tr>\n",
       "      <th>502</th>\n",
       "      <td>beautiful</td>\n",
       "      <td>0.506362</td>\n",
       "    </tr>\n",
       "    <tr>\n",
       "      <th>783</th>\n",
       "      <td>Crazy</td>\n",
       "      <td>0.505194</td>\n",
       "    </tr>\n",
       "    <tr>\n",
       "      <th>497</th>\n",
       "      <td>true</td>\n",
       "      <td>0.499678</td>\n",
       "    </tr>\n",
       "    <tr>\n",
       "      <th>400</th>\n",
       "      <td>perfect</td>\n",
       "      <td>0.486768</td>\n",
       "    </tr>\n",
       "  </tbody>\n",
       "</table>\n",
       "</div>"
      ],
      "text/plain": [
       "         token  similarity_score\n",
       "767       cool          0.723243\n",
       "773       look          0.538010\n",
       "123       kind          0.536982\n",
       "396      great          0.521193\n",
       "635      truly          0.520816\n",
       "430       love          0.515183\n",
       "502  beautiful          0.506362\n",
       "783      Crazy          0.505194\n",
       "497       true          0.499678\n",
       "400    perfect          0.486768"
      ]
     },
     "metadata": {},
     "output_type": "display_data"
    }
   ],
   "source": [
    "display_content_and_top_words(393, cool2)"
   ]
  },
  {
   "cell_type": "markdown",
   "id": "33016d6b",
   "metadata": {
    "papermill": {
     "duration": 0.110254,
     "end_time": "2022-02-19T18:52:11.044273",
     "exception": false,
     "start_time": "2022-02-19T18:52:10.934019",
     "status": "completed"
    },
    "tags": []
   },
   "source": [
    "# Conclusion\n",
    "\n",
    "Are Red Mist, Kai and Hulk really the coolest superheros? The question of \"what is cool?\" can draw many different opinions itself, perhaps more so with which superhero is the coolest. The four attempts described above include some unconventional approaches, and the answers arrived may not agree with many people, nonetheless they are judged purely on the basis of textual descriptions, with some quantifiable criteria. \n",
    "\n",
    "The application of word embedding vectors as a basis of comparison has an advantage over word matching that it might be better at capturing vague ideas such as \"cool\", but just like counting the appearance of words, it is far from perfect. The cool words in the history part of the description of superhero may be referring to others rather than the superhero himself/herself, and \"look\" the verb may be counted incorrectly as \"look\" the noun as one aspect of \"cool\". Suggestions for improvement or wholly different approaches are welcomed."
   ]
  }
 ],
 "metadata": {
  "kernelspec": {
   "display_name": "Python 3",
   "language": "python",
   "name": "python3"
  },
  "language_info": {
   "codemirror_mode": {
    "name": "ipython",
    "version": 3
   },
   "file_extension": ".py",
   "mimetype": "text/x-python",
   "name": "python",
   "nbconvert_exporter": "python",
   "pygments_lexer": "ipython3",
   "version": "3.7.12"
  },
  "papermill": {
   "default_parameters": {},
   "duration": 4459.191092,
   "end_time": "2022-02-19T18:52:14.552361",
   "environment_variables": {},
   "exception": null,
   "input_path": "__notebook__.ipynb",
   "output_path": "__notebook__.ipynb",
   "parameters": {},
   "start_time": "2022-02-19T17:37:55.361269",
   "version": "2.3.3"
  }
 },
 "nbformat": 4,
 "nbformat_minor": 5
}
